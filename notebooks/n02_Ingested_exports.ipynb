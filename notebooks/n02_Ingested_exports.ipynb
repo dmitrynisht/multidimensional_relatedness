{
 "cells": [
  {
   "cell_type": "code",
   "execution_count": 1,
   "metadata": {},
   "outputs": [
    {
     "data": {
      "text/plain": [
       "1"
      ]
     },
     "execution_count": 1,
     "metadata": {},
     "output_type": "execute_result"
    }
   ],
   "source": [
    "(\n",
    "    1 + 0\n",
    ")  # Utility cell. Sometimes \"Jupyter\" skipps the first cell when running all cells. Especially after a restart."
   ]
  },
  {
   "cell_type": "code",
   "execution_count": 2,
   "metadata": {},
   "outputs": [
    {
     "data": {
      "text/plain": [
       "2"
      ]
     },
     "execution_count": 2,
     "metadata": {},
     "output_type": "execute_result"
    }
   ],
   "source": [
    "(\n",
    "    1 + 1\n",
    ")  # Utility cell. Sometimes \"Jupyter\" skipps the first cell when running all cells. Especially after a restart."
   ]
  },
  {
   "cell_type": "code",
   "execution_count": 3,
   "metadata": {},
   "outputs": [
    {
     "name": "stdout",
     "output_type": "stream",
     "text": [
      "N3 utility cell running...\n"
     ]
    }
   ],
   "source": [
    "print(f\"N{1+2} utility cell running...\")"
   ]
  },
  {
   "cell_type": "code",
   "execution_count": 4,
   "metadata": {},
   "outputs": [
    {
     "name": "stdout",
     "output_type": "stream",
     "text": [
      "PYTHONPATH: C:\\Users\\Admin\\Documents\\Univer\\MASTER THESIS IDEAS\\Flavio Pinehro\\11_MasterProject\\src\n"
     ]
    }
   ],
   "source": [
    "# Resolve the path to the 'src' folder with helper functions\n",
    "import config_notebooks"
   ]
  },
  {
   "cell_type": "code",
   "execution_count": 5,
   "metadata": {},
   "outputs": [
    {
     "name": "stdout",
     "output_type": "stream",
     "text": [
      "os.getcwd():\n",
      "c:\\Users\\Admin\\Documents\\Univer\\MASTER THESIS IDEAS\\Flavio Pinehro\\11_MasterProject\\notebooks\n",
      "============================================================\n",
      "input_file_location:\n",
      "..\\data\\01_raw\n",
      "============================================================\n",
      "output_file_location:\n",
      "..\\data\\02_ingested\n",
      "============================================================\n"
     ]
    }
   ],
   "source": [
    "from n02_import import *"
   ]
  },
  {
   "cell_type": "code",
   "execution_count": 6,
   "metadata": {},
   "outputs": [],
   "source": [
    "# # Resolve the path to the 'src' folder with helper functions\n",
    "# import config_notebooks\n",
    "# from importlib import reload\n",
    "\n",
    "# # Import the module and reload it\n",
    "# import n02_import_reload\n",
    "\n",
    "# reload(n02_import_reload)\n",
    "\n",
    "# # Reload updated functions\n",
    "# from n02_import_reload import *"
   ]
  },
  {
   "cell_type": "markdown",
   "metadata": {},
   "source": [
    "# Raw STATA data description"
   ]
  },
  {
   "cell_type": "markdown",
   "metadata": {},
   "source": [
    "| **Field Name**         | **Description**                                      | **Data Type** | **Notes**                                                                                      |\n",
    "|-------------------------|------------------------------------------------------|---------------|------------------------------------------------------------------------------------------------|\n",
    "| country_id             | United Nations Country M49 Codes                     | Integer       | Can be joined with the location_country table within the classifications dataset for more detailed information |\n",
    "| partner_country_id     | United Nations Country M49 Codes                     | Integer       | Can be joined with the location_country table within the classifications dataset for more detailed information; Only applicable to country-partner-product-year tables |\n",
    "| product_id             | Growth Lab assigned numerical product identifier     | Integer       | Can be joined with the product_hs92 table within the classifications dataset for more detailed information |\n",
    "| year                   | Year of record                                       | Integer       | HS records start at 1995                                                                       |\n",
    "| export_value           | Current USD export value                             | Integer       |                                                                                                |\n",
    "| import_value           | Current USD import value                             | Integer       |                                                                                                |\n",
    "| eci                    | Economic Complexity Index computed using HS product data | Float         | Variable applicable to the respective country-year, independent of individual product          |\n",
    "| coi                    | Complexity Outlook Index computed using HS product data | Float         | Variable applicable to the respective country-year, independent of individual product          |\n",
    "| pci                    | Product Complexity Index                             | Float         |                                                                                                |\n",
    "\n",
    "*Note:* Any “normalized” fields are assumed to be calculated within the country-year dataset. For example, `normalized_pci` is `pci` normalized to mean of 0 and standard deviation of 1 within a given country for a single year.\n"
   ]
  },
  {
   "cell_type": "markdown",
   "metadata": {},
   "source": [
    "## Reading and converting exports data to 'parquete' files for efficient memory utilization"
   ]
  },
  {
   "cell_type": "markdown",
   "metadata": {},
   "source": [
    "2010 - 2014 exports"
   ]
  },
  {
   "cell_type": "code",
   "execution_count": 7,
   "metadata": {},
   "outputs": [
    {
     "name": "stdout",
     "output_type": "stream",
     "text": [
      "country_id column initial type:\n",
      "int32\n",
      "============================================================\n",
      "country_id column final type:\n",
      "category\n",
      "============================================================\n",
      "product_id column initial type:\n",
      "int16\n",
      "============================================================\n",
      "product_id column final type:\n",
      "category\n",
      "============================================================\n",
      "year column initial type:\n",
      "int16\n",
      "============================================================\n",
      "year column final type:\n",
      "category\n",
      "============================================================\n"
     ]
    }
   ],
   "source": [
    "# all_col_names = ['country_id', 'partner_country_id', 'year', 'product_id', 'export_value', 'import_value', 'coi', 'eci', 'pci']\n",
    "col_names = [\"country_id\", \"year\", \"product_id\", \"export_value\"]\n",
    "\n",
    "input_file_name = \"hs92_country_country_product_year_4_2010_2014.dta\"\n",
    "raw_df_2010_2014 = read_hs92_stata_data(input_file_location, input_file_name, col_names)"
   ]
  },
  {
   "cell_type": "code",
   "execution_count": 8,
   "metadata": {},
   "outputs": [
    {
     "name": "stdout",
     "output_type": "stream",
     "text": [
      "['df', <class 'pandas.core.frame.DataFrame'>]\n",
      "============================================================\n",
      "shape:\n",
      "(26980024, 4)\n",
      "============================================================\n",
      "data types:\n",
      "country_id      category\n",
      "year            category\n",
      "product_id      category\n",
      "export_value       int64\n",
      "dtype: object\n",
      "============================================================\n",
      "columns:\n",
      "['country_id', 'year', 'product_id', 'export_value']\n",
      "============================================================\n",
      "            export_value\n",
      "count      26,980,024.00\n",
      "mean        3,196,029.85\n",
      "std       131,055,133.16\n",
      "min                 0.00\n",
      "25%                 0.00\n",
      "50%             5,397.00\n",
      "75%            98,805.00\n",
      "max   118,128,768,381.00\n",
      "============================================================\n",
      "Total memory usage: 350771034 bytes\n",
      "============================================================\n"
     ]
    }
   ],
   "source": [
    "df_stats(raw_df_2010_2014)"
   ]
  },
  {
   "cell_type": "code",
   "execution_count": 9,
   "metadata": {},
   "outputs": [],
   "source": [
    "# float exports\n",
    "# min 0\n",
    "# max 118,128,768,381.00\n",
    "# Total memory usage: 350771034 bytes\n",
    "# =========\n",
    "# int exports\n",
    "# min 0\n",
    "# max 118,128,768,381\n",
    "# Total memory usage: 350771034 bytes"
   ]
  },
  {
   "cell_type": "code",
   "execution_count": 10,
   "metadata": {},
   "outputs": [
    {
     "data": {
      "text/html": [
       "<div>\n",
       "<style scoped>\n",
       "    .dataframe tbody tr th:only-of-type {\n",
       "        vertical-align: middle;\n",
       "    }\n",
       "\n",
       "    .dataframe tbody tr th {\n",
       "        vertical-align: top;\n",
       "    }\n",
       "\n",
       "    .dataframe thead th {\n",
       "        text-align: right;\n",
       "    }\n",
       "</style>\n",
       "<table border=\"1\" class=\"dataframe\">\n",
       "  <thead>\n",
       "    <tr style=\"text-align: right;\">\n",
       "      <th></th>\n",
       "      <th>country_id</th>\n",
       "      <th>year</th>\n",
       "      <th>product_id</th>\n",
       "      <th>export_value</th>\n",
       "    </tr>\n",
       "  </thead>\n",
       "  <tbody>\n",
       "    <tr>\n",
       "      <th>0</th>\n",
       "      <td>4</td>\n",
       "      <td>2010</td>\n",
       "      <td>1373</td>\n",
       "      <td>0</td>\n",
       "    </tr>\n",
       "    <tr>\n",
       "      <th>1</th>\n",
       "      <td>4</td>\n",
       "      <td>2010</td>\n",
       "      <td>1373</td>\n",
       "      <td>0</td>\n",
       "    </tr>\n",
       "    <tr>\n",
       "      <th>2</th>\n",
       "      <td>4</td>\n",
       "      <td>2010</td>\n",
       "      <td>1373</td>\n",
       "      <td>0</td>\n",
       "    </tr>\n",
       "    <tr>\n",
       "      <th>3</th>\n",
       "      <td>4</td>\n",
       "      <td>2010</td>\n",
       "      <td>1373</td>\n",
       "      <td>0</td>\n",
       "    </tr>\n",
       "    <tr>\n",
       "      <th>4</th>\n",
       "      <td>4</td>\n",
       "      <td>2010</td>\n",
       "      <td>1373</td>\n",
       "      <td>3873</td>\n",
       "    </tr>\n",
       "    <tr>\n",
       "      <th>5</th>\n",
       "      <td>4</td>\n",
       "      <td>2010</td>\n",
       "      <td>1373</td>\n",
       "      <td>0</td>\n",
       "    </tr>\n",
       "    <tr>\n",
       "      <th>6</th>\n",
       "      <td>4</td>\n",
       "      <td>2010</td>\n",
       "      <td>1373</td>\n",
       "      <td>0</td>\n",
       "    </tr>\n",
       "    <tr>\n",
       "      <th>7</th>\n",
       "      <td>4</td>\n",
       "      <td>2010</td>\n",
       "      <td>1373</td>\n",
       "      <td>0</td>\n",
       "    </tr>\n",
       "    <tr>\n",
       "      <th>8</th>\n",
       "      <td>4</td>\n",
       "      <td>2010</td>\n",
       "      <td>1373</td>\n",
       "      <td>0</td>\n",
       "    </tr>\n",
       "    <tr>\n",
       "      <th>9</th>\n",
       "      <td>4</td>\n",
       "      <td>2010</td>\n",
       "      <td>1373</td>\n",
       "      <td>0</td>\n",
       "    </tr>\n",
       "    <tr>\n",
       "      <th>10</th>\n",
       "      <td>4</td>\n",
       "      <td>2010</td>\n",
       "      <td>1373</td>\n",
       "      <td>14686</td>\n",
       "    </tr>\n",
       "    <tr>\n",
       "      <th>11</th>\n",
       "      <td>4</td>\n",
       "      <td>2010</td>\n",
       "      <td>1373</td>\n",
       "      <td>2660</td>\n",
       "    </tr>\n",
       "    <tr>\n",
       "      <th>12</th>\n",
       "      <td>4</td>\n",
       "      <td>2010</td>\n",
       "      <td>1373</td>\n",
       "      <td>0</td>\n",
       "    </tr>\n",
       "    <tr>\n",
       "      <th>13</th>\n",
       "      <td>4</td>\n",
       "      <td>2010</td>\n",
       "      <td>1373</td>\n",
       "      <td>0</td>\n",
       "    </tr>\n",
       "    <tr>\n",
       "      <th>14</th>\n",
       "      <td>4</td>\n",
       "      <td>2010</td>\n",
       "      <td>1373</td>\n",
       "      <td>0</td>\n",
       "    </tr>\n",
       "  </tbody>\n",
       "</table>\n",
       "</div>"
      ],
      "text/plain": [
       "   country_id  year product_id  export_value\n",
       "0           4  2010       1373             0\n",
       "1           4  2010       1373             0\n",
       "2           4  2010       1373             0\n",
       "3           4  2010       1373             0\n",
       "4           4  2010       1373          3873\n",
       "5           4  2010       1373             0\n",
       "6           4  2010       1373             0\n",
       "7           4  2010       1373             0\n",
       "8           4  2010       1373             0\n",
       "9           4  2010       1373             0\n",
       "10          4  2010       1373         14686\n",
       "11          4  2010       1373          2660\n",
       "12          4  2010       1373             0\n",
       "13          4  2010       1373             0\n",
       "14          4  2010       1373             0"
      ]
     },
     "execution_count": 10,
     "metadata": {},
     "output_type": "execute_result"
    }
   ],
   "source": [
    "raw_df_2010_2014.head(15)"
   ]
  },
  {
   "cell_type": "code",
   "execution_count": 11,
   "metadata": {},
   "outputs": [
    {
     "name": "stdout",
     "output_type": "stream",
     "text": [
      "country_id column initial type:\n",
      "category\n",
      "============================================================\n",
      "country_id column final type:\n",
      "int16\n",
      "============================================================\n",
      "product_id column initial type:\n",
      "category\n",
      "============================================================\n",
      "product_id column final type:\n",
      "int16\n",
      "============================================================\n",
      "year column initial type:\n",
      "category\n",
      "============================================================\n",
      "year column final type:\n",
      "int16\n",
      "============================================================\n"
     ]
    }
   ],
   "source": [
    "# Save the raw exports Data to a .parquet file\n",
    "output_file_name = \"raw_hs92_exports_2010_2014.parquet\"\n",
    "save_hs92_parquet_data(\n",
    "    data=raw_df_2010_2014,\n",
    "    file_location=output_file_location,\n",
    "    file_name=output_file_name,\n",
    ")"
   ]
  },
  {
   "cell_type": "markdown",
   "metadata": {},
   "source": [
    "2015 - 2019 exports"
   ]
  },
  {
   "cell_type": "code",
   "execution_count": 12,
   "metadata": {},
   "outputs": [
    {
     "name": "stdout",
     "output_type": "stream",
     "text": [
      "country_id column initial type:\n",
      "int32\n",
      "============================================================\n",
      "country_id column final type:\n",
      "category\n",
      "============================================================\n",
      "product_id column initial type:\n",
      "int16\n",
      "============================================================\n",
      "product_id column final type:\n",
      "category\n",
      "============================================================\n",
      "year column initial type:\n",
      "int16\n",
      "============================================================\n",
      "year column final type:\n",
      "category\n",
      "============================================================\n"
     ]
    }
   ],
   "source": [
    "# all_col_names = ['country_id', 'partner_country_id', 'year', 'product_id', 'export_value', 'import_value', 'coi', 'eci', 'pci']\n",
    "col_names = [\"country_id\", \"year\", \"product_id\", \"export_value\"]\n",
    "\n",
    "input_file_name = \"hs92_country_country_product_year_4_2015_2019.dta\"\n",
    "raw_df_2015_2019 = read_hs92_stata_data(input_file_location, input_file_name, col_names)"
   ]
  },
  {
   "cell_type": "code",
   "execution_count": 13,
   "metadata": {},
   "outputs": [
    {
     "name": "stdout",
     "output_type": "stream",
     "text": [
      "['df', <class 'pandas.core.frame.DataFrame'>]\n",
      "============================================================\n",
      "shape:\n",
      "(28179758, 4)\n",
      "============================================================\n",
      "data types:\n",
      "country_id      category\n",
      "year            category\n",
      "product_id      category\n",
      "export_value       int64\n",
      "dtype: object\n",
      "============================================================\n",
      "columns:\n",
      "['country_id', 'year', 'product_id', 'export_value']\n",
      "============================================================\n",
      "            export_value\n",
      "count      28,179,758.00\n",
      "mean        2,964,273.69\n",
      "std       105,195,934.48\n",
      "min                 0.00\n",
      "25%                 0.00\n",
      "50%             5,237.00\n",
      "75%            93,262.00\n",
      "max   127,254,781,879.00\n",
      "============================================================\n",
      "Total memory usage: 366367566 bytes\n",
      "============================================================\n"
     ]
    }
   ],
   "source": [
    "df_stats(raw_df_2015_2019)"
   ]
  },
  {
   "cell_type": "code",
   "execution_count": 14,
   "metadata": {},
   "outputs": [
    {
     "data": {
      "text/html": [
       "<div>\n",
       "<style scoped>\n",
       "    .dataframe tbody tr th:only-of-type {\n",
       "        vertical-align: middle;\n",
       "    }\n",
       "\n",
       "    .dataframe tbody tr th {\n",
       "        vertical-align: top;\n",
       "    }\n",
       "\n",
       "    .dataframe thead th {\n",
       "        text-align: right;\n",
       "    }\n",
       "</style>\n",
       "<table border=\"1\" class=\"dataframe\">\n",
       "  <thead>\n",
       "    <tr style=\"text-align: right;\">\n",
       "      <th></th>\n",
       "      <th>country_id</th>\n",
       "      <th>year</th>\n",
       "      <th>product_id</th>\n",
       "      <th>export_value</th>\n",
       "    </tr>\n",
       "  </thead>\n",
       "  <tbody>\n",
       "    <tr>\n",
       "      <th>0</th>\n",
       "      <td>4</td>\n",
       "      <td>2017</td>\n",
       "      <td>1891</td>\n",
       "      <td>0</td>\n",
       "    </tr>\n",
       "    <tr>\n",
       "      <th>1</th>\n",
       "      <td>4</td>\n",
       "      <td>2017</td>\n",
       "      <td>1891</td>\n",
       "      <td>0</td>\n",
       "    </tr>\n",
       "    <tr>\n",
       "      <th>2</th>\n",
       "      <td>4</td>\n",
       "      <td>2017</td>\n",
       "      <td>1891</td>\n",
       "      <td>0</td>\n",
       "    </tr>\n",
       "    <tr>\n",
       "      <th>3</th>\n",
       "      <td>4</td>\n",
       "      <td>2017</td>\n",
       "      <td>1891</td>\n",
       "      <td>85321</td>\n",
       "    </tr>\n",
       "    <tr>\n",
       "      <th>4</th>\n",
       "      <td>4</td>\n",
       "      <td>2017</td>\n",
       "      <td>1891</td>\n",
       "      <td>9546</td>\n",
       "    </tr>\n",
       "    <tr>\n",
       "      <th>5</th>\n",
       "      <td>4</td>\n",
       "      <td>2017</td>\n",
       "      <td>1891</td>\n",
       "      <td>0</td>\n",
       "    </tr>\n",
       "    <tr>\n",
       "      <th>6</th>\n",
       "      <td>4</td>\n",
       "      <td>2017</td>\n",
       "      <td>1891</td>\n",
       "      <td>0</td>\n",
       "    </tr>\n",
       "    <tr>\n",
       "      <th>7</th>\n",
       "      <td>4</td>\n",
       "      <td>2017</td>\n",
       "      <td>1891</td>\n",
       "      <td>3880</td>\n",
       "    </tr>\n",
       "    <tr>\n",
       "      <th>8</th>\n",
       "      <td>4</td>\n",
       "      <td>2017</td>\n",
       "      <td>1891</td>\n",
       "      <td>11620</td>\n",
       "    </tr>\n",
       "    <tr>\n",
       "      <th>9</th>\n",
       "      <td>4</td>\n",
       "      <td>2017</td>\n",
       "      <td>1891</td>\n",
       "      <td>0</td>\n",
       "    </tr>\n",
       "    <tr>\n",
       "      <th>10</th>\n",
       "      <td>4</td>\n",
       "      <td>2017</td>\n",
       "      <td>1891</td>\n",
       "      <td>0</td>\n",
       "    </tr>\n",
       "    <tr>\n",
       "      <th>11</th>\n",
       "      <td>4</td>\n",
       "      <td>2017</td>\n",
       "      <td>1891</td>\n",
       "      <td>621</td>\n",
       "    </tr>\n",
       "    <tr>\n",
       "      <th>12</th>\n",
       "      <td>4</td>\n",
       "      <td>2017</td>\n",
       "      <td>1891</td>\n",
       "      <td>0</td>\n",
       "    </tr>\n",
       "    <tr>\n",
       "      <th>13</th>\n",
       "      <td>4</td>\n",
       "      <td>2017</td>\n",
       "      <td>1891</td>\n",
       "      <td>24992</td>\n",
       "    </tr>\n",
       "    <tr>\n",
       "      <th>14</th>\n",
       "      <td>4</td>\n",
       "      <td>2017</td>\n",
       "      <td>1891</td>\n",
       "      <td>0</td>\n",
       "    </tr>\n",
       "  </tbody>\n",
       "</table>\n",
       "</div>"
      ],
      "text/plain": [
       "   country_id  year product_id  export_value\n",
       "0           4  2017       1891             0\n",
       "1           4  2017       1891             0\n",
       "2           4  2017       1891             0\n",
       "3           4  2017       1891         85321\n",
       "4           4  2017       1891          9546\n",
       "5           4  2017       1891             0\n",
       "6           4  2017       1891             0\n",
       "7           4  2017       1891          3880\n",
       "8           4  2017       1891         11620\n",
       "9           4  2017       1891             0\n",
       "10          4  2017       1891             0\n",
       "11          4  2017       1891           621\n",
       "12          4  2017       1891             0\n",
       "13          4  2017       1891         24992\n",
       "14          4  2017       1891             0"
      ]
     },
     "execution_count": 14,
     "metadata": {},
     "output_type": "execute_result"
    }
   ],
   "source": [
    "raw_df_2015_2019.head(15)"
   ]
  },
  {
   "cell_type": "code",
   "execution_count": 15,
   "metadata": {},
   "outputs": [
    {
     "name": "stdout",
     "output_type": "stream",
     "text": [
      "country_id column initial type:\n",
      "category\n",
      "============================================================\n",
      "country_id column final type:\n",
      "int16\n",
      "============================================================\n",
      "product_id column initial type:\n",
      "category\n",
      "============================================================\n",
      "product_id column final type:\n",
      "int16\n",
      "============================================================\n",
      "year column initial type:\n",
      "category\n",
      "============================================================\n",
      "year column final type:\n",
      "int16\n",
      "============================================================\n"
     ]
    }
   ],
   "source": [
    "# Save the raw exports Data to a .parquet file\n",
    "output_file_name = \"raw_hs92_exports_2015_2019.parquet\"\n",
    "save_hs92_parquet_data(\n",
    "    data=raw_df_2015_2019,\n",
    "    file_location=output_file_location,\n",
    "    file_name=output_file_name,\n",
    ")"
   ]
  },
  {
   "cell_type": "code",
   "execution_count": 16,
   "metadata": {},
   "outputs": [
    {
     "name": "stdout",
     "output_type": "stream",
     "text": [
      "country_id column initial type:\n",
      "category\n",
      "============================================================\n",
      "country_id column final type:\n",
      "int16\n",
      "============================================================\n",
      "year column initial type:\n",
      "category\n",
      "============================================================\n",
      "year column final type:\n",
      "int16\n",
      "============================================================\n",
      "product_id column initial type:\n",
      "category\n",
      "============================================================\n",
      "product_id column final type:\n",
      "int16\n",
      "============================================================\n",
      "country_id column initial type:\n",
      "category\n",
      "============================================================\n",
      "country_id column final type:\n",
      "int16\n",
      "============================================================\n",
      "year column initial type:\n",
      "category\n",
      "============================================================\n",
      "year column final type:\n",
      "int16\n",
      "============================================================\n",
      "product_id column initial type:\n",
      "category\n",
      "============================================================\n",
      "product_id column final type:\n",
      "int16\n",
      "============================================================\n"
     ]
    }
   ],
   "source": [
    "# Switching categorical columns to integers\n",
    "categorical_columns = [\"country_id\", \"year\", \"product_id\"]\n",
    "raw_df_2010_2014 = switch_to_dtype(\n",
    "    raw_df_2010_2014, default_dtype=\"int16\", categorical_columns=categorical_columns\n",
    ")\n",
    "raw_df_2015_2019 = switch_to_dtype(\n",
    "    raw_df_2015_2019, default_dtype=\"int16\", categorical_columns=categorical_columns\n",
    ")"
   ]
  },
  {
   "cell_type": "code",
   "execution_count": 17,
   "metadata": {},
   "outputs": [],
   "source": [
    "# Merge datasets efficiently\n",
    "raw_df = pd.concat([raw_df_2010_2014, raw_df_2015_2019], ignore_index=True)"
   ]
  },
  {
   "cell_type": "code",
   "execution_count": 18,
   "metadata": {},
   "outputs": [
    {
     "name": "stdout",
     "output_type": "stream",
     "text": [
      "['df', <class 'pandas.core.frame.DataFrame'>]\n",
      "============================================================\n",
      "shape:\n",
      "(55159782, 4)\n",
      "============================================================\n",
      "data types:\n",
      "country_id      int16\n",
      "year            int16\n",
      "product_id      int16\n",
      "export_value    int64\n",
      "dtype: object\n",
      "============================================================\n",
      "columns:\n",
      "['country_id', 'year', 'product_id', 'export_value']\n",
      "============================================================\n",
      "         country_id          year    product_id       export_value\n",
      "count 55,159,782.00 55,159,782.00 55,159,782.00      55,159,782.00\n",
      "mean         442.15      2,014.58      1,339.55       3,077,631.40\n",
      "std          256.66          2.87        353.05     118,551,215.60\n",
      "min            4.00      2,010.00        650.00               0.00\n",
      "25%          218.00      2,012.00      1,050.00               0.00\n",
      "50%          410.00      2,015.00      1,365.00           5,313.00\n",
      "75%          690.00      2,017.00      1,660.00          95,951.00\n",
      "max          999.00      2,019.00      1,892.00 127,254,781,879.00\n",
      "============================================================\n",
      "Total memory usage: 772237080 bytes\n",
      "============================================================\n"
     ]
    }
   ],
   "source": [
    "df_stats(raw_df)"
   ]
  },
  {
   "cell_type": "code",
   "execution_count": 19,
   "metadata": {},
   "outputs": [
    {
     "name": "stdout",
     "output_type": "stream",
     "text": [
      "country_id column initial type:\n",
      "int16\n",
      "============================================================\n",
      "country_id column final type:\n",
      "category\n",
      "============================================================\n",
      "year column initial type:\n",
      "int16\n",
      "============================================================\n",
      "year column final type:\n",
      "category\n",
      "============================================================\n",
      "product_id column initial type:\n",
      "int16\n",
      "============================================================\n",
      "product_id column final type:\n",
      "category\n",
      "============================================================\n"
     ]
    }
   ],
   "source": [
    "categorical_columns = [\"country_id\", \"year\", \"product_id\"]\n",
    "raw_df = switch_to_dtype(\n",
    "    raw_df, default_dtype=\"category\", categorical_columns=categorical_columns\n",
    ")"
   ]
  },
  {
   "cell_type": "code",
   "execution_count": 20,
   "metadata": {},
   "outputs": [],
   "source": [
    "raw_df.sort_values(by=[\"country_id\", \"year\", \"product_id\"], inplace=True)\n",
    "raw_df.reset_index(drop=True, inplace=True)"
   ]
  },
  {
   "cell_type": "code",
   "execution_count": 21,
   "metadata": {},
   "outputs": [
    {
     "data": {
      "text/plain": [
       "0"
      ]
     },
     "execution_count": 21,
     "metadata": {},
     "output_type": "execute_result"
    }
   ],
   "source": [
    "# Free memory\n",
    "del raw_df_2010_2014, raw_df_2015_2019\n",
    "gc.collect()"
   ]
  },
  {
   "cell_type": "code",
   "execution_count": 22,
   "metadata": {},
   "outputs": [
    {
     "name": "stdout",
     "output_type": "stream",
     "text": [
      "['df', <class 'pandas.core.frame.DataFrame'>]\n",
      "============================================================\n",
      "shape:\n",
      "(55159782, 4)\n",
      "============================================================\n",
      "data types:\n",
      "country_id      category\n",
      "year            category\n",
      "product_id      category\n",
      "export_value       int64\n",
      "dtype: object\n",
      "============================================================\n",
      "columns:\n",
      "['country_id', 'year', 'product_id', 'export_value']\n",
      "============================================================\n",
      "            export_value\n",
      "count      55,159,782.00\n",
      "mean        3,077,631.40\n",
      "std       118,551,215.60\n",
      "min                 0.00\n",
      "25%                 0.00\n",
      "50%             5,313.00\n",
      "75%            95,951.00\n",
      "max   127,254,781,879.00\n",
      "============================================================\n",
      "Total memory usage: 717106480 bytes\n",
      "============================================================\n"
     ]
    }
   ],
   "source": [
    "df_stats(raw_df)"
   ]
  },
  {
   "cell_type": "code",
   "execution_count": 23,
   "metadata": {},
   "outputs": [
    {
     "data": {
      "text/html": [
       "<div>\n",
       "<style scoped>\n",
       "    .dataframe tbody tr th:only-of-type {\n",
       "        vertical-align: middle;\n",
       "    }\n",
       "\n",
       "    .dataframe tbody tr th {\n",
       "        vertical-align: top;\n",
       "    }\n",
       "\n",
       "    .dataframe thead th {\n",
       "        text-align: right;\n",
       "    }\n",
       "</style>\n",
       "<table border=\"1\" class=\"dataframe\">\n",
       "  <thead>\n",
       "    <tr style=\"text-align: right;\">\n",
       "      <th></th>\n",
       "      <th>country_id</th>\n",
       "      <th>year</th>\n",
       "      <th>product_id</th>\n",
       "      <th>export_value</th>\n",
       "    </tr>\n",
       "  </thead>\n",
       "  <tbody>\n",
       "    <tr>\n",
       "      <th>0</th>\n",
       "      <td>4</td>\n",
       "      <td>2010</td>\n",
       "      <td>650</td>\n",
       "      <td>0</td>\n",
       "    </tr>\n",
       "    <tr>\n",
       "      <th>1</th>\n",
       "      <td>4</td>\n",
       "      <td>2010</td>\n",
       "      <td>650</td>\n",
       "      <td>0</td>\n",
       "    </tr>\n",
       "    <tr>\n",
       "      <th>2</th>\n",
       "      <td>4</td>\n",
       "      <td>2010</td>\n",
       "      <td>650</td>\n",
       "      <td>0</td>\n",
       "    </tr>\n",
       "    <tr>\n",
       "      <th>3</th>\n",
       "      <td>4</td>\n",
       "      <td>2010</td>\n",
       "      <td>651</td>\n",
       "      <td>773058</td>\n",
       "    </tr>\n",
       "    <tr>\n",
       "      <th>4</th>\n",
       "      <td>4</td>\n",
       "      <td>2010</td>\n",
       "      <td>651</td>\n",
       "      <td>0</td>\n",
       "    </tr>\n",
       "    <tr>\n",
       "      <th>5</th>\n",
       "      <td>4</td>\n",
       "      <td>2010</td>\n",
       "      <td>651</td>\n",
       "      <td>0</td>\n",
       "    </tr>\n",
       "    <tr>\n",
       "      <th>6</th>\n",
       "      <td>4</td>\n",
       "      <td>2010</td>\n",
       "      <td>651</td>\n",
       "      <td>0</td>\n",
       "    </tr>\n",
       "    <tr>\n",
       "      <th>7</th>\n",
       "      <td>4</td>\n",
       "      <td>2010</td>\n",
       "      <td>653</td>\n",
       "      <td>1422</td>\n",
       "    </tr>\n",
       "    <tr>\n",
       "      <th>8</th>\n",
       "      <td>4</td>\n",
       "      <td>2010</td>\n",
       "      <td>653</td>\n",
       "      <td>42264</td>\n",
       "    </tr>\n",
       "    <tr>\n",
       "      <th>9</th>\n",
       "      <td>4</td>\n",
       "      <td>2010</td>\n",
       "      <td>654</td>\n",
       "      <td>0</td>\n",
       "    </tr>\n",
       "  </tbody>\n",
       "</table>\n",
       "</div>"
      ],
      "text/plain": [
       "  country_id  year product_id  export_value\n",
       "0          4  2010        650             0\n",
       "1          4  2010        650             0\n",
       "2          4  2010        650             0\n",
       "3          4  2010        651        773058\n",
       "4          4  2010        651             0\n",
       "5          4  2010        651             0\n",
       "6          4  2010        651             0\n",
       "7          4  2010        653          1422\n",
       "8          4  2010        653         42264\n",
       "9          4  2010        654             0"
      ]
     },
     "execution_count": 23,
     "metadata": {},
     "output_type": "execute_result"
    }
   ],
   "source": [
    "raw_df.head(10)"
   ]
  },
  {
   "cell_type": "code",
   "execution_count": 24,
   "metadata": {},
   "outputs": [
    {
     "data": {
      "text/html": [
       "<div>\n",
       "<style scoped>\n",
       "    .dataframe tbody tr th:only-of-type {\n",
       "        vertical-align: middle;\n",
       "    }\n",
       "\n",
       "    .dataframe tbody tr th {\n",
       "        vertical-align: top;\n",
       "    }\n",
       "\n",
       "    .dataframe thead th {\n",
       "        text-align: right;\n",
       "    }\n",
       "</style>\n",
       "<table border=\"1\" class=\"dataframe\">\n",
       "  <thead>\n",
       "    <tr style=\"text-align: right;\">\n",
       "      <th></th>\n",
       "      <th>country_id</th>\n",
       "      <th>year</th>\n",
       "      <th>product_id</th>\n",
       "      <th>export_value</th>\n",
       "    </tr>\n",
       "  </thead>\n",
       "  <tbody>\n",
       "    <tr>\n",
       "      <th>7592810</th>\n",
       "      <td>132</td>\n",
       "      <td>2016</td>\n",
       "      <td>1742</td>\n",
       "      <td>0</td>\n",
       "    </tr>\n",
       "    <tr>\n",
       "      <th>45843717</th>\n",
       "      <td>752</td>\n",
       "      <td>2014</td>\n",
       "      <td>1739</td>\n",
       "      <td>180133</td>\n",
       "    </tr>\n",
       "    <tr>\n",
       "      <th>53039235</th>\n",
       "      <td>840</td>\n",
       "      <td>2013</td>\n",
       "      <td>1041</td>\n",
       "      <td>327</td>\n",
       "    </tr>\n",
       "    <tr>\n",
       "      <th>6881740</th>\n",
       "      <td>124</td>\n",
       "      <td>2010</td>\n",
       "      <td>1731</td>\n",
       "      <td>833767</td>\n",
       "    </tr>\n",
       "    <tr>\n",
       "      <th>47742872</th>\n",
       "      <td>764</td>\n",
       "      <td>2019</td>\n",
       "      <td>1523</td>\n",
       "      <td>46601</td>\n",
       "    </tr>\n",
       "    <tr>\n",
       "      <th>1705324</th>\n",
       "      <td>36</td>\n",
       "      <td>2016</td>\n",
       "      <td>1734</td>\n",
       "      <td>0</td>\n",
       "    </tr>\n",
       "    <tr>\n",
       "      <th>2433978</th>\n",
       "      <td>40</td>\n",
       "      <td>2017</td>\n",
       "      <td>1587</td>\n",
       "      <td>0</td>\n",
       "    </tr>\n",
       "    <tr>\n",
       "      <th>1451437</th>\n",
       "      <td>36</td>\n",
       "      <td>2012</td>\n",
       "      <td>1728</td>\n",
       "      <td>29434</td>\n",
       "    </tr>\n",
       "    <tr>\n",
       "      <th>2397469</th>\n",
       "      <td>40</td>\n",
       "      <td>2017</td>\n",
       "      <td>865</td>\n",
       "      <td>0</td>\n",
       "    </tr>\n",
       "    <tr>\n",
       "      <th>6270250</th>\n",
       "      <td>112</td>\n",
       "      <td>2011</td>\n",
       "      <td>672</td>\n",
       "      <td>0</td>\n",
       "    </tr>\n",
       "    <tr>\n",
       "      <th>38916484</th>\n",
       "      <td>634</td>\n",
       "      <td>2014</td>\n",
       "      <td>702</td>\n",
       "      <td>0</td>\n",
       "    </tr>\n",
       "    <tr>\n",
       "      <th>679120</th>\n",
       "      <td>24</td>\n",
       "      <td>2019</td>\n",
       "      <td>783</td>\n",
       "      <td>0</td>\n",
       "    </tr>\n",
       "    <tr>\n",
       "      <th>1205667</th>\n",
       "      <td>32</td>\n",
       "      <td>2017</td>\n",
       "      <td>1814</td>\n",
       "      <td>245280</td>\n",
       "    </tr>\n",
       "    <tr>\n",
       "      <th>9920885</th>\n",
       "      <td>158</td>\n",
       "      <td>2011</td>\n",
       "      <td>936</td>\n",
       "      <td>0</td>\n",
       "    </tr>\n",
       "    <tr>\n",
       "      <th>16347205</th>\n",
       "      <td>250</td>\n",
       "      <td>2018</td>\n",
       "      <td>1574</td>\n",
       "      <td>882159</td>\n",
       "    </tr>\n",
       "  </tbody>\n",
       "</table>\n",
       "</div>"
      ],
      "text/plain": [
       "         country_id  year product_id  export_value\n",
       "7592810         132  2016       1742             0\n",
       "45843717        752  2014       1739        180133\n",
       "53039235        840  2013       1041           327\n",
       "6881740         124  2010       1731        833767\n",
       "47742872        764  2019       1523         46601\n",
       "1705324          36  2016       1734             0\n",
       "2433978          40  2017       1587             0\n",
       "1451437          36  2012       1728         29434\n",
       "2397469          40  2017        865             0\n",
       "6270250         112  2011        672             0\n",
       "38916484        634  2014        702             0\n",
       "679120           24  2019        783             0\n",
       "1205667          32  2017       1814        245280\n",
       "9920885         158  2011        936             0\n",
       "16347205        250  2018       1574        882159"
      ]
     },
     "execution_count": 24,
     "metadata": {},
     "output_type": "execute_result"
    }
   ],
   "source": [
    "raw_df.sample(15)"
   ]
  },
  {
   "cell_type": "code",
   "execution_count": 25,
   "metadata": {},
   "outputs": [
    {
     "name": "stdout",
     "output_type": "stream",
     "text": [
      "country_id column initial type:\n",
      "category\n",
      "============================================================\n",
      "country_id column final type:\n",
      "int16\n",
      "============================================================\n",
      "product_id column initial type:\n",
      "category\n",
      "============================================================\n",
      "product_id column final type:\n",
      "int16\n",
      "============================================================\n",
      "year column initial type:\n",
      "category\n",
      "============================================================\n",
      "year column final type:\n",
      "int16\n",
      "============================================================\n"
     ]
    }
   ],
   "source": [
    "# Save the raw exports Data to a .parquet file\n",
    "output_file_name = \"raw_hs92_exports_merged.parquet\"\n",
    "save_hs92_parquet_data(\n",
    "    data=raw_df, file_location=output_file_location, file_name=output_file_name\n",
    ")"
   ]
  },
  {
   "cell_type": "markdown",
   "metadata": {},
   "source": [
    "# Ingested and merged PARQUET data description"
   ]
  },
  {
   "cell_type": "markdown",
   "metadata": {},
   "source": [
    "| **Field Name**         | **Description**                                      | **Data Type** | **Notes**                                                                                      |\n",
    "|-------------------------|------------------------------------------------------|---------------|------------------------------------------------------------------------------------------------|\n",
    "| country_id             | United Nations Country M49 Codes                     | Integer       | Can be joined with the location_country table within the classifications dataset for more detailed information |\n",
    "| product_id             | Growth Lab assigned numerical product identifier     | Integer       | Can be joined with the product_hs92 table within the classifications dataset for more detailed information |\n",
    "| year                   | Year of record                                       | Integer       | HS records start at 1995                                                                       |\n",
    "| export_value           | Current USD export value                             | Integer       |                                                                                                |\n",
    "\n",
    "*Note:* Any “normalized” fields are assumed to be calculated within the country-year dataset. For example, `normalized_pci` is `pci` normalized to mean of 0 and standard deviation of 1 within a given country for a single year.\n"
   ]
  },
  {
   "cell_type": "markdown",
   "metadata": {},
   "source": [
    "Staging list of unique export_years present in merged dataframe"
   ]
  },
  {
   "cell_type": "code",
   "execution_count": 26,
   "metadata": {},
   "outputs": [
    {
     "name": "stdout",
     "output_type": "stream",
     "text": [
      "data restored:['valid_gdp_country_codes', 'valid_gdp_country_ids', 'valid_gdp_locations']\n",
      "============================================================\n"
     ]
    }
   ],
   "source": [
    "# this data was staged at n01_Processed_exports.ipynb\n",
    "dumped_data = restore_cache(input_file_location=output_file_location)"
   ]
  },
  {
   "cell_type": "code",
   "execution_count": 27,
   "metadata": {},
   "outputs": [
    {
     "name": "stdout",
     "output_type": "stream",
     "text": [
      "data staged:['valid_gdp_country_codes', 'valid_gdp_country_ids', 'valid_gdp_locations', 'export_years']\n",
      "============================================================\n"
     ]
    }
   ],
   "source": [
    "dumped_data[\"export_years\"] = set(raw_df[\"year\"].unique())\n",
    "\n",
    "staging_cache(output_file_location=output_file_location, **dumped_data)"
   ]
  },
  {
   "cell_type": "code",
   "execution_count": 28,
   "metadata": {},
   "outputs": [
    {
     "data": {
      "text/plain": [
       "0"
      ]
     },
     "execution_count": 28,
     "metadata": {},
     "output_type": "execute_result"
    }
   ],
   "source": [
    "del raw_df\n",
    "gc.collect()"
   ]
  },
  {
   "cell_type": "code",
   "execution_count": 29,
   "metadata": {},
   "outputs": [],
   "source": [
    "# assert False, \"End of code\""
   ]
  }
 ],
 "metadata": {
  "kernelspec": {
   "display_name": "bdmm2324",
   "language": "python",
   "name": "python3"
  },
  "language_info": {
   "codemirror_mode": {
    "name": "ipython",
    "version": 3
   },
   "file_extension": ".py",
   "mimetype": "text/x-python",
   "name": "python",
   "nbconvert_exporter": "python",
   "pygments_lexer": "ipython3",
   "version": "3.11.7"
  }
 },
 "nbformat": 4,
 "nbformat_minor": 2
}
