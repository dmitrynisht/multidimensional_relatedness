{
 "cells": [
  {
   "cell_type": "code",
   "execution_count": 1,
   "metadata": {},
   "outputs": [
    {
     "data": {
      "text/plain": [
       "1"
      ]
     },
     "execution_count": 1,
     "metadata": {},
     "output_type": "execute_result"
    }
   ],
   "source": [
    "(\n",
    "    1 + 0\n",
    ")  # Utility cell. Sometimes \"Jupyter\" skipps the first cell when running all cells. Especially after a restart."
   ]
  },
  {
   "cell_type": "code",
   "execution_count": 2,
   "metadata": {},
   "outputs": [
    {
     "data": {
      "text/plain": [
       "2"
      ]
     },
     "execution_count": 2,
     "metadata": {},
     "output_type": "execute_result"
    }
   ],
   "source": [
    "(\n",
    "    1 + 1\n",
    ")  # Utility cell. Sometimes \"Jupyter\" skipps the first cell when running all cells. Especially after a restart."
   ]
  },
  {
   "cell_type": "code",
   "execution_count": 3,
   "metadata": {},
   "outputs": [
    {
     "name": "stdout",
     "output_type": "stream",
     "text": [
      "N3 utility cell running...\n"
     ]
    }
   ],
   "source": [
    "print(f\"N{1+2} utility cell running...\")"
   ]
  },
  {
   "cell_type": "code",
   "execution_count": 4,
   "metadata": {},
   "outputs": [
    {
     "name": "stdout",
     "output_type": "stream",
     "text": [
      "PYTHONPATH: C:\\Users\\Admin\\Documents\\Univer\\MASTER THESIS IDEAS\\Flavio Pinehro\\11_MasterProject\\src\n"
     ]
    }
   ],
   "source": [
    "# Resolve the path to the 'src' folder with helper functions\n",
    "import config_notebooks"
   ]
  },
  {
   "cell_type": "code",
   "execution_count": 5,
   "metadata": {},
   "outputs": [
    {
     "name": "stdout",
     "output_type": "stream",
     "text": [
      "os.getcwd():\n",
      "c:\\Users\\Admin\\Documents\\Univer\\MASTER THESIS IDEAS\\Flavio Pinehro\\11_MasterProject\\notebooks\n",
      "============================================================\n",
      "input_file_location:\n",
      "..\\data\\02_ingested\n",
      "============================================================\n",
      "output_file_location:\n",
      "..\\data\\03_preprocessed\n",
      "============================================================\n"
     ]
    }
   ],
   "source": [
    "from n03_import import *"
   ]
  },
  {
   "cell_type": "code",
   "execution_count": 6,
   "metadata": {},
   "outputs": [],
   "source": [
    "# # Resolve the path to the 'src' folder with helper functions\n",
    "# import config_notebooks\n",
    "# from importlib import reload\n",
    "\n",
    "# # Import the module and reload it\n",
    "# import n03_import_reload\n",
    "\n",
    "# reload(n03_import_reload)\n",
    "\n",
    "# # Re-import the functions from the reloaded module\n",
    "# from n03_import_reload import *"
   ]
  },
  {
   "cell_type": "markdown",
   "metadata": {},
   "source": [
    "## Processing 'GDP per capita' data"
   ]
  },
  {
   "cell_type": "code",
   "execution_count": 7,
   "metadata": {},
   "outputs": [
    {
     "name": "stdout",
     "output_type": "stream",
     "text": [
      "country_code column initial type:\n",
      "object\n",
      "============================================================\n",
      "country_code column final type:\n",
      "category\n",
      "============================================================\n",
      "year column initial type:\n",
      "int16\n",
      "============================================================\n",
      "year column final type:\n",
      "category\n",
      "============================================================\n"
     ]
    }
   ],
   "source": [
    "# Raw gdp per capita data\n",
    "categorical_columns = [\"country_code\", \"year\"]\n",
    "input_file_name = \"ingested_gdp_pcap.dta\"\n",
    "gdp_pcap_df = read_hs92_stata_data(\n",
    "    input_file_location, input_file_name, categorical_columns=categorical_columns\n",
    ")"
   ]
  },
  {
   "cell_type": "code",
   "execution_count": 8,
   "metadata": {},
   "outputs": [
    {
     "data": {
      "text/html": [
       "<div>\n",
       "<style scoped>\n",
       "    .dataframe tbody tr th:only-of-type {\n",
       "        vertical-align: middle;\n",
       "    }\n",
       "\n",
       "    .dataframe tbody tr th {\n",
       "        vertical-align: top;\n",
       "    }\n",
       "\n",
       "    .dataframe thead th {\n",
       "        text-align: right;\n",
       "    }\n",
       "</style>\n",
       "<table border=\"1\" class=\"dataframe\">\n",
       "  <thead>\n",
       "    <tr style=\"text-align: right;\">\n",
       "      <th></th>\n",
       "      <th>country_code</th>\n",
       "      <th>year</th>\n",
       "      <th>gdp_per_capita</th>\n",
       "      <th>log_gdp_per_capita</th>\n",
       "    </tr>\n",
       "  </thead>\n",
       "  <tbody>\n",
       "    <tr>\n",
       "      <th>0</th>\n",
       "      <td>AUS</td>\n",
       "      <td>1960</td>\n",
       "      <td>1,810.71</td>\n",
       "      <td>7.50</td>\n",
       "    </tr>\n",
       "    <tr>\n",
       "      <th>1</th>\n",
       "      <td>AUT</td>\n",
       "      <td>1960</td>\n",
       "      <td>939.91</td>\n",
       "      <td>6.85</td>\n",
       "    </tr>\n",
       "    <tr>\n",
       "      <th>2</th>\n",
       "      <td>BDI</td>\n",
       "      <td>1960</td>\n",
       "      <td>70.91</td>\n",
       "      <td>4.26</td>\n",
       "    </tr>\n",
       "    <tr>\n",
       "      <th>3</th>\n",
       "      <td>BEL</td>\n",
       "      <td>1960</td>\n",
       "      <td>1,290.29</td>\n",
       "      <td>7.16</td>\n",
       "    </tr>\n",
       "    <tr>\n",
       "      <th>4</th>\n",
       "      <td>BEN</td>\n",
       "      <td>1960</td>\n",
       "      <td>89.86</td>\n",
       "      <td>4.50</td>\n",
       "    </tr>\n",
       "  </tbody>\n",
       "</table>\n",
       "</div>"
      ],
      "text/plain": [
       "  country_code  year  gdp_per_capita  log_gdp_per_capita\n",
       "0          AUS  1960        1,810.71                7.50\n",
       "1          AUT  1960          939.91                6.85\n",
       "2          BDI  1960           70.91                4.26\n",
       "3          BEL  1960        1,290.29                7.16\n",
       "4          BEN  1960           89.86                4.50"
      ]
     },
     "execution_count": 8,
     "metadata": {},
     "output_type": "execute_result"
    }
   ],
   "source": [
    "gdp_pcap_df.head()"
   ]
  },
  {
   "cell_type": "code",
   "execution_count": 9,
   "metadata": {},
   "outputs": [
    {
     "name": "stdout",
     "output_type": "stream",
     "text": [
      "['df', <class 'pandas.core.frame.DataFrame'>]\n",
      "============================================================\n",
      "shape:\n",
      "(8334, 4)\n",
      "============================================================\n",
      "data types:\n",
      "country_code          category\n",
      "year                  category\n",
      "gdp_per_capita         float64\n",
      "log_gdp_per_capita     float64\n",
      "dtype: object\n",
      "============================================================\n",
      "columns:\n",
      "['country_code', 'year', 'gdp_per_capita', 'log_gdp_per_capita']\n",
      "============================================================\n",
      "       gdp_per_capita  log_gdp_per_capita\n",
      "count        8,334.00            8,334.00\n",
      "mean         7,104.50                7.49\n",
      "std         13,417.95                1.73\n",
      "min             11.80                2.47\n",
      "25%            462.09                6.14\n",
      "50%          1,554.43                7.35\n",
      "75%          6,321.94                8.75\n",
      "max        108,798.45               11.60\n",
      "============================================================\n",
      "Total memory usage: 173110 bytes\n",
      "============================================================\n"
     ]
    }
   ],
   "source": [
    "df_stats(gdp_pcap_df)"
   ]
  },
  {
   "cell_type": "markdown",
   "metadata": {},
   "source": [
    "### Preprocessing GDP data"
   ]
  },
  {
   "cell_type": "code",
   "execution_count": 10,
   "metadata": {},
   "outputs": [
    {
     "name": "stdout",
     "output_type": "stream",
     "text": [
      "data restored:['valid_gdp_country_codes', 'valid_gdp_country_ids', 'valid_gdp_locations', 'export_years', 'unreliable_locations', 'rolling_exports_years']\n",
      "============================================================\n"
     ]
    }
   ],
   "source": [
    "# this data was staged at n03_Processed_exports.ipynb\n",
    "dumped_data = restore_cache(input_file_location=input_file_location)"
   ]
  },
  {
   "cell_type": "code",
   "execution_count": 11,
   "metadata": {},
   "outputs": [],
   "source": [
    "# # Better to switch to string data type for categorical columns before processing\n",
    "# categorical_columns = [\"year\"]\n",
    "# gdp_pcap_df = switch_to_dtype(\n",
    "#     gdp_pcap_df, default_dtype=\"str\", categorical_columns=categorical_columns\n",
    "# )"
   ]
  },
  {
   "cell_type": "markdown",
   "metadata": {},
   "source": [
    "### Subsetting first to the whole range of years under observation in order to select countries with consistent data"
   ]
  },
  {
   "cell_type": "code",
   "execution_count": 12,
   "metadata": {},
   "outputs": [
    {
     "data": {
      "text/plain": [
       "{2010, 2011, 2012, 2013, 2014, 2015, 2016, 2017, 2018, 2019}"
      ]
     },
     "execution_count": 12,
     "metadata": {},
     "output_type": "execute_result"
    }
   ],
   "source": [
    "export_years = dumped_data[\"export_years\"]\n",
    "# export_years = [*map(str, export_years)]\n",
    "export_years"
   ]
  },
  {
   "cell_type": "code",
   "execution_count": 13,
   "metadata": {},
   "outputs": [],
   "source": [
    "gdp_pcap_df = gdp_pcap_df[gdp_pcap_df[\"year\"].isin(export_years)]"
   ]
  },
  {
   "cell_type": "code",
   "execution_count": 14,
   "metadata": {},
   "outputs": [
    {
     "name": "stdout",
     "output_type": "stream",
     "text": [
      "Before: Index([1960, 1961, 1962, 1963, 1964, 1965, 1966, 1967, 1968, 1969, 1970, 1971,\n",
      "       1972, 1973, 1974, 1975, 1976, 1977, 1978, 1979, 1980, 1981, 1982, 1983,\n",
      "       1984, 1985, 1986, 1987, 1988, 1989, 1990, 1991, 1992, 1993, 1994, 1995,\n",
      "       1996, 1997, 1998, 1999, 2000, 2001, 2002, 2003, 2004, 2005, 2006, 2007,\n",
      "       2008, 2009, 2010, 2011, 2012, 2013, 2014, 2015, 2016, 2017, 2018, 2019,\n",
      "       2020, 2021, 2022, 2023],\n",
      "      dtype='int16') \n",
      "\n",
      "After: Index([2010, 2011, 2012, 2013, 2014, 2015, 2016, 2017, 2018, 2019], dtype='int16')\n"
     ]
    }
   ],
   "source": [
    "# drop unused categories in the categorical \"year\" column\n",
    "# Check categories before and after\n",
    "print(\"Before:\", gdp_pcap_df[\"year\"].cat.categories, \"\\n\")\n",
    "gdp_pcap_df[\"year\"] = (\n",
    "    gdp_pcap_df[\"year\"].astype(\"category\").cat.remove_unused_categories()\n",
    ")\n",
    "print(\"After:\", gdp_pcap_df[\"year\"].cat.categories)"
   ]
  },
  {
   "cell_type": "code",
   "execution_count": 15,
   "metadata": {},
   "outputs": [
    {
     "name": "stdout",
     "output_type": "stream",
     "text": [
      "['gdp_pcap_df', <class 'pandas.core.frame.DataFrame'>]\n",
      "============================================================\n",
      "shape:\n",
      "(1483, 4)\n",
      "============================================================\n",
      "data types:\n",
      "country_code          category\n",
      "year                  category\n",
      "gdp_per_capita         float64\n",
      "log_gdp_per_capita     float64\n",
      "dtype: object\n",
      "============================================================\n",
      "columns:\n",
      "['country_code', 'year', 'gdp_per_capita', 'log_gdp_per_capita']\n",
      "============================================================\n",
      "       gdp_per_capita  log_gdp_per_capita\n",
      "count        1,483.00            1,483.00\n",
      "mean        13,660.96                8.56\n",
      "std         19,089.61                1.47\n",
      "min            210.24                5.35\n",
      "25%          1,492.60                7.31\n",
      "50%          5,259.31                8.57\n",
      "75%         15,689.09                9.66\n",
      "max        108,470.38               11.59\n",
      "============================================================\n",
      "Total memory usage: 53229 bytes\n",
      "============================================================\n"
     ]
    }
   ],
   "source": [
    "df_stats(gdp_pcap_df, \"gdp_pcap_df\")"
   ]
  },
  {
   "cell_type": "code",
   "execution_count": 16,
   "metadata": {},
   "outputs": [
    {
     "data": {
      "text/html": [
       "<div>\n",
       "<style scoped>\n",
       "    .dataframe tbody tr th:only-of-type {\n",
       "        vertical-align: middle;\n",
       "    }\n",
       "\n",
       "    .dataframe tbody tr th {\n",
       "        vertical-align: top;\n",
       "    }\n",
       "\n",
       "    .dataframe thead th {\n",
       "        text-align: right;\n",
       "    }\n",
       "</style>\n",
       "<table border=\"1\" class=\"dataframe\">\n",
       "  <thead>\n",
       "    <tr style=\"text-align: right;\">\n",
       "      <th></th>\n",
       "      <th>country_code</th>\n",
       "      <th>year</th>\n",
       "      <th>gdp_per_capita</th>\n",
       "      <th>log_gdp_per_capita</th>\n",
       "    </tr>\n",
       "  </thead>\n",
       "  <tbody>\n",
       "  </tbody>\n",
       "</table>\n",
       "</div>"
      ],
      "text/plain": [
       "Empty DataFrame\n",
       "Columns: [country_code, year, gdp_per_capita, log_gdp_per_capita]\n",
       "Index: []"
      ]
     },
     "execution_count": 16,
     "metadata": {},
     "output_type": "execute_result"
    }
   ],
   "source": [
    "# Searching for the missing values in the merged dataframe in the 'gdp_per_capita' column\n",
    "missing_gdp_pcap_df = gdp_pcap_df[gdp_pcap_df[\"gdp_per_capita\"].isnull()]\n",
    "missing_gdp_pcap_df"
   ]
  },
  {
   "cell_type": "markdown",
   "metadata": {},
   "source": [
    "No missing values may be confusing, first because the data is in long format, and second because we know that data is missing at least for \"VEN\" which is Venezuela"
   ]
  },
  {
   "cell_type": "code",
   "execution_count": 17,
   "metadata": {},
   "outputs": [
    {
     "data": {
      "text/html": [
       "<div>\n",
       "<style scoped>\n",
       "    .dataframe tbody tr th:only-of-type {\n",
       "        vertical-align: middle;\n",
       "    }\n",
       "\n",
       "    .dataframe tbody tr th {\n",
       "        vertical-align: top;\n",
       "    }\n",
       "\n",
       "    .dataframe thead th {\n",
       "        text-align: right;\n",
       "    }\n",
       "</style>\n",
       "<table border=\"1\" class=\"dataframe\">\n",
       "  <thead>\n",
       "    <tr style=\"text-align: right;\">\n",
       "      <th></th>\n",
       "      <th>country_code</th>\n",
       "      <th>year</th>\n",
       "      <th>gdp_per_capita</th>\n",
       "      <th>log_gdp_per_capita</th>\n",
       "    </tr>\n",
       "  </thead>\n",
       "  <tbody>\n",
       "    <tr>\n",
       "      <th>6412</th>\n",
       "      <td>VEN</td>\n",
       "      <td>2010</td>\n",
       "      <td>13,646.30</td>\n",
       "      <td>9.52</td>\n",
       "    </tr>\n",
       "    <tr>\n",
       "      <th>6562</th>\n",
       "      <td>VEN</td>\n",
       "      <td>2011</td>\n",
       "      <td>10,843.92</td>\n",
       "      <td>9.29</td>\n",
       "    </tr>\n",
       "    <tr>\n",
       "      <th>6711</th>\n",
       "      <td>VEN</td>\n",
       "      <td>2012</td>\n",
       "      <td>12,901.42</td>\n",
       "      <td>9.47</td>\n",
       "    </tr>\n",
       "    <tr>\n",
       "      <th>6860</th>\n",
       "      <td>VEN</td>\n",
       "      <td>2013</td>\n",
       "      <td>12,403.15</td>\n",
       "      <td>9.43</td>\n",
       "    </tr>\n",
       "    <tr>\n",
       "      <th>7009</th>\n",
       "      <td>VEN</td>\n",
       "      <td>2014</td>\n",
       "      <td>15,943.61</td>\n",
       "      <td>9.68</td>\n",
       "    </tr>\n",
       "  </tbody>\n",
       "</table>\n",
       "</div>"
      ],
      "text/plain": [
       "     country_code  year  gdp_per_capita  log_gdp_per_capita\n",
       "6412          VEN  2010       13,646.30                9.52\n",
       "6562          VEN  2011       10,843.92                9.29\n",
       "6711          VEN  2012       12,901.42                9.47\n",
       "6860          VEN  2013       12,403.15                9.43\n",
       "7009          VEN  2014       15,943.61                9.68"
      ]
     },
     "execution_count": 17,
     "metadata": {},
     "output_type": "execute_result"
    }
   ],
   "source": [
    "missing_gdp_pcap_df = gdp_pcap_df[gdp_pcap_df[\"country_code\"] == \"VEN\"]\n",
    "missing_gdp_pcap_df"
   ]
  },
  {
   "cell_type": "code",
   "execution_count": 18,
   "metadata": {},
   "outputs": [],
   "source": [
    "# Count the number of unique years each country appears in\n",
    "country_year_counts = gdp_pcap_df.groupby(\"country_code\", observed=False)[\n",
    "    \"year\"\n",
    "].nunique()"
   ]
  },
  {
   "cell_type": "code",
   "execution_count": 19,
   "metadata": {},
   "outputs": [],
   "source": [
    "# Identify countries that do not appear in all years\n",
    "missing_years_country_codes = country_year_counts[\n",
    "    country_year_counts < len(export_years)\n",
    "].index"
   ]
  },
  {
   "cell_type": "code",
   "execution_count": 20,
   "metadata": {},
   "outputs": [
    {
     "data": {
      "text/plain": [
       "{'ERI', 'SSD', 'VEN'}"
      ]
     },
     "execution_count": 20,
     "metadata": {},
     "output_type": "execute_result"
    }
   ],
   "source": [
    "missing_years_country_codes = set(\n",
    "    gdp_pcap_df[gdp_pcap_df[\"country_code\"].isin(missing_years_country_codes)][\n",
    "        \"country_code\"\n",
    "    ].unique()\n",
    ")\n",
    "missing_years_country_codes"
   ]
  },
  {
   "cell_type": "code",
   "execution_count": 21,
   "metadata": {},
   "outputs": [],
   "source": [
    "# Remove these countries from the dataset. Reset index to optimize memory layout. Works very quickly for categories instead of objects\n",
    "gdp_pcap_df = gdp_pcap_df[\n",
    "    ~gdp_pcap_df[\"country_code\"].isin(missing_years_country_codes)\n",
    "].reset_index(drop=True)"
   ]
  },
  {
   "cell_type": "code",
   "execution_count": 22,
   "metadata": {},
   "outputs": [
    {
     "data": {
      "text/html": [
       "<div>\n",
       "<style scoped>\n",
       "    .dataframe tbody tr th:only-of-type {\n",
       "        vertical-align: middle;\n",
       "    }\n",
       "\n",
       "    .dataframe tbody tr th {\n",
       "        vertical-align: top;\n",
       "    }\n",
       "\n",
       "    .dataframe thead th {\n",
       "        text-align: right;\n",
       "    }\n",
       "</style>\n",
       "<table border=\"1\" class=\"dataframe\">\n",
       "  <thead>\n",
       "    <tr style=\"text-align: right;\">\n",
       "      <th></th>\n",
       "      <th>country_code</th>\n",
       "      <th>year</th>\n",
       "      <th>gdp_per_capita</th>\n",
       "      <th>log_gdp_per_capita</th>\n",
       "    </tr>\n",
       "  </thead>\n",
       "  <tbody>\n",
       "  </tbody>\n",
       "</table>\n",
       "</div>"
      ],
      "text/plain": [
       "Empty DataFrame\n",
       "Columns: [country_code, year, gdp_per_capita, log_gdp_per_capita]\n",
       "Index: []"
      ]
     },
     "execution_count": 22,
     "metadata": {},
     "output_type": "execute_result"
    }
   ],
   "source": [
    "gdp_pcap_df[gdp_pcap_df[\"country_code\"].isin(missing_years_country_codes)]"
   ]
  },
  {
   "cell_type": "code",
   "execution_count": 23,
   "metadata": {},
   "outputs": [
    {
     "name": "stdout",
     "output_type": "stream",
     "text": [
      "Before: Index(['AFG', 'AGO', 'ALB', 'ARE', 'ARG', 'ARM', 'AUS', 'AUT', 'AZE', 'BDI',\n",
      "       ...\n",
      "       'UKR', 'URY', 'USA', 'UZB', 'VEN', 'VNM', 'YEM', 'ZAF', 'ZMB', 'ZWE'],\n",
      "      dtype='object', length=150) \n",
      "\n",
      "After: Index(['AFG', 'AGO', 'ALB', 'ARE', 'ARG', 'ARM', 'AUS', 'AUT', 'AZE', 'BDI',\n",
      "       ...\n",
      "       'UGA', 'UKR', 'URY', 'USA', 'UZB', 'VNM', 'YEM', 'ZAF', 'ZMB', 'ZWE'],\n",
      "      dtype='object', length=147)\n"
     ]
    }
   ],
   "source": [
    "# Drop unused categories in the categorical \"country_code\" column\n",
    "# Check categories before and after\n",
    "print(\"Before:\", gdp_pcap_df[\"country_code\"].cat.categories, \"\\n\")\n",
    "gdp_pcap_df[\"country_code\"] = (\n",
    "    gdp_pcap_df[\"country_code\"].astype(\"category\").cat.remove_unused_categories()\n",
    ")\n",
    "print(\"After:\", gdp_pcap_df[\"country_code\"].cat.categories)"
   ]
  },
  {
   "cell_type": "code",
   "execution_count": 24,
   "metadata": {},
   "outputs": [
    {
     "data": {
      "text/html": [
       "<div>\n",
       "<style scoped>\n",
       "    .dataframe tbody tr th:only-of-type {\n",
       "        vertical-align: middle;\n",
       "    }\n",
       "\n",
       "    .dataframe tbody tr th {\n",
       "        vertical-align: top;\n",
       "    }\n",
       "\n",
       "    .dataframe thead th {\n",
       "        text-align: right;\n",
       "    }\n",
       "</style>\n",
       "<table border=\"1\" class=\"dataframe\">\n",
       "  <thead>\n",
       "    <tr style=\"text-align: right;\">\n",
       "      <th></th>\n",
       "      <th>country_code</th>\n",
       "      <th>year</th>\n",
       "      <th>gdp_per_capita</th>\n",
       "      <th>log_gdp_per_capita</th>\n",
       "    </tr>\n",
       "  </thead>\n",
       "  <tbody>\n",
       "    <tr>\n",
       "      <th>60</th>\n",
       "      <td>IRN</td>\n",
       "      <td>2010</td>\n",
       "      <td>6,291.19</td>\n",
       "      <td>8.75</td>\n",
       "    </tr>\n",
       "    <tr>\n",
       "      <th>827</th>\n",
       "      <td>MWI</td>\n",
       "      <td>2015</td>\n",
       "      <td>539.61</td>\n",
       "      <td>6.29</td>\n",
       "    </tr>\n",
       "    <tr>\n",
       "      <th>1411</th>\n",
       "      <td>MNG</td>\n",
       "      <td>2019</td>\n",
       "      <td>4,347.55</td>\n",
       "      <td>8.38</td>\n",
       "    </tr>\n",
       "    <tr>\n",
       "      <th>1362</th>\n",
       "      <td>ESP</td>\n",
       "      <td>2019</td>\n",
       "      <td>29,776.20</td>\n",
       "      <td>10.30</td>\n",
       "    </tr>\n",
       "    <tr>\n",
       "      <th>1319</th>\n",
       "      <td>YEM</td>\n",
       "      <td>2018</td>\n",
       "      <td>633.89</td>\n",
       "      <td>6.45</td>\n",
       "    </tr>\n",
       "  </tbody>\n",
       "</table>\n",
       "</div>"
      ],
      "text/plain": [
       "     country_code  year  gdp_per_capita  log_gdp_per_capita\n",
       "60            IRN  2010        6,291.19                8.75\n",
       "827           MWI  2015          539.61                6.29\n",
       "1411          MNG  2019        4,347.55                8.38\n",
       "1362          ESP  2019       29,776.20               10.30\n",
       "1319          YEM  2018          633.89                6.45"
      ]
     },
     "execution_count": 24,
     "metadata": {},
     "output_type": "execute_result"
    }
   ],
   "source": [
    "gdp_pcap_df.sample(5)"
   ]
  },
  {
   "cell_type": "markdown",
   "metadata": {},
   "source": [
    "### Subsetting to the years for which the average exports were calculated using 'rolling window'"
   ]
  },
  {
   "cell_type": "code",
   "execution_count": 25,
   "metadata": {},
   "outputs": [
    {
     "data": {
      "text/plain": [
       "{2012, 2013, 2014, 2015, 2016, 2017, 2018, 2019}"
      ]
     },
     "execution_count": 25,
     "metadata": {},
     "output_type": "execute_result"
    }
   ],
   "source": [
    "rolling_export_years = dumped_data[\"rolling_exports_years\"]\n",
    "# rolling_export_years = [*map(str, rolling_export_years)]\n",
    "rolling_export_years"
   ]
  },
  {
   "cell_type": "code",
   "execution_count": 26,
   "metadata": {},
   "outputs": [],
   "source": [
    "gdp_pcap_df = gdp_pcap_df[gdp_pcap_df[\"year\"].isin(rolling_export_years)]"
   ]
  },
  {
   "cell_type": "code",
   "execution_count": 27,
   "metadata": {},
   "outputs": [
    {
     "name": "stdout",
     "output_type": "stream",
     "text": [
      "['df', <class 'pandas.core.frame.DataFrame'>]\n",
      "============================================================\n",
      "shape:\n",
      "(1176, 4)\n",
      "============================================================\n",
      "data types:\n",
      "country_code          category\n",
      "year                  category\n",
      "gdp_per_capita         float64\n",
      "log_gdp_per_capita     float64\n",
      "dtype: object\n",
      "============================================================\n",
      "columns:\n",
      "['country_code', 'year', 'gdp_per_capita', 'log_gdp_per_capita']\n",
      "============================================================\n",
      "       gdp_per_capita  log_gdp_per_capita\n",
      "count        1,176.00            1,176.00\n",
      "mean        13,809.46                8.59\n",
      "std         19,133.48                1.46\n",
      "min            210.24                5.35\n",
      "25%          1,554.74                7.35\n",
      "50%          5,419.38                8.60\n",
      "75%         16,449.95                9.71\n",
      "max        108,470.38               11.59\n",
      "============================================================\n",
      "Total memory usage: 40796 bytes\n",
      "============================================================\n"
     ]
    }
   ],
   "source": [
    "df_stats(gdp_pcap_df)"
   ]
  },
  {
   "cell_type": "markdown",
   "metadata": {},
   "source": [
    "### Looking for missing GDP values"
   ]
  },
  {
   "cell_type": "code",
   "execution_count": 28,
   "metadata": {},
   "outputs": [],
   "source": [
    "# Searching for the missing values in the merged dataframe in the 'gdp_per_capita' column\n",
    "missing_gdp_pcap_df = gdp_pcap_df[gdp_pcap_df[\"gdp_per_capita\"].isnull()]"
   ]
  },
  {
   "cell_type": "code",
   "execution_count": 29,
   "metadata": {},
   "outputs": [
    {
     "data": {
      "text/html": [
       "<div>\n",
       "<style scoped>\n",
       "    .dataframe tbody tr th:only-of-type {\n",
       "        vertical-align: middle;\n",
       "    }\n",
       "\n",
       "    .dataframe tbody tr th {\n",
       "        vertical-align: top;\n",
       "    }\n",
       "\n",
       "    .dataframe thead th {\n",
       "        text-align: right;\n",
       "    }\n",
       "</style>\n",
       "<table border=\"1\" class=\"dataframe\">\n",
       "  <thead>\n",
       "    <tr style=\"text-align: right;\">\n",
       "      <th></th>\n",
       "      <th>country_code</th>\n",
       "      <th>year</th>\n",
       "      <th>gdp_per_capita</th>\n",
       "      <th>log_gdp_per_capita</th>\n",
       "    </tr>\n",
       "  </thead>\n",
       "  <tbody>\n",
       "  </tbody>\n",
       "</table>\n",
       "</div>"
      ],
      "text/plain": [
       "Empty DataFrame\n",
       "Columns: [country_code, year, gdp_per_capita, log_gdp_per_capita]\n",
       "Index: []"
      ]
     },
     "execution_count": 29,
     "metadata": {},
     "output_type": "execute_result"
    }
   ],
   "source": [
    "missing_gdp_pcap_df"
   ]
  },
  {
   "cell_type": "code",
   "execution_count": 30,
   "metadata": {},
   "outputs": [
    {
     "data": {
      "text/plain": [
       "set()"
      ]
     },
     "execution_count": 30,
     "metadata": {},
     "output_type": "execute_result"
    }
   ],
   "source": [
    "set(missing_gdp_pcap_df[\"country_code\"].unique())"
   ]
  },
  {
   "cell_type": "code",
   "execution_count": 31,
   "metadata": {},
   "outputs": [],
   "source": [
    "# Dropping the missing values in the 'gdp_per_capita' column\n",
    "gdp_pcap_df = gdp_pcap_df.dropna(subset=[\"gdp_per_capita\"]).reset_index(drop=True)"
   ]
  },
  {
   "cell_type": "code",
   "execution_count": 32,
   "metadata": {},
   "outputs": [],
   "source": [
    "# # Better to switch to categorical data type for categorical columns before staging\n",
    "# categorical_columns = [\"year\"]\n",
    "# gdp_pcap_df = switch_to_dtype(\n",
    "#     gdp_pcap_df, default_dtype=\"category\", categorical_columns=categorical_columns\n",
    "# )"
   ]
  },
  {
   "cell_type": "code",
   "execution_count": 33,
   "metadata": {},
   "outputs": [
    {
     "name": "stdout",
     "output_type": "stream",
     "text": [
      "['df', <class 'pandas.core.frame.DataFrame'>]\n",
      "============================================================\n",
      "shape:\n",
      "(1176, 4)\n",
      "============================================================\n",
      "data types:\n",
      "country_code          category\n",
      "year                  category\n",
      "gdp_per_capita         float64\n",
      "log_gdp_per_capita     float64\n",
      "dtype: object\n",
      "============================================================\n",
      "columns:\n",
      "['country_code', 'year', 'gdp_per_capita', 'log_gdp_per_capita']\n",
      "============================================================\n",
      "       gdp_per_capita  log_gdp_per_capita\n",
      "count        1,176.00            1,176.00\n",
      "mean        13,809.46                8.59\n",
      "std         19,133.48                1.46\n",
      "min            210.24                5.35\n",
      "25%          1,554.74                7.35\n",
      "50%          5,419.38                8.60\n",
      "75%         16,449.95                9.71\n",
      "max        108,470.38               11.59\n",
      "============================================================\n",
      "Total memory usage: 31520 bytes\n",
      "============================================================\n"
     ]
    }
   ],
   "source": [
    "df_stats(gdp_pcap_df)"
   ]
  },
  {
   "cell_type": "code",
   "execution_count": 34,
   "metadata": {},
   "outputs": [],
   "source": [
    "# Calculating log of 'gdp_per_capita' column\n",
    "gdp_pcap_df[\"log_gdp_per_capita\"] = np.log(gdp_pcap_df[\"gdp_per_capita\"])"
   ]
  },
  {
   "cell_type": "code",
   "execution_count": 35,
   "metadata": {},
   "outputs": [
    {
     "data": {
      "text/html": [
       "<div>\n",
       "<style scoped>\n",
       "    .dataframe tbody tr th:only-of-type {\n",
       "        vertical-align: middle;\n",
       "    }\n",
       "\n",
       "    .dataframe tbody tr th {\n",
       "        vertical-align: top;\n",
       "    }\n",
       "\n",
       "    .dataframe thead th {\n",
       "        text-align: right;\n",
       "    }\n",
       "</style>\n",
       "<table border=\"1\" class=\"dataframe\">\n",
       "  <thead>\n",
       "    <tr style=\"text-align: right;\">\n",
       "      <th></th>\n",
       "      <th>country_code</th>\n",
       "      <th>year</th>\n",
       "      <th>gdp_per_capita</th>\n",
       "      <th>log_gdp_per_capita</th>\n",
       "    </tr>\n",
       "  </thead>\n",
       "  <tbody>\n",
       "    <tr>\n",
       "      <th>472</th>\n",
       "      <td>CUB</td>\n",
       "      <td>2015</td>\n",
       "      <td>7,727.92</td>\n",
       "      <td>8.95</td>\n",
       "    </tr>\n",
       "    <tr>\n",
       "      <th>813</th>\n",
       "      <td>LSO</td>\n",
       "      <td>2017</td>\n",
       "      <td>1,069.37</td>\n",
       "      <td>6.97</td>\n",
       "    </tr>\n",
       "    <tr>\n",
       "      <th>17</th>\n",
       "      <td>BOL</td>\n",
       "      <td>2012</td>\n",
       "      <td>2,575.60</td>\n",
       "      <td>7.85</td>\n",
       "    </tr>\n",
       "    <tr>\n",
       "      <th>1111</th>\n",
       "      <td>MDA</td>\n",
       "      <td>2019</td>\n",
       "      <td>4,405.33</td>\n",
       "      <td>8.39</td>\n",
       "    </tr>\n",
       "    <tr>\n",
       "      <th>64</th>\n",
       "      <td>JAM</td>\n",
       "      <td>2012</td>\n",
       "      <td>5,340.83</td>\n",
       "      <td>8.58</td>\n",
       "    </tr>\n",
       "  </tbody>\n",
       "</table>\n",
       "</div>"
      ],
      "text/plain": [
       "     country_code  year  gdp_per_capita  log_gdp_per_capita\n",
       "472           CUB  2015        7,727.92                8.95\n",
       "813           LSO  2017        1,069.37                6.97\n",
       "17            BOL  2012        2,575.60                7.85\n",
       "1111          MDA  2019        4,405.33                8.39\n",
       "64            JAM  2012        5,340.83                8.58"
      ]
     },
     "execution_count": 35,
     "metadata": {},
     "output_type": "execute_result"
    }
   ],
   "source": [
    "gdp_pcap_df.sample(5)"
   ]
  },
  {
   "cell_type": "markdown",
   "metadata": {},
   "source": [
    "### Staging GDP data"
   ]
  },
  {
   "cell_type": "code",
   "execution_count": 36,
   "metadata": {},
   "outputs": [
    {
     "name": "stdout",
     "output_type": "stream",
     "text": [
      "year column initial type:\n",
      "category\n",
      "============================================================\n",
      "year column final type:\n",
      "int16\n",
      "============================================================\n",
      "country_code column initial type:\n",
      "category\n",
      "============================================================\n",
      "country_code column final type:\n",
      "category\n",
      "============================================================\n"
     ]
    }
   ],
   "source": [
    "# Save the clean gdp DataFrame to a .parquet file\n",
    "output_file_name = \"GDP.parquet\"\n",
    "dtype_dict = {\"country_code\": \"category\"}\n",
    "save_hs92_parquet_data(\n",
    "    data=gdp_pcap_df,\n",
    "    file_location=output_file_location,\n",
    "    file_name=output_file_name,\n",
    "    dtype_dict=dtype_dict,\n",
    ")"
   ]
  },
  {
   "cell_type": "code",
   "execution_count": 37,
   "metadata": {},
   "outputs": [
    {
     "name": "stdout",
     "output_type": "stream",
     "text": [
      "data staged:['valid_gdp_country_codes', 'valid_gdp_country_ids', 'valid_gdp_locations', 'export_years', 'unreliable_locations', 'rolling_exports_years', 'reliable_gdp_codes']\n",
      "============================================================\n"
     ]
    }
   ],
   "source": [
    "dumped_data[\"reliable_gdp_codes\"] = set(gdp_pcap_df[\"country_code\"].unique())\n",
    "\n",
    "staging_cache(output_file_location=input_file_location, **dumped_data)"
   ]
  }
 ],
 "metadata": {
  "kernelspec": {
   "display_name": "bdmm2324",
   "language": "python",
   "name": "python3"
  },
  "language_info": {
   "codemirror_mode": {
    "name": "ipython",
    "version": 3
   },
   "file_extension": ".py",
   "mimetype": "text/x-python",
   "name": "python",
   "nbconvert_exporter": "python",
   "pygments_lexer": "ipython3",
   "version": "3.11.7"
  }
 },
 "nbformat": 4,
 "nbformat_minor": 2
}
