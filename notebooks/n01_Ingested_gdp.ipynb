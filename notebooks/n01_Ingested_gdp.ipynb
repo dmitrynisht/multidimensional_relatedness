{
 "cells": [
  {
   "cell_type": "code",
   "execution_count": 1,
   "metadata": {},
   "outputs": [
    {
     "data": {
      "text/plain": [
       "1"
      ]
     },
     "execution_count": 1,
     "metadata": {},
     "output_type": "execute_result"
    }
   ],
   "source": [
    "(\n",
    "    1 + 0\n",
    ")  # Utility cell. Sometimes \"Jupyter\" skipps the first cell when running all cells. Especially after a restart."
   ]
  },
  {
   "cell_type": "code",
   "execution_count": 2,
   "metadata": {},
   "outputs": [
    {
     "data": {
      "text/plain": [
       "2"
      ]
     },
     "execution_count": 2,
     "metadata": {},
     "output_type": "execute_result"
    }
   ],
   "source": [
    "(\n",
    "    1 + 1\n",
    ")  # Utility cell. Sometimes \"Jupyter\" skipps the first cell when running all cells. Especially after a restart."
   ]
  },
  {
   "cell_type": "code",
   "execution_count": 3,
   "metadata": {},
   "outputs": [
    {
     "name": "stdout",
     "output_type": "stream",
     "text": [
      "N3 utility cell running...\n"
     ]
    }
   ],
   "source": [
    "print(f\"N{1+2} utility cell running...\")"
   ]
  },
  {
   "cell_type": "code",
   "execution_count": 4,
   "metadata": {},
   "outputs": [
    {
     "name": "stdout",
     "output_type": "stream",
     "text": [
      "PYTHONPATH: C:\\Users\\Admin\\Documents\\Univer\\MASTER THESIS IDEAS\\Flavio Pinehro\\11_MasterProject\\src\n"
     ]
    }
   ],
   "source": [
    "# Resolve the path to the 'src' folder with helper functions\n",
    "import config_notebooks"
   ]
  },
  {
   "cell_type": "code",
   "execution_count": 5,
   "metadata": {},
   "outputs": [
    {
     "name": "stdout",
     "output_type": "stream",
     "text": [
      "os.getcwd():\n",
      "c:\\Users\\Admin\\Documents\\Univer\\MASTER THESIS IDEAS\\Flavio Pinehro\\11_MasterProject\\notebooks\n",
      "============================================================\n",
      "input_file_location:\n",
      "..\\data\\01_raw\n",
      "============================================================\n",
      "output_file_location:\n",
      "..\\data\\02_ingested\n",
      "============================================================\n"
     ]
    }
   ],
   "source": [
    "from n01_import import *"
   ]
  },
  {
   "cell_type": "code",
   "execution_count": 6,
   "metadata": {},
   "outputs": [],
   "source": [
    "# # Resolve the path to the 'src' folder with helper functions\n",
    "# import config_notebooks\n",
    "# from importlib import reload\n",
    "\n",
    "# # Import the module and reload it\n",
    "# import n01_import_reload\n",
    "\n",
    "# reload(n01_import_reload)\n",
    "\n",
    "# # Reload updated functions\n",
    "# from n01_import_reload import *"
   ]
  },
  {
   "cell_type": "markdown",
   "metadata": {},
   "source": [
    "## Basic data imports and common transformations"
   ]
  },
  {
   "cell_type": "markdown",
   "metadata": {},
   "source": [
    "### Importing info about locations (countries)"
   ]
  },
  {
   "cell_type": "code",
   "execution_count": 7,
   "metadata": {},
   "outputs": [],
   "source": [
    "input_file_name = \"location_country.csv\"\n",
    "# reading the csv file, renaming 'iso3_code' to 'country_code'\n",
    "location_df = pd.read_csv(\n",
    "    os.path.join(input_file_location, input_file_name),\n",
    "    usecols=[\"country_id\", \"name_short_en\", \"iso3_code\"],\n",
    ")\n",
    "location_df.rename(\n",
    "    columns={\"name_short_en\": \"country_name\", \"iso3_code\": \"country_code\"}, inplace=True\n",
    ")"
   ]
  },
  {
   "cell_type": "code",
   "execution_count": 8,
   "metadata": {},
   "outputs": [
    {
     "data": {
      "text/html": [
       "<div>\n",
       "<style scoped>\n",
       "    .dataframe tbody tr th:only-of-type {\n",
       "        vertical-align: middle;\n",
       "    }\n",
       "\n",
       "    .dataframe tbody tr th {\n",
       "        vertical-align: top;\n",
       "    }\n",
       "\n",
       "    .dataframe thead th {\n",
       "        text-align: right;\n",
       "    }\n",
       "</style>\n",
       "<table border=\"1\" class=\"dataframe\">\n",
       "  <thead>\n",
       "    <tr style=\"text-align: right;\">\n",
       "      <th></th>\n",
       "      <th>country_id</th>\n",
       "      <th>country_name</th>\n",
       "      <th>country_code</th>\n",
       "    </tr>\n",
       "  </thead>\n",
       "  <tbody>\n",
       "    <tr>\n",
       "      <th>0</th>\n",
       "      <td>533</td>\n",
       "      <td>Aruba</td>\n",
       "      <td>ABW</td>\n",
       "    </tr>\n",
       "    <tr>\n",
       "      <th>1</th>\n",
       "      <td>4</td>\n",
       "      <td>Afghanistan</td>\n",
       "      <td>AFG</td>\n",
       "    </tr>\n",
       "    <tr>\n",
       "      <th>2</th>\n",
       "      <td>24</td>\n",
       "      <td>Angola</td>\n",
       "      <td>AGO</td>\n",
       "    </tr>\n",
       "    <tr>\n",
       "      <th>3</th>\n",
       "      <td>660</td>\n",
       "      <td>Anguilla</td>\n",
       "      <td>AIA</td>\n",
       "    </tr>\n",
       "    <tr>\n",
       "      <th>4</th>\n",
       "      <td>8</td>\n",
       "      <td>Albania</td>\n",
       "      <td>ALB</td>\n",
       "    </tr>\n",
       "  </tbody>\n",
       "</table>\n",
       "</div>"
      ],
      "text/plain": [
       "   country_id country_name country_code\n",
       "0         533        Aruba          ABW\n",
       "1           4  Afghanistan          AFG\n",
       "2          24       Angola          AGO\n",
       "3         660     Anguilla          AIA\n",
       "4           8      Albania          ALB"
      ]
     },
     "execution_count": 8,
     "metadata": {},
     "output_type": "execute_result"
    }
   ],
   "source": [
    "location_df.head()"
   ]
  },
  {
   "cell_type": "code",
   "execution_count": 9,
   "metadata": {},
   "outputs": [
    {
     "name": "stdout",
     "output_type": "stream",
     "text": [
      "['location_df', <class 'pandas.core.frame.DataFrame'>]\n",
      "============================================================\n",
      "shape:\n",
      "(252, 3)\n",
      "============================================================\n",
      "data types:\n",
      "country_id       int64\n",
      "country_name    object\n",
      "country_code    object\n",
      "dtype: object\n",
      "============================================================\n",
      "columns:\n",
      "['country_id', 'country_name', 'country_code']\n",
      "============================================================\n",
      "       country_id\n",
      "count      252.00\n",
      "mean       438.84\n",
      "std        257.78\n",
      "min          4.00\n",
      "25%        217.00\n",
      "50%        437.00\n",
      "75%        655.25\n",
      "max        999.00\n",
      "============================================================\n",
      "Total memory usage: 34296 bytes\n",
      "============================================================\n"
     ]
    }
   ],
   "source": [
    "df_stats(location_df, \"location_df\")"
   ]
  },
  {
   "cell_type": "markdown",
   "metadata": {},
   "source": [
    "### Staging locations data"
   ]
  },
  {
   "cell_type": "code",
   "execution_count": 10,
   "metadata": {},
   "outputs": [
    {
     "name": "stdout",
     "output_type": "stream",
     "text": [
      "country_id column initial type:\n",
      "int64\n",
      "============================================================\n",
      "country_id column final type:\n",
      "int16\n",
      "============================================================\n",
      "country_code column initial type:\n",
      "object\n",
      "============================================================\n",
      "country_code column final type:\n",
      "object\n",
      "============================================================\n"
     ]
    }
   ],
   "source": [
    "# Save the locations DataFrame to a .dta file\n",
    "output_file_name = \"locations.parquet\"\n",
    "dtype_dict = {\"country_code\": \"str\", \"country_name\": \"str\"}\n",
    "# dtype_dict={'country_id': 'category', 'country_code': 'str', 'country_name': 'str'}\n",
    "save_hs92_parquet_data(\n",
    "    data=location_df,\n",
    "    file_location=output_file_location,\n",
    "    file_name=output_file_name,\n",
    "    dtype_dict=dtype_dict,\n",
    ")"
   ]
  },
  {
   "cell_type": "markdown",
   "metadata": {},
   "source": [
    "### Importing info about products"
   ]
  },
  {
   "cell_type": "code",
   "execution_count": 11,
   "metadata": {},
   "outputs": [],
   "source": [
    "input_file_name = \"product_hs92.csv\"\n",
    "# , usecols=['product_id', 'code', 'name_short_en', 'product_level', 'top_parent_id', 'product_id_hierarchy'])\n",
    "# reading the csv file, renaming 'name_short_en' to 'product_name'\n",
    "product_df = pd.read_csv(os.path.join(input_file_location, input_file_name))\n",
    "product_df.rename(\n",
    "    columns={\"name_short_en\": \"product_name\", \"code\": \"product_code\"}, inplace=True\n",
    ")"
   ]
  },
  {
   "cell_type": "code",
   "execution_count": 12,
   "metadata": {},
   "outputs": [
    {
     "name": "stdout",
     "output_type": "stream",
     "text": [
      "['df', <class 'pandas.core.frame.DataFrame'>]\n",
      "============================================================\n",
      "shape:\n",
      "(6390, 6)\n",
      "============================================================\n",
      "data types:\n",
      "product_id               int64\n",
      "product_code            object\n",
      "product_name            object\n",
      "product_level            int64\n",
      "top_parent_id            int64\n",
      "product_id_hierarchy    object\n",
      "dtype: object\n",
      "============================================================\n",
      "columns:\n",
      "['product_id', 'product_code', 'product_name', 'product_level', 'top_parent_id', 'product_id_hierarchy']\n",
      "============================================================\n",
      "       product_id  product_level  top_parent_id\n",
      "count    6,390.00       6,390.00       6,390.00\n",
      "mean     6,180.37           5.54           4.49\n",
      "std      2,900.14       0.922409           2.67\n",
      "min      1.000000       1.000000       1.000000\n",
      "25%      5,247.25           6.00           2.00\n",
      "50%      6,844.50           6.00           5.00\n",
      "75%      8,441.75           6.00           6.00\n",
      "max     10,039.00           6.00          10.00\n",
      "============================================================\n",
      "Total memory usage: 1536439 bytes\n",
      "============================================================\n"
     ]
    }
   ],
   "source": [
    "df_stats(product_df)"
   ]
  },
  {
   "cell_type": "code",
   "execution_count": 13,
   "metadata": {},
   "outputs": [
    {
     "data": {
      "text/plain": [
       "Index(['product_id', 'product_code', 'product_name', 'product_level',\n",
       "       'top_parent_id', 'product_id_hierarchy'],\n",
       "      dtype='object')"
      ]
     },
     "execution_count": 13,
     "metadata": {},
     "output_type": "execute_result"
    }
   ],
   "source": [
    "product_df.columns"
   ]
  },
  {
   "cell_type": "code",
   "execution_count": 14,
   "metadata": {},
   "outputs": [
    {
     "data": {
      "text/html": [
       "<div>\n",
       "<style scoped>\n",
       "    .dataframe tbody tr th:only-of-type {\n",
       "        vertical-align: middle;\n",
       "    }\n",
       "\n",
       "    .dataframe tbody tr th {\n",
       "        vertical-align: top;\n",
       "    }\n",
       "\n",
       "    .dataframe thead th {\n",
       "        text-align: right;\n",
       "    }\n",
       "</style>\n",
       "<table border=\"1\" class=\"dataframe\">\n",
       "  <thead>\n",
       "    <tr style=\"text-align: right;\">\n",
       "      <th></th>\n",
       "      <th>product_id</th>\n",
       "      <th>product_code</th>\n",
       "      <th>product_name</th>\n",
       "      <th>product_level</th>\n",
       "      <th>top_parent_id</th>\n",
       "      <th>product_id_hierarchy</th>\n",
       "    </tr>\n",
       "  </thead>\n",
       "  <tbody>\n",
       "    <tr>\n",
       "      <th>0</th>\n",
       "      <td>1</td>\n",
       "      <td>0</td>\n",
       "      <td>Textiles</td>\n",
       "      <td>1</td>\n",
       "      <td>1</td>\n",
       "      <td>1</td>\n",
       "    </tr>\n",
       "    <tr>\n",
       "      <th>1</th>\n",
       "      <td>2</td>\n",
       "      <td>1</td>\n",
       "      <td>Agriculture</td>\n",
       "      <td>1</td>\n",
       "      <td>2</td>\n",
       "      <td>2</td>\n",
       "    </tr>\n",
       "    <tr>\n",
       "      <th>2</th>\n",
       "      <td>3</td>\n",
       "      <td>2</td>\n",
       "      <td>Stone</td>\n",
       "      <td>1</td>\n",
       "      <td>3</td>\n",
       "      <td>3</td>\n",
       "    </tr>\n",
       "    <tr>\n",
       "      <th>3</th>\n",
       "      <td>4</td>\n",
       "      <td>3</td>\n",
       "      <td>Minerals</td>\n",
       "      <td>1</td>\n",
       "      <td>4</td>\n",
       "      <td>4</td>\n",
       "    </tr>\n",
       "    <tr>\n",
       "      <th>4</th>\n",
       "      <td>5</td>\n",
       "      <td>4</td>\n",
       "      <td>Metals</td>\n",
       "      <td>1</td>\n",
       "      <td>5</td>\n",
       "      <td>5</td>\n",
       "    </tr>\n",
       "  </tbody>\n",
       "</table>\n",
       "</div>"
      ],
      "text/plain": [
       "   product_id product_code product_name  product_level  top_parent_id  \\\n",
       "0           1            0     Textiles              1              1   \n",
       "1           2            1  Agriculture              1              2   \n",
       "2           3            2        Stone              1              3   \n",
       "3           4            3     Minerals              1              4   \n",
       "4           5            4       Metals              1              5   \n",
       "\n",
       "  product_id_hierarchy  \n",
       "0                    1  \n",
       "1                    2  \n",
       "2                    3  \n",
       "3                    4  \n",
       "4                    5  "
      ]
     },
     "execution_count": 14,
     "metadata": {},
     "output_type": "execute_result"
    }
   ],
   "source": [
    "product_df.head()"
   ]
  },
  {
   "cell_type": "markdown",
   "metadata": {},
   "source": [
    "### Staging products data"
   ]
  },
  {
   "cell_type": "code",
   "execution_count": 15,
   "metadata": {},
   "outputs": [],
   "source": [
    "dtype_dict = {\n",
    "    \"product_id\": \"int16\",\n",
    "    \"top_parent_id\": \"int16\",\n",
    "    \"product_level\": \"category\",\n",
    "}\n",
    "categorical_columns = [\"product_id\", \"top_parent_id\", \"product_level\"]"
   ]
  },
  {
   "cell_type": "code",
   "execution_count": 16,
   "metadata": {},
   "outputs": [
    {
     "name": "stdout",
     "output_type": "stream",
     "text": [
      "product_id column initial type:\n",
      "int64\n",
      "============================================================\n",
      "product_id column final type:\n",
      "int16\n",
      "============================================================\n",
      "top_parent_id column initial type:\n",
      "int64\n",
      "============================================================\n",
      "top_parent_id column final type:\n",
      "int16\n",
      "============================================================\n",
      "product_level column initial type:\n",
      "int64\n",
      "============================================================\n",
      "product_level column final type:\n",
      "category\n",
      "============================================================\n"
     ]
    }
   ],
   "source": [
    "# Save the raw exports Data to a .parquet file\n",
    "output_file_name = \"product_hierarchy.parquet\"\n",
    "save_hs92_parquet_data(\n",
    "    data=product_df,\n",
    "    file_location=output_file_location,\n",
    "    file_name=output_file_name,\n",
    "    categorical_columns=categorical_columns,\n",
    "    dtype_dict=dtype_dict,\n",
    ")"
   ]
  },
  {
   "cell_type": "code",
   "execution_count": 17,
   "metadata": {},
   "outputs": [
    {
     "name": "stdout",
     "output_type": "stream",
     "text": [
      "product_level column initial type:\n",
      "int64\n",
      "============================================================\n",
      "product_level column final type:\n",
      "category\n",
      "============================================================\n"
     ]
    }
   ],
   "source": [
    "categorical_columns = [\"product_level\"]\n",
    "\n",
    "input_file_name = \"product_hierarchy.parquet\"\n",
    "product_df = read_hs92_parquet_data(\n",
    "    output_file_location, input_file_name, categorical_columns=categorical_columns\n",
    ")"
   ]
  },
  {
   "cell_type": "code",
   "execution_count": 18,
   "metadata": {},
   "outputs": [
    {
     "name": "stdout",
     "output_type": "stream",
     "text": [
      "['df', <class 'pandas.core.frame.DataFrame'>]\n",
      "============================================================\n",
      "shape:\n",
      "(6390, 6)\n",
      "============================================================\n",
      "data types:\n",
      "product_id                 int16\n",
      "product_code              object\n",
      "product_name              object\n",
      "product_level           category\n",
      "top_parent_id              int16\n",
      "product_id_hierarchy      object\n",
      "dtype: object\n",
      "============================================================\n",
      "columns:\n",
      "['product_id', 'product_code', 'product_name', 'product_level', 'top_parent_id', 'product_id_hierarchy']\n",
      "============================================================\n",
      "       product_id  top_parent_id\n",
      "count    6,390.00       6,390.00\n",
      "mean     6,180.37           4.49\n",
      "std      2,900.14           2.67\n",
      "min      1.000000       1.000000\n",
      "25%      5,247.25           2.00\n",
      "50%      6,844.50           5.00\n",
      "75%      8,441.75           6.00\n",
      "max     10,039.00          10.00\n",
      "============================================================\n",
      "Total memory usage: 1415233 bytes\n",
      "============================================================\n"
     ]
    }
   ],
   "source": [
    "df_stats(product_df)"
   ]
  },
  {
   "cell_type": "code",
   "execution_count": 19,
   "metadata": {},
   "outputs": [],
   "source": [
    "dtype_dict = {\"product_id\": \"category\", \"product_name\": \"category\"}\n",
    "categorical_columns = [\"product_id\", \"product_name\"]"
   ]
  },
  {
   "cell_type": "code",
   "execution_count": 20,
   "metadata": {},
   "outputs": [
    {
     "name": "stdout",
     "output_type": "stream",
     "text": [
      "product_id column initial type:\n",
      "int16\n",
      "============================================================\n",
      "product_id column final type:\n",
      "category\n",
      "============================================================\n",
      "product_name column initial type:\n",
      "object\n",
      "============================================================\n",
      "product_name column final type:\n",
      "category\n",
      "============================================================\n"
     ]
    }
   ],
   "source": [
    "# Save the products Data to a .parquet file\n",
    "output_file_name = \"product_id_names.parquet\"\n",
    "save_hs92_parquet_data(\n",
    "    data=product_df[[\"product_id\", \"product_name\"]],\n",
    "    file_location=output_file_location,\n",
    "    file_name=output_file_name,\n",
    "    categorical_columns=categorical_columns,\n",
    "    dtype_dict=dtype_dict,\n",
    ")"
   ]
  },
  {
   "cell_type": "markdown",
   "metadata": {},
   "source": [
    "### Importing info about population"
   ]
  },
  {
   "cell_type": "markdown",
   "metadata": {},
   "source": [
    "### Importing world bank data: gdp and population"
   ]
  },
  {
   "cell_type": "code",
   "execution_count": 21,
   "metadata": {},
   "outputs": [],
   "source": [
    "# Reading file API_SP.POP.TOTL_DS2_en_csv_v2_87.csv, was downloaded from https://data.worldbank.org/\n",
    "input_file_name = \"API_SP.POP.TOTL_DS2_en_csv_v2_87.csv\"\n",
    "# reading the csv file, specifying the row with the column names\n",
    "raw_population_df = pd.read_csv(\n",
    "    os.path.join(input_file_location, input_file_name), header=2\n",
    ")"
   ]
  },
  {
   "cell_type": "code",
   "execution_count": 22,
   "metadata": {},
   "outputs": [],
   "source": [
    "# Reading file API_NY.GDP.MKTP.CD_DS2_en_csv_v2_88.csv, was downloaded from https://data.worldbank.org/\n",
    "input_file_name = \"API_NY.GDP.MKTP.CD_DS2_en_csv_v2_88.csv\"\n",
    "# reading the csv file, specifying the row with the column names\n",
    "raw_gdp_total_df = pd.read_csv(\n",
    "    os.path.join(input_file_location, input_file_name), header=2\n",
    ")"
   ]
  },
  {
   "cell_type": "code",
   "execution_count": 23,
   "metadata": {},
   "outputs": [],
   "source": [
    "# Reading file API_NY.GDP.PCAP.CD_DS2_en_csv_v2_76.csv, was downloaded from https://data.worldbank.org/\n",
    "input_file_name = \"API_NY.GDP.PCAP.CD_DS2_en_csv_v2_76.csv\"\n",
    "# reading the csv file, specifying the row with the column names\n",
    "raw_pcap_df = pd.read_csv(os.path.join(input_file_location, input_file_name), header=2)"
   ]
  },
  {
   "cell_type": "code",
   "execution_count": 24,
   "metadata": {},
   "outputs": [],
   "source": [
    "columns_new = {\"Country Code\": \"country_code\", \"Country Name\": \"country_name\"}\n",
    "raw_population_df.rename(columns=columns_new, inplace=True)\n",
    "raw_gdp_total_df.rename(columns=columns_new, inplace=True)\n",
    "raw_pcap_df.rename(columns=columns_new, inplace=True)"
   ]
  },
  {
   "cell_type": "markdown",
   "metadata": {},
   "source": [
    "## Analyzing Population"
   ]
  },
  {
   "cell_type": "code",
   "execution_count": 25,
   "metadata": {},
   "outputs": [
    {
     "name": "stdout",
     "output_type": "stream",
     "text": [
      "['df', <class 'pandas.core.frame.DataFrame'>]\n",
      "============================================================\n",
      "shape:\n",
      "(266, 69)\n",
      "============================================================\n",
      "data types:\n",
      "country_name       object\n",
      "country_code       object\n",
      "Indicator Name     object\n",
      "Indicator Code     object\n",
      "1960              float64\n",
      "                   ...   \n",
      "2020              float64\n",
      "2021              float64\n",
      "2022              float64\n",
      "2023              float64\n",
      "Unnamed: 68       float64\n",
      "Length: 69, dtype: object\n",
      "============================================================\n",
      "columns:\n",
      "['country_name', 'country_code', 'Indicator Name', 'Indicator Code', '1960', '1961', '1962', '1963', '1964', '1965', '1966', '1967', '1968', '1969', '1970', '1971', '1972', '1973', '1974', '1975', '1976', '1977', '1978', '1979', '1980', '1981', '1982', '1983', '1984', '1985', '1986', '1987', '1988', '1989', '1990', '1991', '1992', '1993', '1994', '1995', '1996', '1997', '1998', '1999', '2000', '2001', '2002', '2003', '2004', '2005', '2006', '2007', '2008', '2009', '2010', '2011', '2012', '2013', '2014', '2015', '2016', '2017', '2018', '2019', '2020', '2021', '2022', '2023', 'Unnamed: 68']\n",
      "============================================================\n",
      "                  1960             1961             1962             1963  \\\n",
      "count           264.00           264.00           264.00           264.00   \n",
      "mean    115,447,973.42   117,053,756.98   119,216,045.10   121,887,788.67   \n",
      "std     362,652,259.41   367,166,006.44   373,830,278.92   382,460,778.81   \n",
      "min           2,715.00         2,970.00         3,264.00         3,584.00   \n",
      "25%         515,202.75       525,523.00       536,301.75       547,587.50   \n",
      "50%       3,659,633.00     3,747,132.50     3,831,900.00     3,919,709.50   \n",
      "75%      26,862,930.00    27,613,257.00    28,373,019.75    29,154,482.25   \n",
      "max   3,021,529,236.00 3,062,769,479.00 3,117,373,096.00 3,184,063,049.00   \n",
      "\n",
      "                  1964             1965             1966             1967  \\\n",
      "count           264.00           264.00           264.00           264.00   \n",
      "mean    124,583,539.97   127,311,108.82   130,158,084.01   133,012,733.89   \n",
      "std     391,139,699.12   399,925,567.34   409,186,954.95   418,436,111.72   \n",
      "min           3,922.00         4,282.00         4,664.00         5,071.00   \n",
      "25%         559,363.75       567,575.00       571,169.50       577,952.50   \n",
      "50%       4,010,150.50     4,102,976.50     4,198,738.00     4,297,792.00   \n",
      "75%      29,952,226.75    30,759,214.75    31,475,155.75    32,039,456.25   \n",
      "max   3,251,253,200.00 3,318,997,522.00 3,389,087,189.00 3,459,014,378.00   \n",
      "\n",
      "                  1968             1969  ...             2015  \\\n",
      "count           264.00           264.00  ...           265.00   \n",
      "mean    135,942,549.03   138,970,489.84  ...   300,489,986.59   \n",
      "std     427,950,668.40   437,823,899.02  ...   938,856,511.27   \n",
      "min           5,500.00         5,631.00  ...        10,954.00   \n",
      "25%         582,517.00       586,118.50  ...     1,786,457.00   \n",
      "50%       4,396,290.50     4,503,419.50  ...    10,358,076.00   \n",
      "75%      32,470,571.00    32,771,488.50  ...    60,730,582.00   \n",
      "max   3,530,702,399.00 3,604,811,636.00  ... 7,441,471,720.50   \n",
      "\n",
      "                  2016             2017             2018             2019  \\\n",
      "count           265.00           265.00           265.00           265.00   \n",
      "mean    304,332,872.66   308,172,536.90   311,927,235.05   315,608,016.57   \n",
      "std     949,990,568.15   961,125,875.63   971,920,908.01   982,403,394.74   \n",
      "min          10,930.00        10,869.00        10,751.00        10,581.00   \n",
      "25%       1,777,568.00     1,791,019.00     1,797,086.00     1,788,891.00   \n",
      "50%      10,325,452.00    10,259,154.00    10,283,822.00    10,423,384.00   \n",
      "75%      60,627,498.00    60,536,709.00    60,421,760.00    59,729,081.00   \n",
      "max   7,528,523,333.50 7,614,113,551.50 7,696,494,847.50 7,776,892,015.00   \n",
      "\n",
      "                  2020             2021             2022             2023  \\\n",
      "count           265.00           265.00           265.00           265.00   \n",
      "mean    319,203,567.32   322,354,552.12   325,523,528.18   328,788,572.05   \n",
      "std     992,459,890.99 1,001,248,317.09 1,009,780,804.35 1,018,589,498.49   \n",
      "min          10,399.00        10,194.00         9,992.00         9,816.00   \n",
      "25%       1,790,152.00     1,786,080.00     1,803,545.00     1,827,816.00   \n",
      "50%      10,697,858.00    10,505,772.00    10,486,941.00    10,644,851.00   \n",
      "75%      60,972,798.00    62,830,412.00    64,711,821.00    66,617,606.00   \n",
      "max   7,856,138,789.50 7,921,184,346.00 7,989,981,519.50 8,061,876,001.00   \n",
      "\n",
      "       Unnamed: 68  \n",
      "count         0.00  \n",
      "mean           NaN  \n",
      "std            NaN  \n",
      "min            NaN  \n",
      "25%            NaN  \n",
      "50%            NaN  \n",
      "75%            NaN  \n",
      "max            NaN  \n",
      "\n",
      "[8 rows x 65 columns]\n",
      "============================================================\n",
      "Total memory usage: 210640 bytes\n",
      "============================================================\n"
     ]
    }
   ],
   "source": [
    "df_stats(raw_population_df)"
   ]
  },
  {
   "cell_type": "code",
   "execution_count": 26,
   "metadata": {},
   "outputs": [
    {
     "data": {
      "text/plain": [
       "array(['SP.POP.TOTL'], dtype=object)"
      ]
     },
     "execution_count": 26,
     "metadata": {},
     "output_type": "execute_result"
    }
   ],
   "source": [
    "raw_population_df[\"Indicator Code\"].unique()"
   ]
  },
  {
   "cell_type": "code",
   "execution_count": 27,
   "metadata": {},
   "outputs": [
    {
     "data": {
      "text/plain": [
       "Indicator Code\n",
       "SP.POP.TOTL    266\n",
       "Name: count, dtype: int64"
      ]
     },
     "execution_count": 27,
     "metadata": {},
     "output_type": "execute_result"
    }
   ],
   "source": [
    "raw_population_df[\"Indicator Code\"].value_counts()"
   ]
  },
  {
   "cell_type": "code",
   "execution_count": 28,
   "metadata": {},
   "outputs": [
    {
     "data": {
      "text/html": [
       "<div>\n",
       "<style scoped>\n",
       "    .dataframe tbody tr th:only-of-type {\n",
       "        vertical-align: middle;\n",
       "    }\n",
       "\n",
       "    .dataframe tbody tr th {\n",
       "        vertical-align: top;\n",
       "    }\n",
       "\n",
       "    .dataframe thead th {\n",
       "        text-align: right;\n",
       "    }\n",
       "</style>\n",
       "<table border=\"1\" class=\"dataframe\">\n",
       "  <thead>\n",
       "    <tr style=\"text-align: right;\">\n",
       "      <th></th>\n",
       "      <th>country_name</th>\n",
       "      <th>country_code</th>\n",
       "      <th>Indicator Name</th>\n",
       "      <th>Indicator Code</th>\n",
       "      <th>1960</th>\n",
       "      <th>1961</th>\n",
       "      <th>1962</th>\n",
       "      <th>1963</th>\n",
       "      <th>1964</th>\n",
       "      <th>1965</th>\n",
       "      <th>...</th>\n",
       "      <th>2015</th>\n",
       "      <th>2016</th>\n",
       "      <th>2017</th>\n",
       "      <th>2018</th>\n",
       "      <th>2019</th>\n",
       "      <th>2020</th>\n",
       "      <th>2021</th>\n",
       "      <th>2022</th>\n",
       "      <th>2023</th>\n",
       "      <th>Unnamed: 68</th>\n",
       "    </tr>\n",
       "  </thead>\n",
       "  <tbody>\n",
       "    <tr>\n",
       "      <th>0</th>\n",
       "      <td>Aruba</td>\n",
       "      <td>ABW</td>\n",
       "      <td>Population, total</td>\n",
       "      <td>SP.POP.TOTL</td>\n",
       "      <td>54,922.00</td>\n",
       "      <td>55,578.00</td>\n",
       "      <td>56,320.00</td>\n",
       "      <td>57,002.00</td>\n",
       "      <td>57,619.00</td>\n",
       "      <td>58,190.00</td>\n",
       "      <td>...</td>\n",
       "      <td>107,906.00</td>\n",
       "      <td>108,727.00</td>\n",
       "      <td>108,735.00</td>\n",
       "      <td>108,908.00</td>\n",
       "      <td>109,203.00</td>\n",
       "      <td>108,587.00</td>\n",
       "      <td>107,700.00</td>\n",
       "      <td>107,310.00</td>\n",
       "      <td>107,359.00</td>\n",
       "      <td>NaN</td>\n",
       "    </tr>\n",
       "    <tr>\n",
       "      <th>1</th>\n",
       "      <td>Africa Eastern and Southern</td>\n",
       "      <td>AFE</td>\n",
       "      <td>Population, total</td>\n",
       "      <td>SP.POP.TOTL</td>\n",
       "      <td>130,072,080.00</td>\n",
       "      <td>133,534,923.00</td>\n",
       "      <td>137,171,659.00</td>\n",
       "      <td>140,945,536.00</td>\n",
       "      <td>144,904,094.00</td>\n",
       "      <td>149,033,472.00</td>\n",
       "      <td>...</td>\n",
       "      <td>607,123,269.00</td>\n",
       "      <td>623,369,401.00</td>\n",
       "      <td>640,058,741.00</td>\n",
       "      <td>657,801,085.00</td>\n",
       "      <td>675,950,189.00</td>\n",
       "      <td>694,446,100.00</td>\n",
       "      <td>713,090,928.00</td>\n",
       "      <td>731,821,393.00</td>\n",
       "      <td>750,503,764.00</td>\n",
       "      <td>NaN</td>\n",
       "    </tr>\n",
       "    <tr>\n",
       "      <th>2</th>\n",
       "      <td>Afghanistan</td>\n",
       "      <td>AFG</td>\n",
       "      <td>Population, total</td>\n",
       "      <td>SP.POP.TOTL</td>\n",
       "      <td>9,035,043.00</td>\n",
       "      <td>9,214,083.00</td>\n",
       "      <td>9,404,406.00</td>\n",
       "      <td>9,604,487.00</td>\n",
       "      <td>9,814,318.00</td>\n",
       "      <td>10,036,008.00</td>\n",
       "      <td>...</td>\n",
       "      <td>33,831,764.00</td>\n",
       "      <td>34,700,612.00</td>\n",
       "      <td>35,688,935.00</td>\n",
       "      <td>36,743,039.00</td>\n",
       "      <td>37,856,121.00</td>\n",
       "      <td>39,068,979.00</td>\n",
       "      <td>40,000,412.00</td>\n",
       "      <td>40,578,842.00</td>\n",
       "      <td>41,454,761.00</td>\n",
       "      <td>NaN</td>\n",
       "    </tr>\n",
       "    <tr>\n",
       "      <th>3</th>\n",
       "      <td>Africa Western and Central</td>\n",
       "      <td>AFW</td>\n",
       "      <td>Population, total</td>\n",
       "      <td>SP.POP.TOTL</td>\n",
       "      <td>97,630,925.00</td>\n",
       "      <td>99,706,674.00</td>\n",
       "      <td>101,854,756.00</td>\n",
       "      <td>104,089,175.00</td>\n",
       "      <td>106,388,440.00</td>\n",
       "      <td>108,772,632.00</td>\n",
       "      <td>...</td>\n",
       "      <td>418,127,845.00</td>\n",
       "      <td>429,454,743.00</td>\n",
       "      <td>440,882,906.00</td>\n",
       "      <td>452,195,915.00</td>\n",
       "      <td>463,365,429.00</td>\n",
       "      <td>474,569,351.00</td>\n",
       "      <td>485,920,997.00</td>\n",
       "      <td>497,387,180.00</td>\n",
       "      <td>509,398,589.00</td>\n",
       "      <td>NaN</td>\n",
       "    </tr>\n",
       "    <tr>\n",
       "      <th>4</th>\n",
       "      <td>Angola</td>\n",
       "      <td>AGO</td>\n",
       "      <td>Population, total</td>\n",
       "      <td>SP.POP.TOTL</td>\n",
       "      <td>5,231,654.00</td>\n",
       "      <td>5,301,583.00</td>\n",
       "      <td>5,354,310.00</td>\n",
       "      <td>5,408,320.00</td>\n",
       "      <td>5,464,187.00</td>\n",
       "      <td>5,521,981.00</td>\n",
       "      <td>...</td>\n",
       "      <td>28,157,798.00</td>\n",
       "      <td>29,183,070.00</td>\n",
       "      <td>30,234,839.00</td>\n",
       "      <td>31,297,155.00</td>\n",
       "      <td>32,375,632.00</td>\n",
       "      <td>33,451,132.00</td>\n",
       "      <td>34,532,429.00</td>\n",
       "      <td>35,635,029.00</td>\n",
       "      <td>36,749,906.00</td>\n",
       "      <td>NaN</td>\n",
       "    </tr>\n",
       "  </tbody>\n",
       "</table>\n",
       "<p>5 rows × 69 columns</p>\n",
       "</div>"
      ],
      "text/plain": [
       "                  country_name country_code     Indicator Name Indicator Code  \\\n",
       "0                        Aruba          ABW  Population, total    SP.POP.TOTL   \n",
       "1  Africa Eastern and Southern          AFE  Population, total    SP.POP.TOTL   \n",
       "2                  Afghanistan          AFG  Population, total    SP.POP.TOTL   \n",
       "3   Africa Western and Central          AFW  Population, total    SP.POP.TOTL   \n",
       "4                       Angola          AGO  Population, total    SP.POP.TOTL   \n",
       "\n",
       "            1960           1961           1962           1963           1964  \\\n",
       "0      54,922.00      55,578.00      56,320.00      57,002.00      57,619.00   \n",
       "1 130,072,080.00 133,534,923.00 137,171,659.00 140,945,536.00 144,904,094.00   \n",
       "2   9,035,043.00   9,214,083.00   9,404,406.00   9,604,487.00   9,814,318.00   \n",
       "3  97,630,925.00  99,706,674.00 101,854,756.00 104,089,175.00 106,388,440.00   \n",
       "4   5,231,654.00   5,301,583.00   5,354,310.00   5,408,320.00   5,464,187.00   \n",
       "\n",
       "            1965  ...           2015           2016           2017  \\\n",
       "0      58,190.00  ...     107,906.00     108,727.00     108,735.00   \n",
       "1 149,033,472.00  ... 607,123,269.00 623,369,401.00 640,058,741.00   \n",
       "2  10,036,008.00  ...  33,831,764.00  34,700,612.00  35,688,935.00   \n",
       "3 108,772,632.00  ... 418,127,845.00 429,454,743.00 440,882,906.00   \n",
       "4   5,521,981.00  ...  28,157,798.00  29,183,070.00  30,234,839.00   \n",
       "\n",
       "            2018           2019           2020           2021           2022  \\\n",
       "0     108,908.00     109,203.00     108,587.00     107,700.00     107,310.00   \n",
       "1 657,801,085.00 675,950,189.00 694,446,100.00 713,090,928.00 731,821,393.00   \n",
       "2  36,743,039.00  37,856,121.00  39,068,979.00  40,000,412.00  40,578,842.00   \n",
       "3 452,195,915.00 463,365,429.00 474,569,351.00 485,920,997.00 497,387,180.00   \n",
       "4  31,297,155.00  32,375,632.00  33,451,132.00  34,532,429.00  35,635,029.00   \n",
       "\n",
       "            2023  Unnamed: 68  \n",
       "0     107,359.00          NaN  \n",
       "1 750,503,764.00          NaN  \n",
       "2  41,454,761.00          NaN  \n",
       "3 509,398,589.00          NaN  \n",
       "4  36,749,906.00          NaN  \n",
       "\n",
       "[5 rows x 69 columns]"
      ]
     },
     "execution_count": 28,
     "metadata": {},
     "output_type": "execute_result"
    }
   ],
   "source": [
    "raw_population_df.head()"
   ]
  },
  {
   "cell_type": "markdown",
   "metadata": {},
   "source": [
    "## Keeping only country code and gdp data"
   ]
  },
  {
   "cell_type": "code",
   "execution_count": 29,
   "metadata": {},
   "outputs": [],
   "source": [
    "col_years = [*map(str, range(1960, 2024))]"
   ]
  },
  {
   "cell_type": "code",
   "execution_count": 30,
   "metadata": {},
   "outputs": [],
   "source": [
    "columns = [\"country_code\"] + col_years"
   ]
  },
  {
   "cell_type": "code",
   "execution_count": 31,
   "metadata": {},
   "outputs": [],
   "source": [
    "raw_population_df = raw_population_df[columns].reset_index(drop=True)"
   ]
  },
  {
   "cell_type": "code",
   "execution_count": 32,
   "metadata": {},
   "outputs": [
    {
     "data": {
      "text/html": [
       "<div>\n",
       "<style scoped>\n",
       "    .dataframe tbody tr th:only-of-type {\n",
       "        vertical-align: middle;\n",
       "    }\n",
       "\n",
       "    .dataframe tbody tr th {\n",
       "        vertical-align: top;\n",
       "    }\n",
       "\n",
       "    .dataframe thead th {\n",
       "        text-align: right;\n",
       "    }\n",
       "</style>\n",
       "<table border=\"1\" class=\"dataframe\">\n",
       "  <thead>\n",
       "    <tr style=\"text-align: right;\">\n",
       "      <th></th>\n",
       "      <th>country_code</th>\n",
       "      <th>1960</th>\n",
       "      <th>1961</th>\n",
       "      <th>1962</th>\n",
       "      <th>1963</th>\n",
       "      <th>1964</th>\n",
       "      <th>1965</th>\n",
       "      <th>1966</th>\n",
       "      <th>1967</th>\n",
       "      <th>1968</th>\n",
       "      <th>...</th>\n",
       "      <th>2014</th>\n",
       "      <th>2015</th>\n",
       "      <th>2016</th>\n",
       "      <th>2017</th>\n",
       "      <th>2018</th>\n",
       "      <th>2019</th>\n",
       "      <th>2020</th>\n",
       "      <th>2021</th>\n",
       "      <th>2022</th>\n",
       "      <th>2023</th>\n",
       "    </tr>\n",
       "  </thead>\n",
       "  <tbody>\n",
       "    <tr>\n",
       "      <th>0</th>\n",
       "      <td>ABW</td>\n",
       "      <td>54,922.00</td>\n",
       "      <td>55,578.00</td>\n",
       "      <td>56,320.00</td>\n",
       "      <td>57,002.00</td>\n",
       "      <td>57,619.00</td>\n",
       "      <td>58,190.00</td>\n",
       "      <td>58,694.00</td>\n",
       "      <td>58,990.00</td>\n",
       "      <td>59,069.00</td>\n",
       "      <td>...</td>\n",
       "      <td>106,807.00</td>\n",
       "      <td>107,906.00</td>\n",
       "      <td>108,727.00</td>\n",
       "      <td>108,735.00</td>\n",
       "      <td>108,908.00</td>\n",
       "      <td>109,203.00</td>\n",
       "      <td>108,587.00</td>\n",
       "      <td>107,700.00</td>\n",
       "      <td>107,310.00</td>\n",
       "      <td>107,359.00</td>\n",
       "    </tr>\n",
       "    <tr>\n",
       "      <th>1</th>\n",
       "      <td>AFE</td>\n",
       "      <td>130,072,080.00</td>\n",
       "      <td>133,534,923.00</td>\n",
       "      <td>137,171,659.00</td>\n",
       "      <td>140,945,536.00</td>\n",
       "      <td>144,904,094.00</td>\n",
       "      <td>149,033,472.00</td>\n",
       "      <td>153,281,203.00</td>\n",
       "      <td>157,704,381.00</td>\n",
       "      <td>162,329,396.00</td>\n",
       "      <td>...</td>\n",
       "      <td>590,968,990.00</td>\n",
       "      <td>607,123,269.00</td>\n",
       "      <td>623,369,401.00</td>\n",
       "      <td>640,058,741.00</td>\n",
       "      <td>657,801,085.00</td>\n",
       "      <td>675,950,189.00</td>\n",
       "      <td>694,446,100.00</td>\n",
       "      <td>713,090,928.00</td>\n",
       "      <td>731,821,393.00</td>\n",
       "      <td>750,503,764.00</td>\n",
       "    </tr>\n",
       "    <tr>\n",
       "      <th>2</th>\n",
       "      <td>AFG</td>\n",
       "      <td>9,035,043.00</td>\n",
       "      <td>9,214,083.00</td>\n",
       "      <td>9,404,406.00</td>\n",
       "      <td>9,604,487.00</td>\n",
       "      <td>9,814,318.00</td>\n",
       "      <td>10,036,008.00</td>\n",
       "      <td>10,266,395.00</td>\n",
       "      <td>10,505,959.00</td>\n",
       "      <td>10,756,922.00</td>\n",
       "      <td>...</td>\n",
       "      <td>32,792,523.00</td>\n",
       "      <td>33,831,764.00</td>\n",
       "      <td>34,700,612.00</td>\n",
       "      <td>35,688,935.00</td>\n",
       "      <td>36,743,039.00</td>\n",
       "      <td>37,856,121.00</td>\n",
       "      <td>39,068,979.00</td>\n",
       "      <td>40,000,412.00</td>\n",
       "      <td>40,578,842.00</td>\n",
       "      <td>41,454,761.00</td>\n",
       "    </tr>\n",
       "    <tr>\n",
       "      <th>3</th>\n",
       "      <td>AFW</td>\n",
       "      <td>97,630,925.00</td>\n",
       "      <td>99,706,674.00</td>\n",
       "      <td>101,854,756.00</td>\n",
       "      <td>104,089,175.00</td>\n",
       "      <td>106,388,440.00</td>\n",
       "      <td>108,772,632.00</td>\n",
       "      <td>111,246,953.00</td>\n",
       "      <td>113,795,019.00</td>\n",
       "      <td>116,444,636.00</td>\n",
       "      <td>...</td>\n",
       "      <td>406,992,047.00</td>\n",
       "      <td>418,127,845.00</td>\n",
       "      <td>429,454,743.00</td>\n",
       "      <td>440,882,906.00</td>\n",
       "      <td>452,195,915.00</td>\n",
       "      <td>463,365,429.00</td>\n",
       "      <td>474,569,351.00</td>\n",
       "      <td>485,920,997.00</td>\n",
       "      <td>497,387,180.00</td>\n",
       "      <td>509,398,589.00</td>\n",
       "    </tr>\n",
       "    <tr>\n",
       "      <th>4</th>\n",
       "      <td>AGO</td>\n",
       "      <td>5,231,654.00</td>\n",
       "      <td>5,301,583.00</td>\n",
       "      <td>5,354,310.00</td>\n",
       "      <td>5,408,320.00</td>\n",
       "      <td>5,464,187.00</td>\n",
       "      <td>5,521,981.00</td>\n",
       "      <td>5,581,386.00</td>\n",
       "      <td>5,641,807.00</td>\n",
       "      <td>5,702,699.00</td>\n",
       "      <td>...</td>\n",
       "      <td>27,160,769.00</td>\n",
       "      <td>28,157,798.00</td>\n",
       "      <td>29,183,070.00</td>\n",
       "      <td>30,234,839.00</td>\n",
       "      <td>31,297,155.00</td>\n",
       "      <td>32,375,632.00</td>\n",
       "      <td>33,451,132.00</td>\n",
       "      <td>34,532,429.00</td>\n",
       "      <td>35,635,029.00</td>\n",
       "      <td>36,749,906.00</td>\n",
       "    </tr>\n",
       "  </tbody>\n",
       "</table>\n",
       "<p>5 rows × 65 columns</p>\n",
       "</div>"
      ],
      "text/plain": [
       "  country_code           1960           1961           1962           1963  \\\n",
       "0          ABW      54,922.00      55,578.00      56,320.00      57,002.00   \n",
       "1          AFE 130,072,080.00 133,534,923.00 137,171,659.00 140,945,536.00   \n",
       "2          AFG   9,035,043.00   9,214,083.00   9,404,406.00   9,604,487.00   \n",
       "3          AFW  97,630,925.00  99,706,674.00 101,854,756.00 104,089,175.00   \n",
       "4          AGO   5,231,654.00   5,301,583.00   5,354,310.00   5,408,320.00   \n",
       "\n",
       "            1964           1965           1966           1967           1968  \\\n",
       "0      57,619.00      58,190.00      58,694.00      58,990.00      59,069.00   \n",
       "1 144,904,094.00 149,033,472.00 153,281,203.00 157,704,381.00 162,329,396.00   \n",
       "2   9,814,318.00  10,036,008.00  10,266,395.00  10,505,959.00  10,756,922.00   \n",
       "3 106,388,440.00 108,772,632.00 111,246,953.00 113,795,019.00 116,444,636.00   \n",
       "4   5,464,187.00   5,521,981.00   5,581,386.00   5,641,807.00   5,702,699.00   \n",
       "\n",
       "   ...           2014           2015           2016           2017  \\\n",
       "0  ...     106,807.00     107,906.00     108,727.00     108,735.00   \n",
       "1  ... 590,968,990.00 607,123,269.00 623,369,401.00 640,058,741.00   \n",
       "2  ...  32,792,523.00  33,831,764.00  34,700,612.00  35,688,935.00   \n",
       "3  ... 406,992,047.00 418,127,845.00 429,454,743.00 440,882,906.00   \n",
       "4  ...  27,160,769.00  28,157,798.00  29,183,070.00  30,234,839.00   \n",
       "\n",
       "            2018           2019           2020           2021           2022  \\\n",
       "0     108,908.00     109,203.00     108,587.00     107,700.00     107,310.00   \n",
       "1 657,801,085.00 675,950,189.00 694,446,100.00 713,090,928.00 731,821,393.00   \n",
       "2  36,743,039.00  37,856,121.00  39,068,979.00  40,000,412.00  40,578,842.00   \n",
       "3 452,195,915.00 463,365,429.00 474,569,351.00 485,920,997.00 497,387,180.00   \n",
       "4  31,297,155.00  32,375,632.00  33,451,132.00  34,532,429.00  35,635,029.00   \n",
       "\n",
       "            2023  \n",
       "0     107,359.00  \n",
       "1 750,503,764.00  \n",
       "2  41,454,761.00  \n",
       "3 509,398,589.00  \n",
       "4  36,749,906.00  \n",
       "\n",
       "[5 rows x 65 columns]"
      ]
     },
     "execution_count": 32,
     "metadata": {},
     "output_type": "execute_result"
    }
   ],
   "source": [
    "raw_population_df.head()"
   ]
  },
  {
   "cell_type": "code",
   "execution_count": 33,
   "metadata": {},
   "outputs": [],
   "source": [
    "# Reshaping the raw_population_df DataFrame from wide to long format by converting the GDP total data from columns (with years starting from 1960) into rows\n",
    "population_df = raw_population_df.melt(\n",
    "    id_vars=[\"country_code\"], var_name=\"year\", value_name=\"population\"\n",
    ")"
   ]
  },
  {
   "cell_type": "code",
   "execution_count": 34,
   "metadata": {},
   "outputs": [
    {
     "name": "stdout",
     "output_type": "stream",
     "text": [
      "country_code column initial type:\n",
      "object\n",
      "============================================================\n",
      "country_code column final type:\n",
      "category\n",
      "============================================================\n",
      "year column initial type:\n",
      "object\n",
      "============================================================\n",
      "year column final type:\n",
      "category\n",
      "============================================================\n"
     ]
    }
   ],
   "source": [
    "# Switching to the 'category' data type for categorical columns\n",
    "categorical_columns = [\"country_code\", \"year\"]\n",
    "population_df = switch_to_dtype(\n",
    "    population_df, default_dtype=\"category\", categorical_columns=categorical_columns\n",
    ")"
   ]
  },
  {
   "cell_type": "code",
   "execution_count": 35,
   "metadata": {},
   "outputs": [
    {
     "name": "stdout",
     "output_type": "stream",
     "text": [
      "['df', <class 'pandas.core.frame.DataFrame'>]\n",
      "============================================================\n",
      "shape:\n",
      "(17024, 3)\n",
      "============================================================\n",
      "data types:\n",
      "country_code    category\n",
      "year            category\n",
      "population       float64\n",
      "dtype: object\n",
      "============================================================\n",
      "columns:\n",
      "['country_code', 'year', 'population']\n",
      "============================================================\n",
      "            population\n",
      "count        16,930.00\n",
      "mean    216,605,749.67\n",
      "std     711,507,956.69\n",
      "min           2,715.00\n",
      "25%       1,009,540.00\n",
      "50%       6,748,606.50\n",
      "75%      46,785,187.00\n",
      "max   8,061,876,001.00\n",
      "============================================================\n",
      "Total memory usage: 217660 bytes\n",
      "============================================================\n"
     ]
    }
   ],
   "source": [
    "df_stats(population_df)"
   ]
  },
  {
   "cell_type": "code",
   "execution_count": 36,
   "metadata": {},
   "outputs": [
    {
     "data": {
      "text/html": [
       "<div>\n",
       "<style scoped>\n",
       "    .dataframe tbody tr th:only-of-type {\n",
       "        vertical-align: middle;\n",
       "    }\n",
       "\n",
       "    .dataframe tbody tr th {\n",
       "        vertical-align: top;\n",
       "    }\n",
       "\n",
       "    .dataframe thead th {\n",
       "        text-align: right;\n",
       "    }\n",
       "</style>\n",
       "<table border=\"1\" class=\"dataframe\">\n",
       "  <thead>\n",
       "    <tr style=\"text-align: right;\">\n",
       "      <th></th>\n",
       "      <th>country_code</th>\n",
       "      <th>year</th>\n",
       "      <th>population</th>\n",
       "    </tr>\n",
       "  </thead>\n",
       "  <tbody>\n",
       "    <tr>\n",
       "      <th>0</th>\n",
       "      <td>ABW</td>\n",
       "      <td>1960</td>\n",
       "      <td>54,922.00</td>\n",
       "    </tr>\n",
       "    <tr>\n",
       "      <th>1</th>\n",
       "      <td>AFE</td>\n",
       "      <td>1960</td>\n",
       "      <td>130,072,080.00</td>\n",
       "    </tr>\n",
       "    <tr>\n",
       "      <th>2</th>\n",
       "      <td>AFG</td>\n",
       "      <td>1960</td>\n",
       "      <td>9,035,043.00</td>\n",
       "    </tr>\n",
       "    <tr>\n",
       "      <th>3</th>\n",
       "      <td>AFW</td>\n",
       "      <td>1960</td>\n",
       "      <td>97,630,925.00</td>\n",
       "    </tr>\n",
       "    <tr>\n",
       "      <th>4</th>\n",
       "      <td>AGO</td>\n",
       "      <td>1960</td>\n",
       "      <td>5,231,654.00</td>\n",
       "    </tr>\n",
       "  </tbody>\n",
       "</table>\n",
       "</div>"
      ],
      "text/plain": [
       "  country_code  year     population\n",
       "0          ABW  1960      54,922.00\n",
       "1          AFE  1960 130,072,080.00\n",
       "2          AFG  1960   9,035,043.00\n",
       "3          AFW  1960  97,630,925.00\n",
       "4          AGO  1960   5,231,654.00"
      ]
     },
     "execution_count": 36,
     "metadata": {},
     "output_type": "execute_result"
    }
   ],
   "source": [
    "population_df.head()"
   ]
  },
  {
   "cell_type": "code",
   "execution_count": 37,
   "metadata": {},
   "outputs": [
    {
     "name": "stdout",
     "output_type": "stream",
     "text": [
      "year column initial type:\n",
      "category\n",
      "============================================================\n",
      "year column final type:\n",
      "int16\n",
      "============================================================\n",
      "country_code column initial type:\n",
      "category\n",
      "============================================================\n",
      "country_code column final type:\n",
      "object\n",
      "============================================================\n"
     ]
    }
   ],
   "source": [
    "# Save the population DataFrame to a .dta file\n",
    "output_file_name = \"raw_population.dta\"\n",
    "dtype_dict = {\"country_code\": \"str\"}\n",
    "save_hs92_stata_data(\n",
    "    data=population_df,\n",
    "    file_location=output_file_location,\n",
    "    file_name=output_file_name,\n",
    "    dtype_dict=dtype_dict,\n",
    ")"
   ]
  },
  {
   "cell_type": "code",
   "execution_count": 38,
   "metadata": {},
   "outputs": [
    {
     "name": "stdout",
     "output_type": "stream",
     "text": [
      "['df', <class 'pandas.core.frame.DataFrame'>]\n",
      "============================================================\n",
      "shape:\n",
      "(17024, 3)\n",
      "============================================================\n",
      "data types:\n",
      "country_code    category\n",
      "year            category\n",
      "population       float64\n",
      "dtype: object\n",
      "============================================================\n",
      "columns:\n",
      "['country_code', 'year', 'population']\n",
      "============================================================\n",
      "            population\n",
      "count        16,930.00\n",
      "mean    216,605,749.67\n",
      "std     711,507,956.69\n",
      "min           2,715.00\n",
      "25%       1,009,540.00\n",
      "50%       6,748,606.50\n",
      "75%      46,785,187.00\n",
      "max   8,061,876,001.00\n",
      "============================================================\n",
      "Total memory usage: 217660 bytes\n",
      "============================================================\n"
     ]
    }
   ],
   "source": [
    "df_stats(population_df)"
   ]
  },
  {
   "cell_type": "code",
   "execution_count": 39,
   "metadata": {},
   "outputs": [
    {
     "data": {
      "text/plain": [
       "21"
      ]
     },
     "execution_count": 39,
     "metadata": {},
     "output_type": "execute_result"
    }
   ],
   "source": [
    "del raw_population_df\n",
    "gc.collect()"
   ]
  },
  {
   "cell_type": "markdown",
   "metadata": {},
   "source": [
    "## Analyzing GDP_Total"
   ]
  },
  {
   "cell_type": "code",
   "execution_count": 40,
   "metadata": {},
   "outputs": [
    {
     "name": "stdout",
     "output_type": "stream",
     "text": [
      "['df', <class 'pandas.core.frame.DataFrame'>]\n",
      "============================================================\n",
      "shape:\n",
      "(266, 69)\n",
      "============================================================\n",
      "data types:\n",
      "country_name       object\n",
      "country_code       object\n",
      "Indicator Name     object\n",
      "Indicator Code     object\n",
      "1960              float64\n",
      "                   ...   \n",
      "2020              float64\n",
      "2021              float64\n",
      "2022              float64\n",
      "2023              float64\n",
      "Unnamed: 68       float64\n",
      "Length: 69, dtype: object\n",
      "============================================================\n",
      "columns:\n",
      "['country_name', 'country_code', 'Indicator Name', 'Indicator Code', '1960', '1961', '1962', '1963', '1964', '1965', '1966', '1967', '1968', '1969', '1970', '1971', '1972', '1973', '1974', '1975', '1976', '1977', '1978', '1979', '1980', '1981', '1982', '1983', '1984', '1985', '1986', '1987', '1988', '1989', '1990', '1991', '1992', '1993', '1994', '1995', '1996', '1997', '1998', '1999', '2000', '2001', '2002', '2003', '2004', '2005', '2006', '2007', '2008', '2009', '2010', '2011', '2012', '2013', '2014', '2015', '2016', '2017', '2018', '2019', '2020', '2021', '2022', '2023', 'Unnamed: 68']\n",
      "============================================================\n",
      "                      1960                 1961                 1962  \\\n",
      "count               151.00               154.00               157.00   \n",
      "mean     67,861,705,802.70    69,822,508,884.96    73,274,922,914.53   \n",
      "std     201,925,392,043.10   211,601,644,934.43   225,726,874,115.04   \n",
      "min          12,012,024.62        11,592,023.76        12,541,635.31   \n",
      "25%         507,924,121.98       500,733,776.62       574,091,101.19   \n",
      "50%       3,359,404,117.65     3,330,232,970.84     3,308,912,796.93   \n",
      "75%      33,250,710,079.53    32,829,771,197.23    31,841,615,991.19   \n",
      "max   1,371,947,205,151.18 1,445,950,587,026.22 1,550,597,670,600.03   \n",
      "\n",
      "                      1963                 1964                 1965  \\\n",
      "count               157.00               157.00               163.00   \n",
      "mean     79,082,184,158.24    86,803,275,191.60    91,334,821,356.56   \n",
      "std     242,730,954,628.94   265,797,558,182.70   284,477,281,503.96   \n",
      "min          12,833,301.25        13,416,633.13        13,593,932.32   \n",
      "25%         586,294,878.74       582,816,396.40       595,657,247.80   \n",
      "50%       3,988,461,538.46     4,016,794,166.45     3,817,226,546.23   \n",
      "75%      36,572,882,344.72    33,198,811,870.74    34,649,103,653.34   \n",
      "max   1,669,569,735,937.23 1,830,168,405,451.36 1,994,297,576,262.09   \n",
      "\n",
      "                      1966                 1967                 1968  \\\n",
      "count               164.00               167.00               168.00   \n",
      "mean     97,933,284,758.87   101,497,105,453.93   108,679,410,050.11   \n",
      "std     308,838,622,559.57   325,787,615,834.39   351,586,044,530.04   \n",
      "min          14,469,078.18        15,835,106.03        14,600,000.00   \n",
      "25%         645,066,661.45       631,123,431.56       621,190,613.55   \n",
      "50%       4,153,526,984.31     3,532,700,000.00     4,529,030,668.65   \n",
      "75%      37,201,174,553.23    36,580,896,596.51    38,513,398,812.70   \n",
      "max   2,161,754,227,675.23 2,293,943,739,361.93 2,478,900,302,001.24   \n",
      "\n",
      "                      1969  ...                  2015                  2016  \\\n",
      "count               168.00  ...                259.00                258.00   \n",
      "mean    120,348,001,911.00  ...  2,382,043,450,113.15  2,424,134,210,643.52   \n",
      "std     387,603,167,130.26  ...  8,174,322,343,778.07  8,328,693,777,973.80   \n",
      "min          15,850,000.00  ...         36,811,936.08         41,629,064.22   \n",
      "25%         657,467,033.82  ...      8,766,202,408.62      8,620,784,492.10   \n",
      "50%       5,087,250,890.77  ...     48,717,501,321.31     48,065,653,179.04   \n",
      "75%      43,343,344,454.59  ...    497,362,473,210.65    504,231,546,656.18   \n",
      "max   2,738,143,638,273.34  ... 75,472,473,882,835.09 76,702,553,625,899.09   \n",
      "\n",
      "                       2017                  2018                  2019  \\\n",
      "count                258.00                258.00                258.00   \n",
      "mean   2,597,268,146,567.34  2,765,285,370,480.62  2,807,353,432,018.05   \n",
      "std    8,865,043,685,750.30  9,440,412,962,098.29  9,580,867,303,199.24   \n",
      "min           45,276,595.35         48,015,259.88         54,123,198.57   \n",
      "25%        9,193,745,095.61      9,928,840,048.97     10,111,655,791.34   \n",
      "50%       52,770,012,341.30     56,097,187,115.93     57,752,480,461.58   \n",
      "75%      534,152,124,338.32    549,144,102,179.60    542,164,104,946.79   \n",
      "max   81,712,043,350,515.41 86,884,839,554,431.59 88,149,850,742,945.91   \n",
      "\n",
      "                       2020                  2021                   2022  \\\n",
      "count                257.00                257.00                 254.00   \n",
      "mean   2,736,278,399,694.50  3,141,029,086,280.37   3,307,885,386,773.82   \n",
      "std    9,368,340,251,761.28 10,696,427,490,331.99  11,144,711,780,694.74   \n",
      "min           51,746,594.31         60,196,405.71          59,065,982.09   \n",
      "25%        9,516,738,321.21     10,071,349,663.85      12,463,612,864.23   \n",
      "50%       53,668,636,567.87     61,529,280,461.09      69,704,154,659.49   \n",
      "75%      545,147,614,972.14    637,186,904,843.64     679,903,120,672.24   \n",
      "max   85,763,013,427,792.91 97,848,299,706,454.80 101,770,911,729,948.00   \n",
      "\n",
      "                        2023  Unnamed: 68  \n",
      "count                 242.00         0.00  \n",
      "mean    3,618,639,660,188.31          NaN  \n",
      "std    11,904,014,607,170.73          NaN  \n",
      "min            62,280,311.59          NaN  \n",
      "25%        15,431,697,328.92          NaN  \n",
      "50%        83,837,520,321.82          NaN  \n",
      "75%     1,021,922,300,557.60          NaN  \n",
      "max   106,171,667,873,321.00          NaN  \n",
      "\n",
      "[8 rows x 65 columns]\n",
      "============================================================\n",
      "Total memory usage: 211438 bytes\n",
      "============================================================\n"
     ]
    }
   ],
   "source": [
    "df_stats(raw_gdp_total_df)"
   ]
  },
  {
   "cell_type": "code",
   "execution_count": 41,
   "metadata": {},
   "outputs": [
    {
     "data": {
      "text/plain": [
       "array(['NY.GDP.MKTP.CD'], dtype=object)"
      ]
     },
     "execution_count": 41,
     "metadata": {},
     "output_type": "execute_result"
    }
   ],
   "source": [
    "raw_gdp_total_df[\"Indicator Code\"].unique()"
   ]
  },
  {
   "cell_type": "code",
   "execution_count": 42,
   "metadata": {},
   "outputs": [
    {
     "data": {
      "text/plain": [
       "Indicator Code\n",
       "NY.GDP.MKTP.CD    266\n",
       "Name: count, dtype: int64"
      ]
     },
     "execution_count": 42,
     "metadata": {},
     "output_type": "execute_result"
    }
   ],
   "source": [
    "raw_gdp_total_df[\"Indicator Code\"].value_counts()"
   ]
  },
  {
   "cell_type": "code",
   "execution_count": 43,
   "metadata": {},
   "outputs": [
    {
     "data": {
      "text/html": [
       "<div>\n",
       "<style scoped>\n",
       "    .dataframe tbody tr th:only-of-type {\n",
       "        vertical-align: middle;\n",
       "    }\n",
       "\n",
       "    .dataframe tbody tr th {\n",
       "        vertical-align: top;\n",
       "    }\n",
       "\n",
       "    .dataframe thead th {\n",
       "        text-align: right;\n",
       "    }\n",
       "</style>\n",
       "<table border=\"1\" class=\"dataframe\">\n",
       "  <thead>\n",
       "    <tr style=\"text-align: right;\">\n",
       "      <th></th>\n",
       "      <th>country_name</th>\n",
       "      <th>country_code</th>\n",
       "      <th>Indicator Name</th>\n",
       "      <th>Indicator Code</th>\n",
       "      <th>1960</th>\n",
       "      <th>1961</th>\n",
       "      <th>1962</th>\n",
       "      <th>1963</th>\n",
       "      <th>1964</th>\n",
       "      <th>1965</th>\n",
       "      <th>...</th>\n",
       "      <th>2015</th>\n",
       "      <th>2016</th>\n",
       "      <th>2017</th>\n",
       "      <th>2018</th>\n",
       "      <th>2019</th>\n",
       "      <th>2020</th>\n",
       "      <th>2021</th>\n",
       "      <th>2022</th>\n",
       "      <th>2023</th>\n",
       "      <th>Unnamed: 68</th>\n",
       "    </tr>\n",
       "  </thead>\n",
       "  <tbody>\n",
       "    <tr>\n",
       "      <th>0</th>\n",
       "      <td>Aruba</td>\n",
       "      <td>ABW</td>\n",
       "      <td>GDP (current US$)</td>\n",
       "      <td>NY.GDP.MKTP.CD</td>\n",
       "      <td>NaN</td>\n",
       "      <td>NaN</td>\n",
       "      <td>NaN</td>\n",
       "      <td>NaN</td>\n",
       "      <td>NaN</td>\n",
       "      <td>NaN</td>\n",
       "      <td>...</td>\n",
       "      <td>2,962,907,262.57</td>\n",
       "      <td>2,983,635,195.53</td>\n",
       "      <td>3,092,429,050.28</td>\n",
       "      <td>3,276,184,357.54</td>\n",
       "      <td>3,395,798,882.68</td>\n",
       "      <td>2,481,857,122.84</td>\n",
       "      <td>2,929,446,578.25</td>\n",
       "      <td>3,279,343,543.60</td>\n",
       "      <td>3,648,573,136.15</td>\n",
       "      <td>NaN</td>\n",
       "    </tr>\n",
       "    <tr>\n",
       "      <th>1</th>\n",
       "      <td>Africa Eastern and Southern</td>\n",
       "      <td>AFE</td>\n",
       "      <td>GDP (current US$)</td>\n",
       "      <td>NY.GDP.MKTP.CD</td>\n",
       "      <td>24,210,632,546.41</td>\n",
       "      <td>24,963,977,550.73</td>\n",
       "      <td>27,078,797,298.77</td>\n",
       "      <td>31,775,749,181.24</td>\n",
       "      <td>30,285,794,056.93</td>\n",
       "      <td>33,813,171,214.32</td>\n",
       "      <td>...</td>\n",
       "      <td>898,277,807,343.01</td>\n",
       "      <td>828,942,805,457.76</td>\n",
       "      <td>972,998,927,353.68</td>\n",
       "      <td>1,012,306,000,425.25</td>\n",
       "      <td>1,009,721,174,054.91</td>\n",
       "      <td>933,391,782,089.62</td>\n",
       "      <td>1,085,745,178,850.97</td>\n",
       "      <td>1,191,423,176,242.96</td>\n",
       "      <td>1,245,472,471,675.95</td>\n",
       "      <td>NaN</td>\n",
       "    </tr>\n",
       "    <tr>\n",
       "      <th>2</th>\n",
       "      <td>Afghanistan</td>\n",
       "      <td>AFG</td>\n",
       "      <td>GDP (current US$)</td>\n",
       "      <td>NY.GDP.MKTP.CD</td>\n",
       "      <td>NaN</td>\n",
       "      <td>NaN</td>\n",
       "      <td>NaN</td>\n",
       "      <td>NaN</td>\n",
       "      <td>NaN</td>\n",
       "      <td>NaN</td>\n",
       "      <td>...</td>\n",
       "      <td>19,134,221,644.73</td>\n",
       "      <td>18,116,572,395.08</td>\n",
       "      <td>18,753,456,497.82</td>\n",
       "      <td>18,053,222,687.41</td>\n",
       "      <td>18,799,444,490.11</td>\n",
       "      <td>19,955,929,052.15</td>\n",
       "      <td>14,259,995,441.08</td>\n",
       "      <td>14,497,243,872.13</td>\n",
       "      <td>17,233,051,620.11</td>\n",
       "      <td>NaN</td>\n",
       "    </tr>\n",
       "    <tr>\n",
       "      <th>3</th>\n",
       "      <td>Africa Western and Central</td>\n",
       "      <td>AFW</td>\n",
       "      <td>GDP (current US$)</td>\n",
       "      <td>NY.GDP.MKTP.CD</td>\n",
       "      <td>11,904,954,209.79</td>\n",
       "      <td>12,707,877,772.09</td>\n",
       "      <td>13,630,758,805.13</td>\n",
       "      <td>14,469,094,143.85</td>\n",
       "      <td>15,803,761,887.02</td>\n",
       "      <td>16,921,087,954.57</td>\n",
       "      <td>...</td>\n",
       "      <td>771,766,914,345.16</td>\n",
       "      <td>694,360,980,069.46</td>\n",
       "      <td>687,849,196,676.20</td>\n",
       "      <td>770,494,988,148.76</td>\n",
       "      <td>826,483,769,985.13</td>\n",
       "      <td>789,801,651,563.29</td>\n",
       "      <td>849,312,422,223.20</td>\n",
       "      <td>883,973,910,898.85</td>\n",
       "      <td>799,105,950,273.83</td>\n",
       "      <td>NaN</td>\n",
       "    </tr>\n",
       "    <tr>\n",
       "      <th>4</th>\n",
       "      <td>Angola</td>\n",
       "      <td>AGO</td>\n",
       "      <td>GDP (current US$)</td>\n",
       "      <td>NY.GDP.MKTP.CD</td>\n",
       "      <td>NaN</td>\n",
       "      <td>NaN</td>\n",
       "      <td>NaN</td>\n",
       "      <td>NaN</td>\n",
       "      <td>NaN</td>\n",
       "      <td>NaN</td>\n",
       "      <td>...</td>\n",
       "      <td>90,496,420,506.60</td>\n",
       "      <td>52,761,617,225.93</td>\n",
       "      <td>73,690,154,990.73</td>\n",
       "      <td>79,450,688,259.37</td>\n",
       "      <td>70,897,962,732.03</td>\n",
       "      <td>48,501,561,203.57</td>\n",
       "      <td>66,505,129,987.72</td>\n",
       "      <td>104,399,746,853.40</td>\n",
       "      <td>84,824,654,481.72</td>\n",
       "      <td>NaN</td>\n",
       "    </tr>\n",
       "  </tbody>\n",
       "</table>\n",
       "<p>5 rows × 69 columns</p>\n",
       "</div>"
      ],
      "text/plain": [
       "                  country_name country_code     Indicator Name  \\\n",
       "0                        Aruba          ABW  GDP (current US$)   \n",
       "1  Africa Eastern and Southern          AFE  GDP (current US$)   \n",
       "2                  Afghanistan          AFG  GDP (current US$)   \n",
       "3   Africa Western and Central          AFW  GDP (current US$)   \n",
       "4                       Angola          AGO  GDP (current US$)   \n",
       "\n",
       "   Indicator Code              1960              1961              1962  \\\n",
       "0  NY.GDP.MKTP.CD               NaN               NaN               NaN   \n",
       "1  NY.GDP.MKTP.CD 24,210,632,546.41 24,963,977,550.73 27,078,797,298.77   \n",
       "2  NY.GDP.MKTP.CD               NaN               NaN               NaN   \n",
       "3  NY.GDP.MKTP.CD 11,904,954,209.79 12,707,877,772.09 13,630,758,805.13   \n",
       "4  NY.GDP.MKTP.CD               NaN               NaN               NaN   \n",
       "\n",
       "               1963              1964              1965  ...  \\\n",
       "0               NaN               NaN               NaN  ...   \n",
       "1 31,775,749,181.24 30,285,794,056.93 33,813,171,214.32  ...   \n",
       "2               NaN               NaN               NaN  ...   \n",
       "3 14,469,094,143.85 15,803,761,887.02 16,921,087,954.57  ...   \n",
       "4               NaN               NaN               NaN  ...   \n",
       "\n",
       "                2015               2016               2017  \\\n",
       "0   2,962,907,262.57   2,983,635,195.53   3,092,429,050.28   \n",
       "1 898,277,807,343.01 828,942,805,457.76 972,998,927,353.68   \n",
       "2  19,134,221,644.73  18,116,572,395.08  18,753,456,497.82   \n",
       "3 771,766,914,345.16 694,360,980,069.46 687,849,196,676.20   \n",
       "4  90,496,420,506.60  52,761,617,225.93  73,690,154,990.73   \n",
       "\n",
       "                  2018                 2019               2020  \\\n",
       "0     3,276,184,357.54     3,395,798,882.68   2,481,857,122.84   \n",
       "1 1,012,306,000,425.25 1,009,721,174,054.91 933,391,782,089.62   \n",
       "2    18,053,222,687.41    18,799,444,490.11  19,955,929,052.15   \n",
       "3   770,494,988,148.76   826,483,769,985.13 789,801,651,563.29   \n",
       "4    79,450,688,259.37    70,897,962,732.03  48,501,561,203.57   \n",
       "\n",
       "                  2021                 2022                 2023  Unnamed: 68  \n",
       "0     2,929,446,578.25     3,279,343,543.60     3,648,573,136.15          NaN  \n",
       "1 1,085,745,178,850.97 1,191,423,176,242.96 1,245,472,471,675.95          NaN  \n",
       "2    14,259,995,441.08    14,497,243,872.13    17,233,051,620.11          NaN  \n",
       "3   849,312,422,223.20   883,973,910,898.85   799,105,950,273.83          NaN  \n",
       "4    66,505,129,987.72   104,399,746,853.40    84,824,654,481.72          NaN  \n",
       "\n",
       "[5 rows x 69 columns]"
      ]
     },
     "execution_count": 43,
     "metadata": {},
     "output_type": "execute_result"
    }
   ],
   "source": [
    "raw_gdp_total_df.head()"
   ]
  },
  {
   "cell_type": "markdown",
   "metadata": {},
   "source": [
    "## Keeping only country code and gdp data"
   ]
  },
  {
   "cell_type": "code",
   "execution_count": 44,
   "metadata": {},
   "outputs": [],
   "source": [
    "col_years = [*map(str, range(1960, 2024))]"
   ]
  },
  {
   "cell_type": "code",
   "execution_count": 45,
   "metadata": {},
   "outputs": [],
   "source": [
    "columns = [\"country_code\"] + col_years"
   ]
  },
  {
   "cell_type": "code",
   "execution_count": 46,
   "metadata": {},
   "outputs": [],
   "source": [
    "raw_gdp_total_df = raw_gdp_total_df[columns].reset_index(drop=True)"
   ]
  },
  {
   "cell_type": "code",
   "execution_count": 47,
   "metadata": {},
   "outputs": [
    {
     "data": {
      "text/html": [
       "<div>\n",
       "<style scoped>\n",
       "    .dataframe tbody tr th:only-of-type {\n",
       "        vertical-align: middle;\n",
       "    }\n",
       "\n",
       "    .dataframe tbody tr th {\n",
       "        vertical-align: top;\n",
       "    }\n",
       "\n",
       "    .dataframe thead th {\n",
       "        text-align: right;\n",
       "    }\n",
       "</style>\n",
       "<table border=\"1\" class=\"dataframe\">\n",
       "  <thead>\n",
       "    <tr style=\"text-align: right;\">\n",
       "      <th></th>\n",
       "      <th>country_code</th>\n",
       "      <th>1960</th>\n",
       "      <th>1961</th>\n",
       "      <th>1962</th>\n",
       "      <th>1963</th>\n",
       "      <th>1964</th>\n",
       "      <th>1965</th>\n",
       "      <th>1966</th>\n",
       "      <th>1967</th>\n",
       "      <th>1968</th>\n",
       "      <th>...</th>\n",
       "      <th>2014</th>\n",
       "      <th>2015</th>\n",
       "      <th>2016</th>\n",
       "      <th>2017</th>\n",
       "      <th>2018</th>\n",
       "      <th>2019</th>\n",
       "      <th>2020</th>\n",
       "      <th>2021</th>\n",
       "      <th>2022</th>\n",
       "      <th>2023</th>\n",
       "    </tr>\n",
       "  </thead>\n",
       "  <tbody>\n",
       "    <tr>\n",
       "      <th>0</th>\n",
       "      <td>ABW</td>\n",
       "      <td>NaN</td>\n",
       "      <td>NaN</td>\n",
       "      <td>NaN</td>\n",
       "      <td>NaN</td>\n",
       "      <td>NaN</td>\n",
       "      <td>NaN</td>\n",
       "      <td>NaN</td>\n",
       "      <td>NaN</td>\n",
       "      <td>NaN</td>\n",
       "      <td>...</td>\n",
       "      <td>2,790,849,720.67</td>\n",
       "      <td>2,962,907,262.57</td>\n",
       "      <td>2,983,635,195.53</td>\n",
       "      <td>3,092,429,050.28</td>\n",
       "      <td>3,276,184,357.54</td>\n",
       "      <td>3,395,798,882.68</td>\n",
       "      <td>2,481,857,122.84</td>\n",
       "      <td>2,929,446,578.25</td>\n",
       "      <td>3,279,343,543.60</td>\n",
       "      <td>3,648,573,136.15</td>\n",
       "    </tr>\n",
       "    <tr>\n",
       "      <th>1</th>\n",
       "      <td>AFE</td>\n",
       "      <td>24,210,632,546.41</td>\n",
       "      <td>24,963,977,550.73</td>\n",
       "      <td>27,078,797,298.77</td>\n",
       "      <td>31,775,749,181.24</td>\n",
       "      <td>30,285,794,056.93</td>\n",
       "      <td>33,813,171,214.32</td>\n",
       "      <td>36,934,974,916.79</td>\n",
       "      <td>38,452,170,915.87</td>\n",
       "      <td>41,750,716,742.67</td>\n",
       "      <td>...</td>\n",
       "      <td>978,708,260,612.87</td>\n",
       "      <td>898,277,807,343.01</td>\n",
       "      <td>828,942,805,457.76</td>\n",
       "      <td>972,998,927,353.68</td>\n",
       "      <td>1,012,306,000,425.25</td>\n",
       "      <td>1,009,721,174,054.91</td>\n",
       "      <td>933,391,782,089.62</td>\n",
       "      <td>1,085,745,178,850.97</td>\n",
       "      <td>1,191,423,176,242.96</td>\n",
       "      <td>1,245,472,471,675.95</td>\n",
       "    </tr>\n",
       "    <tr>\n",
       "      <th>2</th>\n",
       "      <td>AFG</td>\n",
       "      <td>NaN</td>\n",
       "      <td>NaN</td>\n",
       "      <td>NaN</td>\n",
       "      <td>NaN</td>\n",
       "      <td>NaN</td>\n",
       "      <td>NaN</td>\n",
       "      <td>NaN</td>\n",
       "      <td>NaN</td>\n",
       "      <td>NaN</td>\n",
       "      <td>...</td>\n",
       "      <td>20,497,128,555.70</td>\n",
       "      <td>19,134,221,644.73</td>\n",
       "      <td>18,116,572,395.08</td>\n",
       "      <td>18,753,456,497.82</td>\n",
       "      <td>18,053,222,687.41</td>\n",
       "      <td>18,799,444,490.11</td>\n",
       "      <td>19,955,929,052.15</td>\n",
       "      <td>14,259,995,441.08</td>\n",
       "      <td>14,497,243,872.13</td>\n",
       "      <td>17,233,051,620.11</td>\n",
       "    </tr>\n",
       "    <tr>\n",
       "      <th>3</th>\n",
       "      <td>AFW</td>\n",
       "      <td>11,904,954,209.79</td>\n",
       "      <td>12,707,877,772.09</td>\n",
       "      <td>13,630,758,805.13</td>\n",
       "      <td>14,469,094,143.85</td>\n",
       "      <td>15,803,761,887.02</td>\n",
       "      <td>16,921,087,954.57</td>\n",
       "      <td>18,034,172,573.26</td>\n",
       "      <td>16,493,747,239.31</td>\n",
       "      <td>17,022,809,177.19</td>\n",
       "      <td>...</td>\n",
       "      <td>897,415,713,447.02</td>\n",
       "      <td>771,766,914,345.16</td>\n",
       "      <td>694,360,980,069.46</td>\n",
       "      <td>687,849,196,676.20</td>\n",
       "      <td>770,494,988,148.76</td>\n",
       "      <td>826,483,769,985.13</td>\n",
       "      <td>789,801,651,563.29</td>\n",
       "      <td>849,312,422,223.20</td>\n",
       "      <td>883,973,910,898.85</td>\n",
       "      <td>799,105,950,273.83</td>\n",
       "    </tr>\n",
       "    <tr>\n",
       "      <th>4</th>\n",
       "      <td>AGO</td>\n",
       "      <td>NaN</td>\n",
       "      <td>NaN</td>\n",
       "      <td>NaN</td>\n",
       "      <td>NaN</td>\n",
       "      <td>NaN</td>\n",
       "      <td>NaN</td>\n",
       "      <td>NaN</td>\n",
       "      <td>NaN</td>\n",
       "      <td>NaN</td>\n",
       "      <td>...</td>\n",
       "      <td>135,966,802,586.71</td>\n",
       "      <td>90,496,420,506.60</td>\n",
       "      <td>52,761,617,225.93</td>\n",
       "      <td>73,690,154,990.73</td>\n",
       "      <td>79,450,688,259.37</td>\n",
       "      <td>70,897,962,732.03</td>\n",
       "      <td>48,501,561,203.57</td>\n",
       "      <td>66,505,129,987.72</td>\n",
       "      <td>104,399,746,853.40</td>\n",
       "      <td>84,824,654,481.72</td>\n",
       "    </tr>\n",
       "  </tbody>\n",
       "</table>\n",
       "<p>5 rows × 65 columns</p>\n",
       "</div>"
      ],
      "text/plain": [
       "  country_code              1960              1961              1962  \\\n",
       "0          ABW               NaN               NaN               NaN   \n",
       "1          AFE 24,210,632,546.41 24,963,977,550.73 27,078,797,298.77   \n",
       "2          AFG               NaN               NaN               NaN   \n",
       "3          AFW 11,904,954,209.79 12,707,877,772.09 13,630,758,805.13   \n",
       "4          AGO               NaN               NaN               NaN   \n",
       "\n",
       "               1963              1964              1965              1966  \\\n",
       "0               NaN               NaN               NaN               NaN   \n",
       "1 31,775,749,181.24 30,285,794,056.93 33,813,171,214.32 36,934,974,916.79   \n",
       "2               NaN               NaN               NaN               NaN   \n",
       "3 14,469,094,143.85 15,803,761,887.02 16,921,087,954.57 18,034,172,573.26   \n",
       "4               NaN               NaN               NaN               NaN   \n",
       "\n",
       "               1967              1968  ...               2014  \\\n",
       "0               NaN               NaN  ...   2,790,849,720.67   \n",
       "1 38,452,170,915.87 41,750,716,742.67  ... 978,708,260,612.87   \n",
       "2               NaN               NaN  ...  20,497,128,555.70   \n",
       "3 16,493,747,239.31 17,022,809,177.19  ... 897,415,713,447.02   \n",
       "4               NaN               NaN  ... 135,966,802,586.71   \n",
       "\n",
       "                2015               2016               2017  \\\n",
       "0   2,962,907,262.57   2,983,635,195.53   3,092,429,050.28   \n",
       "1 898,277,807,343.01 828,942,805,457.76 972,998,927,353.68   \n",
       "2  19,134,221,644.73  18,116,572,395.08  18,753,456,497.82   \n",
       "3 771,766,914,345.16 694,360,980,069.46 687,849,196,676.20   \n",
       "4  90,496,420,506.60  52,761,617,225.93  73,690,154,990.73   \n",
       "\n",
       "                  2018                 2019               2020  \\\n",
       "0     3,276,184,357.54     3,395,798,882.68   2,481,857,122.84   \n",
       "1 1,012,306,000,425.25 1,009,721,174,054.91 933,391,782,089.62   \n",
       "2    18,053,222,687.41    18,799,444,490.11  19,955,929,052.15   \n",
       "3   770,494,988,148.76   826,483,769,985.13 789,801,651,563.29   \n",
       "4    79,450,688,259.37    70,897,962,732.03  48,501,561,203.57   \n",
       "\n",
       "                  2021                 2022                 2023  \n",
       "0     2,929,446,578.25     3,279,343,543.60     3,648,573,136.15  \n",
       "1 1,085,745,178,850.97 1,191,423,176,242.96 1,245,472,471,675.95  \n",
       "2    14,259,995,441.08    14,497,243,872.13    17,233,051,620.11  \n",
       "3   849,312,422,223.20   883,973,910,898.85   799,105,950,273.83  \n",
       "4    66,505,129,987.72   104,399,746,853.40    84,824,654,481.72  \n",
       "\n",
       "[5 rows x 65 columns]"
      ]
     },
     "execution_count": 47,
     "metadata": {},
     "output_type": "execute_result"
    }
   ],
   "source": [
    "raw_gdp_total_df.head()"
   ]
  },
  {
   "cell_type": "code",
   "execution_count": 48,
   "metadata": {},
   "outputs": [],
   "source": [
    "# Reshaping the raw_gdp_total_df DataFrame from wide to long format by converting the GDP total data from columns (with years starting from 1960) into rows\n",
    "gdp_total_df = raw_gdp_total_df.melt(\n",
    "    id_vars=[\"country_code\"], var_name=\"year\", value_name=\"gdp_total\"\n",
    ")"
   ]
  },
  {
   "cell_type": "code",
   "execution_count": 49,
   "metadata": {},
   "outputs": [
    {
     "name": "stdout",
     "output_type": "stream",
     "text": [
      "country_code column initial type:\n",
      "object\n",
      "============================================================\n",
      "country_code column final type:\n",
      "category\n",
      "============================================================\n",
      "year column initial type:\n",
      "object\n",
      "============================================================\n",
      "year column final type:\n",
      "category\n",
      "============================================================\n"
     ]
    }
   ],
   "source": [
    "# Switching to the 'category' data type for categorical columns\n",
    "categorical_columns = [\"country_code\", \"year\"]\n",
    "gdp_total_df = switch_to_dtype(\n",
    "    gdp_total_df, default_dtype=\"category\", categorical_columns=categorical_columns\n",
    ")"
   ]
  },
  {
   "cell_type": "code",
   "execution_count": 50,
   "metadata": {},
   "outputs": [
    {
     "name": "stdout",
     "output_type": "stream",
     "text": [
      "['df', <class 'pandas.core.frame.DataFrame'>]\n",
      "============================================================\n",
      "shape:\n",
      "(17024, 3)\n",
      "============================================================\n",
      "data types:\n",
      "country_code    category\n",
      "year            category\n",
      "gdp_total        float64\n",
      "dtype: object\n",
      "============================================================\n",
      "columns:\n",
      "['country_code', 'year', 'gdp_total']\n",
      "============================================================\n",
      "                   gdp_total\n",
      "count              14,307.00\n",
      "mean    1,184,720,366,607.38\n",
      "std     5,489,323,660,834.09\n",
      "min             2,585,955.87\n",
      "25%         2,293,505,255.48\n",
      "50%        16,921,087,954.57\n",
      "75%       201,302,545,054.44\n",
      "max   106,171,667,873,321.00\n",
      "============================================================\n",
      "Total memory usage: 217660 bytes\n",
      "============================================================\n"
     ]
    }
   ],
   "source": [
    "df_stats(gdp_total_df)"
   ]
  },
  {
   "cell_type": "code",
   "execution_count": 51,
   "metadata": {},
   "outputs": [
    {
     "data": {
      "text/html": [
       "<div>\n",
       "<style scoped>\n",
       "    .dataframe tbody tr th:only-of-type {\n",
       "        vertical-align: middle;\n",
       "    }\n",
       "\n",
       "    .dataframe tbody tr th {\n",
       "        vertical-align: top;\n",
       "    }\n",
       "\n",
       "    .dataframe thead th {\n",
       "        text-align: right;\n",
       "    }\n",
       "</style>\n",
       "<table border=\"1\" class=\"dataframe\">\n",
       "  <thead>\n",
       "    <tr style=\"text-align: right;\">\n",
       "      <th></th>\n",
       "      <th>country_code</th>\n",
       "      <th>year</th>\n",
       "      <th>gdp_total</th>\n",
       "    </tr>\n",
       "  </thead>\n",
       "  <tbody>\n",
       "    <tr>\n",
       "      <th>0</th>\n",
       "      <td>ABW</td>\n",
       "      <td>1960</td>\n",
       "      <td>NaN</td>\n",
       "    </tr>\n",
       "    <tr>\n",
       "      <th>1</th>\n",
       "      <td>AFE</td>\n",
       "      <td>1960</td>\n",
       "      <td>24,210,632,546.41</td>\n",
       "    </tr>\n",
       "    <tr>\n",
       "      <th>2</th>\n",
       "      <td>AFG</td>\n",
       "      <td>1960</td>\n",
       "      <td>NaN</td>\n",
       "    </tr>\n",
       "    <tr>\n",
       "      <th>3</th>\n",
       "      <td>AFW</td>\n",
       "      <td>1960</td>\n",
       "      <td>11,904,954,209.79</td>\n",
       "    </tr>\n",
       "    <tr>\n",
       "      <th>4</th>\n",
       "      <td>AGO</td>\n",
       "      <td>1960</td>\n",
       "      <td>NaN</td>\n",
       "    </tr>\n",
       "  </tbody>\n",
       "</table>\n",
       "</div>"
      ],
      "text/plain": [
       "  country_code  year         gdp_total\n",
       "0          ABW  1960               NaN\n",
       "1          AFE  1960 24,210,632,546.41\n",
       "2          AFG  1960               NaN\n",
       "3          AFW  1960 11,904,954,209.79\n",
       "4          AGO  1960               NaN"
      ]
     },
     "execution_count": 51,
     "metadata": {},
     "output_type": "execute_result"
    }
   ],
   "source": [
    "gdp_total_df.head()"
   ]
  },
  {
   "cell_type": "code",
   "execution_count": 52,
   "metadata": {},
   "outputs": [
    {
     "name": "stdout",
     "output_type": "stream",
     "text": [
      "year column initial type:\n",
      "category\n",
      "============================================================\n",
      "year column final type:\n",
      "int16\n",
      "============================================================\n",
      "country_code column initial type:\n",
      "category\n",
      "============================================================\n",
      "country_code column final type:\n",
      "object\n",
      "============================================================\n"
     ]
    }
   ],
   "source": [
    "# Save the gdp total DataFrame to a .dta file\n",
    "output_file_name = \"raw_gdp_total.dta\"\n",
    "dtype_dict = {\"country_code\": \"str\"}\n",
    "save_hs92_stata_data(\n",
    "    data=gdp_total_df,\n",
    "    file_location=output_file_location,\n",
    "    file_name=output_file_name,\n",
    "    dtype_dict=dtype_dict,\n",
    ")"
   ]
  },
  {
   "cell_type": "code",
   "execution_count": 53,
   "metadata": {},
   "outputs": [
    {
     "name": "stdout",
     "output_type": "stream",
     "text": [
      "['df', <class 'pandas.core.frame.DataFrame'>]\n",
      "============================================================\n",
      "shape:\n",
      "(17024, 3)\n",
      "============================================================\n",
      "data types:\n",
      "country_code    category\n",
      "year            category\n",
      "gdp_total        float64\n",
      "dtype: object\n",
      "============================================================\n",
      "columns:\n",
      "['country_code', 'year', 'gdp_total']\n",
      "============================================================\n",
      "                   gdp_total\n",
      "count              14,307.00\n",
      "mean    1,184,720,366,607.38\n",
      "std     5,489,323,660,834.09\n",
      "min             2,585,955.87\n",
      "25%         2,293,505,255.48\n",
      "50%        16,921,087,954.57\n",
      "75%       201,302,545,054.44\n",
      "max   106,171,667,873,321.00\n",
      "============================================================\n",
      "Total memory usage: 217660 bytes\n",
      "============================================================\n"
     ]
    }
   ],
   "source": [
    "df_stats(gdp_total_df)"
   ]
  },
  {
   "cell_type": "code",
   "execution_count": 54,
   "metadata": {},
   "outputs": [
    {
     "data": {
      "text/plain": [
       "21"
      ]
     },
     "execution_count": 54,
     "metadata": {},
     "output_type": "execute_result"
    }
   ],
   "source": [
    "del raw_gdp_total_df\n",
    "gc.collect()"
   ]
  },
  {
   "cell_type": "markdown",
   "metadata": {},
   "source": [
    "## Analyzing raw GDP PCAP (per capita) data"
   ]
  },
  {
   "cell_type": "code",
   "execution_count": 55,
   "metadata": {},
   "outputs": [
    {
     "name": "stdout",
     "output_type": "stream",
     "text": [
      "['df', <class 'pandas.core.frame.DataFrame'>]\n",
      "============================================================\n",
      "shape:\n",
      "(266, 69)\n",
      "============================================================\n",
      "data types:\n",
      "country_name       object\n",
      "country_code       object\n",
      "Indicator Name     object\n",
      "Indicator Code     object\n",
      "1960              float64\n",
      "                   ...   \n",
      "2020              float64\n",
      "2021              float64\n",
      "2022              float64\n",
      "2023              float64\n",
      "Unnamed: 68       float64\n",
      "Length: 69, dtype: object\n",
      "============================================================\n",
      "columns:\n",
      "['country_name', 'country_code', 'Indicator Name', 'Indicator Code', '1960', '1961', '1962', '1963', '1964', '1965', '1966', '1967', '1968', '1969', '1970', '1971', '1972', '1973', '1974', '1975', '1976', '1977', '1978', '1979', '1980', '1981', '1982', '1983', '1984', '1985', '1986', '1987', '1988', '1989', '1990', '1991', '1992', '1993', '1994', '1995', '1996', '1997', '1998', '1999', '2000', '2001', '2002', '2003', '2004', '2005', '2006', '2007', '2008', '2009', '2010', '2011', '2012', '2013', '2014', '2015', '2016', '2017', '2018', '2019', '2020', '2021', '2022', '2023', 'Unnamed: 68']\n",
      "============================================================\n",
      "          1960     1961     1962     1963     1964     1965     1966     1967  \\\n",
      "count   151.00   154.00   157.00   157.00   157.00   163.00   164.00   167.00   \n",
      "mean    467.44   485.09   537.70   567.86   613.68   668.71   712.48   729.50   \n",
      "std     592.17   615.62   727.73   750.45   808.01   837.33   903.75   936.30   \n",
      "min      25.08    27.27    27.95    25.80    17.33    15.12    11.80    16.55   \n",
      "25%     120.50   125.31   130.04   139.01   141.53   155.57   162.75   161.73   \n",
      "50%     220.07   205.02   210.81   231.92   243.90   270.83   280.51   283.73   \n",
      "75%     484.03   505.37   563.42   604.54   694.95   833.21   885.87   844.84   \n",
      "max   2,999.86 3,059.16 4,748.39 4,444.52 4,378.78 4,023.99 4,176.11 4,325.96   \n",
      "\n",
      "          1968     1969  ...       2015       2016       2017       2018  \\\n",
      "count   168.00   168.00  ...     259.00     258.00     258.00     258.00   \n",
      "mean    763.59   827.48  ...  15,670.46  15,797.16  16,607.58  17,589.29   \n",
      "std     982.89 1,059.40  ...  23,568.14  23,691.90  24,446.35  25,945.05   \n",
      "min      21.55    21.51  ...     280.97     235.29     236.69     224.90   \n",
      "25%     166.23   175.15  ...   1,999.69   1,952.49   2,153.34   2,147.30   \n",
      "50%     301.23   316.89  ...   6,154.50   5,968.54   6,446.31   6,865.57   \n",
      "75%     847.35   901.09  ...  19,060.63  19,035.38  20,845.37  22,657.44   \n",
      "max   4,684.59 5,020.00  ... 170,437.10 173,604.75 170,663.38 188,298.32   \n",
      "\n",
      "            2019       2020       2021       2022       2023  Unnamed: 68  \n",
      "count     259.00     258.00     258.00     255.00     243.00         0.00  \n",
      "mean   17,486.41  16,243.39  18,709.69  18,969.63  19,039.36          NaN  \n",
      "std    25,637.96  24,324.27  28,638.43  28,610.22  28,434.63          NaN  \n",
      "min       210.24     210.01     214.09     250.63     193.01          NaN  \n",
      "25%     2,188.02   2,067.93   2,383.32   2,347.93   2,361.88          NaN  \n",
      "50%     6,804.15   6,247.60   7,054.64   7,606.24   7,820.23          NaN  \n",
      "75%    22,462.98  19,516.37  22,099.37  22,914.83  22,717.80          NaN  \n",
      "max   193,746.79 176,891.89 223,823.36 226,052.00 256,580.52          NaN  \n",
      "\n",
      "[8 rows x 65 columns]\n",
      "============================================================\n",
      "Total memory usage: 214364 bytes\n",
      "============================================================\n"
     ]
    }
   ],
   "source": [
    "df_stats(raw_pcap_df)"
   ]
  },
  {
   "cell_type": "code",
   "execution_count": 56,
   "metadata": {},
   "outputs": [
    {
     "data": {
      "text/plain": [
       "array(['NY.GDP.PCAP.CD'], dtype=object)"
      ]
     },
     "execution_count": 56,
     "metadata": {},
     "output_type": "execute_result"
    }
   ],
   "source": [
    "raw_pcap_df[\"Indicator Code\"].unique()"
   ]
  },
  {
   "cell_type": "code",
   "execution_count": 57,
   "metadata": {},
   "outputs": [
    {
     "data": {
      "text/plain": [
       "Indicator Code\n",
       "NY.GDP.PCAP.CD    266\n",
       "Name: count, dtype: int64"
      ]
     },
     "execution_count": 57,
     "metadata": {},
     "output_type": "execute_result"
    }
   ],
   "source": [
    "raw_pcap_df[\"Indicator Code\"].value_counts()"
   ]
  },
  {
   "cell_type": "code",
   "execution_count": 58,
   "metadata": {},
   "outputs": [
    {
     "data": {
      "text/html": [
       "<div>\n",
       "<style scoped>\n",
       "    .dataframe tbody tr th:only-of-type {\n",
       "        vertical-align: middle;\n",
       "    }\n",
       "\n",
       "    .dataframe tbody tr th {\n",
       "        vertical-align: top;\n",
       "    }\n",
       "\n",
       "    .dataframe thead th {\n",
       "        text-align: right;\n",
       "    }\n",
       "</style>\n",
       "<table border=\"1\" class=\"dataframe\">\n",
       "  <thead>\n",
       "    <tr style=\"text-align: right;\">\n",
       "      <th></th>\n",
       "      <th>country_name</th>\n",
       "      <th>country_code</th>\n",
       "      <th>Indicator Name</th>\n",
       "      <th>Indicator Code</th>\n",
       "      <th>1960</th>\n",
       "      <th>1961</th>\n",
       "      <th>1962</th>\n",
       "      <th>1963</th>\n",
       "      <th>1964</th>\n",
       "      <th>1965</th>\n",
       "      <th>...</th>\n",
       "      <th>2015</th>\n",
       "      <th>2016</th>\n",
       "      <th>2017</th>\n",
       "      <th>2018</th>\n",
       "      <th>2019</th>\n",
       "      <th>2020</th>\n",
       "      <th>2021</th>\n",
       "      <th>2022</th>\n",
       "      <th>2023</th>\n",
       "      <th>Unnamed: 68</th>\n",
       "    </tr>\n",
       "  </thead>\n",
       "  <tbody>\n",
       "    <tr>\n",
       "      <th>0</th>\n",
       "      <td>Aruba</td>\n",
       "      <td>ABW</td>\n",
       "      <td>GDP per capita (current US$)</td>\n",
       "      <td>NY.GDP.PCAP.CD</td>\n",
       "      <td>NaN</td>\n",
       "      <td>NaN</td>\n",
       "      <td>NaN</td>\n",
       "      <td>NaN</td>\n",
       "      <td>NaN</td>\n",
       "      <td>NaN</td>\n",
       "      <td>...</td>\n",
       "      <td>27,458.23</td>\n",
       "      <td>27,441.53</td>\n",
       "      <td>28,440.05</td>\n",
       "      <td>30,082.13</td>\n",
       "      <td>31,096.21</td>\n",
       "      <td>22,855.93</td>\n",
       "      <td>27,200.06</td>\n",
       "      <td>30,559.53</td>\n",
       "      <td>33,984.79</td>\n",
       "      <td>NaN</td>\n",
       "    </tr>\n",
       "    <tr>\n",
       "      <th>1</th>\n",
       "      <td>Africa Eastern and Southern</td>\n",
       "      <td>AFE</td>\n",
       "      <td>GDP per capita (current US$)</td>\n",
       "      <td>NY.GDP.PCAP.CD</td>\n",
       "      <td>186.13</td>\n",
       "      <td>186.95</td>\n",
       "      <td>197.41</td>\n",
       "      <td>225.45</td>\n",
       "      <td>209.01</td>\n",
       "      <td>226.88</td>\n",
       "      <td>...</td>\n",
       "      <td>1,479.56</td>\n",
       "      <td>1,329.78</td>\n",
       "      <td>1,520.17</td>\n",
       "      <td>1,538.92</td>\n",
       "      <td>1,493.78</td>\n",
       "      <td>1,344.08</td>\n",
       "      <td>1,522.59</td>\n",
       "      <td>1,628.02</td>\n",
       "      <td>1,659.52</td>\n",
       "      <td>NaN</td>\n",
       "    </tr>\n",
       "    <tr>\n",
       "      <th>2</th>\n",
       "      <td>Afghanistan</td>\n",
       "      <td>AFG</td>\n",
       "      <td>GDP per capita (current US$)</td>\n",
       "      <td>NY.GDP.PCAP.CD</td>\n",
       "      <td>NaN</td>\n",
       "      <td>NaN</td>\n",
       "      <td>NaN</td>\n",
       "      <td>NaN</td>\n",
       "      <td>NaN</td>\n",
       "      <td>NaN</td>\n",
       "      <td>...</td>\n",
       "      <td>565.57</td>\n",
       "      <td>522.08</td>\n",
       "      <td>525.47</td>\n",
       "      <td>491.34</td>\n",
       "      <td>496.60</td>\n",
       "      <td>510.79</td>\n",
       "      <td>356.50</td>\n",
       "      <td>357.26</td>\n",
       "      <td>415.71</td>\n",
       "      <td>NaN</td>\n",
       "    </tr>\n",
       "    <tr>\n",
       "      <th>3</th>\n",
       "      <td>Africa Western and Central</td>\n",
       "      <td>AFW</td>\n",
       "      <td>GDP per capita (current US$)</td>\n",
       "      <td>NY.GDP.PCAP.CD</td>\n",
       "      <td>121.94</td>\n",
       "      <td>127.45</td>\n",
       "      <td>133.83</td>\n",
       "      <td>139.01</td>\n",
       "      <td>148.55</td>\n",
       "      <td>155.56</td>\n",
       "      <td>...</td>\n",
       "      <td>1,845.77</td>\n",
       "      <td>1,616.84</td>\n",
       "      <td>1,560.16</td>\n",
       "      <td>1,703.90</td>\n",
       "      <td>1,783.65</td>\n",
       "      <td>1,664.25</td>\n",
       "      <td>1,747.84</td>\n",
       "      <td>1,777.24</td>\n",
       "      <td>1,568.72</td>\n",
       "      <td>NaN</td>\n",
       "    </tr>\n",
       "    <tr>\n",
       "      <th>4</th>\n",
       "      <td>Angola</td>\n",
       "      <td>AGO</td>\n",
       "      <td>GDP per capita (current US$)</td>\n",
       "      <td>NY.GDP.PCAP.CD</td>\n",
       "      <td>NaN</td>\n",
       "      <td>NaN</td>\n",
       "      <td>NaN</td>\n",
       "      <td>NaN</td>\n",
       "      <td>NaN</td>\n",
       "      <td>NaN</td>\n",
       "      <td>...</td>\n",
       "      <td>3,213.90</td>\n",
       "      <td>1,807.95</td>\n",
       "      <td>2,437.26</td>\n",
       "      <td>2,538.59</td>\n",
       "      <td>2,189.86</td>\n",
       "      <td>1,449.92</td>\n",
       "      <td>1,925.87</td>\n",
       "      <td>2,929.69</td>\n",
       "      <td>2,308.16</td>\n",
       "      <td>NaN</td>\n",
       "    </tr>\n",
       "  </tbody>\n",
       "</table>\n",
       "<p>5 rows × 69 columns</p>\n",
       "</div>"
      ],
      "text/plain": [
       "                  country_name country_code                Indicator Name  \\\n",
       "0                        Aruba          ABW  GDP per capita (current US$)   \n",
       "1  Africa Eastern and Southern          AFE  GDP per capita (current US$)   \n",
       "2                  Afghanistan          AFG  GDP per capita (current US$)   \n",
       "3   Africa Western and Central          AFW  GDP per capita (current US$)   \n",
       "4                       Angola          AGO  GDP per capita (current US$)   \n",
       "\n",
       "   Indicator Code   1960   1961   1962   1963   1964   1965  ...      2015  \\\n",
       "0  NY.GDP.PCAP.CD    NaN    NaN    NaN    NaN    NaN    NaN  ... 27,458.23   \n",
       "1  NY.GDP.PCAP.CD 186.13 186.95 197.41 225.45 209.01 226.88  ...  1,479.56   \n",
       "2  NY.GDP.PCAP.CD    NaN    NaN    NaN    NaN    NaN    NaN  ...    565.57   \n",
       "3  NY.GDP.PCAP.CD 121.94 127.45 133.83 139.01 148.55 155.56  ...  1,845.77   \n",
       "4  NY.GDP.PCAP.CD    NaN    NaN    NaN    NaN    NaN    NaN  ...  3,213.90   \n",
       "\n",
       "       2016      2017      2018      2019      2020      2021      2022  \\\n",
       "0 27,441.53 28,440.05 30,082.13 31,096.21 22,855.93 27,200.06 30,559.53   \n",
       "1  1,329.78  1,520.17  1,538.92  1,493.78  1,344.08  1,522.59  1,628.02   \n",
       "2    522.08    525.47    491.34    496.60    510.79    356.50    357.26   \n",
       "3  1,616.84  1,560.16  1,703.90  1,783.65  1,664.25  1,747.84  1,777.24   \n",
       "4  1,807.95  2,437.26  2,538.59  2,189.86  1,449.92  1,925.87  2,929.69   \n",
       "\n",
       "       2023  Unnamed: 68  \n",
       "0 33,984.79          NaN  \n",
       "1  1,659.52          NaN  \n",
       "2    415.71          NaN  \n",
       "3  1,568.72          NaN  \n",
       "4  2,308.16          NaN  \n",
       "\n",
       "[5 rows x 69 columns]"
      ]
     },
     "execution_count": 58,
     "metadata": {},
     "output_type": "execute_result"
    }
   ],
   "source": [
    "raw_pcap_df.head()"
   ]
  },
  {
   "cell_type": "markdown",
   "metadata": {},
   "source": [
    "## Analyzing locations data"
   ]
  },
  {
   "cell_type": "code",
   "execution_count": 59,
   "metadata": {},
   "outputs": [],
   "source": [
    "location_gdp_pcap = raw_pcap_df[[\"country_code\", \"country_name\"]].sort_values(\n",
    "    by=[\"country_code\"]\n",
    ")"
   ]
  },
  {
   "cell_type": "code",
   "execution_count": 60,
   "metadata": {},
   "outputs": [
    {
     "data": {
      "text/plain": [
       "(266, 2)"
      ]
     },
     "execution_count": 60,
     "metadata": {},
     "output_type": "execute_result"
    }
   ],
   "source": [
    "location_gdp_pcap.shape"
   ]
  },
  {
   "cell_type": "code",
   "execution_count": 61,
   "metadata": {},
   "outputs": [
    {
     "data": {
      "text/html": [
       "<div>\n",
       "<style scoped>\n",
       "    .dataframe tbody tr th:only-of-type {\n",
       "        vertical-align: middle;\n",
       "    }\n",
       "\n",
       "    .dataframe tbody tr th {\n",
       "        vertical-align: top;\n",
       "    }\n",
       "\n",
       "    .dataframe thead th {\n",
       "        text-align: right;\n",
       "    }\n",
       "</style>\n",
       "<table border=\"1\" class=\"dataframe\">\n",
       "  <thead>\n",
       "    <tr style=\"text-align: right;\">\n",
       "      <th></th>\n",
       "      <th>country_code</th>\n",
       "      <th>country_name</th>\n",
       "    </tr>\n",
       "  </thead>\n",
       "  <tbody>\n",
       "    <tr>\n",
       "      <th>0</th>\n",
       "      <td>ABW</td>\n",
       "      <td>Aruba</td>\n",
       "    </tr>\n",
       "    <tr>\n",
       "      <th>1</th>\n",
       "      <td>AFE</td>\n",
       "      <td>Africa Eastern and Southern</td>\n",
       "    </tr>\n",
       "    <tr>\n",
       "      <th>2</th>\n",
       "      <td>AFG</td>\n",
       "      <td>Afghanistan</td>\n",
       "    </tr>\n",
       "    <tr>\n",
       "      <th>3</th>\n",
       "      <td>AFW</td>\n",
       "      <td>Africa Western and Central</td>\n",
       "    </tr>\n",
       "    <tr>\n",
       "      <th>4</th>\n",
       "      <td>AGO</td>\n",
       "      <td>Angola</td>\n",
       "    </tr>\n",
       "  </tbody>\n",
       "</table>\n",
       "</div>"
      ],
      "text/plain": [
       "  country_code                 country_name\n",
       "0          ABW                        Aruba\n",
       "1          AFE  Africa Eastern and Southern\n",
       "2          AFG                  Afghanistan\n",
       "3          AFW   Africa Western and Central\n",
       "4          AGO                       Angola"
      ]
     },
     "execution_count": 61,
     "metadata": {},
     "output_type": "execute_result"
    }
   ],
   "source": [
    "location_gdp_pcap.head()"
   ]
  },
  {
   "cell_type": "code",
   "execution_count": 62,
   "metadata": {},
   "outputs": [
    {
     "data": {
      "text/html": [
       "<div>\n",
       "<style scoped>\n",
       "    .dataframe tbody tr th:only-of-type {\n",
       "        vertical-align: middle;\n",
       "    }\n",
       "\n",
       "    .dataframe tbody tr th {\n",
       "        vertical-align: top;\n",
       "    }\n",
       "\n",
       "    .dataframe thead th {\n",
       "        text-align: right;\n",
       "    }\n",
       "</style>\n",
       "<table border=\"1\" class=\"dataframe\">\n",
       "  <thead>\n",
       "    <tr style=\"text-align: right;\">\n",
       "      <th></th>\n",
       "      <th>country_name</th>\n",
       "      <th>country_code</th>\n",
       "      <th>Indicator Name</th>\n",
       "      <th>Indicator Code</th>\n",
       "      <th>1960</th>\n",
       "      <th>1961</th>\n",
       "      <th>1962</th>\n",
       "      <th>1963</th>\n",
       "      <th>1964</th>\n",
       "      <th>1965</th>\n",
       "      <th>...</th>\n",
       "      <th>2015</th>\n",
       "      <th>2016</th>\n",
       "      <th>2017</th>\n",
       "      <th>2018</th>\n",
       "      <th>2019</th>\n",
       "      <th>2020</th>\n",
       "      <th>2021</th>\n",
       "      <th>2022</th>\n",
       "      <th>2023</th>\n",
       "      <th>Unnamed: 68</th>\n",
       "    </tr>\n",
       "  </thead>\n",
       "  <tbody>\n",
       "    <tr>\n",
       "      <th>259</th>\n",
       "      <td>World</td>\n",
       "      <td>WLD</td>\n",
       "      <td>GDP per capita (current US$)</td>\n",
       "      <td>NY.GDP.PCAP.CD</td>\n",
       "      <td>454.06</td>\n",
       "      <td>472.11</td>\n",
       "      <td>497.41</td>\n",
       "      <td>524.35</td>\n",
       "      <td>562.91</td>\n",
       "      <td>600.87</td>\n",
       "      <td>...</td>\n",
       "      <td>10,142.14</td>\n",
       "      <td>10,188.26</td>\n",
       "      <td>10,731.66</td>\n",
       "      <td>11,288.88</td>\n",
       "      <td>11,334.84</td>\n",
       "      <td>10,916.69</td>\n",
       "      <td>12,352.74</td>\n",
       "      <td>12,737.32</td>\n",
       "      <td>13,169.60</td>\n",
       "      <td>NaN</td>\n",
       "    </tr>\n",
       "  </tbody>\n",
       "</table>\n",
       "<p>1 rows × 69 columns</p>\n",
       "</div>"
      ],
      "text/plain": [
       "    country_name country_code                Indicator Name  Indicator Code  \\\n",
       "259        World          WLD  GDP per capita (current US$)  NY.GDP.PCAP.CD   \n",
       "\n",
       "      1960   1961   1962   1963   1964   1965  ...      2015      2016  \\\n",
       "259 454.06 472.11 497.41 524.35 562.91 600.87  ... 10,142.14 10,188.26   \n",
       "\n",
       "         2017      2018      2019      2020      2021      2022      2023  \\\n",
       "259 10,731.66 11,288.88 11,334.84 10,916.69 12,352.74 12,737.32 13,169.60   \n",
       "\n",
       "     Unnamed: 68  \n",
       "259          NaN  \n",
       "\n",
       "[1 rows x 69 columns]"
      ]
     },
     "execution_count": 62,
     "metadata": {},
     "output_type": "execute_result"
    }
   ],
   "source": [
    "# filtering by the country code 'WLD' (World)\n",
    "raw_pcap_df[raw_pcap_df[\"country_code\"] == \"WLD\"]"
   ]
  },
  {
   "cell_type": "markdown",
   "metadata": {},
   "source": [
    "### Staging locations data (this data we are using later in n06_MOR_visual.ipynb to analyze differences between locations delivered by 'export data' and 'gdp data' files)"
   ]
  },
  {
   "cell_type": "code",
   "execution_count": 63,
   "metadata": {},
   "outputs": [
    {
     "name": "stdout",
     "output_type": "stream",
     "text": [
      "country_code column initial type:\n",
      "object\n",
      "============================================================\n",
      "country_code column final type:\n",
      "object\n",
      "============================================================\n"
     ]
    }
   ],
   "source": [
    "# Save the gdp DataFrame to a .dta file\n",
    "output_file_name = \"location_gdp_pcap.dta\"\n",
    "dtype_dict = {\"country_code\": \"str\", \"country_name\": \"str\"}\n",
    "save_hs92_stata_data(\n",
    "    data=location_gdp_pcap,\n",
    "    file_location=output_file_location,\n",
    "    file_name=output_file_name,\n",
    "    dtype_dict=dtype_dict,\n",
    ")"
   ]
  },
  {
   "cell_type": "markdown",
   "metadata": {},
   "source": [
    "## Keeping only country code and gdp pcap data"
   ]
  },
  {
   "cell_type": "code",
   "execution_count": 64,
   "metadata": {},
   "outputs": [],
   "source": [
    "col_years = [*map(str, range(1960, 2024))]"
   ]
  },
  {
   "cell_type": "code",
   "execution_count": 65,
   "metadata": {},
   "outputs": [],
   "source": [
    "columns = [\"country_code\"] + col_years"
   ]
  },
  {
   "cell_type": "code",
   "execution_count": 66,
   "metadata": {},
   "outputs": [],
   "source": [
    "raw_pcap_df = raw_pcap_df[columns].reset_index(drop=True)"
   ]
  },
  {
   "cell_type": "code",
   "execution_count": 67,
   "metadata": {},
   "outputs": [
    {
     "data": {
      "text/html": [
       "<div>\n",
       "<style scoped>\n",
       "    .dataframe tbody tr th:only-of-type {\n",
       "        vertical-align: middle;\n",
       "    }\n",
       "\n",
       "    .dataframe tbody tr th {\n",
       "        vertical-align: top;\n",
       "    }\n",
       "\n",
       "    .dataframe thead th {\n",
       "        text-align: right;\n",
       "    }\n",
       "</style>\n",
       "<table border=\"1\" class=\"dataframe\">\n",
       "  <thead>\n",
       "    <tr style=\"text-align: right;\">\n",
       "      <th></th>\n",
       "      <th>country_code</th>\n",
       "      <th>1960</th>\n",
       "      <th>1961</th>\n",
       "      <th>1962</th>\n",
       "      <th>1963</th>\n",
       "      <th>1964</th>\n",
       "      <th>1965</th>\n",
       "      <th>1966</th>\n",
       "      <th>1967</th>\n",
       "      <th>1968</th>\n",
       "      <th>...</th>\n",
       "      <th>2014</th>\n",
       "      <th>2015</th>\n",
       "      <th>2016</th>\n",
       "      <th>2017</th>\n",
       "      <th>2018</th>\n",
       "      <th>2019</th>\n",
       "      <th>2020</th>\n",
       "      <th>2021</th>\n",
       "      <th>2022</th>\n",
       "      <th>2023</th>\n",
       "    </tr>\n",
       "  </thead>\n",
       "  <tbody>\n",
       "    <tr>\n",
       "      <th>0</th>\n",
       "      <td>ABW</td>\n",
       "      <td>NaN</td>\n",
       "      <td>NaN</td>\n",
       "      <td>NaN</td>\n",
       "      <td>NaN</td>\n",
       "      <td>NaN</td>\n",
       "      <td>NaN</td>\n",
       "      <td>NaN</td>\n",
       "      <td>NaN</td>\n",
       "      <td>NaN</td>\n",
       "      <td>...</td>\n",
       "      <td>26,129.84</td>\n",
       "      <td>27,458.23</td>\n",
       "      <td>27,441.53</td>\n",
       "      <td>28,440.05</td>\n",
       "      <td>30,082.13</td>\n",
       "      <td>31,096.21</td>\n",
       "      <td>22,855.93</td>\n",
       "      <td>27,200.06</td>\n",
       "      <td>30,559.53</td>\n",
       "      <td>33,984.79</td>\n",
       "    </tr>\n",
       "    <tr>\n",
       "      <th>1</th>\n",
       "      <td>AFE</td>\n",
       "      <td>186.13</td>\n",
       "      <td>186.95</td>\n",
       "      <td>197.41</td>\n",
       "      <td>225.45</td>\n",
       "      <td>209.01</td>\n",
       "      <td>226.88</td>\n",
       "      <td>240.96</td>\n",
       "      <td>243.82</td>\n",
       "      <td>257.20</td>\n",
       "      <td>...</td>\n",
       "      <td>1,656.11</td>\n",
       "      <td>1,479.56</td>\n",
       "      <td>1,329.78</td>\n",
       "      <td>1,520.17</td>\n",
       "      <td>1,538.92</td>\n",
       "      <td>1,493.78</td>\n",
       "      <td>1,344.08</td>\n",
       "      <td>1,522.59</td>\n",
       "      <td>1,628.02</td>\n",
       "      <td>1,659.52</td>\n",
       "    </tr>\n",
       "    <tr>\n",
       "      <th>2</th>\n",
       "      <td>AFG</td>\n",
       "      <td>NaN</td>\n",
       "      <td>NaN</td>\n",
       "      <td>NaN</td>\n",
       "      <td>NaN</td>\n",
       "      <td>NaN</td>\n",
       "      <td>NaN</td>\n",
       "      <td>NaN</td>\n",
       "      <td>NaN</td>\n",
       "      <td>NaN</td>\n",
       "      <td>...</td>\n",
       "      <td>625.05</td>\n",
       "      <td>565.57</td>\n",
       "      <td>522.08</td>\n",
       "      <td>525.47</td>\n",
       "      <td>491.34</td>\n",
       "      <td>496.60</td>\n",
       "      <td>510.79</td>\n",
       "      <td>356.50</td>\n",
       "      <td>357.26</td>\n",
       "      <td>415.71</td>\n",
       "    </tr>\n",
       "    <tr>\n",
       "      <th>3</th>\n",
       "      <td>AFW</td>\n",
       "      <td>121.94</td>\n",
       "      <td>127.45</td>\n",
       "      <td>133.83</td>\n",
       "      <td>139.01</td>\n",
       "      <td>148.55</td>\n",
       "      <td>155.56</td>\n",
       "      <td>162.11</td>\n",
       "      <td>144.94</td>\n",
       "      <td>146.19</td>\n",
       "      <td>...</td>\n",
       "      <td>2,205.00</td>\n",
       "      <td>1,845.77</td>\n",
       "      <td>1,616.84</td>\n",
       "      <td>1,560.16</td>\n",
       "      <td>1,703.90</td>\n",
       "      <td>1,783.65</td>\n",
       "      <td>1,664.25</td>\n",
       "      <td>1,747.84</td>\n",
       "      <td>1,777.24</td>\n",
       "      <td>1,568.72</td>\n",
       "    </tr>\n",
       "    <tr>\n",
       "      <th>4</th>\n",
       "      <td>AGO</td>\n",
       "      <td>NaN</td>\n",
       "      <td>NaN</td>\n",
       "      <td>NaN</td>\n",
       "      <td>NaN</td>\n",
       "      <td>NaN</td>\n",
       "      <td>NaN</td>\n",
       "      <td>NaN</td>\n",
       "      <td>NaN</td>\n",
       "      <td>NaN</td>\n",
       "      <td>...</td>\n",
       "      <td>5,006.00</td>\n",
       "      <td>3,213.90</td>\n",
       "      <td>1,807.95</td>\n",
       "      <td>2,437.26</td>\n",
       "      <td>2,538.59</td>\n",
       "      <td>2,189.86</td>\n",
       "      <td>1,449.92</td>\n",
       "      <td>1,925.87</td>\n",
       "      <td>2,929.69</td>\n",
       "      <td>2,308.16</td>\n",
       "    </tr>\n",
       "  </tbody>\n",
       "</table>\n",
       "<p>5 rows × 65 columns</p>\n",
       "</div>"
      ],
      "text/plain": [
       "  country_code   1960   1961   1962   1963   1964   1965   1966   1967   1968  \\\n",
       "0          ABW    NaN    NaN    NaN    NaN    NaN    NaN    NaN    NaN    NaN   \n",
       "1          AFE 186.13 186.95 197.41 225.45 209.01 226.88 240.96 243.82 257.20   \n",
       "2          AFG    NaN    NaN    NaN    NaN    NaN    NaN    NaN    NaN    NaN   \n",
       "3          AFW 121.94 127.45 133.83 139.01 148.55 155.56 162.11 144.94 146.19   \n",
       "4          AGO    NaN    NaN    NaN    NaN    NaN    NaN    NaN    NaN    NaN   \n",
       "\n",
       "   ...      2014      2015      2016      2017      2018      2019      2020  \\\n",
       "0  ... 26,129.84 27,458.23 27,441.53 28,440.05 30,082.13 31,096.21 22,855.93   \n",
       "1  ...  1,656.11  1,479.56  1,329.78  1,520.17  1,538.92  1,493.78  1,344.08   \n",
       "2  ...    625.05    565.57    522.08    525.47    491.34    496.60    510.79   \n",
       "3  ...  2,205.00  1,845.77  1,616.84  1,560.16  1,703.90  1,783.65  1,664.25   \n",
       "4  ...  5,006.00  3,213.90  1,807.95  2,437.26  2,538.59  2,189.86  1,449.92   \n",
       "\n",
       "       2021      2022      2023  \n",
       "0 27,200.06 30,559.53 33,984.79  \n",
       "1  1,522.59  1,628.02  1,659.52  \n",
       "2    356.50    357.26    415.71  \n",
       "3  1,747.84  1,777.24  1,568.72  \n",
       "4  1,925.87  2,929.69  2,308.16  \n",
       "\n",
       "[5 rows x 65 columns]"
      ]
     },
     "execution_count": 67,
     "metadata": {},
     "output_type": "execute_result"
    }
   ],
   "source": [
    "raw_pcap_df.head()"
   ]
  },
  {
   "cell_type": "code",
   "execution_count": 68,
   "metadata": {},
   "outputs": [],
   "source": [
    "# Reshaping the raw_pcap_df DataFrame from wide to long format by converting the GDP per capita data from columns (with years starting from 1960) into rows\n",
    "gdp_pcap_df = raw_pcap_df.melt(\n",
    "    id_vars=[\"country_code\"], var_name=\"year\", value_name=\"gdp_per_capita\"\n",
    ")"
   ]
  },
  {
   "cell_type": "code",
   "execution_count": 69,
   "metadata": {},
   "outputs": [
    {
     "name": "stdout",
     "output_type": "stream",
     "text": [
      "country_code column initial type:\n",
      "object\n",
      "============================================================\n",
      "country_code column final type:\n",
      "category\n",
      "============================================================\n",
      "year column initial type:\n",
      "object\n",
      "============================================================\n",
      "year column final type:\n",
      "category\n",
      "============================================================\n"
     ]
    }
   ],
   "source": [
    "# Switching to the 'category' data type for categorical columns\n",
    "categorical_columns = [\"country_code\", \"year\"]\n",
    "gdp_pcap_df = switch_to_dtype(\n",
    "    gdp_pcap_df, default_dtype=\"category\", categorical_columns=categorical_columns\n",
    ")"
   ]
  },
  {
   "cell_type": "code",
   "execution_count": 70,
   "metadata": {},
   "outputs": [
    {
     "name": "stdout",
     "output_type": "stream",
     "text": [
      "['df', <class 'pandas.core.frame.DataFrame'>]\n",
      "============================================================\n",
      "shape:\n",
      "(17024, 3)\n",
      "============================================================\n",
      "data types:\n",
      "country_code      category\n",
      "year              category\n",
      "gdp_per_capita     float64\n",
      "dtype: object\n",
      "============================================================\n",
      "columns:\n",
      "['country_code', 'year', 'gdp_per_capita']\n",
      "============================================================\n",
      "       gdp_per_capita\n",
      "count       14,312.00\n",
      "mean         8,472.91\n",
      "std         17,119.11\n",
      "min             11.80\n",
      "25%            570.07\n",
      "50%          1,879.96\n",
      "75%          7,813.71\n",
      "max        256,580.52\n",
      "============================================================\n",
      "Total memory usage: 217660 bytes\n",
      "============================================================\n"
     ]
    }
   ],
   "source": [
    "df_stats(gdp_pcap_df)"
   ]
  },
  {
   "cell_type": "code",
   "execution_count": 71,
   "metadata": {},
   "outputs": [
    {
     "data": {
      "text/html": [
       "<div>\n",
       "<style scoped>\n",
       "    .dataframe tbody tr th:only-of-type {\n",
       "        vertical-align: middle;\n",
       "    }\n",
       "\n",
       "    .dataframe tbody tr th {\n",
       "        vertical-align: top;\n",
       "    }\n",
       "\n",
       "    .dataframe thead th {\n",
       "        text-align: right;\n",
       "    }\n",
       "</style>\n",
       "<table border=\"1\" class=\"dataframe\">\n",
       "  <thead>\n",
       "    <tr style=\"text-align: right;\">\n",
       "      <th></th>\n",
       "      <th>country_code</th>\n",
       "      <th>year</th>\n",
       "      <th>gdp_per_capita</th>\n",
       "    </tr>\n",
       "  </thead>\n",
       "  <tbody>\n",
       "    <tr>\n",
       "      <th>0</th>\n",
       "      <td>ABW</td>\n",
       "      <td>1960</td>\n",
       "      <td>NaN</td>\n",
       "    </tr>\n",
       "    <tr>\n",
       "      <th>1</th>\n",
       "      <td>AFE</td>\n",
       "      <td>1960</td>\n",
       "      <td>186.13</td>\n",
       "    </tr>\n",
       "    <tr>\n",
       "      <th>2</th>\n",
       "      <td>AFG</td>\n",
       "      <td>1960</td>\n",
       "      <td>NaN</td>\n",
       "    </tr>\n",
       "    <tr>\n",
       "      <th>3</th>\n",
       "      <td>AFW</td>\n",
       "      <td>1960</td>\n",
       "      <td>121.94</td>\n",
       "    </tr>\n",
       "    <tr>\n",
       "      <th>4</th>\n",
       "      <td>AGO</td>\n",
       "      <td>1960</td>\n",
       "      <td>NaN</td>\n",
       "    </tr>\n",
       "  </tbody>\n",
       "</table>\n",
       "</div>"
      ],
      "text/plain": [
       "  country_code  year  gdp_per_capita\n",
       "0          ABW  1960             NaN\n",
       "1          AFE  1960          186.13\n",
       "2          AFG  1960             NaN\n",
       "3          AFW  1960          121.94\n",
       "4          AGO  1960             NaN"
      ]
     },
     "execution_count": 71,
     "metadata": {},
     "output_type": "execute_result"
    }
   ],
   "source": [
    "gdp_pcap_df.head()"
   ]
  },
  {
   "cell_type": "code",
   "execution_count": 72,
   "metadata": {},
   "outputs": [
    {
     "name": "stdout",
     "output_type": "stream",
     "text": [
      "year column initial type:\n",
      "category\n",
      "============================================================\n",
      "year column final type:\n",
      "int16\n",
      "============================================================\n",
      "country_code column initial type:\n",
      "category\n",
      "============================================================\n",
      "country_code column final type:\n",
      "object\n",
      "============================================================\n"
     ]
    }
   ],
   "source": [
    "# Save the gdp per capita DataFrame to a .dta file\n",
    "output_file_name = \"raw_gdp_pcap.dta\"\n",
    "dtype_dict = {\"country_code\": \"str\"}\n",
    "save_hs92_stata_data(\n",
    "    data=gdp_pcap_df,\n",
    "    file_location=output_file_location,\n",
    "    file_name=output_file_name,\n",
    "    dtype_dict=dtype_dict,\n",
    ")"
   ]
  },
  {
   "cell_type": "code",
   "execution_count": 73,
   "metadata": {},
   "outputs": [
    {
     "name": "stdout",
     "output_type": "stream",
     "text": [
      "['df', <class 'pandas.core.frame.DataFrame'>]\n",
      "============================================================\n",
      "shape:\n",
      "(17024, 3)\n",
      "============================================================\n",
      "data types:\n",
      "country_code      category\n",
      "year              category\n",
      "gdp_per_capita     float64\n",
      "dtype: object\n",
      "============================================================\n",
      "columns:\n",
      "['country_code', 'year', 'gdp_per_capita']\n",
      "============================================================\n",
      "       gdp_per_capita\n",
      "count       14,312.00\n",
      "mean         8,472.91\n",
      "std         17,119.11\n",
      "min             11.80\n",
      "25%            570.07\n",
      "50%          1,879.96\n",
      "75%          7,813.71\n",
      "max        256,580.52\n",
      "============================================================\n",
      "Total memory usage: 217660 bytes\n",
      "============================================================\n"
     ]
    }
   ],
   "source": [
    "df_stats(gdp_pcap_df)"
   ]
  },
  {
   "cell_type": "code",
   "execution_count": 74,
   "metadata": {},
   "outputs": [
    {
     "data": {
      "text/plain": [
       "21"
      ]
     },
     "execution_count": 74,
     "metadata": {},
     "output_type": "execute_result"
    }
   ],
   "source": [
    "del raw_pcap_df\n",
    "gc.collect()"
   ]
  },
  {
   "cell_type": "markdown",
   "metadata": {},
   "source": [
    "## Processing population data"
   ]
  },
  {
   "cell_type": "markdown",
   "metadata": {},
   "source": [
    "Here we are going disregard those countries, which on 2010 had population value less than 1250000"
   ]
  },
  {
   "cell_type": "code",
   "execution_count": 75,
   "metadata": {},
   "outputs": [
    {
     "data": {
      "text/plain": [
       "(17024, 3)"
      ]
     },
     "execution_count": 75,
     "metadata": {},
     "output_type": "execute_result"
    }
   ],
   "source": [
    "population_df.shape"
   ]
  },
  {
   "cell_type": "code",
   "execution_count": 76,
   "metadata": {},
   "outputs": [],
   "source": [
    "# Subsetting the gdp_total_df to only include the 'year' of 2010\n",
    "population_df = population_df[population_df[\"year\"] == \"2010\"]"
   ]
  },
  {
   "cell_type": "code",
   "execution_count": 77,
   "metadata": {},
   "outputs": [],
   "source": [
    "# Subsetting the gdp_total_df to only include the 'country_code' present in the location_df\n",
    "population_df = population_df[\n",
    "    population_df[\"country_code\"].isin(location_df[\"country_code\"])\n",
    "]"
   ]
  },
  {
   "cell_type": "code",
   "execution_count": 78,
   "metadata": {},
   "outputs": [
    {
     "data": {
      "text/plain": [
       "(210, 3)"
      ]
     },
     "execution_count": 78,
     "metadata": {},
     "output_type": "execute_result"
    }
   ],
   "source": [
    "population_df.shape"
   ]
  },
  {
   "cell_type": "code",
   "execution_count": 79,
   "metadata": {},
   "outputs": [
    {
     "data": {
      "text/html": [
       "<div>\n",
       "<style scoped>\n",
       "    .dataframe tbody tr th:only-of-type {\n",
       "        vertical-align: middle;\n",
       "    }\n",
       "\n",
       "    .dataframe tbody tr th {\n",
       "        vertical-align: top;\n",
       "    }\n",
       "\n",
       "    .dataframe thead th {\n",
       "        text-align: right;\n",
       "    }\n",
       "</style>\n",
       "<table border=\"1\" class=\"dataframe\">\n",
       "  <thead>\n",
       "    <tr style=\"text-align: right;\">\n",
       "      <th></th>\n",
       "      <th>country_code</th>\n",
       "      <th>year</th>\n",
       "      <th>population</th>\n",
       "    </tr>\n",
       "  </thead>\n",
       "  <tbody>\n",
       "    <tr>\n",
       "      <th>13340</th>\n",
       "      <td>CHN</td>\n",
       "      <td>2010</td>\n",
       "      <td>1,337,705,000.00</td>\n",
       "    </tr>\n",
       "    <tr>\n",
       "      <th>13409</th>\n",
       "      <td>IND</td>\n",
       "      <td>2010</td>\n",
       "      <td>1,243,481,564.00</td>\n",
       "    </tr>\n",
       "    <tr>\n",
       "      <th>13551</th>\n",
       "      <td>USA</td>\n",
       "      <td>2010</td>\n",
       "      <td>309,327,143.00</td>\n",
       "    </tr>\n",
       "    <tr>\n",
       "      <th>13406</th>\n",
       "      <td>IDN</td>\n",
       "      <td>2010</td>\n",
       "      <td>246,305,322.00</td>\n",
       "    </tr>\n",
       "    <tr>\n",
       "      <th>13484</th>\n",
       "      <td>PAK</td>\n",
       "      <td>2010</td>\n",
       "      <td>199,239,047.00</td>\n",
       "    </tr>\n",
       "  </tbody>\n",
       "</table>\n",
       "</div>"
      ],
      "text/plain": [
       "      country_code  year       population\n",
       "13340          CHN  2010 1,337,705,000.00\n",
       "13409          IND  2010 1,243,481,564.00\n",
       "13551          USA  2010   309,327,143.00\n",
       "13406          IDN  2010   246,305,322.00\n",
       "13484          PAK  2010   199,239,047.00"
      ]
     },
     "execution_count": 79,
     "metadata": {},
     "output_type": "execute_result"
    }
   ],
   "source": [
    "# sortig the data in descending order of 'population'\n",
    "population_df_sorted = population_df.sort_values(by=[\"population\"], ascending=False)\n",
    "population_df_sorted.head()"
   ]
  },
  {
   "cell_type": "code",
   "execution_count": 80,
   "metadata": {},
   "outputs": [
    {
     "data": {
      "text/html": [
       "<div>\n",
       "<style scoped>\n",
       "    .dataframe tbody tr th:only-of-type {\n",
       "        vertical-align: middle;\n",
       "    }\n",
       "\n",
       "    .dataframe tbody tr th {\n",
       "        vertical-align: top;\n",
       "    }\n",
       "\n",
       "    .dataframe thead th {\n",
       "        text-align: right;\n",
       "    }\n",
       "</style>\n",
       "<table border=\"1\" class=\"dataframe\">\n",
       "  <thead>\n",
       "    <tr style=\"text-align: right;\">\n",
       "      <th></th>\n",
       "      <th>country_code</th>\n",
       "      <th>year</th>\n",
       "      <th>population</th>\n",
       "    </tr>\n",
       "  </thead>\n",
       "  <tbody>\n",
       "    <tr>\n",
       "      <th>13528</th>\n",
       "      <td>TCA</td>\n",
       "      <td>2010</td>\n",
       "      <td>29,739.00</td>\n",
       "    </tr>\n",
       "    <tr>\n",
       "      <th>13555</th>\n",
       "      <td>VGB</td>\n",
       "      <td>2010</td>\n",
       "      <td>27,675.00</td>\n",
       "    </tr>\n",
       "    <tr>\n",
       "      <th>13488</th>\n",
       "      <td>PLW</td>\n",
       "      <td>2010</td>\n",
       "      <td>18,396.00</td>\n",
       "    </tr>\n",
       "    <tr>\n",
       "      <th>13545</th>\n",
       "      <td>TUV</td>\n",
       "      <td>2010</td>\n",
       "      <td>10,614.00</td>\n",
       "    </tr>\n",
       "    <tr>\n",
       "      <th>13479</th>\n",
       "      <td>NRU</td>\n",
       "      <td>2010</td>\n",
       "      <td>10,043.00</td>\n",
       "    </tr>\n",
       "  </tbody>\n",
       "</table>\n",
       "</div>"
      ],
      "text/plain": [
       "      country_code  year  population\n",
       "13528          TCA  2010   29,739.00\n",
       "13555          VGB  2010   27,675.00\n",
       "13488          PLW  2010   18,396.00\n",
       "13545          TUV  2010   10,614.00\n",
       "13479          NRU  2010   10,043.00"
      ]
     },
     "execution_count": 80,
     "metadata": {},
     "output_type": "execute_result"
    }
   ],
   "source": [
    "population_df_sorted.tail()"
   ]
  },
  {
   "cell_type": "code",
   "execution_count": 81,
   "metadata": {},
   "outputs": [],
   "source": [
    "# Disregarding countries wih 'population' less than 1250000\n",
    "population_df_high = population_df[population_df[\"population\"] >= 1250000]\n",
    "\n",
    "# Subset all remaining rows by excluding those in population_df_high\n",
    "population_df_remaining = population_df[\n",
    "    ~population_df.index.isin(population_df_high.index)\n",
    "]"
   ]
  },
  {
   "cell_type": "code",
   "execution_count": 82,
   "metadata": {},
   "outputs": [
    {
     "name": "stdout",
     "output_type": "stream",
     "text": [
      "(152, 3)\n",
      "(58, 3)\n"
     ]
    }
   ],
   "source": [
    "print(population_df_high.shape)\n",
    "print(population_df_remaining.shape)"
   ]
  },
  {
   "cell_type": "code",
   "execution_count": 83,
   "metadata": {},
   "outputs": [
    {
     "data": {
      "text/html": [
       "<div>\n",
       "<style scoped>\n",
       "    .dataframe tbody tr th:only-of-type {\n",
       "        vertical-align: middle;\n",
       "    }\n",
       "\n",
       "    .dataframe tbody tr th {\n",
       "        vertical-align: top;\n",
       "    }\n",
       "\n",
       "    .dataframe thead th {\n",
       "        text-align: right;\n",
       "    }\n",
       "</style>\n",
       "<table border=\"1\" class=\"dataframe\">\n",
       "  <thead>\n",
       "    <tr style=\"text-align: right;\">\n",
       "      <th></th>\n",
       "      <th>country_code</th>\n",
       "      <th>year</th>\n",
       "      <th>population</th>\n",
       "    </tr>\n",
       "  </thead>\n",
       "  <tbody>\n",
       "    <tr>\n",
       "      <th>13500</th>\n",
       "      <td>QAT</td>\n",
       "      <td>2010</td>\n",
       "      <td>1,616,832.00</td>\n",
       "    </tr>\n",
       "    <tr>\n",
       "      <th>13387</th>\n",
       "      <td>GNB</td>\n",
       "      <td>2010</td>\n",
       "      <td>1,566,347.00</td>\n",
       "    </tr>\n",
       "    <tr>\n",
       "      <th>13371</th>\n",
       "      <td>EST</td>\n",
       "      <td>2010</td>\n",
       "      <td>1,331,475.00</td>\n",
       "    </tr>\n",
       "    <tr>\n",
       "      <th>13542</th>\n",
       "      <td>TTO</td>\n",
       "      <td>2010</td>\n",
       "      <td>1,317,714.00</td>\n",
       "    </tr>\n",
       "    <tr>\n",
       "      <th>13467</th>\n",
       "      <td>MUS</td>\n",
       "      <td>2010</td>\n",
       "      <td>1,250,400.00</td>\n",
       "    </tr>\n",
       "  </tbody>\n",
       "</table>\n",
       "</div>"
      ],
      "text/plain": [
       "      country_code  year   population\n",
       "13500          QAT  2010 1,616,832.00\n",
       "13387          GNB  2010 1,566,347.00\n",
       "13371          EST  2010 1,331,475.00\n",
       "13542          TTO  2010 1,317,714.00\n",
       "13467          MUS  2010 1,250,400.00"
      ]
     },
     "execution_count": 83,
     "metadata": {},
     "output_type": "execute_result"
    }
   ],
   "source": [
    "population_df_high_sorted = population_df_high.sort_values(\n",
    "    by=[\"population\"], ascending=False\n",
    ")\n",
    "population_df_high_sorted.tail()"
   ]
  },
  {
   "cell_type": "code",
   "execution_count": 84,
   "metadata": {},
   "outputs": [
    {
     "data": {
      "text/html": [
       "<div>\n",
       "<style scoped>\n",
       "    .dataframe tbody tr th:only-of-type {\n",
       "        vertical-align: middle;\n",
       "    }\n",
       "\n",
       "    .dataframe tbody tr th {\n",
       "        vertical-align: top;\n",
       "    }\n",
       "\n",
       "    .dataframe thead th {\n",
       "        text-align: right;\n",
       "    }\n",
       "</style>\n",
       "<table border=\"1\" class=\"dataframe\">\n",
       "  <thead>\n",
       "    <tr style=\"text-align: right;\">\n",
       "      <th></th>\n",
       "      <th>country_code</th>\n",
       "      <th>year</th>\n",
       "      <th>population</th>\n",
       "    </tr>\n",
       "  </thead>\n",
       "  <tbody>\n",
       "    <tr>\n",
       "      <th>13340</th>\n",
       "      <td>CHN</td>\n",
       "      <td>2010</td>\n",
       "      <td>1,337,705,000.00</td>\n",
       "    </tr>\n",
       "    <tr>\n",
       "      <th>13409</th>\n",
       "      <td>IND</td>\n",
       "      <td>2010</td>\n",
       "      <td>1,243,481,564.00</td>\n",
       "    </tr>\n",
       "    <tr>\n",
       "      <th>13551</th>\n",
       "      <td>USA</td>\n",
       "      <td>2010</td>\n",
       "      <td>309,327,143.00</td>\n",
       "    </tr>\n",
       "    <tr>\n",
       "      <th>13406</th>\n",
       "      <td>IDN</td>\n",
       "      <td>2010</td>\n",
       "      <td>246,305,322.00</td>\n",
       "    </tr>\n",
       "    <tr>\n",
       "      <th>13484</th>\n",
       "      <td>PAK</td>\n",
       "      <td>2010</td>\n",
       "      <td>199,239,047.00</td>\n",
       "    </tr>\n",
       "  </tbody>\n",
       "</table>\n",
       "</div>"
      ],
      "text/plain": [
       "      country_code  year       population\n",
       "13340          CHN  2010 1,337,705,000.00\n",
       "13409          IND  2010 1,243,481,564.00\n",
       "13551          USA  2010   309,327,143.00\n",
       "13406          IDN  2010   246,305,322.00\n",
       "13484          PAK  2010   199,239,047.00"
      ]
     },
     "execution_count": 84,
     "metadata": {},
     "output_type": "execute_result"
    }
   ],
   "source": [
    "population_df_high_sorted.head()"
   ]
  },
  {
   "cell_type": "code",
   "execution_count": 85,
   "metadata": {},
   "outputs": [
    {
     "data": {
      "text/html": [
       "<div>\n",
       "<style scoped>\n",
       "    .dataframe tbody tr th:only-of-type {\n",
       "        vertical-align: middle;\n",
       "    }\n",
       "\n",
       "    .dataframe tbody tr th {\n",
       "        vertical-align: top;\n",
       "    }\n",
       "\n",
       "    .dataframe thead th {\n",
       "        text-align: right;\n",
       "    }\n",
       "</style>\n",
       "<table border=\"1\" class=\"dataframe\">\n",
       "  <thead>\n",
       "    <tr style=\"text-align: right;\">\n",
       "      <th></th>\n",
       "      <th>country_code</th>\n",
       "      <th>year</th>\n",
       "      <th>population</th>\n",
       "    </tr>\n",
       "  </thead>\n",
       "  <tbody>\n",
       "    <tr>\n",
       "      <th>13322</th>\n",
       "      <td>BHR</td>\n",
       "      <td>2010</td>\n",
       "      <td>1,228,543.00</td>\n",
       "    </tr>\n",
       "    <tr>\n",
       "      <th>13388</th>\n",
       "      <td>GNQ</td>\n",
       "      <td>2010</td>\n",
       "      <td>1,189,085.00</td>\n",
       "    </tr>\n",
       "    <tr>\n",
       "      <th>13353</th>\n",
       "      <td>CYP</td>\n",
       "      <td>2010</td>\n",
       "      <td>1,127,816.00</td>\n",
       "    </tr>\n",
       "    <tr>\n",
       "      <th>13524</th>\n",
       "      <td>SWZ</td>\n",
       "      <td>2010</td>\n",
       "      <td>1,111,650.00</td>\n",
       "    </tr>\n",
       "    <tr>\n",
       "      <th>13537</th>\n",
       "      <td>TLS</td>\n",
       "      <td>2010</td>\n",
       "      <td>1,084,679.00</td>\n",
       "    </tr>\n",
       "  </tbody>\n",
       "</table>\n",
       "</div>"
      ],
      "text/plain": [
       "      country_code  year   population\n",
       "13322          BHR  2010 1,228,543.00\n",
       "13388          GNQ  2010 1,189,085.00\n",
       "13353          CYP  2010 1,127,816.00\n",
       "13524          SWZ  2010 1,111,650.00\n",
       "13537          TLS  2010 1,084,679.00"
      ]
     },
     "execution_count": 85,
     "metadata": {},
     "output_type": "execute_result"
    }
   ],
   "source": [
    "population_df_remaining_sorted = population_df_remaining.sort_values(\n",
    "    by=[\"population\"], ascending=False\n",
    ")\n",
    "population_df_remaining_sorted.head(5)"
   ]
  },
  {
   "cell_type": "markdown",
   "metadata": {},
   "source": [
    "Tangible population countries"
   ]
  },
  {
   "cell_type": "code",
   "execution_count": 86,
   "metadata": {},
   "outputs": [],
   "source": [
    "pop_countries = set(population_df_high[\"country_code\"])"
   ]
  },
  {
   "cell_type": "markdown",
   "metadata": {},
   "source": [
    "## Processing 'GDP total' data"
   ]
  },
  {
   "cell_type": "code",
   "execution_count": 87,
   "metadata": {},
   "outputs": [],
   "source": [
    "# Subsetting the gdp_total_df to only include the 'country_code' present in the location_df\n",
    "gdp_total_df = gdp_total_df[\n",
    "    gdp_total_df[\"country_code\"].isin(location_df[\"country_code\"])\n",
    "]"
   ]
  },
  {
   "cell_type": "code",
   "execution_count": 88,
   "metadata": {},
   "outputs": [
    {
     "name": "stdout",
     "output_type": "stream",
     "text": [
      "['df', <class 'pandas.core.frame.DataFrame'>]\n",
      "============================================================\n",
      "shape:\n",
      "(13440, 3)\n",
      "============================================================\n",
      "data types:\n",
      "country_code    category\n",
      "year            category\n",
      "gdp_total        float64\n",
      "dtype: object\n",
      "============================================================\n",
      "columns:\n",
      "['country_code', 'year', 'gdp_total']\n",
      "============================================================\n",
      "                  gdp_total\n",
      "count             11,102.00\n",
      "mean     190,879,432,598.12\n",
      "std    1,061,169,753,446.08\n",
      "min            2,585,955.87\n",
      "25%        1,382,428,913.62\n",
      "50%        7,906,951,431.92\n",
      "75%       51,607,049,459.21\n",
      "max   27,720,709,000,000.00\n",
      "============================================================\n",
      "Total memory usage: 285624 bytes\n",
      "============================================================\n"
     ]
    }
   ],
   "source": [
    "df_stats(gdp_total_df)"
   ]
  },
  {
   "cell_type": "markdown",
   "metadata": {},
   "source": [
    "Export data is delivered in two initial datasets, covering period 2010-2019. Here we are going disregard those countries, which on 2010 had the 'GDP total' value less than 10<sup>9</sup>$."
   ]
  },
  {
   "cell_type": "code",
   "execution_count": 89,
   "metadata": {},
   "outputs": [],
   "source": [
    "# Subsetting the gdp_total_df to only include the 'year' of 2010\n",
    "gdp_total_df = gdp_total_df[gdp_total_df[\"year\"] == \"2010\"]"
   ]
  },
  {
   "cell_type": "code",
   "execution_count": 90,
   "metadata": {},
   "outputs": [
    {
     "data": {
      "text/html": [
       "<div>\n",
       "<style scoped>\n",
       "    .dataframe tbody tr th:only-of-type {\n",
       "        vertical-align: middle;\n",
       "    }\n",
       "\n",
       "    .dataframe tbody tr th {\n",
       "        vertical-align: top;\n",
       "    }\n",
       "\n",
       "    .dataframe thead th {\n",
       "        text-align: right;\n",
       "    }\n",
       "</style>\n",
       "<table border=\"1\" class=\"dataframe\">\n",
       "  <thead>\n",
       "    <tr style=\"text-align: right;\">\n",
       "      <th></th>\n",
       "      <th>country_code</th>\n",
       "      <th>year</th>\n",
       "      <th>gdp_total</th>\n",
       "    </tr>\n",
       "  </thead>\n",
       "  <tbody>\n",
       "    <tr>\n",
       "      <th>13551</th>\n",
       "      <td>USA</td>\n",
       "      <td>2010</td>\n",
       "      <td>15,048,971,000,000.00</td>\n",
       "    </tr>\n",
       "    <tr>\n",
       "      <th>13340</th>\n",
       "      <td>CHN</td>\n",
       "      <td>2010</td>\n",
       "      <td>6,087,191,746,679.49</td>\n",
       "    </tr>\n",
       "    <tr>\n",
       "      <th>13419</th>\n",
       "      <td>JPN</td>\n",
       "      <td>2010</td>\n",
       "      <td>5,759,071,769,013.11</td>\n",
       "    </tr>\n",
       "    <tr>\n",
       "      <th>13355</th>\n",
       "      <td>DEU</td>\n",
       "      <td>2010</td>\n",
       "      <td>3,468,154,343,000.01</td>\n",
       "    </tr>\n",
       "    <tr>\n",
       "      <th>13377</th>\n",
       "      <td>FRA</td>\n",
       "      <td>2010</td>\n",
       "      <td>2,646,230,027,988.34</td>\n",
       "    </tr>\n",
       "  </tbody>\n",
       "</table>\n",
       "</div>"
      ],
      "text/plain": [
       "      country_code  year             gdp_total\n",
       "13551          USA  2010 15,048,971,000,000.00\n",
       "13340          CHN  2010  6,087,191,746,679.49\n",
       "13419          JPN  2010  5,759,071,769,013.11\n",
       "13355          DEU  2010  3,468,154,343,000.01\n",
       "13377          FRA  2010  2,646,230,027,988.34"
      ]
     },
     "execution_count": 90,
     "metadata": {},
     "output_type": "execute_result"
    }
   ],
   "source": [
    "# sortig the data in descending order of 'gdp_total'\n",
    "gdp_total_df_sorted = gdp_total_df.sort_values(by=[\"gdp_total\"], ascending=False)\n",
    "gdp_total_df_sorted.head()"
   ]
  },
  {
   "cell_type": "code",
   "execution_count": 91,
   "metadata": {},
   "outputs": [
    {
     "data": {
      "text/html": [
       "<div>\n",
       "<style scoped>\n",
       "    .dataframe tbody tr th:only-of-type {\n",
       "        vertical-align: middle;\n",
       "    }\n",
       "\n",
       "    .dataframe tbody tr th {\n",
       "        vertical-align: top;\n",
       "    }\n",
       "\n",
       "    .dataframe thead th {\n",
       "        text-align: right;\n",
       "    }\n",
       "</style>\n",
       "<table border=\"1\" class=\"dataframe\">\n",
       "  <thead>\n",
       "    <tr style=\"text-align: right;\">\n",
       "      <th></th>\n",
       "      <th>country_code</th>\n",
       "      <th>year</th>\n",
       "      <th>gdp_total</th>\n",
       "    </tr>\n",
       "  </thead>\n",
       "  <tbody>\n",
       "    <tr>\n",
       "      <th>13479</th>\n",
       "      <td>NRU</td>\n",
       "      <td>2010</td>\n",
       "      <td>47,562,844.61</td>\n",
       "    </tr>\n",
       "    <tr>\n",
       "      <th>13545</th>\n",
       "      <td>TUV</td>\n",
       "      <td>2010</td>\n",
       "      <td>32,105,408.48</td>\n",
       "    </tr>\n",
       "    <tr>\n",
       "      <th>13384</th>\n",
       "      <td>GIB</td>\n",
       "      <td>2010</td>\n",
       "      <td>NaN</td>\n",
       "    </tr>\n",
       "    <tr>\n",
       "      <th>13493</th>\n",
       "      <td>PRK</td>\n",
       "      <td>2010</td>\n",
       "      <td>NaN</td>\n",
       "    </tr>\n",
       "    <tr>\n",
       "      <th>13555</th>\n",
       "      <td>VGB</td>\n",
       "      <td>2010</td>\n",
       "      <td>NaN</td>\n",
       "    </tr>\n",
       "  </tbody>\n",
       "</table>\n",
       "</div>"
      ],
      "text/plain": [
       "      country_code  year     gdp_total\n",
       "13479          NRU  2010 47,562,844.61\n",
       "13545          TUV  2010 32,105,408.48\n",
       "13384          GIB  2010           NaN\n",
       "13493          PRK  2010           NaN\n",
       "13555          VGB  2010           NaN"
      ]
     },
     "execution_count": 91,
     "metadata": {},
     "output_type": "execute_result"
    }
   ],
   "source": [
    "gdp_total_df_sorted.tail()"
   ]
  },
  {
   "cell_type": "code",
   "execution_count": 92,
   "metadata": {},
   "outputs": [],
   "source": [
    "# Disregarding countries wih 'gdp_total' less than 1000000000\n",
    "gdp_total_df_high = gdp_total_df[gdp_total_df[\"gdp_total\"] > 1000000000]\n",
    "\n",
    "# Subset all remaining rows by excluding those in gdp_total_df_high\n",
    "gdp_total_df_remaining = gdp_total_df[~gdp_total_df.index.isin(gdp_total_df_high.index)]"
   ]
  },
  {
   "cell_type": "code",
   "execution_count": 93,
   "metadata": {},
   "outputs": [
    {
     "name": "stdout",
     "output_type": "stream",
     "text": [
      "(184, 3)\n",
      "(26, 3)\n"
     ]
    }
   ],
   "source": [
    "print(gdp_total_df_high.shape)\n",
    "print(gdp_total_df_remaining.shape)"
   ]
  },
  {
   "cell_type": "code",
   "execution_count": 94,
   "metadata": {},
   "outputs": [
    {
     "data": {
      "text/html": [
       "<div>\n",
       "<style scoped>\n",
       "    .dataframe tbody tr th:only-of-type {\n",
       "        vertical-align: middle;\n",
       "    }\n",
       "\n",
       "    .dataframe tbody tr th {\n",
       "        vertical-align: top;\n",
       "    }\n",
       "\n",
       "    .dataframe thead th {\n",
       "        text-align: right;\n",
       "    }\n",
       "</style>\n",
       "<table border=\"1\" class=\"dataframe\">\n",
       "  <thead>\n",
       "    <tr style=\"text-align: right;\">\n",
       "      <th></th>\n",
       "      <th>country_code</th>\n",
       "      <th>year</th>\n",
       "      <th>gdp_total</th>\n",
       "    </tr>\n",
       "  </thead>\n",
       "  <tbody>\n",
       "    <tr>\n",
       "      <th>13369</th>\n",
       "      <td>ERI</td>\n",
       "      <td>2010</td>\n",
       "      <td>1,589,515,447.15</td>\n",
       "    </tr>\n",
       "    <tr>\n",
       "      <th>13386</th>\n",
       "      <td>GMB</td>\n",
       "      <td>2010</td>\n",
       "      <td>1,543,294,926.87</td>\n",
       "    </tr>\n",
       "    <tr>\n",
       "      <th>13433</th>\n",
       "      <td>LCA</td>\n",
       "      <td>2010</td>\n",
       "      <td>1,482,385,185.19</td>\n",
       "    </tr>\n",
       "    <tr>\n",
       "      <th>13312</th>\n",
       "      <td>ATG</td>\n",
       "      <td>2010</td>\n",
       "      <td>1,298,255,555.56</td>\n",
       "    </tr>\n",
       "    <tr>\n",
       "      <th>13356</th>\n",
       "      <td>DJI</td>\n",
       "      <td>2010</td>\n",
       "      <td>1,128,611,700.36</td>\n",
       "    </tr>\n",
       "  </tbody>\n",
       "</table>\n",
       "</div>"
      ],
      "text/plain": [
       "      country_code  year        gdp_total\n",
       "13369          ERI  2010 1,589,515,447.15\n",
       "13386          GMB  2010 1,543,294,926.87\n",
       "13433          LCA  2010 1,482,385,185.19\n",
       "13312          ATG  2010 1,298,255,555.56\n",
       "13356          DJI  2010 1,128,611,700.36"
      ]
     },
     "execution_count": 94,
     "metadata": {},
     "output_type": "execute_result"
    }
   ],
   "source": [
    "gdp_total_df_high_sorted = gdp_total_df_high.sort_values(\n",
    "    by=[\"gdp_total\"], ascending=False\n",
    ")\n",
    "gdp_total_df_high_sorted.tail()"
   ]
  },
  {
   "cell_type": "code",
   "execution_count": 95,
   "metadata": {},
   "outputs": [
    {
     "data": {
      "text/html": [
       "<div>\n",
       "<style scoped>\n",
       "    .dataframe tbody tr th:only-of-type {\n",
       "        vertical-align: middle;\n",
       "    }\n",
       "\n",
       "    .dataframe tbody tr th {\n",
       "        vertical-align: top;\n",
       "    }\n",
       "\n",
       "    .dataframe thead th {\n",
       "        text-align: right;\n",
       "    }\n",
       "</style>\n",
       "<table border=\"1\" class=\"dataframe\">\n",
       "  <thead>\n",
       "    <tr style=\"text-align: right;\">\n",
       "      <th></th>\n",
       "      <th>country_code</th>\n",
       "      <th>year</th>\n",
       "      <th>gdp_total</th>\n",
       "    </tr>\n",
       "  </thead>\n",
       "  <tbody>\n",
       "    <tr>\n",
       "      <th>13526</th>\n",
       "      <td>SYC</td>\n",
       "      <td>2010</td>\n",
       "      <td>981,616,542.33</td>\n",
       "    </tr>\n",
       "    <tr>\n",
       "      <th>13387</th>\n",
       "      <td>GNB</td>\n",
       "      <td>2010</td>\n",
       "      <td>940,112,538.94</td>\n",
       "    </tr>\n",
       "    <tr>\n",
       "      <th>13346</th>\n",
       "      <td>COM</td>\n",
       "      <td>2010</td>\n",
       "      <td>907,978,730.89</td>\n",
       "    </tr>\n",
       "    <tr>\n",
       "      <th>13509</th>\n",
       "      <td>SLB</td>\n",
       "      <td>2010</td>\n",
       "      <td>898,133,684.90</td>\n",
       "    </tr>\n",
       "    <tr>\n",
       "      <th>13525</th>\n",
       "      <td>SXM</td>\n",
       "      <td>2010</td>\n",
       "      <td>892,290,502.79</td>\n",
       "    </tr>\n",
       "  </tbody>\n",
       "</table>\n",
       "</div>"
      ],
      "text/plain": [
       "      country_code  year      gdp_total\n",
       "13526          SYC  2010 981,616,542.33\n",
       "13387          GNB  2010 940,112,538.94\n",
       "13346          COM  2010 907,978,730.89\n",
       "13509          SLB  2010 898,133,684.90\n",
       "13525          SXM  2010 892,290,502.79"
      ]
     },
     "execution_count": 95,
     "metadata": {},
     "output_type": "execute_result"
    }
   ],
   "source": [
    "gdp_total_df_remaining_sorted = gdp_total_df_remaining.sort_values(\n",
    "    by=[\"gdp_total\"], ascending=False\n",
    ")\n",
    "gdp_total_df_remaining_sorted.head(5)"
   ]
  },
  {
   "cell_type": "markdown",
   "metadata": {},
   "source": [
    "Tangible GDP countries"
   ]
  },
  {
   "cell_type": "code",
   "execution_count": 96,
   "metadata": {},
   "outputs": [],
   "source": [
    "gdp_countries = set(gdp_total_df_high[\"country_code\"])"
   ]
  },
  {
   "cell_type": "markdown",
   "metadata": {},
   "source": [
    "## Processing 'GDP per capita' data"
   ]
  },
  {
   "cell_type": "markdown",
   "metadata": {},
   "source": [
    "### Subsetting to the countries with tangible GDP values"
   ]
  },
  {
   "cell_type": "code",
   "execution_count": 97,
   "metadata": {},
   "outputs": [],
   "source": [
    "gdp_pcap_df = gdp_pcap_df[gdp_pcap_df[\"country_code\"].isin(gdp_countries)]"
   ]
  },
  {
   "cell_type": "code",
   "execution_count": 98,
   "metadata": {},
   "outputs": [],
   "source": [
    "# Ordering by year and country_code columns\n",
    "gdp_pcap_df.sort_values(by=[\"year\", \"country_code\"], inplace=True)\n",
    "gdp_pcap_df.reset_index(drop=True, inplace=True)"
   ]
  },
  {
   "cell_type": "code",
   "execution_count": 99,
   "metadata": {},
   "outputs": [
    {
     "data": {
      "text/html": [
       "<div>\n",
       "<style scoped>\n",
       "    .dataframe tbody tr th:only-of-type {\n",
       "        vertical-align: middle;\n",
       "    }\n",
       "\n",
       "    .dataframe tbody tr th {\n",
       "        vertical-align: top;\n",
       "    }\n",
       "\n",
       "    .dataframe thead th {\n",
       "        text-align: right;\n",
       "    }\n",
       "</style>\n",
       "<table border=\"1\" class=\"dataframe\">\n",
       "  <thead>\n",
       "    <tr style=\"text-align: right;\">\n",
       "      <th></th>\n",
       "      <th>country_code</th>\n",
       "      <th>year</th>\n",
       "      <th>gdp_per_capita</th>\n",
       "    </tr>\n",
       "  </thead>\n",
       "  <tbody>\n",
       "    <tr>\n",
       "      <th>0</th>\n",
       "      <td>ABW</td>\n",
       "      <td>1960</td>\n",
       "      <td>NaN</td>\n",
       "    </tr>\n",
       "    <tr>\n",
       "      <th>1</th>\n",
       "      <td>AFG</td>\n",
       "      <td>1960</td>\n",
       "      <td>NaN</td>\n",
       "    </tr>\n",
       "    <tr>\n",
       "      <th>2</th>\n",
       "      <td>AGO</td>\n",
       "      <td>1960</td>\n",
       "      <td>NaN</td>\n",
       "    </tr>\n",
       "    <tr>\n",
       "      <th>3</th>\n",
       "      <td>ALB</td>\n",
       "      <td>1960</td>\n",
       "      <td>NaN</td>\n",
       "    </tr>\n",
       "    <tr>\n",
       "      <th>4</th>\n",
       "      <td>AND</td>\n",
       "      <td>1960</td>\n",
       "      <td>NaN</td>\n",
       "    </tr>\n",
       "    <tr>\n",
       "      <th>5</th>\n",
       "      <td>ARE</td>\n",
       "      <td>1960</td>\n",
       "      <td>NaN</td>\n",
       "    </tr>\n",
       "    <tr>\n",
       "      <th>6</th>\n",
       "      <td>ARG</td>\n",
       "      <td>1960</td>\n",
       "      <td>NaN</td>\n",
       "    </tr>\n",
       "    <tr>\n",
       "      <th>7</th>\n",
       "      <td>ARM</td>\n",
       "      <td>1960</td>\n",
       "      <td>NaN</td>\n",
       "    </tr>\n",
       "    <tr>\n",
       "      <th>8</th>\n",
       "      <td>ATG</td>\n",
       "      <td>1960</td>\n",
       "      <td>NaN</td>\n",
       "    </tr>\n",
       "    <tr>\n",
       "      <th>9</th>\n",
       "      <td>AUS</td>\n",
       "      <td>1960</td>\n",
       "      <td>1,810.71</td>\n",
       "    </tr>\n",
       "    <tr>\n",
       "      <th>10</th>\n",
       "      <td>AUT</td>\n",
       "      <td>1960</td>\n",
       "      <td>939.91</td>\n",
       "    </tr>\n",
       "    <tr>\n",
       "      <th>11</th>\n",
       "      <td>AZE</td>\n",
       "      <td>1960</td>\n",
       "      <td>NaN</td>\n",
       "    </tr>\n",
       "    <tr>\n",
       "      <th>12</th>\n",
       "      <td>BDI</td>\n",
       "      <td>1960</td>\n",
       "      <td>70.91</td>\n",
       "    </tr>\n",
       "    <tr>\n",
       "      <th>13</th>\n",
       "      <td>BEL</td>\n",
       "      <td>1960</td>\n",
       "      <td>1,290.29</td>\n",
       "    </tr>\n",
       "    <tr>\n",
       "      <th>14</th>\n",
       "      <td>BEN</td>\n",
       "      <td>1960</td>\n",
       "      <td>89.86</td>\n",
       "    </tr>\n",
       "  </tbody>\n",
       "</table>\n",
       "</div>"
      ],
      "text/plain": [
       "   country_code  year  gdp_per_capita\n",
       "0           ABW  1960             NaN\n",
       "1           AFG  1960             NaN\n",
       "2           AGO  1960             NaN\n",
       "3           ALB  1960             NaN\n",
       "4           AND  1960             NaN\n",
       "5           ARE  1960             NaN\n",
       "6           ARG  1960             NaN\n",
       "7           ARM  1960             NaN\n",
       "8           ATG  1960             NaN\n",
       "9           AUS  1960        1,810.71\n",
       "10          AUT  1960          939.91\n",
       "11          AZE  1960             NaN\n",
       "12          BDI  1960           70.91\n",
       "13          BEL  1960        1,290.29\n",
       "14          BEN  1960           89.86"
      ]
     },
     "execution_count": 99,
     "metadata": {},
     "output_type": "execute_result"
    }
   ],
   "source": [
    "gdp_pcap_df.head(15)"
   ]
  },
  {
   "cell_type": "code",
   "execution_count": 100,
   "metadata": {},
   "outputs": [
    {
     "data": {
      "text/plain": [
       "184"
      ]
     },
     "execution_count": 100,
     "metadata": {},
     "output_type": "execute_result"
    }
   ],
   "source": [
    "len(set(gdp_pcap_df[\"country_code\"]))"
   ]
  },
  {
   "cell_type": "code",
   "execution_count": 101,
   "metadata": {},
   "outputs": [
    {
     "data": {
      "text/plain": [
       "False"
      ]
     },
     "execution_count": 101,
     "metadata": {},
     "output_type": "execute_result"
    }
   ],
   "source": [
    "\"AIA\" in set(gdp_pcap_df[\"country_code\"])"
   ]
  },
  {
   "cell_type": "code",
   "execution_count": 102,
   "metadata": {},
   "outputs": [
    {
     "data": {
      "text/plain": [
       "False"
      ]
     },
     "execution_count": 102,
     "metadata": {},
     "output_type": "execute_result"
    }
   ],
   "source": [
    "\"WLD\" in set(gdp_pcap_df[\"country_code\"])"
   ]
  },
  {
   "cell_type": "code",
   "execution_count": 103,
   "metadata": {},
   "outputs": [
    {
     "data": {
      "text/plain": [
       "1748"
      ]
     },
     "execution_count": 103,
     "metadata": {},
     "output_type": "execute_result"
    }
   ],
   "source": [
    "# Calculating number of missing values in 'gdp_per_capita' column\n",
    "gdp_pcap_df[\"gdp_per_capita\"].isna().sum()"
   ]
  },
  {
   "cell_type": "code",
   "execution_count": 104,
   "metadata": {},
   "outputs": [],
   "source": [
    "# Searching for the missing values in the merged dataframe in the 'gdp_per_capita' column\n",
    "missing_gdp_pcap_df = gdp_pcap_df[gdp_pcap_df[\"gdp_per_capita\"].isnull()]"
   ]
  },
  {
   "cell_type": "code",
   "execution_count": 105,
   "metadata": {},
   "outputs": [
    {
     "data": {
      "text/html": [
       "<div>\n",
       "<style scoped>\n",
       "    .dataframe tbody tr th:only-of-type {\n",
       "        vertical-align: middle;\n",
       "    }\n",
       "\n",
       "    .dataframe tbody tr th {\n",
       "        vertical-align: top;\n",
       "    }\n",
       "\n",
       "    .dataframe thead th {\n",
       "        text-align: right;\n",
       "    }\n",
       "</style>\n",
       "<table border=\"1\" class=\"dataframe\">\n",
       "  <thead>\n",
       "    <tr style=\"text-align: right;\">\n",
       "      <th></th>\n",
       "      <th>country_code</th>\n",
       "      <th>year</th>\n",
       "      <th>gdp_per_capita</th>\n",
       "    </tr>\n",
       "  </thead>\n",
       "  <tbody>\n",
       "    <tr>\n",
       "      <th>0</th>\n",
       "      <td>ABW</td>\n",
       "      <td>1960</td>\n",
       "      <td>NaN</td>\n",
       "    </tr>\n",
       "    <tr>\n",
       "      <th>1</th>\n",
       "      <td>AFG</td>\n",
       "      <td>1960</td>\n",
       "      <td>NaN</td>\n",
       "    </tr>\n",
       "    <tr>\n",
       "      <th>2</th>\n",
       "      <td>AGO</td>\n",
       "      <td>1960</td>\n",
       "      <td>NaN</td>\n",
       "    </tr>\n",
       "    <tr>\n",
       "      <th>3</th>\n",
       "      <td>ALB</td>\n",
       "      <td>1960</td>\n",
       "      <td>NaN</td>\n",
       "    </tr>\n",
       "    <tr>\n",
       "      <th>4</th>\n",
       "      <td>AND</td>\n",
       "      <td>1960</td>\n",
       "      <td>NaN</td>\n",
       "    </tr>\n",
       "    <tr>\n",
       "      <th>...</th>\n",
       "      <td>...</td>\n",
       "      <td>...</td>\n",
       "      <td>...</td>\n",
       "    </tr>\n",
       "    <tr>\n",
       "      <th>11745</th>\n",
       "      <td>SMR</td>\n",
       "      <td>2023</td>\n",
       "      <td>NaN</td>\n",
       "    </tr>\n",
       "    <tr>\n",
       "      <th>11748</th>\n",
       "      <td>SSD</td>\n",
       "      <td>2023</td>\n",
       "      <td>NaN</td>\n",
       "    </tr>\n",
       "    <tr>\n",
       "      <th>11754</th>\n",
       "      <td>SYR</td>\n",
       "      <td>2023</td>\n",
       "      <td>NaN</td>\n",
       "    </tr>\n",
       "    <tr>\n",
       "      <th>11769</th>\n",
       "      <td>VEN</td>\n",
       "      <td>2023</td>\n",
       "      <td>NaN</td>\n",
       "    </tr>\n",
       "    <tr>\n",
       "      <th>11770</th>\n",
       "      <td>VIR</td>\n",
       "      <td>2023</td>\n",
       "      <td>NaN</td>\n",
       "    </tr>\n",
       "  </tbody>\n",
       "</table>\n",
       "<p>1748 rows × 3 columns</p>\n",
       "</div>"
      ],
      "text/plain": [
       "      country_code  year  gdp_per_capita\n",
       "0              ABW  1960             NaN\n",
       "1              AFG  1960             NaN\n",
       "2              AGO  1960             NaN\n",
       "3              ALB  1960             NaN\n",
       "4              AND  1960             NaN\n",
       "...            ...   ...             ...\n",
       "11745          SMR  2023             NaN\n",
       "11748          SSD  2023             NaN\n",
       "11754          SYR  2023             NaN\n",
       "11769          VEN  2023             NaN\n",
       "11770          VIR  2023             NaN\n",
       "\n",
       "[1748 rows x 3 columns]"
      ]
     },
     "execution_count": 105,
     "metadata": {},
     "output_type": "execute_result"
    }
   ],
   "source": [
    "missing_gdp_pcap_df"
   ]
  },
  {
   "cell_type": "code",
   "execution_count": 106,
   "metadata": {},
   "outputs": [
    {
     "data": {
      "text/plain": [
       "{'ABW',\n",
       " 'AFG',\n",
       " 'AGO',\n",
       " 'ALB',\n",
       " 'AND',\n",
       " 'ARE',\n",
       " 'ARG',\n",
       " 'ARM',\n",
       " 'ATG',\n",
       " 'AZE',\n",
       " 'BGR',\n",
       " 'BHR',\n",
       " 'BIH',\n",
       " 'BLR',\n",
       " 'BRN',\n",
       " 'BTN',\n",
       " 'CPV',\n",
       " 'CUB',\n",
       " 'CUW',\n",
       " 'CYM',\n",
       " 'CYP',\n",
       " 'CZE',\n",
       " 'DJI',\n",
       " 'ERI',\n",
       " 'EST',\n",
       " 'FRO',\n",
       " 'GEO',\n",
       " 'GIN',\n",
       " 'GMB',\n",
       " 'GNQ',\n",
       " 'GRL',\n",
       " 'GUM',\n",
       " 'HRV',\n",
       " 'HUN',\n",
       " 'IDN',\n",
       " 'JOR',\n",
       " 'KAZ',\n",
       " 'KGZ',\n",
       " 'KHM',\n",
       " 'KWT',\n",
       " 'LAO',\n",
       " 'LBN',\n",
       " 'LCA',\n",
       " 'LTU',\n",
       " 'LVA',\n",
       " 'MAC',\n",
       " 'MDA',\n",
       " 'MDV',\n",
       " 'MKD',\n",
       " 'MLI',\n",
       " 'MLT',\n",
       " 'MNE',\n",
       " 'MNG',\n",
       " 'MOZ',\n",
       " 'MRT',\n",
       " 'MWI',\n",
       " 'NAM',\n",
       " 'NCL',\n",
       " 'POL',\n",
       " 'PSE',\n",
       " 'PYF',\n",
       " 'QAT',\n",
       " 'ROU',\n",
       " 'RUS',\n",
       " 'SLV',\n",
       " 'SMR',\n",
       " 'SRB',\n",
       " 'SSD',\n",
       " 'SVK',\n",
       " 'SVN',\n",
       " 'SYR',\n",
       " 'TJK',\n",
       " 'TKM',\n",
       " 'TUN',\n",
       " 'UKR',\n",
       " 'UZB',\n",
       " 'VEN',\n",
       " 'VIR',\n",
       " 'VNM',\n",
       " 'YEM'}"
      ]
     },
     "execution_count": 106,
     "metadata": {},
     "output_type": "execute_result"
    }
   ],
   "source": [
    "set(missing_gdp_pcap_df[\"country_code\"])"
   ]
  },
  {
   "cell_type": "code",
   "execution_count": 107,
   "metadata": {},
   "outputs": [],
   "source": [
    "# Dropping the missing values in the 'gdp_per_capita' column\n",
    "gdp_pcap_df.dropna(subset=[\"gdp_per_capita\"], inplace=True)"
   ]
  },
  {
   "cell_type": "code",
   "execution_count": 108,
   "metadata": {},
   "outputs": [],
   "source": [
    "# Calculating log of 'gdp_per_capita' column\n",
    "gdp_pcap_df[\"log_gdp_per_capita\"] = np.log(gdp_pcap_df[\"gdp_per_capita\"])"
   ]
  },
  {
   "cell_type": "markdown",
   "metadata": {},
   "source": [
    "### Subsetting to the countries with tangible population values"
   ]
  },
  {
   "cell_type": "code",
   "execution_count": 109,
   "metadata": {},
   "outputs": [],
   "source": [
    "gdp_pcap_df = gdp_pcap_df[gdp_pcap_df[\"country_code\"].isin(pop_countries)]"
   ]
  },
  {
   "cell_type": "code",
   "execution_count": 110,
   "metadata": {},
   "outputs": [],
   "source": [
    "# Ordering by year and country_code columns\n",
    "gdp_pcap_df.sort_values(by=[\"year\", \"country_code\"], inplace=True)\n",
    "gdp_pcap_df.reset_index(drop=True, inplace=True)"
   ]
  },
  {
   "cell_type": "code",
   "execution_count": 111,
   "metadata": {},
   "outputs": [
    {
     "data": {
      "text/plain": [
       "(8334, 4)"
      ]
     },
     "execution_count": 111,
     "metadata": {},
     "output_type": "execute_result"
    }
   ],
   "source": [
    "gdp_pcap_df.shape"
   ]
  },
  {
   "cell_type": "code",
   "execution_count": 112,
   "metadata": {},
   "outputs": [
    {
     "data": {
      "text/html": [
       "<div>\n",
       "<style scoped>\n",
       "    .dataframe tbody tr th:only-of-type {\n",
       "        vertical-align: middle;\n",
       "    }\n",
       "\n",
       "    .dataframe tbody tr th {\n",
       "        vertical-align: top;\n",
       "    }\n",
       "\n",
       "    .dataframe thead th {\n",
       "        text-align: right;\n",
       "    }\n",
       "</style>\n",
       "<table border=\"1\" class=\"dataframe\">\n",
       "  <thead>\n",
       "    <tr style=\"text-align: right;\">\n",
       "      <th></th>\n",
       "      <th>country_code</th>\n",
       "      <th>year</th>\n",
       "      <th>gdp_per_capita</th>\n",
       "      <th>log_gdp_per_capita</th>\n",
       "    </tr>\n",
       "  </thead>\n",
       "  <tbody>\n",
       "    <tr>\n",
       "      <th>0</th>\n",
       "      <td>AUS</td>\n",
       "      <td>1960</td>\n",
       "      <td>1,810.71</td>\n",
       "      <td>7.50</td>\n",
       "    </tr>\n",
       "    <tr>\n",
       "      <th>1</th>\n",
       "      <td>AUT</td>\n",
       "      <td>1960</td>\n",
       "      <td>939.91</td>\n",
       "      <td>6.85</td>\n",
       "    </tr>\n",
       "    <tr>\n",
       "      <th>2</th>\n",
       "      <td>BDI</td>\n",
       "      <td>1960</td>\n",
       "      <td>70.91</td>\n",
       "      <td>4.26</td>\n",
       "    </tr>\n",
       "    <tr>\n",
       "      <th>3</th>\n",
       "      <td>BEL</td>\n",
       "      <td>1960</td>\n",
       "      <td>1,290.29</td>\n",
       "      <td>7.16</td>\n",
       "    </tr>\n",
       "    <tr>\n",
       "      <th>4</th>\n",
       "      <td>BEN</td>\n",
       "      <td>1960</td>\n",
       "      <td>89.86</td>\n",
       "      <td>4.50</td>\n",
       "    </tr>\n",
       "    <tr>\n",
       "      <th>5</th>\n",
       "      <td>BFA</td>\n",
       "      <td>1960</td>\n",
       "      <td>69.15</td>\n",
       "      <td>4.24</td>\n",
       "    </tr>\n",
       "    <tr>\n",
       "      <th>6</th>\n",
       "      <td>BGD</td>\n",
       "      <td>1960</td>\n",
       "      <td>82.48</td>\n",
       "      <td>4.41</td>\n",
       "    </tr>\n",
       "    <tr>\n",
       "      <th>7</th>\n",
       "      <td>BOL</td>\n",
       "      <td>1960</td>\n",
       "      <td>100.82</td>\n",
       "      <td>4.61</td>\n",
       "    </tr>\n",
       "    <tr>\n",
       "      <th>8</th>\n",
       "      <td>BRA</td>\n",
       "      <td>1960</td>\n",
       "      <td>235.27</td>\n",
       "      <td>5.46</td>\n",
       "    </tr>\n",
       "    <tr>\n",
       "      <th>9</th>\n",
       "      <td>BWA</td>\n",
       "      <td>1960</td>\n",
       "      <td>58.92</td>\n",
       "      <td>4.08</td>\n",
       "    </tr>\n",
       "    <tr>\n",
       "      <th>10</th>\n",
       "      <td>CAF</td>\n",
       "      <td>1960</td>\n",
       "      <td>65.88</td>\n",
       "      <td>4.19</td>\n",
       "    </tr>\n",
       "    <tr>\n",
       "      <th>11</th>\n",
       "      <td>CAN</td>\n",
       "      <td>1960</td>\n",
       "      <td>2,264.95</td>\n",
       "      <td>7.73</td>\n",
       "    </tr>\n",
       "    <tr>\n",
       "      <th>12</th>\n",
       "      <td>CHE</td>\n",
       "      <td>1960</td>\n",
       "      <td>1,954.31</td>\n",
       "      <td>7.58</td>\n",
       "    </tr>\n",
       "    <tr>\n",
       "      <th>13</th>\n",
       "      <td>CHL</td>\n",
       "      <td>1960</td>\n",
       "      <td>504.09</td>\n",
       "      <td>6.22</td>\n",
       "    </tr>\n",
       "    <tr>\n",
       "      <th>14</th>\n",
       "      <td>CHN</td>\n",
       "      <td>1960</td>\n",
       "      <td>89.52</td>\n",
       "      <td>4.49</td>\n",
       "    </tr>\n",
       "  </tbody>\n",
       "</table>\n",
       "</div>"
      ],
      "text/plain": [
       "   country_code  year  gdp_per_capita  log_gdp_per_capita\n",
       "0           AUS  1960        1,810.71                7.50\n",
       "1           AUT  1960          939.91                6.85\n",
       "2           BDI  1960           70.91                4.26\n",
       "3           BEL  1960        1,290.29                7.16\n",
       "4           BEN  1960           89.86                4.50\n",
       "5           BFA  1960           69.15                4.24\n",
       "6           BGD  1960           82.48                4.41\n",
       "7           BOL  1960          100.82                4.61\n",
       "8           BRA  1960          235.27                5.46\n",
       "9           BWA  1960           58.92                4.08\n",
       "10          CAF  1960           65.88                4.19\n",
       "11          CAN  1960        2,264.95                7.73\n",
       "12          CHE  1960        1,954.31                7.58\n",
       "13          CHL  1960          504.09                6.22\n",
       "14          CHN  1960           89.52                4.49"
      ]
     },
     "execution_count": 112,
     "metadata": {},
     "output_type": "execute_result"
    }
   ],
   "source": [
    "gdp_pcap_df.head(15)"
   ]
  },
  {
   "cell_type": "markdown",
   "metadata": {},
   "source": [
    "### Staging GDP data"
   ]
  },
  {
   "cell_type": "code",
   "execution_count": 113,
   "metadata": {},
   "outputs": [
    {
     "name": "stdout",
     "output_type": "stream",
     "text": [
      "year column initial type:\n",
      "category\n",
      "============================================================\n",
      "year column final type:\n",
      "int16\n",
      "============================================================\n",
      "country_code column initial type:\n",
      "category\n",
      "============================================================\n",
      "country_code column final type:\n",
      "object\n",
      "============================================================\n"
     ]
    }
   ],
   "source": [
    "# Save the clean gdp DataFrame to a .dta file\n",
    "output_file_name = \"ingested_gdp_pcap.dta\"\n",
    "dtype_dict = {\"country_code\": \"str\"}\n",
    "save_hs92_stata_data(\n",
    "    data=gdp_pcap_df,\n",
    "    file_location=output_file_location,\n",
    "    file_name=output_file_name,\n",
    "    dtype_dict=dtype_dict,\n",
    ")"
   ]
  },
  {
   "cell_type": "markdown",
   "metadata": {},
   "source": [
    "Staging final list of countrycodes present in gdp_pcap_df dataframe"
   ]
  },
  {
   "cell_type": "code",
   "execution_count": 114,
   "metadata": {},
   "outputs": [],
   "source": [
    "valid_gdp_country_codes = set(gdp_pcap_df[\"country_code\"])"
   ]
  },
  {
   "cell_type": "code",
   "execution_count": 115,
   "metadata": {},
   "outputs": [
    {
     "name": "stdout",
     "output_type": "stream",
     "text": [
      "country_id column initial type:\n",
      "int64\n",
      "============================================================\n",
      "country_id column final type:\n",
      "object\n",
      "============================================================\n"
     ]
    }
   ],
   "source": [
    "# Switching to the 'category' data type for categorical columns\n",
    "categorical_columns = [\"country_id\"]\n",
    "location_df = switch_to_dtype(\n",
    "    location_df, default_dtype=\"str\", categorical_columns=categorical_columns\n",
    ")"
   ]
  },
  {
   "cell_type": "code",
   "execution_count": 116,
   "metadata": {},
   "outputs": [],
   "source": [
    "# Extracting 'country_id' from the 'location_df' subsetting by 'country_code' present in the 'gdp_pcap_df'\n",
    "valid_codes_mask = location_df[\"country_code\"].isin(valid_gdp_country_codes)\n",
    "valid_gdp_country_ids = set(location_df.loc[valid_codes_mask, \"country_id\"].unique())"
   ]
  },
  {
   "cell_type": "code",
   "execution_count": 117,
   "metadata": {},
   "outputs": [],
   "source": [
    "valid_gdp_locations = location_df[valid_codes_mask][\n",
    "    [\"country_id\", \"country_code\"]\n",
    "].reset_index(drop=True)"
   ]
  },
  {
   "cell_type": "code",
   "execution_count": 118,
   "metadata": {},
   "outputs": [
    {
     "name": "stdout",
     "output_type": "stream",
     "text": [
      "country_id column initial type:\n",
      "object\n",
      "============================================================\n",
      "country_id column final type:\n",
      "int16\n",
      "============================================================\n"
     ]
    },
    {
     "data": {
      "text/plain": [
       "country_id       int16\n",
       "country_code    object\n",
       "dtype: object"
      ]
     },
     "execution_count": 118,
     "metadata": {},
     "output_type": "execute_result"
    }
   ],
   "source": [
    "# Switching to the \"int16\" data type for merging convenience\n",
    "categorical_columns = [\"country_id\"]\n",
    "valid_gdp_locations = switch_to_dtype(\n",
    "    valid_gdp_locations, default_dtype=\"int16\", categorical_columns=categorical_columns\n",
    ")\n",
    "valid_gdp_locations.dtypes"
   ]
  },
  {
   "cell_type": "code",
   "execution_count": 119,
   "metadata": {},
   "outputs": [
    {
     "name": "stdout",
     "output_type": "stream",
     "text": [
      "data restored:['valid_gdp_country_codes', 'valid_gdp_country_ids', 'valid_gdp_locations', 'export_years', 'unreliable_locations', 'rolling_exports_years', 'reliable_gdp_codes']\n",
      "============================================================\n"
     ]
    }
   ],
   "source": [
    "# Making sure I am not removing any vars, which are being staged at later stages\n",
    "dumped_data = restore_cache(input_file_location=output_file_location)"
   ]
  },
  {
   "cell_type": "code",
   "execution_count": 120,
   "metadata": {},
   "outputs": [],
   "source": [
    "dumped_data[\"valid_gdp_country_codes\"] = valid_gdp_country_codes\n",
    "dumped_data[\"valid_gdp_country_ids\"] = valid_gdp_country_ids\n",
    "dumped_data[\"valid_gdp_locations\"] = valid_gdp_locations"
   ]
  },
  {
   "cell_type": "code",
   "execution_count": 121,
   "metadata": {},
   "outputs": [
    {
     "name": "stdout",
     "output_type": "stream",
     "text": [
      "data staged:['valid_gdp_country_codes', 'valid_gdp_country_ids', 'valid_gdp_locations', 'export_years', 'unreliable_locations', 'rolling_exports_years', 'reliable_gdp_codes']\n",
      "============================================================\n"
     ]
    }
   ],
   "source": [
    "staging_cache(\n",
    "    output_file_location=output_file_location,\n",
    "    **dumped_data,\n",
    ")"
   ]
  },
  {
   "cell_type": "code",
   "execution_count": 122,
   "metadata": {},
   "outputs": [],
   "source": [
    "# assert False, \"End of code\""
   ]
  }
 ],
 "metadata": {
  "kernelspec": {
   "display_name": "bdmm2324",
   "language": "python",
   "name": "python3"
  },
  "language_info": {
   "codemirror_mode": {
    "name": "ipython",
    "version": 3
   },
   "file_extension": ".py",
   "mimetype": "text/x-python",
   "name": "python",
   "nbconvert_exporter": "python",
   "pygments_lexer": "ipython3",
   "version": "3.11.7"
  }
 },
 "nbformat": 4,
 "nbformat_minor": 2
}
