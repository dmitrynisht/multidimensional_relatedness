{
 "cells": [
  {
   "cell_type": "code",
   "execution_count": 1,
   "metadata": {},
   "outputs": [
    {
     "data": {
      "text/plain": [
       "1"
      ]
     },
     "execution_count": 1,
     "metadata": {},
     "output_type": "execute_result"
    }
   ],
   "source": [
    "(\n",
    "    1 + 0\n",
    ")  # Utility cell. Sometimes \"Jupyter\" skipps the first cell when running all cells. Especially after a restart."
   ]
  },
  {
   "cell_type": "code",
   "execution_count": 2,
   "metadata": {},
   "outputs": [
    {
     "data": {
      "text/plain": [
       "2"
      ]
     },
     "execution_count": 2,
     "metadata": {},
     "output_type": "execute_result"
    }
   ],
   "source": [
    "(\n",
    "    1 + 1\n",
    ")  # Utility cell. Sometimes \"Jupyter\" skipps the first cell when running all cells. Especially after a restart."
   ]
  },
  {
   "cell_type": "code",
   "execution_count": 3,
   "metadata": {},
   "outputs": [
    {
     "name": "stdout",
     "output_type": "stream",
     "text": [
      "N3 utility cell running...\n"
     ]
    }
   ],
   "source": [
    "print(f\"N{1+2} utility cell running...\")"
   ]
  },
  {
   "cell_type": "code",
   "execution_count": 4,
   "metadata": {},
   "outputs": [
    {
     "name": "stdout",
     "output_type": "stream",
     "text": [
      "PYTHONPATH: C:\\Users\\Admin\\Documents\\Univer\\MASTER THESIS IDEAS\\Flavio Pinehro\\11_MasterProject\\src;C:\\Users\\Admin\\Documents\\Univer\\MASTER THESIS IDEAS\\Flavio Pinehro\\11_MasterProject\\src\\imports\n"
     ]
    }
   ],
   "source": [
    "# Resolve the path to the \"src\" folder with helper functions\n",
    "import config_notebooks"
   ]
  },
  {
   "cell_type": "code",
   "execution_count": 5,
   "metadata": {},
   "outputs": [
    {
     "name": "stdout",
     "output_type": "stream",
     "text": [
      "os.getcwd():\n",
      "c:\\Users\\Admin\\Documents\\Univer\\MASTER THESIS IDEAS\\Flavio Pinehro\\11_MasterProject\\notebooks\n",
      "============================================================\n",
      "input_file_location:\n",
      "..\\data\\05_mor_silver\n",
      "============================================================\n",
      "output_file_location:\n",
      "..\\data\\06_mor_gold\n",
      "============================================================\n"
     ]
    }
   ],
   "source": [
    "from n06_import import *"
   ]
  },
  {
   "cell_type": "code",
   "execution_count": 6,
   "metadata": {},
   "outputs": [],
   "source": [
    "# # Resolve the path to the 'src' folder with helper functions\n",
    "# import config_notebooks\n",
    "# from importlib import reload\n",
    "\n",
    "# # Import the module and reload it\n",
    "# import n06_import_reload\n",
    "\n",
    "# reload(n06_import_reload)\n",
    "\n",
    "# # Re-import the functions from the reloaded module\n",
    "# from n06_import_reload import *"
   ]
  },
  {
   "cell_type": "markdown",
   "metadata": {},
   "source": [
    "### Importing info about countries: \"country_code\"\n",
    "Countries have been already imported in the n01_Ingested_gdp notebook"
   ]
  },
  {
   "cell_type": "code",
   "execution_count": 7,
   "metadata": {},
   "outputs": [
    {
     "name": "stdout",
     "output_type": "stream",
     "text": [
      "data restored:['valid_gdp_country_codes', 'valid_gdp_country_ids', 'valid_gdp_locations', 'export_years', 'unreliable_locations', 'rolling_exports_years', 'reliable_gdp_codes']\n",
      "============================================================\n"
     ]
    }
   ],
   "source": [
    "initial_input_location = input_file_location\n",
    "\n",
    "input_file_location = os.path.join(\"..\", \"data\", \"02_ingested\")\n",
    "input_file_name = \"locations.parquet\"\n",
    "location_df = read_hs92_parquet_data(\n",
    "    input_file_location, input_file_name, f_convert_dtype=False\n",
    ")\n",
    "dumped_data = restore_cache(input_file_location=input_file_location)\n",
    "unreliable_locations = dumped_data[\"unreliable_locations\"]\n",
    "\n",
    "input_file_location = initial_input_location"
   ]
  },
  {
   "cell_type": "code",
   "execution_count": 8,
   "metadata": {},
   "outputs": [
    {
     "data": {
      "text/html": [
       "<div>\n",
       "<style scoped>\n",
       "    .dataframe tbody tr th:only-of-type {\n",
       "        vertical-align: middle;\n",
       "    }\n",
       "\n",
       "    .dataframe tbody tr th {\n",
       "        vertical-align: top;\n",
       "    }\n",
       "\n",
       "    .dataframe thead th {\n",
       "        text-align: right;\n",
       "    }\n",
       "</style>\n",
       "<table border=\"1\" class=\"dataframe\">\n",
       "  <thead>\n",
       "    <tr style=\"text-align: right;\">\n",
       "      <th></th>\n",
       "      <th>country_id</th>\n",
       "      <th>country_name</th>\n",
       "      <th>country_code</th>\n",
       "    </tr>\n",
       "  </thead>\n",
       "  <tbody>\n",
       "    <tr>\n",
       "      <th>0</th>\n",
       "      <td>533</td>\n",
       "      <td>Aruba</td>\n",
       "      <td>ABW</td>\n",
       "    </tr>\n",
       "    <tr>\n",
       "      <th>1</th>\n",
       "      <td>4</td>\n",
       "      <td>Afghanistan</td>\n",
       "      <td>AFG</td>\n",
       "    </tr>\n",
       "  </tbody>\n",
       "</table>\n",
       "</div>"
      ],
      "text/plain": [
       "   country_id country_name country_code\n",
       "0         533        Aruba          ABW\n",
       "1           4  Afghanistan          AFG"
      ]
     },
     "execution_count": 8,
     "metadata": {},
     "output_type": "execute_result"
    }
   ],
   "source": [
    "location_df.head(2)"
   ]
  },
  {
   "cell_type": "code",
   "execution_count": 9,
   "metadata": {},
   "outputs": [
    {
     "name": "stdout",
     "output_type": "stream",
     "text": [
      "['location_df', <class 'pandas.core.frame.DataFrame'>]\n",
      "============================================================\n",
      "shape:\n",
      "(252, 3)\n",
      "============================================================\n",
      "data types:\n",
      "country_id       int16\n",
      "country_name    object\n",
      "country_code    object\n",
      "dtype: object\n",
      "============================================================\n",
      "columns:\n",
      "['country_id', 'country_name', 'country_code']\n",
      "============================================================\n",
      "       country_id\n",
      "count      252.00\n",
      "mean       438.84\n",
      "std        257.78\n",
      "min          4.00\n",
      "25%        217.00\n",
      "50%        437.00\n",
      "75%        655.25\n",
      "max        999.00\n",
      "============================================================\n",
      "Total memory usage: 32784 bytes\n",
      "============================================================\n"
     ]
    }
   ],
   "source": [
    "df_stats(location_df, \"location_df\")"
   ]
  },
  {
   "cell_type": "code",
   "execution_count": 10,
   "metadata": {},
   "outputs": [
    {
     "name": "stdout",
     "output_type": "stream",
     "text": [
      "country_name column initial type:\n",
      "object\n",
      "============================================================\n",
      "country_name column final type:\n",
      "category\n",
      "============================================================\n"
     ]
    }
   ],
   "source": [
    "# Switching to the \"category\" data type for merging with the GDP data\n",
    "categorical_columns = [\"country_name\"]\n",
    "# categorical_columns = [\"country_id\", \"country_name\", \"country_code\"]\n",
    "location_df = switch_to_dtype(\n",
    "    location_df, default_dtype=\"category\", categorical_columns=categorical_columns\n",
    ")"
   ]
  },
  {
   "cell_type": "code",
   "execution_count": 11,
   "metadata": {},
   "outputs": [
    {
     "data": {
      "text/plain": [
       "(False, True)"
      ]
     },
     "execution_count": 11,
     "metadata": {},
     "output_type": "execute_result"
    }
   ],
   "source": [
    "low_codes = set(location_df[\"country_code\"].str.lower().unique())\n",
    "# checking if \"wld\" or \"aia\" are in the set of lower case country codes\n",
    "\"wld\" in low_codes, \"aia\" in low_codes"
   ]
  },
  {
   "cell_type": "code",
   "execution_count": 12,
   "metadata": {},
   "outputs": [
    {
     "data": {
      "text/html": [
       "<div>\n",
       "<style scoped>\n",
       "    .dataframe tbody tr th:only-of-type {\n",
       "        vertical-align: middle;\n",
       "    }\n",
       "\n",
       "    .dataframe tbody tr th {\n",
       "        vertical-align: top;\n",
       "    }\n",
       "\n",
       "    .dataframe thead th {\n",
       "        text-align: right;\n",
       "    }\n",
       "</style>\n",
       "<table border=\"1\" class=\"dataframe\">\n",
       "  <thead>\n",
       "    <tr style=\"text-align: right;\">\n",
       "      <th></th>\n",
       "      <th>country_id</th>\n",
       "      <th>country_name</th>\n",
       "      <th>country_code</th>\n",
       "    </tr>\n",
       "  </thead>\n",
       "  <tbody>\n",
       "    <tr>\n",
       "      <th>3</th>\n",
       "      <td>660</td>\n",
       "      <td>Anguilla</td>\n",
       "      <td>AIA</td>\n",
       "    </tr>\n",
       "    <tr>\n",
       "      <th>28</th>\n",
       "      <td>112</td>\n",
       "      <td>Belarus</td>\n",
       "      <td>BLR</td>\n",
       "    </tr>\n",
       "    <tr>\n",
       "      <th>84</th>\n",
       "      <td>292</td>\n",
       "      <td>Gibraltar</td>\n",
       "      <td>GIB</td>\n",
       "    </tr>\n",
       "    <tr>\n",
       "      <th>178</th>\n",
       "      <td>408</td>\n",
       "      <td>North Korea</td>\n",
       "      <td>PRK</td>\n",
       "    </tr>\n",
       "    <tr>\n",
       "      <th>211</th>\n",
       "      <td>690</td>\n",
       "      <td>Seychelles</td>\n",
       "      <td>SYC</td>\n",
       "    </tr>\n",
       "    <tr>\n",
       "      <th>237</th>\n",
       "      <td>92</td>\n",
       "      <td>British Virgin Islands</td>\n",
       "      <td>VGB</td>\n",
       "    </tr>\n",
       "  </tbody>\n",
       "</table>\n",
       "</div>"
      ],
      "text/plain": [
       "     country_id            country_name country_code\n",
       "3           660                Anguilla          AIA\n",
       "28          112                 Belarus          BLR\n",
       "84          292               Gibraltar          GIB\n",
       "178         408             North Korea          PRK\n",
       "211         690              Seychelles          SYC\n",
       "237          92  British Virgin Islands          VGB"
      ]
     },
     "execution_count": 12,
     "metadata": {},
     "output_type": "execute_result"
    }
   ],
   "source": [
    "location_df[\n",
    "    location_df[\"country_code\"].isin([\"GIB\", \"PRK\", \"VGB\", \"AIA\", \"BLR\", \"SYC\", \"WLD\"])\n",
    "]"
   ]
  },
  {
   "cell_type": "markdown",
   "metadata": {},
   "source": [
    "## Processing ECI data"
   ]
  },
  {
   "cell_type": "code",
   "execution_count": 13,
   "metadata": {},
   "outputs": [],
   "source": [
    "input_file_name = \"ECI.parquet\"\n",
    "ECI = read_hs92_parquet_data(\n",
    "    input_file_location, input_file_name, f_convert_dtype=False\n",
    ")"
   ]
  },
  {
   "cell_type": "code",
   "execution_count": 14,
   "metadata": {},
   "outputs": [
    {
     "name": "stdout",
     "output_type": "stream",
     "text": [
      "year column initial type:\n",
      "int16\n",
      "============================================================\n",
      "year column final type:\n",
      "category\n",
      "============================================================\n",
      "country_id column initial type:\n",
      "int16\n",
      "============================================================\n",
      "country_id column final type:\n",
      "category\n",
      "============================================================\n"
     ]
    }
   ],
   "source": [
    "categorical_columns = [\"year\", \"country_id\"]\n",
    "ECI = switch_to_dtype(\n",
    "    ECI, default_dtype=\"category\", categorical_columns=categorical_columns\n",
    ")"
   ]
  },
  {
   "cell_type": "code",
   "execution_count": 15,
   "metadata": {},
   "outputs": [
    {
     "name": "stdout",
     "output_type": "stream",
     "text": [
      "['ECI', <class 'pandas.core.frame.DataFrame'>]\n",
      "============================================================\n",
      "shape:\n",
      "(1152, 22)\n",
      "============================================================\n",
      "data types:\n",
      "year          category\n",
      "country_id    category\n",
      "k_c0             int32\n",
      "ECI_0          float64\n",
      "ECI_1          float64\n",
      "ECI_2          float64\n",
      "ECI_3          float64\n",
      "ECI_4          float64\n",
      "ECI_5          float64\n",
      "ECI_6          float64\n",
      "ECI_7          float64\n",
      "ECI_8          float64\n",
      "ECI_9          float64\n",
      "ECI_10         float64\n",
      "ECI_11         float64\n",
      "ECI_12         float64\n",
      "ECI_13         float64\n",
      "ECI_14         float64\n",
      "ECI_15         float64\n",
      "ECI_16         float64\n",
      "ECI_17         float64\n",
      "ECI_18         float64\n",
      "dtype: object\n",
      "============================================================\n",
      "columns:\n",
      "['year', 'country_id', 'k_c0', 'ECI_0', 'ECI_1', 'ECI_2', 'ECI_3', 'ECI_4', 'ECI_5', 'ECI_6', 'ECI_7', 'ECI_8', 'ECI_9', 'ECI_10', 'ECI_11', 'ECI_12', 'ECI_13', 'ECI_14', 'ECI_15', 'ECI_16', 'ECI_17', 'ECI_18']\n",
      "============================================================\n"
     ]
    },
    {
     "name": "stdout",
     "output_type": "stream",
     "text": [
      "          k_c0     ECI_0     ECI_1     ECI_2     ECI_3     ECI_4     ECI_5  \\\n",
      "count 1,152.00  1,152.00  1,152.00  1,152.00  1,152.00  1,152.00  1,152.00   \n",
      "mean    179.83  0.000000 -0.000000 -0.000000 -0.000000 -0.000000  0.000000   \n",
      "std     126.02      1.00      1.00      1.00      1.00      1.00      1.00   \n",
      "min       7.00     -1.39     -2.83     -2.67     -2.99     -2.49     -2.83   \n",
      "25%      78.00 -0.808449 -0.668768 -0.748906 -0.661838 -0.756843 -0.690107   \n",
      "50%     158.00 -0.171143  0.090858 -0.051378  0.168680 -0.077772  0.159323   \n",
      "75%     251.00  0.565839  0.726189  0.816547  0.759513  0.791234  0.816117   \n",
      "max     560.00      2.92      2.63      2.13      2.35      2.26      2.29   \n",
      "\n",
      "          ECI_6     ECI_7     ECI_8     ECI_9    ECI_10    ECI_11    ECI_12  \\\n",
      "count  1,152.00  1,152.00  1,152.00  1,152.00  1,152.00  1,152.00  1,152.00   \n",
      "mean  -0.000000 -0.000000  0.000000 -0.000000 -0.000000 -0.000000 -0.000000   \n",
      "std        1.00      1.00      1.00      1.00      1.00      1.00      1.00   \n",
      "min       -2.31     -2.70     -2.31     -2.62     -2.30     -2.58     -2.29   \n",
      "25%   -0.779031 -0.728318 -0.786615 -0.741854 -0.805665 -0.736665 -0.807121   \n",
      "50%   -0.092767  0.159729 -0.117145  0.160490 -0.130457  0.155139 -0.134515   \n",
      "75%    0.745957  0.822175  0.747620  0.818359  0.739899  0.820948  0.745855   \n",
      "max        2.37      2.28      2.44      2.27      2.47      2.27      2.50   \n",
      "\n",
      "         ECI_13    ECI_14    ECI_15    ECI_16    ECI_17    ECI_18  \n",
      "count  1,152.00  1,152.00  1,152.00  1,152.00  1,152.00  1,152.00  \n",
      "mean   0.000000 -0.000000 -0.000000 -0.000000 -0.000000  0.000000  \n",
      "std        1.00      1.00      1.00      1.00      1.00      1.00  \n",
      "min       -2.55     -2.29     -2.54     -2.28     -2.54     -2.28  \n",
      "25%   -0.738526 -0.807520 -0.738839 -0.807369 -0.738449 -0.806295  \n",
      "50%    0.149996 -0.139149  0.147937 -0.142375  0.145410 -0.141866  \n",
      "75%    0.821206  0.754662  0.820938  0.741563  0.821992  0.737877  \n",
      "max        2.27      2.51      2.27      2.52      2.27      2.52  \n",
      "============================================================\n",
      "Total memory usage: 186440 bytes\n",
      "============================================================\n"
     ]
    }
   ],
   "source": [
    "df_stats(ECI, \"ECI\")"
   ]
  },
  {
   "cell_type": "code",
   "execution_count": 16,
   "metadata": {},
   "outputs": [
    {
     "data": {
      "text/html": [
       "<div>\n",
       "<style scoped>\n",
       "    .dataframe tbody tr th:only-of-type {\n",
       "        vertical-align: middle;\n",
       "    }\n",
       "\n",
       "    .dataframe tbody tr th {\n",
       "        vertical-align: top;\n",
       "    }\n",
       "\n",
       "    .dataframe thead th {\n",
       "        text-align: right;\n",
       "    }\n",
       "</style>\n",
       "<table border=\"1\" class=\"dataframe\">\n",
       "  <thead>\n",
       "    <tr style=\"text-align: right;\">\n",
       "      <th></th>\n",
       "      <th>year</th>\n",
       "      <th>country_id</th>\n",
       "      <th>k_c0</th>\n",
       "      <th>ECI_0</th>\n",
       "      <th>ECI_1</th>\n",
       "      <th>ECI_2</th>\n",
       "      <th>ECI_3</th>\n",
       "      <th>ECI_4</th>\n",
       "      <th>ECI_5</th>\n",
       "      <th>ECI_6</th>\n",
       "      <th>...</th>\n",
       "      <th>ECI_9</th>\n",
       "      <th>ECI_10</th>\n",
       "      <th>ECI_11</th>\n",
       "      <th>ECI_12</th>\n",
       "      <th>ECI_13</th>\n",
       "      <th>ECI_14</th>\n",
       "      <th>ECI_15</th>\n",
       "      <th>ECI_16</th>\n",
       "      <th>ECI_17</th>\n",
       "      <th>ECI_18</th>\n",
       "    </tr>\n",
       "  </thead>\n",
       "  <tbody>\n",
       "    <tr>\n",
       "      <th>0</th>\n",
       "      <td>2012</td>\n",
       "      <td>8</td>\n",
       "      <td>166</td>\n",
       "      <td>-0.131844</td>\n",
       "      <td>0.831169</td>\n",
       "      <td>-0.040967</td>\n",
       "      <td>0.548779</td>\n",
       "      <td>-0.090630</td>\n",
       "      <td>0.436914</td>\n",
       "      <td>-0.154422</td>\n",
       "      <td>...</td>\n",
       "      <td>0.349790</td>\n",
       "      <td>-0.239123</td>\n",
       "      <td>0.332050</td>\n",
       "      <td>-0.262405</td>\n",
       "      <td>0.321890</td>\n",
       "      <td>-0.277831</td>\n",
       "      <td>0.316103</td>\n",
       "      <td>-0.288045</td>\n",
       "      <td>0.312832</td>\n",
       "      <td>-0.294829</td>\n",
       "    </tr>\n",
       "    <tr>\n",
       "      <th>1</th>\n",
       "      <td>2012</td>\n",
       "      <td>12</td>\n",
       "      <td>15</td>\n",
       "      <td>-1.30</td>\n",
       "      <td>0.641786</td>\n",
       "      <td>-1.32</td>\n",
       "      <td>0.768264</td>\n",
       "      <td>-1.37</td>\n",
       "      <td>0.892379</td>\n",
       "      <td>-1.31</td>\n",
       "      <td>...</td>\n",
       "      <td>1.02</td>\n",
       "      <td>-1.20</td>\n",
       "      <td>1.04</td>\n",
       "      <td>-1.16</td>\n",
       "      <td>1.06</td>\n",
       "      <td>-1.13</td>\n",
       "      <td>1.07</td>\n",
       "      <td>-1.12</td>\n",
       "      <td>1.07</td>\n",
       "      <td>-1.10</td>\n",
       "    </tr>\n",
       "    <tr>\n",
       "      <th>2</th>\n",
       "      <td>2012</td>\n",
       "      <td>24</td>\n",
       "      <td>7</td>\n",
       "      <td>-1.36</td>\n",
       "      <td>-0.805907</td>\n",
       "      <td>-2.05</td>\n",
       "      <td>0.246574</td>\n",
       "      <td>-1.83</td>\n",
       "      <td>0.673335</td>\n",
       "      <td>-1.63</td>\n",
       "      <td>...</td>\n",
       "      <td>1.05</td>\n",
       "      <td>-1.41</td>\n",
       "      <td>1.13</td>\n",
       "      <td>-1.35</td>\n",
       "      <td>1.18</td>\n",
       "      <td>-1.31</td>\n",
       "      <td>1.21</td>\n",
       "      <td>-1.29</td>\n",
       "      <td>1.22</td>\n",
       "      <td>-1.27</td>\n",
       "    </tr>\n",
       "    <tr>\n",
       "      <th>3</th>\n",
       "      <td>2012</td>\n",
       "      <td>31</td>\n",
       "      <td>22</td>\n",
       "      <td>-1.25</td>\n",
       "      <td>1.52</td>\n",
       "      <td>-0.961099</td>\n",
       "      <td>1.32</td>\n",
       "      <td>-0.978661</td>\n",
       "      <td>1.18</td>\n",
       "      <td>-1.01</td>\n",
       "      <td>...</td>\n",
       "      <td>1.06</td>\n",
       "      <td>-1.02</td>\n",
       "      <td>1.04</td>\n",
       "      <td>-1.02</td>\n",
       "      <td>1.03</td>\n",
       "      <td>-1.02</td>\n",
       "      <td>1.02</td>\n",
       "      <td>-1.02</td>\n",
       "      <td>1.02</td>\n",
       "      <td>-1.02</td>\n",
       "    </tr>\n",
       "    <tr>\n",
       "      <th>4</th>\n",
       "      <td>2012</td>\n",
       "      <td>32</td>\n",
       "      <td>204</td>\n",
       "      <td>0.162505</td>\n",
       "      <td>-0.588760</td>\n",
       "      <td>0.331355</td>\n",
       "      <td>-0.298881</td>\n",
       "      <td>0.301952</td>\n",
       "      <td>-0.237945</td>\n",
       "      <td>0.287522</td>\n",
       "      <td>...</td>\n",
       "      <td>-0.262653</td>\n",
       "      <td>0.286262</td>\n",
       "      <td>-0.277414</td>\n",
       "      <td>0.289150</td>\n",
       "      <td>-0.287426</td>\n",
       "      <td>0.292120</td>\n",
       "      <td>-0.293705</td>\n",
       "      <td>0.294720</td>\n",
       "      <td>-0.297496</td>\n",
       "      <td>0.296829</td>\n",
       "    </tr>\n",
       "  </tbody>\n",
       "</table>\n",
       "<p>5 rows × 22 columns</p>\n",
       "</div>"
      ],
      "text/plain": [
       "   year country_id  k_c0     ECI_0     ECI_1     ECI_2     ECI_3     ECI_4  \\\n",
       "0  2012          8   166 -0.131844  0.831169 -0.040967  0.548779 -0.090630   \n",
       "1  2012         12    15     -1.30  0.641786     -1.32  0.768264     -1.37   \n",
       "2  2012         24     7     -1.36 -0.805907     -2.05  0.246574     -1.83   \n",
       "3  2012         31    22     -1.25      1.52 -0.961099      1.32 -0.978661   \n",
       "4  2012         32   204  0.162505 -0.588760  0.331355 -0.298881  0.301952   \n",
       "\n",
       "      ECI_5     ECI_6  ...     ECI_9    ECI_10    ECI_11    ECI_12    ECI_13  \\\n",
       "0  0.436914 -0.154422  ...  0.349790 -0.239123  0.332050 -0.262405  0.321890   \n",
       "1  0.892379     -1.31  ...      1.02     -1.20      1.04     -1.16      1.06   \n",
       "2  0.673335     -1.63  ...      1.05     -1.41      1.13     -1.35      1.18   \n",
       "3      1.18     -1.01  ...      1.06     -1.02      1.04     -1.02      1.03   \n",
       "4 -0.237945  0.287522  ... -0.262653  0.286262 -0.277414  0.289150 -0.287426   \n",
       "\n",
       "     ECI_14    ECI_15    ECI_16    ECI_17    ECI_18  \n",
       "0 -0.277831  0.316103 -0.288045  0.312832 -0.294829  \n",
       "1     -1.13      1.07     -1.12      1.07     -1.10  \n",
       "2     -1.31      1.21     -1.29      1.22     -1.27  \n",
       "3     -1.02      1.02     -1.02      1.02     -1.02  \n",
       "4  0.292120 -0.293705  0.294720 -0.297496  0.296829  \n",
       "\n",
       "[5 rows x 22 columns]"
      ]
     },
     "execution_count": 16,
     "metadata": {},
     "output_type": "execute_result"
    }
   ],
   "source": [
    "ECI.head()"
   ]
  },
  {
   "cell_type": "code",
   "execution_count": 17,
   "metadata": {},
   "outputs": [
    {
     "name": "stdout",
     "output_type": "stream",
     "text": [
      "locations:\n",
      "Index(['country_id', 'country_name', 'country_code'], dtype='object')\n",
      "gdp:\n",
      "Index(['year', 'country_id', 'k_c0', 'ECI_0', 'ECI_1', 'ECI_2', 'ECI_3',\n",
      "       'ECI_4', 'ECI_5', 'ECI_6', 'ECI_7', 'ECI_8', 'ECI_9', 'ECI_10',\n",
      "       'ECI_11', 'ECI_12', 'ECI_13', 'ECI_14', 'ECI_15', 'ECI_16', 'ECI_17',\n",
      "       'ECI_18'],\n",
      "      dtype='object')\n"
     ]
    }
   ],
   "source": [
    "print(f\"locations:\\n{location_df.columns}\\ngdp:\\n{ECI.columns}\", sep=\"\\n\")"
   ]
  },
  {
   "cell_type": "code",
   "execution_count": 18,
   "metadata": {},
   "outputs": [
    {
     "data": {
      "text/plain": [
       "Index(['year', 'country_id', 'k_c0', 'ECI_0', 'ECI_1', 'ECI_2', 'ECI_3',\n",
       "       'ECI_4', 'ECI_5', 'ECI_6', 'ECI_7', 'ECI_8', 'ECI_9', 'ECI_10',\n",
       "       'ECI_11', 'ECI_12', 'ECI_13', 'ECI_14', 'ECI_15', 'ECI_16', 'ECI_17',\n",
       "       'ECI_18'],\n",
       "      dtype='object')"
      ]
     },
     "execution_count": 18,
     "metadata": {},
     "output_type": "execute_result"
    }
   ],
   "source": [
    "ECI.columns"
   ]
  },
  {
   "cell_type": "code",
   "execution_count": 19,
   "metadata": {},
   "outputs": [
    {
     "name": "stdout",
     "output_type": "stream",
     "text": [
      "['k_c0', 'ECI_0', 'ECI_1', 'ECI_2', 'ECI_3', 'ECI_4', 'ECI_5', 'ECI_6', 'ECI_7', 'ECI_8', 'ECI_9', 'ECI_10', 'ECI_11', 'ECI_12', 'ECI_13', 'ECI_14', 'ECI_15', 'ECI_16', 'ECI_17', 'ECI_18']\n"
     ]
    }
   ],
   "source": [
    "# Getting the numeric columns of the ECI dataframe\n",
    "numeric_columns = ECI.select_dtypes(include=[\"number\"]).columns.to_list()\n",
    "print(numeric_columns)"
   ]
  },
  {
   "cell_type": "code",
   "execution_count": 20,
   "metadata": {},
   "outputs": [
    {
     "name": "stdout",
     "output_type": "stream",
     "text": [
      "['country_id', 'year']\n"
     ]
    }
   ],
   "source": [
    "categorical_columns = ECI.columns.difference(numeric_columns).to_list()\n",
    "print(categorical_columns)"
   ]
  },
  {
   "cell_type": "code",
   "execution_count": 21,
   "metadata": {},
   "outputs": [],
   "source": [
    "# reordering the columns\n",
    "# numeric_columns = ['ECI_0', 'ECI_1', 'ECI_2', 'ECI_3', 'ECI_4', 'ECI_5', 'ECI_6', 'ECI_7', 'ECI_8', 'ECI_9', 'ECI_10', 'ECI_11', 'ECI_12']\n",
    "# numeric_columns = ['ECI_2', 'ECI_4', 'ECI_6', 'ECI_8', 'ECI_10', 'ECI_12']\n",
    "ECI = ECI[categorical_columns + numeric_columns]"
   ]
  },
  {
   "cell_type": "code",
   "execution_count": 22,
   "metadata": {},
   "outputs": [
    {
     "name": "stdout",
     "output_type": "stream",
     "text": [
      "country_id column initial type:\n",
      "category\n",
      "============================================================\n",
      "country_id column final type:\n",
      "int16\n",
      "============================================================\n",
      "year column initial type:\n",
      "category\n",
      "============================================================\n",
      "year column final type:\n",
      "int16\n",
      "============================================================\n"
     ]
    }
   ],
   "source": [
    "ECI = switch_to_dtype(\n",
    "    ECI, default_dtype=\"int16\", categorical_columns=categorical_columns\n",
    ")"
   ]
  },
  {
   "cell_type": "code",
   "execution_count": 23,
   "metadata": {},
   "outputs": [
    {
     "data": {
      "text/html": [
       "<div>\n",
       "<style scoped>\n",
       "    .dataframe tbody tr th:only-of-type {\n",
       "        vertical-align: middle;\n",
       "    }\n",
       "\n",
       "    .dataframe tbody tr th {\n",
       "        vertical-align: top;\n",
       "    }\n",
       "\n",
       "    .dataframe thead th {\n",
       "        text-align: right;\n",
       "    }\n",
       "</style>\n",
       "<table border=\"1\" class=\"dataframe\">\n",
       "  <thead>\n",
       "    <tr style=\"text-align: right;\">\n",
       "      <th></th>\n",
       "      <th>country_id</th>\n",
       "      <th>year</th>\n",
       "      <th>k_c0</th>\n",
       "      <th>ECI_0</th>\n",
       "      <th>ECI_1</th>\n",
       "      <th>ECI_2</th>\n",
       "      <th>ECI_3</th>\n",
       "      <th>ECI_4</th>\n",
       "      <th>ECI_5</th>\n",
       "      <th>ECI_6</th>\n",
       "      <th>...</th>\n",
       "      <th>ECI_9</th>\n",
       "      <th>ECI_10</th>\n",
       "      <th>ECI_11</th>\n",
       "      <th>ECI_12</th>\n",
       "      <th>ECI_13</th>\n",
       "      <th>ECI_14</th>\n",
       "      <th>ECI_15</th>\n",
       "      <th>ECI_16</th>\n",
       "      <th>ECI_17</th>\n",
       "      <th>ECI_18</th>\n",
       "    </tr>\n",
       "  </thead>\n",
       "  <tbody>\n",
       "    <tr>\n",
       "      <th>0</th>\n",
       "      <td>8</td>\n",
       "      <td>2012</td>\n",
       "      <td>166</td>\n",
       "      <td>-0.131844</td>\n",
       "      <td>0.831169</td>\n",
       "      <td>-0.040967</td>\n",
       "      <td>0.548779</td>\n",
       "      <td>-0.090630</td>\n",
       "      <td>0.436914</td>\n",
       "      <td>-0.154422</td>\n",
       "      <td>...</td>\n",
       "      <td>0.349790</td>\n",
       "      <td>-0.239123</td>\n",
       "      <td>0.332050</td>\n",
       "      <td>-0.262405</td>\n",
       "      <td>0.321890</td>\n",
       "      <td>-0.277831</td>\n",
       "      <td>0.316103</td>\n",
       "      <td>-0.288045</td>\n",
       "      <td>0.312832</td>\n",
       "      <td>-0.294829</td>\n",
       "    </tr>\n",
       "    <tr>\n",
       "      <th>1</th>\n",
       "      <td>12</td>\n",
       "      <td>2012</td>\n",
       "      <td>15</td>\n",
       "      <td>-1.30</td>\n",
       "      <td>0.641786</td>\n",
       "      <td>-1.32</td>\n",
       "      <td>0.768264</td>\n",
       "      <td>-1.37</td>\n",
       "      <td>0.892379</td>\n",
       "      <td>-1.31</td>\n",
       "      <td>...</td>\n",
       "      <td>1.02</td>\n",
       "      <td>-1.20</td>\n",
       "      <td>1.04</td>\n",
       "      <td>-1.16</td>\n",
       "      <td>1.06</td>\n",
       "      <td>-1.13</td>\n",
       "      <td>1.07</td>\n",
       "      <td>-1.12</td>\n",
       "      <td>1.07</td>\n",
       "      <td>-1.10</td>\n",
       "    </tr>\n",
       "    <tr>\n",
       "      <th>2</th>\n",
       "      <td>24</td>\n",
       "      <td>2012</td>\n",
       "      <td>7</td>\n",
       "      <td>-1.36</td>\n",
       "      <td>-0.805907</td>\n",
       "      <td>-2.05</td>\n",
       "      <td>0.246574</td>\n",
       "      <td>-1.83</td>\n",
       "      <td>0.673335</td>\n",
       "      <td>-1.63</td>\n",
       "      <td>...</td>\n",
       "      <td>1.05</td>\n",
       "      <td>-1.41</td>\n",
       "      <td>1.13</td>\n",
       "      <td>-1.35</td>\n",
       "      <td>1.18</td>\n",
       "      <td>-1.31</td>\n",
       "      <td>1.21</td>\n",
       "      <td>-1.29</td>\n",
       "      <td>1.22</td>\n",
       "      <td>-1.27</td>\n",
       "    </tr>\n",
       "    <tr>\n",
       "      <th>3</th>\n",
       "      <td>31</td>\n",
       "      <td>2012</td>\n",
       "      <td>22</td>\n",
       "      <td>-1.25</td>\n",
       "      <td>1.52</td>\n",
       "      <td>-0.961099</td>\n",
       "      <td>1.32</td>\n",
       "      <td>-0.978661</td>\n",
       "      <td>1.18</td>\n",
       "      <td>-1.01</td>\n",
       "      <td>...</td>\n",
       "      <td>1.06</td>\n",
       "      <td>-1.02</td>\n",
       "      <td>1.04</td>\n",
       "      <td>-1.02</td>\n",
       "      <td>1.03</td>\n",
       "      <td>-1.02</td>\n",
       "      <td>1.02</td>\n",
       "      <td>-1.02</td>\n",
       "      <td>1.02</td>\n",
       "      <td>-1.02</td>\n",
       "    </tr>\n",
       "    <tr>\n",
       "      <th>4</th>\n",
       "      <td>32</td>\n",
       "      <td>2012</td>\n",
       "      <td>204</td>\n",
       "      <td>0.162505</td>\n",
       "      <td>-0.588760</td>\n",
       "      <td>0.331355</td>\n",
       "      <td>-0.298881</td>\n",
       "      <td>0.301952</td>\n",
       "      <td>-0.237945</td>\n",
       "      <td>0.287522</td>\n",
       "      <td>...</td>\n",
       "      <td>-0.262653</td>\n",
       "      <td>0.286262</td>\n",
       "      <td>-0.277414</td>\n",
       "      <td>0.289150</td>\n",
       "      <td>-0.287426</td>\n",
       "      <td>0.292120</td>\n",
       "      <td>-0.293705</td>\n",
       "      <td>0.294720</td>\n",
       "      <td>-0.297496</td>\n",
       "      <td>0.296829</td>\n",
       "    </tr>\n",
       "    <tr>\n",
       "      <th>5</th>\n",
       "      <td>36</td>\n",
       "      <td>2012</td>\n",
       "      <td>132</td>\n",
       "      <td>-0.395209</td>\n",
       "      <td>-0.784621</td>\n",
       "      <td>-0.461235</td>\n",
       "      <td>-0.057808</td>\n",
       "      <td>-0.383932</td>\n",
       "      <td>0.133994</td>\n",
       "      <td>-0.324721</td>\n",
       "      <td>...</td>\n",
       "      <td>0.195086</td>\n",
       "      <td>-0.255164</td>\n",
       "      <td>0.194709</td>\n",
       "      <td>-0.234553</td>\n",
       "      <td>0.192005</td>\n",
       "      <td>-0.219784</td>\n",
       "      <td>0.189467</td>\n",
       "      <td>-0.209250</td>\n",
       "      <td>0.187604</td>\n",
       "      <td>-0.201779</td>\n",
       "    </tr>\n",
       "    <tr>\n",
       "      <th>6</th>\n",
       "      <td>40</td>\n",
       "      <td>2012</td>\n",
       "      <td>437</td>\n",
       "      <td>1.97</td>\n",
       "      <td>-1.27</td>\n",
       "      <td>1.80</td>\n",
       "      <td>-1.57</td>\n",
       "      <td>1.72</td>\n",
       "      <td>-1.67</td>\n",
       "      <td>1.72</td>\n",
       "      <td>...</td>\n",
       "      <td>-1.72</td>\n",
       "      <td>1.73</td>\n",
       "      <td>-1.73</td>\n",
       "      <td>1.73</td>\n",
       "      <td>-1.74</td>\n",
       "      <td>1.74</td>\n",
       "      <td>-1.74</td>\n",
       "      <td>1.74</td>\n",
       "      <td>-1.74</td>\n",
       "      <td>1.74</td>\n",
       "    </tr>\n",
       "    <tr>\n",
       "      <th>7</th>\n",
       "      <td>50</td>\n",
       "      <td>2012</td>\n",
       "      <td>120</td>\n",
       "      <td>-0.488162</td>\n",
       "      <td>0.546680</td>\n",
       "      <td>-0.354924</td>\n",
       "      <td>0.803028</td>\n",
       "      <td>-0.492747</td>\n",
       "      <td>0.913236</td>\n",
       "      <td>-0.632492</td>\n",
       "      <td>...</td>\n",
       "      <td>0.953942</td>\n",
       "      <td>-0.802287</td>\n",
       "      <td>0.954170</td>\n",
       "      <td>-0.849262</td>\n",
       "      <td>0.953062</td>\n",
       "      <td>-0.881302</td>\n",
       "      <td>0.952099</td>\n",
       "      <td>-0.903206</td>\n",
       "      <td>0.951503</td>\n",
       "      <td>-0.918211</td>\n",
       "    </tr>\n",
       "    <tr>\n",
       "      <th>8</th>\n",
       "      <td>51</td>\n",
       "      <td>2012</td>\n",
       "      <td>134</td>\n",
       "      <td>-0.379717</td>\n",
       "      <td>-0.091156</td>\n",
       "      <td>0.354090</td>\n",
       "      <td>-0.331850</td>\n",
       "      <td>0.512258</td>\n",
       "      <td>-0.447000</td>\n",
       "      <td>0.544640</td>\n",
       "      <td>...</td>\n",
       "      <td>-0.520912</td>\n",
       "      <td>0.548414</td>\n",
       "      <td>-0.532085</td>\n",
       "      <td>0.547018</td>\n",
       "      <td>-0.537779</td>\n",
       "      <td>0.545984</td>\n",
       "      <td>-0.540794</td>\n",
       "      <td>0.545333</td>\n",
       "      <td>-0.542431</td>\n",
       "      <td>0.544950</td>\n",
       "    </tr>\n",
       "    <tr>\n",
       "      <th>9</th>\n",
       "      <td>56</td>\n",
       "      <td>2012</td>\n",
       "      <td>429</td>\n",
       "      <td>1.91</td>\n",
       "      <td>-1.11</td>\n",
       "      <td>1.33</td>\n",
       "      <td>-1.27</td>\n",
       "      <td>1.25</td>\n",
       "      <td>-1.31</td>\n",
       "      <td>1.26</td>\n",
       "      <td>...</td>\n",
       "      <td>-1.33</td>\n",
       "      <td>1.30</td>\n",
       "      <td>-1.34</td>\n",
       "      <td>1.31</td>\n",
       "      <td>-1.34</td>\n",
       "      <td>1.32</td>\n",
       "      <td>-1.34</td>\n",
       "      <td>1.33</td>\n",
       "      <td>-1.34</td>\n",
       "      <td>1.33</td>\n",
       "    </tr>\n",
       "  </tbody>\n",
       "</table>\n",
       "<p>10 rows × 22 columns</p>\n",
       "</div>"
      ],
      "text/plain": [
       "   country_id  year  k_c0     ECI_0     ECI_1     ECI_2     ECI_3     ECI_4  \\\n",
       "0           8  2012   166 -0.131844  0.831169 -0.040967  0.548779 -0.090630   \n",
       "1          12  2012    15     -1.30  0.641786     -1.32  0.768264     -1.37   \n",
       "2          24  2012     7     -1.36 -0.805907     -2.05  0.246574     -1.83   \n",
       "3          31  2012    22     -1.25      1.52 -0.961099      1.32 -0.978661   \n",
       "4          32  2012   204  0.162505 -0.588760  0.331355 -0.298881  0.301952   \n",
       "5          36  2012   132 -0.395209 -0.784621 -0.461235 -0.057808 -0.383932   \n",
       "6          40  2012   437      1.97     -1.27      1.80     -1.57      1.72   \n",
       "7          50  2012   120 -0.488162  0.546680 -0.354924  0.803028 -0.492747   \n",
       "8          51  2012   134 -0.379717 -0.091156  0.354090 -0.331850  0.512258   \n",
       "9          56  2012   429      1.91     -1.11      1.33     -1.27      1.25   \n",
       "\n",
       "      ECI_5     ECI_6  ...     ECI_9    ECI_10    ECI_11    ECI_12    ECI_13  \\\n",
       "0  0.436914 -0.154422  ...  0.349790 -0.239123  0.332050 -0.262405  0.321890   \n",
       "1  0.892379     -1.31  ...      1.02     -1.20      1.04     -1.16      1.06   \n",
       "2  0.673335     -1.63  ...      1.05     -1.41      1.13     -1.35      1.18   \n",
       "3      1.18     -1.01  ...      1.06     -1.02      1.04     -1.02      1.03   \n",
       "4 -0.237945  0.287522  ... -0.262653  0.286262 -0.277414  0.289150 -0.287426   \n",
       "5  0.133994 -0.324721  ...  0.195086 -0.255164  0.194709 -0.234553  0.192005   \n",
       "6     -1.67      1.72  ...     -1.72      1.73     -1.73      1.73     -1.74   \n",
       "7  0.913236 -0.632492  ...  0.953942 -0.802287  0.954170 -0.849262  0.953062   \n",
       "8 -0.447000  0.544640  ... -0.520912  0.548414 -0.532085  0.547018 -0.537779   \n",
       "9     -1.31      1.26  ...     -1.33      1.30     -1.34      1.31     -1.34   \n",
       "\n",
       "     ECI_14    ECI_15    ECI_16    ECI_17    ECI_18  \n",
       "0 -0.277831  0.316103 -0.288045  0.312832 -0.294829  \n",
       "1     -1.13      1.07     -1.12      1.07     -1.10  \n",
       "2     -1.31      1.21     -1.29      1.22     -1.27  \n",
       "3     -1.02      1.02     -1.02      1.02     -1.02  \n",
       "4  0.292120 -0.293705  0.294720 -0.297496  0.296829  \n",
       "5 -0.219784  0.189467 -0.209250  0.187604 -0.201779  \n",
       "6      1.74     -1.74      1.74     -1.74      1.74  \n",
       "7 -0.881302  0.952099 -0.903206  0.951503 -0.918211  \n",
       "8  0.545984 -0.540794  0.545333 -0.542431  0.544950  \n",
       "9      1.32     -1.34      1.33     -1.34      1.33  \n",
       "\n",
       "[10 rows x 22 columns]"
      ]
     },
     "execution_count": 23,
     "metadata": {},
     "output_type": "execute_result"
    }
   ],
   "source": [
    "ECI.head(10)"
   ]
  },
  {
   "cell_type": "code",
   "execution_count": 24,
   "metadata": {},
   "outputs": [
    {
     "data": {
      "text/plain": [
       "(1152, 22)"
      ]
     },
     "execution_count": 24,
     "metadata": {},
     "output_type": "execute_result"
    }
   ],
   "source": [
    "ECI.shape"
   ]
  },
  {
   "cell_type": "code",
   "execution_count": 25,
   "metadata": {},
   "outputs": [
    {
     "data": {
      "text/plain": [
       "0"
      ]
     },
     "execution_count": 25,
     "metadata": {},
     "output_type": "execute_result"
    }
   ],
   "source": [
    "# Checking for duplicates\n",
    "ECI.duplicated().sum()"
   ]
  },
  {
   "cell_type": "code",
   "execution_count": 26,
   "metadata": {},
   "outputs": [],
   "source": [
    "# Ordering by year and country_code columns\n",
    "ECI.sort_values(by=[\"year\", \"country_id\"], inplace=True)"
   ]
  },
  {
   "cell_type": "code",
   "execution_count": 27,
   "metadata": {},
   "outputs": [
    {
     "data": {
      "text/html": [
       "<div>\n",
       "<style scoped>\n",
       "    .dataframe tbody tr th:only-of-type {\n",
       "        vertical-align: middle;\n",
       "    }\n",
       "\n",
       "    .dataframe tbody tr th {\n",
       "        vertical-align: top;\n",
       "    }\n",
       "\n",
       "    .dataframe thead th {\n",
       "        text-align: right;\n",
       "    }\n",
       "</style>\n",
       "<table border=\"1\" class=\"dataframe\">\n",
       "  <thead>\n",
       "    <tr style=\"text-align: right;\">\n",
       "      <th></th>\n",
       "      <th>country_id</th>\n",
       "      <th>year</th>\n",
       "      <th>k_c0</th>\n",
       "      <th>ECI_0</th>\n",
       "      <th>ECI_1</th>\n",
       "      <th>ECI_2</th>\n",
       "      <th>ECI_3</th>\n",
       "      <th>ECI_4</th>\n",
       "      <th>ECI_5</th>\n",
       "      <th>ECI_6</th>\n",
       "      <th>...</th>\n",
       "      <th>ECI_9</th>\n",
       "      <th>ECI_10</th>\n",
       "      <th>ECI_11</th>\n",
       "      <th>ECI_12</th>\n",
       "      <th>ECI_13</th>\n",
       "      <th>ECI_14</th>\n",
       "      <th>ECI_15</th>\n",
       "      <th>ECI_16</th>\n",
       "      <th>ECI_17</th>\n",
       "      <th>ECI_18</th>\n",
       "    </tr>\n",
       "  </thead>\n",
       "  <tbody>\n",
       "    <tr>\n",
       "      <th>0</th>\n",
       "      <td>8</td>\n",
       "      <td>2012</td>\n",
       "      <td>166</td>\n",
       "      <td>-0.131844</td>\n",
       "      <td>0.831169</td>\n",
       "      <td>-0.040967</td>\n",
       "      <td>0.548779</td>\n",
       "      <td>-0.090630</td>\n",
       "      <td>0.436914</td>\n",
       "      <td>-0.154422</td>\n",
       "      <td>...</td>\n",
       "      <td>0.349790</td>\n",
       "      <td>-0.239123</td>\n",
       "      <td>0.332050</td>\n",
       "      <td>-0.262405</td>\n",
       "      <td>0.321890</td>\n",
       "      <td>-0.277831</td>\n",
       "      <td>0.316103</td>\n",
       "      <td>-0.288045</td>\n",
       "      <td>0.312832</td>\n",
       "      <td>-0.294829</td>\n",
       "    </tr>\n",
       "    <tr>\n",
       "      <th>1</th>\n",
       "      <td>12</td>\n",
       "      <td>2012</td>\n",
       "      <td>15</td>\n",
       "      <td>-1.30</td>\n",
       "      <td>0.641786</td>\n",
       "      <td>-1.32</td>\n",
       "      <td>0.768264</td>\n",
       "      <td>-1.37</td>\n",
       "      <td>0.892379</td>\n",
       "      <td>-1.31</td>\n",
       "      <td>...</td>\n",
       "      <td>1.02</td>\n",
       "      <td>-1.20</td>\n",
       "      <td>1.04</td>\n",
       "      <td>-1.16</td>\n",
       "      <td>1.06</td>\n",
       "      <td>-1.13</td>\n",
       "      <td>1.07</td>\n",
       "      <td>-1.12</td>\n",
       "      <td>1.07</td>\n",
       "      <td>-1.10</td>\n",
       "    </tr>\n",
       "    <tr>\n",
       "      <th>2</th>\n",
       "      <td>24</td>\n",
       "      <td>2012</td>\n",
       "      <td>7</td>\n",
       "      <td>-1.36</td>\n",
       "      <td>-0.805907</td>\n",
       "      <td>-2.05</td>\n",
       "      <td>0.246574</td>\n",
       "      <td>-1.83</td>\n",
       "      <td>0.673335</td>\n",
       "      <td>-1.63</td>\n",
       "      <td>...</td>\n",
       "      <td>1.05</td>\n",
       "      <td>-1.41</td>\n",
       "      <td>1.13</td>\n",
       "      <td>-1.35</td>\n",
       "      <td>1.18</td>\n",
       "      <td>-1.31</td>\n",
       "      <td>1.21</td>\n",
       "      <td>-1.29</td>\n",
       "      <td>1.22</td>\n",
       "      <td>-1.27</td>\n",
       "    </tr>\n",
       "    <tr>\n",
       "      <th>3</th>\n",
       "      <td>31</td>\n",
       "      <td>2012</td>\n",
       "      <td>22</td>\n",
       "      <td>-1.25</td>\n",
       "      <td>1.52</td>\n",
       "      <td>-0.961099</td>\n",
       "      <td>1.32</td>\n",
       "      <td>-0.978661</td>\n",
       "      <td>1.18</td>\n",
       "      <td>-1.01</td>\n",
       "      <td>...</td>\n",
       "      <td>1.06</td>\n",
       "      <td>-1.02</td>\n",
       "      <td>1.04</td>\n",
       "      <td>-1.02</td>\n",
       "      <td>1.03</td>\n",
       "      <td>-1.02</td>\n",
       "      <td>1.02</td>\n",
       "      <td>-1.02</td>\n",
       "      <td>1.02</td>\n",
       "      <td>-1.02</td>\n",
       "    </tr>\n",
       "    <tr>\n",
       "      <th>4</th>\n",
       "      <td>32</td>\n",
       "      <td>2012</td>\n",
       "      <td>204</td>\n",
       "      <td>0.162505</td>\n",
       "      <td>-0.588760</td>\n",
       "      <td>0.331355</td>\n",
       "      <td>-0.298881</td>\n",
       "      <td>0.301952</td>\n",
       "      <td>-0.237945</td>\n",
       "      <td>0.287522</td>\n",
       "      <td>...</td>\n",
       "      <td>-0.262653</td>\n",
       "      <td>0.286262</td>\n",
       "      <td>-0.277414</td>\n",
       "      <td>0.289150</td>\n",
       "      <td>-0.287426</td>\n",
       "      <td>0.292120</td>\n",
       "      <td>-0.293705</td>\n",
       "      <td>0.294720</td>\n",
       "      <td>-0.297496</td>\n",
       "      <td>0.296829</td>\n",
       "    </tr>\n",
       "    <tr>\n",
       "      <th>5</th>\n",
       "      <td>36</td>\n",
       "      <td>2012</td>\n",
       "      <td>132</td>\n",
       "      <td>-0.395209</td>\n",
       "      <td>-0.784621</td>\n",
       "      <td>-0.461235</td>\n",
       "      <td>-0.057808</td>\n",
       "      <td>-0.383932</td>\n",
       "      <td>0.133994</td>\n",
       "      <td>-0.324721</td>\n",
       "      <td>...</td>\n",
       "      <td>0.195086</td>\n",
       "      <td>-0.255164</td>\n",
       "      <td>0.194709</td>\n",
       "      <td>-0.234553</td>\n",
       "      <td>0.192005</td>\n",
       "      <td>-0.219784</td>\n",
       "      <td>0.189467</td>\n",
       "      <td>-0.209250</td>\n",
       "      <td>0.187604</td>\n",
       "      <td>-0.201779</td>\n",
       "    </tr>\n",
       "    <tr>\n",
       "      <th>6</th>\n",
       "      <td>40</td>\n",
       "      <td>2012</td>\n",
       "      <td>437</td>\n",
       "      <td>1.97</td>\n",
       "      <td>-1.27</td>\n",
       "      <td>1.80</td>\n",
       "      <td>-1.57</td>\n",
       "      <td>1.72</td>\n",
       "      <td>-1.67</td>\n",
       "      <td>1.72</td>\n",
       "      <td>...</td>\n",
       "      <td>-1.72</td>\n",
       "      <td>1.73</td>\n",
       "      <td>-1.73</td>\n",
       "      <td>1.73</td>\n",
       "      <td>-1.74</td>\n",
       "      <td>1.74</td>\n",
       "      <td>-1.74</td>\n",
       "      <td>1.74</td>\n",
       "      <td>-1.74</td>\n",
       "      <td>1.74</td>\n",
       "    </tr>\n",
       "    <tr>\n",
       "      <th>7</th>\n",
       "      <td>50</td>\n",
       "      <td>2012</td>\n",
       "      <td>120</td>\n",
       "      <td>-0.488162</td>\n",
       "      <td>0.546680</td>\n",
       "      <td>-0.354924</td>\n",
       "      <td>0.803028</td>\n",
       "      <td>-0.492747</td>\n",
       "      <td>0.913236</td>\n",
       "      <td>-0.632492</td>\n",
       "      <td>...</td>\n",
       "      <td>0.953942</td>\n",
       "      <td>-0.802287</td>\n",
       "      <td>0.954170</td>\n",
       "      <td>-0.849262</td>\n",
       "      <td>0.953062</td>\n",
       "      <td>-0.881302</td>\n",
       "      <td>0.952099</td>\n",
       "      <td>-0.903206</td>\n",
       "      <td>0.951503</td>\n",
       "      <td>-0.918211</td>\n",
       "    </tr>\n",
       "    <tr>\n",
       "      <th>8</th>\n",
       "      <td>51</td>\n",
       "      <td>2012</td>\n",
       "      <td>134</td>\n",
       "      <td>-0.379717</td>\n",
       "      <td>-0.091156</td>\n",
       "      <td>0.354090</td>\n",
       "      <td>-0.331850</td>\n",
       "      <td>0.512258</td>\n",
       "      <td>-0.447000</td>\n",
       "      <td>0.544640</td>\n",
       "      <td>...</td>\n",
       "      <td>-0.520912</td>\n",
       "      <td>0.548414</td>\n",
       "      <td>-0.532085</td>\n",
       "      <td>0.547018</td>\n",
       "      <td>-0.537779</td>\n",
       "      <td>0.545984</td>\n",
       "      <td>-0.540794</td>\n",
       "      <td>0.545333</td>\n",
       "      <td>-0.542431</td>\n",
       "      <td>0.544950</td>\n",
       "    </tr>\n",
       "    <tr>\n",
       "      <th>9</th>\n",
       "      <td>56</td>\n",
       "      <td>2012</td>\n",
       "      <td>429</td>\n",
       "      <td>1.91</td>\n",
       "      <td>-1.11</td>\n",
       "      <td>1.33</td>\n",
       "      <td>-1.27</td>\n",
       "      <td>1.25</td>\n",
       "      <td>-1.31</td>\n",
       "      <td>1.26</td>\n",
       "      <td>...</td>\n",
       "      <td>-1.33</td>\n",
       "      <td>1.30</td>\n",
       "      <td>-1.34</td>\n",
       "      <td>1.31</td>\n",
       "      <td>-1.34</td>\n",
       "      <td>1.32</td>\n",
       "      <td>-1.34</td>\n",
       "      <td>1.33</td>\n",
       "      <td>-1.34</td>\n",
       "      <td>1.33</td>\n",
       "    </tr>\n",
       "  </tbody>\n",
       "</table>\n",
       "<p>10 rows × 22 columns</p>\n",
       "</div>"
      ],
      "text/plain": [
       "   country_id  year  k_c0     ECI_0     ECI_1     ECI_2     ECI_3     ECI_4  \\\n",
       "0           8  2012   166 -0.131844  0.831169 -0.040967  0.548779 -0.090630   \n",
       "1          12  2012    15     -1.30  0.641786     -1.32  0.768264     -1.37   \n",
       "2          24  2012     7     -1.36 -0.805907     -2.05  0.246574     -1.83   \n",
       "3          31  2012    22     -1.25      1.52 -0.961099      1.32 -0.978661   \n",
       "4          32  2012   204  0.162505 -0.588760  0.331355 -0.298881  0.301952   \n",
       "5          36  2012   132 -0.395209 -0.784621 -0.461235 -0.057808 -0.383932   \n",
       "6          40  2012   437      1.97     -1.27      1.80     -1.57      1.72   \n",
       "7          50  2012   120 -0.488162  0.546680 -0.354924  0.803028 -0.492747   \n",
       "8          51  2012   134 -0.379717 -0.091156  0.354090 -0.331850  0.512258   \n",
       "9          56  2012   429      1.91     -1.11      1.33     -1.27      1.25   \n",
       "\n",
       "      ECI_5     ECI_6  ...     ECI_9    ECI_10    ECI_11    ECI_12    ECI_13  \\\n",
       "0  0.436914 -0.154422  ...  0.349790 -0.239123  0.332050 -0.262405  0.321890   \n",
       "1  0.892379     -1.31  ...      1.02     -1.20      1.04     -1.16      1.06   \n",
       "2  0.673335     -1.63  ...      1.05     -1.41      1.13     -1.35      1.18   \n",
       "3      1.18     -1.01  ...      1.06     -1.02      1.04     -1.02      1.03   \n",
       "4 -0.237945  0.287522  ... -0.262653  0.286262 -0.277414  0.289150 -0.287426   \n",
       "5  0.133994 -0.324721  ...  0.195086 -0.255164  0.194709 -0.234553  0.192005   \n",
       "6     -1.67      1.72  ...     -1.72      1.73     -1.73      1.73     -1.74   \n",
       "7  0.913236 -0.632492  ...  0.953942 -0.802287  0.954170 -0.849262  0.953062   \n",
       "8 -0.447000  0.544640  ... -0.520912  0.548414 -0.532085  0.547018 -0.537779   \n",
       "9     -1.31      1.26  ...     -1.33      1.30     -1.34      1.31     -1.34   \n",
       "\n",
       "     ECI_14    ECI_15    ECI_16    ECI_17    ECI_18  \n",
       "0 -0.277831  0.316103 -0.288045  0.312832 -0.294829  \n",
       "1     -1.13      1.07     -1.12      1.07     -1.10  \n",
       "2     -1.31      1.21     -1.29      1.22     -1.27  \n",
       "3     -1.02      1.02     -1.02      1.02     -1.02  \n",
       "4  0.292120 -0.293705  0.294720 -0.297496  0.296829  \n",
       "5 -0.219784  0.189467 -0.209250  0.187604 -0.201779  \n",
       "6      1.74     -1.74      1.74     -1.74      1.74  \n",
       "7 -0.881302  0.952099 -0.903206  0.951503 -0.918211  \n",
       "8  0.545984 -0.540794  0.545333 -0.542431  0.544950  \n",
       "9      1.32     -1.34      1.33     -1.34      1.33  \n",
       "\n",
       "[10 rows x 22 columns]"
      ]
     },
     "execution_count": 27,
     "metadata": {},
     "output_type": "execute_result"
    }
   ],
   "source": [
    "ECI.head(10)"
   ]
  },
  {
   "cell_type": "markdown",
   "metadata": {},
   "source": [
    "Making sure there are no unreliable locations in the ECI dataframe"
   ]
  },
  {
   "cell_type": "code",
   "execution_count": 28,
   "metadata": {},
   "outputs": [],
   "source": [
    "# asserting that the unreliable locations are not present in the ECI data\n",
    "assert ECI[ECI[\"country_id\"].isin(unreliable_locations[\"country_id\"])].shape[0] == 0"
   ]
  },
  {
   "cell_type": "markdown",
   "metadata": {},
   "source": [
    "## Processing GDP per capita data"
   ]
  },
  {
   "cell_type": "code",
   "execution_count": 29,
   "metadata": {},
   "outputs": [],
   "source": [
    "initial_input_location = input_file_location\n",
    "\n",
    "input_file_location = os.path.join(\"..\", \"data\", \"03_preprocessed\")\n",
    "input_file_name = \"GDP.parquet\"\n",
    "GDP = read_hs92_parquet_data(\n",
    "    input_file_location, input_file_name, f_convert_dtype=False\n",
    ")\n",
    "\n",
    "input_file_location = initial_input_location"
   ]
  },
  {
   "cell_type": "code",
   "execution_count": 30,
   "metadata": {},
   "outputs": [
    {
     "name": "stdout",
     "output_type": "stream",
     "text": [
      "country_code column initial type:\n",
      "category\n",
      "============================================================\n",
      "country_code column final type:\n",
      "object\n",
      "============================================================\n"
     ]
    }
   ],
   "source": [
    "# Switching to the \"category\" data type for categorical columns\n",
    "categorical_columns = [\"country_code\"]\n",
    "GDP = switch_to_dtype(GDP, default_dtype=\"str\", categorical_columns=categorical_columns)"
   ]
  },
  {
   "cell_type": "code",
   "execution_count": 31,
   "metadata": {},
   "outputs": [],
   "source": [
    "# Merging the ECI with location_df to get the country_code\n",
    "GDP = GDP.merge(location_df, on=\"country_code\", how=\"left\")"
   ]
  },
  {
   "cell_type": "code",
   "execution_count": 32,
   "metadata": {},
   "outputs": [
    {
     "name": "stdout",
     "output_type": "stream",
     "text": [
      "['df', <class 'pandas.core.frame.DataFrame'>]\n",
      "============================================================\n",
      "shape:\n",
      "(1176, 6)\n",
      "============================================================\n",
      "data types:\n",
      "country_code            object\n",
      "year                     int16\n",
      "gdp_per_capita         float64\n",
      "log_gdp_per_capita     float64\n",
      "country_id               int16\n",
      "country_name          category\n",
      "dtype: object\n",
      "============================================================\n",
      "columns:\n",
      "['country_code', 'year', 'gdp_per_capita', 'log_gdp_per_capita', 'country_id', 'country_name']\n",
      "============================================================\n",
      "          year  gdp_per_capita  log_gdp_per_capita  country_id\n",
      "count 1,176.00        1,176.00            1,176.00    1,176.00\n",
      "mean  2,015.50       13,809.46                8.59      434.75\n",
      "std       2.29       19,133.48                1.46      251.56\n",
      "min   2,012.00          210.24                5.35        4.00\n",
      "25%   2,013.75        1,554.74                7.35      214.00\n",
      "50%   2,015.50        5,419.38                8.60      422.00\n",
      "75%   2,017.25       16,449.95                9.71      646.00\n",
      "max   2,019.00      108,470.38               11.59      894.00\n",
      "============================================================\n",
      "Total memory usage: 121939 bytes\n",
      "============================================================\n"
     ]
    }
   ],
   "source": [
    "df_stats(GDP)"
   ]
  },
  {
   "cell_type": "code",
   "execution_count": 33,
   "metadata": {},
   "outputs": [
    {
     "data": {
      "text/html": [
       "<div>\n",
       "<style scoped>\n",
       "    .dataframe tbody tr th:only-of-type {\n",
       "        vertical-align: middle;\n",
       "    }\n",
       "\n",
       "    .dataframe tbody tr th {\n",
       "        vertical-align: top;\n",
       "    }\n",
       "\n",
       "    .dataframe thead th {\n",
       "        text-align: right;\n",
       "    }\n",
       "</style>\n",
       "<table border=\"1\" class=\"dataframe\">\n",
       "  <thead>\n",
       "    <tr style=\"text-align: right;\">\n",
       "      <th></th>\n",
       "      <th>country_code</th>\n",
       "      <th>year</th>\n",
       "      <th>gdp_per_capita</th>\n",
       "      <th>log_gdp_per_capita</th>\n",
       "      <th>country_id</th>\n",
       "      <th>country_name</th>\n",
       "    </tr>\n",
       "  </thead>\n",
       "  <tbody>\n",
       "    <tr>\n",
       "      <th>0</th>\n",
       "      <td>AFG</td>\n",
       "      <td>2012</td>\n",
       "      <td>651.42</td>\n",
       "      <td>6.48</td>\n",
       "      <td>4</td>\n",
       "      <td>Afghanistan</td>\n",
       "    </tr>\n",
       "    <tr>\n",
       "      <th>1</th>\n",
       "      <td>AGO</td>\n",
       "      <td>2012</td>\n",
       "      <td>5,086.03</td>\n",
       "      <td>8.53</td>\n",
       "      <td>24</td>\n",
       "      <td>Angola</td>\n",
       "    </tr>\n",
       "    <tr>\n",
       "      <th>2</th>\n",
       "      <td>ALB</td>\n",
       "      <td>2012</td>\n",
       "      <td>4,247.63</td>\n",
       "      <td>8.35</td>\n",
       "      <td>8</td>\n",
       "      <td>Albania</td>\n",
       "    </tr>\n",
       "    <tr>\n",
       "      <th>3</th>\n",
       "      <td>ARE</td>\n",
       "      <td>2012</td>\n",
       "      <td>52,034.48</td>\n",
       "      <td>10.86</td>\n",
       "      <td>784</td>\n",
       "      <td>United Arab Emirates</td>\n",
       "    </tr>\n",
       "    <tr>\n",
       "      <th>4</th>\n",
       "      <td>ARG</td>\n",
       "      <td>2012</td>\n",
       "      <td>12,949.72</td>\n",
       "      <td>9.47</td>\n",
       "      <td>32</td>\n",
       "      <td>Argentina</td>\n",
       "    </tr>\n",
       "    <tr>\n",
       "      <th>5</th>\n",
       "      <td>ARM</td>\n",
       "      <td>2012</td>\n",
       "      <td>3,511.56</td>\n",
       "      <td>8.16</td>\n",
       "      <td>51</td>\n",
       "      <td>Armenia</td>\n",
       "    </tr>\n",
       "    <tr>\n",
       "      <th>6</th>\n",
       "      <td>AUS</td>\n",
       "      <td>2012</td>\n",
       "      <td>68,072.87</td>\n",
       "      <td>11.13</td>\n",
       "      <td>36</td>\n",
       "      <td>Australia</td>\n",
       "    </tr>\n",
       "    <tr>\n",
       "      <th>7</th>\n",
       "      <td>AUT</td>\n",
       "      <td>2012</td>\n",
       "      <td>48,250.41</td>\n",
       "      <td>10.78</td>\n",
       "      <td>40</td>\n",
       "      <td>Austria</td>\n",
       "    </tr>\n",
       "    <tr>\n",
       "      <th>8</th>\n",
       "      <td>AZE</td>\n",
       "      <td>2012</td>\n",
       "      <td>7,495.87</td>\n",
       "      <td>8.92</td>\n",
       "      <td>31</td>\n",
       "      <td>Azerbaijan</td>\n",
       "    </tr>\n",
       "    <tr>\n",
       "      <th>9</th>\n",
       "      <td>BDI</td>\n",
       "      <td>2012</td>\n",
       "      <td>231.69</td>\n",
       "      <td>5.45</td>\n",
       "      <td>108</td>\n",
       "      <td>Burundi</td>\n",
       "    </tr>\n",
       "  </tbody>\n",
       "</table>\n",
       "</div>"
      ],
      "text/plain": [
       "  country_code  year  gdp_per_capita  log_gdp_per_capita  country_id  \\\n",
       "0          AFG  2012          651.42                6.48           4   \n",
       "1          AGO  2012        5,086.03                8.53          24   \n",
       "2          ALB  2012        4,247.63                8.35           8   \n",
       "3          ARE  2012       52,034.48               10.86         784   \n",
       "4          ARG  2012       12,949.72                9.47          32   \n",
       "5          ARM  2012        3,511.56                8.16          51   \n",
       "6          AUS  2012       68,072.87               11.13          36   \n",
       "7          AUT  2012       48,250.41               10.78          40   \n",
       "8          AZE  2012        7,495.87                8.92          31   \n",
       "9          BDI  2012          231.69                5.45         108   \n",
       "\n",
       "           country_name  \n",
       "0           Afghanistan  \n",
       "1                Angola  \n",
       "2               Albania  \n",
       "3  United Arab Emirates  \n",
       "4             Argentina  \n",
       "5               Armenia  \n",
       "6             Australia  \n",
       "7               Austria  \n",
       "8            Azerbaijan  \n",
       "9               Burundi  "
      ]
     },
     "execution_count": 33,
     "metadata": {},
     "output_type": "execute_result"
    }
   ],
   "source": [
    "GDP.head(10)"
   ]
  },
  {
   "cell_type": "code",
   "execution_count": 34,
   "metadata": {},
   "outputs": [
    {
     "data": {
      "text/html": [
       "<div>\n",
       "<style scoped>\n",
       "    .dataframe tbody tr th:only-of-type {\n",
       "        vertical-align: middle;\n",
       "    }\n",
       "\n",
       "    .dataframe tbody tr th {\n",
       "        vertical-align: top;\n",
       "    }\n",
       "\n",
       "    .dataframe thead th {\n",
       "        text-align: right;\n",
       "    }\n",
       "</style>\n",
       "<table border=\"1\" class=\"dataframe\">\n",
       "  <thead>\n",
       "    <tr style=\"text-align: right;\">\n",
       "      <th></th>\n",
       "      <th>country_code</th>\n",
       "      <th>year</th>\n",
       "      <th>gdp_per_capita</th>\n",
       "      <th>log_gdp_per_capita</th>\n",
       "      <th>country_id</th>\n",
       "      <th>country_name</th>\n",
       "    </tr>\n",
       "  </thead>\n",
       "  <tbody>\n",
       "  </tbody>\n",
       "</table>\n",
       "</div>"
      ],
      "text/plain": [
       "Empty DataFrame\n",
       "Columns: [country_code, year, gdp_per_capita, log_gdp_per_capita, country_id, country_name]\n",
       "Index: []"
      ]
     },
     "execution_count": 34,
     "metadata": {},
     "output_type": "execute_result"
    }
   ],
   "source": [
    "# Filtering GDP data to the country_id=862\n",
    "GDP[GDP[\"country_id\"] == 862]"
   ]
  },
  {
   "cell_type": "markdown",
   "metadata": {},
   "source": [
    "## Analyzing differences in country-listst of GDP, ECI and Locations datasets"
   ]
  },
  {
   "cell_type": "code",
   "execution_count": 35,
   "metadata": {},
   "outputs": [
    {
     "data": {
      "text/plain": [
       "({2012, 2013, 2014, 2015, 2016, 2017, 2018, 2019},\n",
       " {2012, 2013, 2014, 2015, 2016, 2017, 2018, 2019})"
      ]
     },
     "execution_count": 35,
     "metadata": {},
     "output_type": "execute_result"
    }
   ],
   "source": [
    "ECI_years = set(ECI[\"year\"].unique())\n",
    "GDP_years = set(GDP[\"year\"].unique())\n",
    "ECI_years, GDP_years"
   ]
  },
  {
   "cell_type": "code",
   "execution_count": 36,
   "metadata": {},
   "outputs": [
    {
     "name": "stdout",
     "output_type": "stream",
     "text": [
      "ECI_countries: 144\n",
      "GDP_countries: 147\n",
      "============================================================\n",
      "common ECI-GDP countries:144;\n",
      "============================================================\n"
     ]
    }
   ],
   "source": [
    "# Subsetting to countries which are present in both ECI and GDP dataframes\n",
    "ECI_countries = set(ECI[\"country_id\"].unique())\n",
    "GDP_countries = set(GDP[\"country_id\"].unique())\n",
    "print(\n",
    "    f\"ECI_countries: {len(ECI_countries)}\",\n",
    "    f\"GDP_countries: {len(GDP_countries)}\",\n",
    "    \"=\" * 60,\n",
    "    sep=\"\\n\",\n",
    ")\n",
    "\n",
    "common_clean_countries = ECI_countries.intersection(GDP_countries)\n",
    "print(f\"common ECI-GDP countries:{len(common_clean_countries)};\", \"=\" * 60, sep=\"\\n\")"
   ]
  },
  {
   "cell_type": "code",
   "execution_count": 37,
   "metadata": {},
   "outputs": [],
   "source": [
    "assert 862 not in common_clean_countries"
   ]
  },
  {
   "cell_type": "code",
   "execution_count": 38,
   "metadata": {},
   "outputs": [],
   "source": [
    "# Staging the final list of \"clean\" countries for future analysis using different methods and approaches\n",
    "# This time replacing all previously staged kwargs\n",
    "dumped_data = {\"rolling_exports_years\": dumped_data[\"rolling_exports_years\"]}\n",
    "dumped_data[\"clean_countries_ids\"] = common_clean_countries\n",
    "# dumped_data = {\"clean_countries_ids\": common_clean_countries}"
   ]
  },
  {
   "cell_type": "code",
   "execution_count": 39,
   "metadata": {},
   "outputs": [
    {
     "name": "stdout",
     "output_type": "stream",
     "text": [
      "data staged:['rolling_exports_years', 'clean_countries_ids']\n",
      "============================================================\n"
     ]
    }
   ],
   "source": [
    "staging_cache(\n",
    "    output_file_location=output_file_location,\n",
    "    **dumped_data,\n",
    ")"
   ]
  },
  {
   "cell_type": "code",
   "execution_count": 40,
   "metadata": {},
   "outputs": [
    {
     "name": "stdout",
     "output_type": "stream",
     "text": [
      "loc_countries: 252\n",
      "============================================================\n"
     ]
    }
   ],
   "source": [
    "loc_countries = set(location_df[\"country_id\"].unique())\n",
    "print(f\"loc_countries: {len(loc_countries)}\", \"=\" * 60, sep=\"\\n\")"
   ]
  },
  {
   "cell_type": "code",
   "execution_count": 41,
   "metadata": {},
   "outputs": [
    {
     "name": "stdout",
     "output_type": "stream",
     "text": [
      "common GDP-loc countries: 147\n",
      "============================================================\n"
     ]
    }
   ],
   "source": [
    "common_dirty_countries = loc_countries.intersection(GDP_countries)\n",
    "print(f\"common GDP-loc countries: {len(common_dirty_countries)}\", \"=\" * 60, sep=\"\\n\")"
   ]
  },
  {
   "cell_type": "code",
   "execution_count": 42,
   "metadata": {},
   "outputs": [],
   "source": [
    "# assert False, \"End of code\""
   ]
  },
  {
   "cell_type": "markdown",
   "metadata": {},
   "source": [
    "## Merging ECI to GDP"
   ]
  },
  {
   "cell_type": "markdown",
   "metadata": {},
   "source": [
    "Here we use function(s) which accept the order n of reflection and for that order takes corresponding ECI_n index \n",
    "and merges the ECI and GDP dataframes in such a way that GDP \"year\" is equal to ECI \"year\" "
   ]
  },
  {
   "cell_type": "code",
   "execution_count": 43,
   "metadata": {},
   "outputs": [],
   "source": [
    "ECI_GDP = merge_eci_to_gdp(ECI, GDP)"
   ]
  },
  {
   "cell_type": "code",
   "execution_count": 44,
   "metadata": {},
   "outputs": [
    {
     "name": "stdout",
     "output_type": "stream",
     "text": [
      "['ECI_GDP', <class 'pandas.core.frame.DataFrame'>]\n",
      "============================================================\n",
      "shape:\n",
      "(1152, 26)\n",
      "============================================================\n",
      "data types:\n",
      "country_id               int16\n",
      "year                     int16\n",
      "k_c0                     int32\n",
      "ECI_0                  float64\n",
      "ECI_1                  float64\n",
      "ECI_2                  float64\n",
      "ECI_3                  float64\n",
      "ECI_4                  float64\n",
      "ECI_5                  float64\n",
      "ECI_6                  float64\n",
      "ECI_7                  float64\n",
      "ECI_8                  float64\n",
      "ECI_9                  float64\n",
      "ECI_10                 float64\n",
      "ECI_11                 float64\n",
      "ECI_12                 float64\n",
      "ECI_13                 float64\n",
      "ECI_14                 float64\n",
      "ECI_15                 float64\n",
      "ECI_16                 float64\n",
      "ECI_17                 float64\n",
      "ECI_18                 float64\n",
      "country_code            object\n",
      "gdp_per_capita         float64\n",
      "log_gdp_per_capita     float64\n",
      "country_name          category\n",
      "dtype: object\n",
      "============================================================\n",
      "columns:\n",
      "['country_id', 'year', 'k_c0', 'ECI_0', 'ECI_1', 'ECI_2', 'ECI_3', 'ECI_4', 'ECI_5', 'ECI_6', 'ECI_7', 'ECI_8', 'ECI_9', 'ECI_10', 'ECI_11', 'ECI_12', 'ECI_13', 'ECI_14', 'ECI_15', 'ECI_16', 'ECI_17', 'ECI_18', 'country_code', 'gdp_per_capita', 'log_gdp_per_capita', 'country_name']\n",
      "============================================================\n",
      "       country_id     year     k_c0     ECI_0     ECI_1     ECI_2     ECI_3  \\\n",
      "count    1,152.00 1,152.00 1,152.00  1,152.00  1,152.00  1,152.00  1,152.00   \n",
      "mean       440.19 2,015.50   179.83  0.000000 -0.000000 -0.000000 -0.000000   \n",
      "std        250.36     2.29   126.02      1.00      1.00      1.00      1.00   \n",
      "min          8.00 2,012.00     7.00     -1.39     -2.83     -2.67     -2.99   \n",
      "25%        221.00 2,013.75    78.00 -0.808449 -0.668768 -0.748906 -0.661838   \n",
      "50%        427.00 2,015.50   158.00 -0.171143  0.090858 -0.051378  0.168680   \n",
      "75%        655.00 2,017.25   251.00  0.565839  0.726189  0.816547  0.759513   \n",
      "max        894.00 2,019.00   560.00      2.92      2.63      2.13      2.35   \n",
      "\n",
      "          ECI_4     ECI_5     ECI_6  ...    ECI_11    ECI_12    ECI_13  \\\n",
      "count  1,152.00  1,152.00  1,152.00  ...  1,152.00  1,152.00  1,152.00   \n",
      "mean  -0.000000  0.000000 -0.000000  ... -0.000000 -0.000000  0.000000   \n",
      "std        1.00      1.00      1.00  ...      1.00      1.00      1.00   \n",
      "min       -2.49     -2.83     -2.31  ...     -2.58     -2.29     -2.55   \n",
      "25%   -0.756843 -0.690107 -0.779031  ... -0.736665 -0.807121 -0.738526   \n",
      "50%   -0.077772  0.159323 -0.092767  ...  0.155139 -0.134515  0.149996   \n",
      "75%    0.791234  0.816117  0.745957  ...  0.820948  0.745855  0.821206   \n",
      "max        2.26      2.29      2.37  ...      2.27      2.50      2.27   \n",
      "\n",
      "         ECI_14    ECI_15    ECI_16    ECI_17    ECI_18  gdp_per_capita  \\\n",
      "count  1,152.00  1,152.00  1,152.00  1,152.00  1,152.00        1,152.00   \n",
      "mean  -0.000000 -0.000000 -0.000000 -0.000000  0.000000       14,049.38   \n",
      "std        1.00      1.00      1.00      1.00      1.00       19,255.80   \n",
      "min       -2.29     -2.54     -2.28     -2.54     -2.28          210.24   \n",
      "25%   -0.807520 -0.738839 -0.807369 -0.738449 -0.806295        1,649.40   \n",
      "50%   -0.139149  0.147937 -0.142375  0.145410 -0.141866        5,630.17   \n",
      "75%    0.754662  0.820938  0.741563  0.821992  0.737877       17,034.87   \n",
      "max        2.51      2.27      2.52      2.27      2.52      108,470.38   \n",
      "\n",
      "       log_gdp_per_capita  \n",
      "count            1,152.00  \n",
      "mean                 8.62  \n",
      "std                  1.46  \n",
      "min                  5.35  \n",
      "25%                  7.41  \n",
      "50%                  8.64  \n",
      "75%                  9.74  \n",
      "max                 11.59  \n",
      "\n",
      "[8 rows x 24 columns]\n",
      "============================================================\n",
      "Total memory usage: 299683 bytes\n",
      "============================================================\n"
     ]
    }
   ],
   "source": [
    "df_stats(ECI_GDP, \"ECI_GDP\")"
   ]
  },
  {
   "cell_type": "code",
   "execution_count": 45,
   "metadata": {},
   "outputs": [],
   "source": [
    "# Subsetting to countries which are present in both ECI and GDP dataframes, i.e. common_clean_countries\n",
    "ECI_GDP = ECI_GDP[ECI_GDP[\"country_id\"].isin(common_clean_countries)]"
   ]
  },
  {
   "cell_type": "code",
   "execution_count": 46,
   "metadata": {},
   "outputs": [
    {
     "data": {
      "text/plain": [
       "144"
      ]
     },
     "execution_count": 46,
     "metadata": {},
     "output_type": "execute_result"
    }
   ],
   "source": [
    "ECI_GDP[\"country_id\"].nunique()"
   ]
  },
  {
   "cell_type": "code",
   "execution_count": 47,
   "metadata": {},
   "outputs": [
    {
     "name": "stdout",
     "output_type": "stream",
     "text": [
      "country_id column initial type:\n",
      "int16\n",
      "============================================================\n",
      "country_id column final type:\n",
      "int16\n",
      "============================================================\n",
      "year column initial type:\n",
      "int16\n",
      "============================================================\n",
      "year column final type:\n",
      "int16\n",
      "============================================================\n",
      "country_code column initial type:\n",
      "object\n",
      "============================================================\n",
      "country_code column final type:\n",
      "category\n",
      "============================================================\n"
     ]
    }
   ],
   "source": [
    "# Saving merged ECI_GDP data to a .parquet file\n",
    "output_file_name = \"ECI_GDP.parquet\"\n",
    "save_hs92_parquet_data(\n",
    "    data=ECI_GDP,\n",
    "    file_location=output_file_location,\n",
    "    file_name=output_file_name,\n",
    "    dtype_dict={\"country_code\": \"category\"},\n",
    ")"
   ]
  },
  {
   "cell_type": "code",
   "execution_count": 48,
   "metadata": {},
   "outputs": [
    {
     "data": {
      "text/plain": [
       "13"
      ]
     },
     "execution_count": 48,
     "metadata": {},
     "output_type": "execute_result"
    }
   ],
   "source": [
    "del ECI, GDP, ECI_GDP\n",
    "gc.collect()"
   ]
  },
  {
   "cell_type": "markdown",
   "metadata": {},
   "source": [
    "## Visualizing\n",
    "Measures of economic complexity were shown to correlate strongly with GDP per capita"
   ]
  },
  {
   "cell_type": "code",
   "execution_count": 49,
   "metadata": {},
   "outputs": [
    {
     "name": "stdout",
     "output_type": "stream",
     "text": [
      "country_id column initial type:\n",
      "int16\n",
      "============================================================\n",
      "country_id column final type:\n",
      "category\n",
      "============================================================\n",
      "year column initial type:\n",
      "int16\n",
      "============================================================\n",
      "year column final type:\n",
      "category\n",
      "============================================================\n",
      "country_code column initial type:\n",
      "category\n",
      "============================================================\n",
      "country_code column final type:\n",
      "category\n",
      "============================================================\n"
     ]
    }
   ],
   "source": [
    "input_file_name = \"ECI_GDP.parquet\"\n",
    "ECI_GDP = read_hs92_parquet_data(output_file_location, input_file_name)"
   ]
  },
  {
   "cell_type": "code",
   "execution_count": 50,
   "metadata": {},
   "outputs": [
    {
     "name": "stdout",
     "output_type": "stream",
     "text": [
      "['ECI_GDP', <class 'pandas.core.frame.DataFrame'>]\n",
      "============================================================\n",
      "shape:\n",
      "(1152, 26)\n",
      "============================================================\n",
      "data types:\n",
      "country_id            category\n",
      "year                  category\n",
      "k_c0                     int32\n",
      "ECI_0                  float64\n",
      "ECI_1                  float64\n",
      "ECI_2                  float64\n",
      "ECI_3                  float64\n",
      "ECI_4                  float64\n",
      "ECI_5                  float64\n",
      "ECI_6                  float64\n",
      "ECI_7                  float64\n",
      "ECI_8                  float64\n",
      "ECI_9                  float64\n",
      "ECI_10                 float64\n",
      "ECI_11                 float64\n",
      "ECI_12                 float64\n",
      "ECI_13                 float64\n",
      "ECI_14                 float64\n",
      "ECI_15                 float64\n",
      "ECI_16                 float64\n",
      "ECI_17                 float64\n",
      "ECI_18                 float64\n",
      "country_code          category\n",
      "gdp_per_capita         float64\n",
      "log_gdp_per_capita     float64\n",
      "country_name          category\n",
      "dtype: object\n",
      "============================================================\n",
      "columns:\n",
      "['country_id', 'year', 'k_c0', 'ECI_0', 'ECI_1', 'ECI_2', 'ECI_3', 'ECI_4', 'ECI_5', 'ECI_6', 'ECI_7', 'ECI_8', 'ECI_9', 'ECI_10', 'ECI_11', 'ECI_12', 'ECI_13', 'ECI_14', 'ECI_15', 'ECI_16', 'ECI_17', 'ECI_18', 'country_code', 'gdp_per_capita', 'log_gdp_per_capita', 'country_name']\n",
      "============================================================\n",
      "          k_c0     ECI_0     ECI_1     ECI_2     ECI_3     ECI_4     ECI_5  \\\n",
      "count 1,152.00  1,152.00  1,152.00  1,152.00  1,152.00  1,152.00  1,152.00   \n",
      "mean    179.83  0.000000 -0.000000 -0.000000 -0.000000 -0.000000  0.000000   \n",
      "std     126.02      1.00      1.00      1.00      1.00      1.00      1.00   \n",
      "min       7.00     -1.39     -2.83     -2.67     -2.99     -2.49     -2.83   \n",
      "25%      78.00 -0.808449 -0.668768 -0.748906 -0.661838 -0.756843 -0.690107   \n",
      "50%     158.00 -0.171143  0.090858 -0.051378  0.168680 -0.077772  0.159323   \n",
      "75%     251.00  0.565839  0.726189  0.816547  0.759513  0.791234  0.816117   \n",
      "max     560.00      2.92      2.63      2.13      2.35      2.26      2.29   \n",
      "\n",
      "          ECI_6     ECI_7     ECI_8  ...    ECI_11    ECI_12    ECI_13  \\\n",
      "count  1,152.00  1,152.00  1,152.00  ...  1,152.00  1,152.00  1,152.00   \n",
      "mean  -0.000000 -0.000000  0.000000  ... -0.000000 -0.000000  0.000000   \n",
      "std        1.00      1.00      1.00  ...      1.00      1.00      1.00   \n",
      "min       -2.31     -2.70     -2.31  ...     -2.58     -2.29     -2.55   \n",
      "25%   -0.779031 -0.728318 -0.786615  ... -0.736665 -0.807121 -0.738526   \n",
      "50%   -0.092767  0.159729 -0.117145  ...  0.155139 -0.134515  0.149996   \n",
      "75%    0.745957  0.822175  0.747620  ...  0.820948  0.745855  0.821206   \n",
      "max        2.37      2.28      2.44  ...      2.27      2.50      2.27   \n",
      "\n",
      "         ECI_14    ECI_15    ECI_16    ECI_17    ECI_18  gdp_per_capita  \\\n",
      "count  1,152.00  1,152.00  1,152.00  1,152.00  1,152.00        1,152.00   \n",
      "mean  -0.000000 -0.000000 -0.000000 -0.000000  0.000000       14,049.38   \n",
      "std        1.00      1.00      1.00      1.00      1.00       19,255.80   \n",
      "min       -2.29     -2.54     -2.28     -2.54     -2.28          210.24   \n",
      "25%   -0.807520 -0.738839 -0.807369 -0.738449 -0.806295        1,649.40   \n",
      "50%   -0.139149  0.147937 -0.142375  0.145410 -0.141866        5,630.17   \n",
      "75%    0.754662  0.820938  0.741563  0.821992  0.737877       17,034.87   \n",
      "max        2.51      2.27      2.52      2.27      2.52      108,470.38   \n",
      "\n",
      "       log_gdp_per_capita  \n",
      "count            1,152.00  \n",
      "mean                 8.62  \n",
      "std                  1.46  \n",
      "min                  5.35  \n",
      "25%                  7.41  \n",
      "50%                  8.64  \n",
      "75%                  9.74  \n",
      "max                 11.59  \n",
      "\n",
      "[8 rows x 22 columns]\n",
      "============================================================\n",
      "Total memory usage: 247612 bytes\n",
      "============================================================\n"
     ]
    }
   ],
   "source": [
    "df_stats(ECI_GDP, \"ECI_GDP\")"
   ]
  },
  {
   "cell_type": "code",
   "execution_count": 51,
   "metadata": {},
   "outputs": [
    {
     "data": {
      "text/html": [
       "<div>\n",
       "<style scoped>\n",
       "    .dataframe tbody tr th:only-of-type {\n",
       "        vertical-align: middle;\n",
       "    }\n",
       "\n",
       "    .dataframe tbody tr th {\n",
       "        vertical-align: top;\n",
       "    }\n",
       "\n",
       "    .dataframe thead th {\n",
       "        text-align: right;\n",
       "    }\n",
       "</style>\n",
       "<table border=\"1\" class=\"dataframe\">\n",
       "  <thead>\n",
       "    <tr style=\"text-align: right;\">\n",
       "      <th></th>\n",
       "      <th>country_id</th>\n",
       "      <th>year</th>\n",
       "      <th>k_c0</th>\n",
       "      <th>ECI_0</th>\n",
       "      <th>ECI_1</th>\n",
       "      <th>ECI_2</th>\n",
       "      <th>ECI_3</th>\n",
       "      <th>ECI_4</th>\n",
       "      <th>ECI_5</th>\n",
       "      <th>ECI_6</th>\n",
       "      <th>...</th>\n",
       "      <th>ECI_13</th>\n",
       "      <th>ECI_14</th>\n",
       "      <th>ECI_15</th>\n",
       "      <th>ECI_16</th>\n",
       "      <th>ECI_17</th>\n",
       "      <th>ECI_18</th>\n",
       "      <th>country_code</th>\n",
       "      <th>gdp_per_capita</th>\n",
       "      <th>log_gdp_per_capita</th>\n",
       "      <th>country_name</th>\n",
       "    </tr>\n",
       "  </thead>\n",
       "  <tbody>\n",
       "  </tbody>\n",
       "</table>\n",
       "<p>0 rows × 26 columns</p>\n",
       "</div>"
      ],
      "text/plain": [
       "Empty DataFrame\n",
       "Columns: [country_id, year, k_c0, ECI_0, ECI_1, ECI_2, ECI_3, ECI_4, ECI_5, ECI_6, ECI_7, ECI_8, ECI_9, ECI_10, ECI_11, ECI_12, ECI_13, ECI_14, ECI_15, ECI_16, ECI_17, ECI_18, country_code, gdp_per_capita, log_gdp_per_capita, country_name]\n",
       "Index: []\n",
       "\n",
       "[0 rows x 26 columns]"
      ]
     },
     "execution_count": 51,
     "metadata": {},
     "output_type": "execute_result"
    }
   ],
   "source": [
    "# Searching for the missing values in the merged dataframe in the \"gdp_per_capita\" column\n",
    "ECI_GDP[ECI_GDP[\"log_gdp_per_capita\"].isnull()]"
   ]
  },
  {
   "cell_type": "markdown",
   "metadata": {},
   "source": [
    "### Convergence of ECI index for specified year and country"
   ]
  },
  {
   "cell_type": "code",
   "execution_count": 52,
   "metadata": {},
   "outputs": [],
   "source": [
    "ECI_GDP_2019 = ECI_GDP[ECI_GDP[\"year\"] == 2019].reset_index(drop=True)"
   ]
  },
  {
   "cell_type": "code",
   "execution_count": 53,
   "metadata": {},
   "outputs": [
    {
     "name": "stdout",
     "output_type": "stream",
     "text": [
      "['ECI_2', 'ECI_4', 'ECI_6', 'ECI_8', 'ECI_10', 'ECI_12', 'ECI_14', 'ECI_16', 'ECI_18']\n"
     ]
    },
    {
     "data": {
      "image/png": "[encoded data removed]",
      "text/plain": [
       "<Figure size 800x500 with 1 Axes>"
      ]
     },
     "metadata": {},
     "output_type": "display_data"
    }
   ],
   "source": [
    "# plot_eci_convergence(ECI_GDP_2019, country_codes=[\"DEU\"], skip_eci_orders=[0, 2])\n",
    "plot_eci_convergence(ECI_GDP_2019, country_codes=[\"USA\"], skip_eci_orders=[0])\n",
    "# plot_eci_convergence(ECI_GDP_2019, country_codes=[\"CHN\"], skip_eci_orders=[0])\n",
    "# plot_eci_convergence(ECI_GDP_2019, country_codes=[\"USA\", \"CHN\", \"DEU\", \"JPN\"], skip_eci_orders=[0, 2])"
   ]
  },
  {
   "cell_type": "markdown",
   "metadata": {},
   "source": [
    "## Building correlation for clean data\n",
    "linear relationship of given order of reflections of ECI and GDP per capita for a range of years"
   ]
  },
  {
   "cell_type": "code",
   "execution_count": 54,
   "metadata": {},
   "outputs": [],
   "source": [
    "years = [*range(2014, 2020)]\n",
    "n_order = 12"
   ]
  },
  {
   "cell_type": "code",
   "execution_count": 55,
   "metadata": {},
   "outputs": [
    {
     "data": {
      "image/png": "[encoded data removed]",
      "text/plain": [
       "<Figure size 1500x800 with 6 Axes>"
      ]
     },
     "metadata": {},
     "output_type": "display_data"
    }
   ],
   "source": [
    "scatterplot_ECI_vs_GDP(ECI_GDP, year=years, n=n_order)"
   ]
  },
  {
   "cell_type": "code",
   "execution_count": 56,
   "metadata": {},
   "outputs": [
    {
     "data": {
      "image/png": "[encoded data removed]",
      "text/plain": [
       "<Figure size 1500x400 with 3 Axes>"
      ]
     },
     "metadata": {},
     "output_type": "display_data"
    },
    {
     "data": {
      "image/png": "[encoded data removed]",
      "text/plain": [
       "<Figure size 1500x400 with 3 Axes>"
      ]
     },
     "metadata": {},
     "output_type": "display_data"
    }
   ],
   "source": [
    "years = [*range(2017, 2020)]\n",
    "n_orders = [12, 18]\n",
    "for n_order in n_orders:\n",
    "    scatterplot_ECI_vs_GDP(ECI_GDP, year=years, n=n_order)"
   ]
  },
  {
   "cell_type": "markdown",
   "metadata": {},
   "source": [
    "Extra plot for reporting in thesis"
   ]
  },
  {
   "cell_type": "code",
   "execution_count": 102,
   "metadata": {},
   "outputs": [],
   "source": [
    "from importlib import reload\n",
    "\n",
    "# Import the module and reload it\n",
    "import p06_mor_analysis\n",
    "\n",
    "reload(p06_mor_analysis)\n",
    "\n",
    "# Re-import the functions from the reloaded module\n",
    "from p06_mor_analysis import plot_eci_vs_gdp_v2, lineplot_ECI_vs_GDP_correlation"
   ]
  },
  {
   "cell_type": "code",
   "execution_count": 96,
   "metadata": {},
   "outputs": [
    {
     "name": "stdout",
     "output_type": "stream",
     "text": [
      "cols=1, rows=1\n"
     ]
    },
    {
     "data": {
      "image/png": "[encoded data removed]",
      "text/plain": [
       "<Figure size 500x400 with 1 Axes>"
      ]
     },
     "metadata": {},
     "output_type": "display_data"
    }
   ],
   "source": [
    "plot_eci_vs_gdp_v2(ECI_GDP, [2019], n=18, f_use_labels=True)"
   ]
  },
  {
   "cell_type": "markdown",
   "metadata": {},
   "source": [
    "## Calculating the coefficient of determination, R-squared (R²), </br>to assess the strength of the relationship between the \"GDP per capita\" and \"ECI\" represented in scatterplot above"
   ]
  },
  {
   "cell_type": "code",
   "execution_count": 57,
   "metadata": {},
   "outputs": [],
   "source": [
    "n_order = 12\n",
    "ECI_GDP_12_2012 = filter_eci_to_gdp_n_order_year(ECI_GDP, year=2012, n=n_order)"
   ]
  },
  {
   "cell_type": "code",
   "execution_count": 58,
   "metadata": {},
   "outputs": [
    {
     "data": {
      "text/plain": [
       "0.5331358564035885"
      ]
     },
     "execution_count": 58,
     "metadata": {},
     "output_type": "execute_result"
    }
   ],
   "source": [
    "calculate_ECI_GDP_r_squared(ECI_GDP_12_2012, n_order)"
   ]
  },
  {
   "cell_type": "code",
   "execution_count": 59,
   "metadata": {},
   "outputs": [],
   "source": [
    "# r_squared = 0.47525944287953514 for dataset with unreliable countries # ECI_12\n",
    "# r_squared = 0.5111782249815722 for dataset without unreliable countries # ECI_12\n",
    "# r_squared = 0.5331358564035885 for dataset without unreliable countries and countries with reliable gdp # ECI_12\n",
    "# r_squared = 0.5501351728868762 for dataset without unreliable countries and countries with reliable gdp # ECI_18"
   ]
  },
  {
   "cell_type": "code",
   "execution_count": 60,
   "metadata": {},
   "outputs": [],
   "source": [
    "n_order = 18\n",
    "ECI_GDP_18_2012 = filter_eci_to_gdp_n_order_year(ECI_GDP, year=2012, n=n_order)"
   ]
  },
  {
   "cell_type": "code",
   "execution_count": 61,
   "metadata": {},
   "outputs": [
    {
     "data": {
      "text/plain": [
       "0.5501351728868762"
      ]
     },
     "execution_count": 61,
     "metadata": {},
     "output_type": "execute_result"
    }
   ],
   "source": [
    "calculate_ECI_GDP_r_squared(ECI_GDP_18_2012, n_order)"
   ]
  },
  {
   "cell_type": "code",
   "execution_count": 62,
   "metadata": {},
   "outputs": [],
   "source": [
    "n_orders = list(range(10, 19))\n",
    "ECI_correlation = calculate_yearly_eci_gdp_correlation(ECI_GDP, n_orders)"
   ]
  },
  {
   "cell_type": "code",
   "execution_count": 63,
   "metadata": {},
   "outputs": [
    {
     "data": {
      "text/html": [
       "<div>\n",
       "<style scoped>\n",
       "    .dataframe tbody tr th:only-of-type {\n",
       "        vertical-align: middle;\n",
       "    }\n",
       "\n",
       "    .dataframe tbody tr th {\n",
       "        vertical-align: top;\n",
       "    }\n",
       "\n",
       "    .dataframe thead th {\n",
       "        text-align: right;\n",
       "    }\n",
       "</style>\n",
       "<table border=\"1\" class=\"dataframe\">\n",
       "  <thead>\n",
       "    <tr style=\"text-align: right;\">\n",
       "      <th></th>\n",
       "      <th>year</th>\n",
       "      <th>ECI_10</th>\n",
       "      <th>ECI_11</th>\n",
       "      <th>ECI_12</th>\n",
       "      <th>ECI_13</th>\n",
       "      <th>ECI_14</th>\n",
       "      <th>ECI_15</th>\n",
       "      <th>ECI_16</th>\n",
       "      <th>ECI_17</th>\n",
       "      <th>ECI_18</th>\n",
       "    </tr>\n",
       "  </thead>\n",
       "  <tbody>\n",
       "    <tr>\n",
       "      <th>0</th>\n",
       "      <td>2012</td>\n",
       "      <td>0.721887</td>\n",
       "      <td>-0.750512</td>\n",
       "      <td>0.730162</td>\n",
       "      <td>-0.748895</td>\n",
       "      <td>0.735622</td>\n",
       "      <td>-0.747979</td>\n",
       "      <td>0.739264</td>\n",
       "      <td>-0.747473</td>\n",
       "      <td>0.741711</td>\n",
       "    </tr>\n",
       "    <tr>\n",
       "      <th>1</th>\n",
       "      <td>2013</td>\n",
       "      <td>0.712005</td>\n",
       "      <td>-0.742376</td>\n",
       "      <td>0.720261</td>\n",
       "      <td>-0.740542</td>\n",
       "      <td>0.725815</td>\n",
       "      <td>-0.739445</td>\n",
       "      <td>0.729582</td>\n",
       "      <td>-0.738797</td>\n",
       "      <td>0.732153</td>\n",
       "    </tr>\n",
       "    <tr>\n",
       "      <th>2</th>\n",
       "      <td>2014</td>\n",
       "      <td>0.718738</td>\n",
       "      <td>-0.750291</td>\n",
       "      <td>0.726718</td>\n",
       "      <td>-0.747988</td>\n",
       "      <td>0.732152</td>\n",
       "      <td>-0.746592</td>\n",
       "      <td>0.735885</td>\n",
       "      <td>-0.745755</td>\n",
       "      <td>0.738466</td>\n",
       "    </tr>\n",
       "    <tr>\n",
       "      <th>3</th>\n",
       "      <td>2015</td>\n",
       "      <td>0.726793</td>\n",
       "      <td>-0.753813</td>\n",
       "      <td>0.734239</td>\n",
       "      <td>-0.752561</td>\n",
       "      <td>0.739362</td>\n",
       "      <td>-0.751921</td>\n",
       "      <td>0.742935</td>\n",
       "      <td>-0.751634</td>\n",
       "      <td>0.745452</td>\n",
       "    </tr>\n",
       "    <tr>\n",
       "      <th>4</th>\n",
       "      <td>2016</td>\n",
       "      <td>0.762625</td>\n",
       "      <td>-0.779576</td>\n",
       "      <td>0.768692</td>\n",
       "      <td>-0.779664</td>\n",
       "      <td>0.772698</td>\n",
       "      <td>-0.779918</td>\n",
       "      <td>0.775395</td>\n",
       "      <td>-0.780216</td>\n",
       "      <td>0.777236</td>\n",
       "    </tr>\n",
       "    <tr>\n",
       "      <th>5</th>\n",
       "      <td>2017</td>\n",
       "      <td>0.775308</td>\n",
       "      <td>-0.790524</td>\n",
       "      <td>0.781200</td>\n",
       "      <td>-0.791297</td>\n",
       "      <td>0.785139</td>\n",
       "      <td>-0.791953</td>\n",
       "      <td>0.787827</td>\n",
       "      <td>-0.792489</td>\n",
       "      <td>0.789686</td>\n",
       "    </tr>\n",
       "    <tr>\n",
       "      <th>6</th>\n",
       "      <td>2018</td>\n",
       "      <td>0.773787</td>\n",
       "      <td>-0.788696</td>\n",
       "      <td>0.778906</td>\n",
       "      <td>-0.788628</td>\n",
       "      <td>0.782237</td>\n",
       "      <td>-0.788660</td>\n",
       "      <td>0.784451</td>\n",
       "      <td>-0.788737</td>\n",
       "      <td>0.785940</td>\n",
       "    </tr>\n",
       "    <tr>\n",
       "      <th>7</th>\n",
       "      <td>2019</td>\n",
       "      <td>0.785251</td>\n",
       "      <td>-0.799989</td>\n",
       "      <td>0.790266</td>\n",
       "      <td>-0.799931</td>\n",
       "      <td>0.793523</td>\n",
       "      <td>-0.799942</td>\n",
       "      <td>0.795683</td>\n",
       "      <td>-0.799986</td>\n",
       "      <td>0.797133</td>\n",
       "    </tr>\n",
       "  </tbody>\n",
       "</table>\n",
       "</div>"
      ],
      "text/plain": [
       "   year   ECI_10    ECI_11   ECI_12    ECI_13   ECI_14    ECI_15   ECI_16  \\\n",
       "0  2012 0.721887 -0.750512 0.730162 -0.748895 0.735622 -0.747979 0.739264   \n",
       "1  2013 0.712005 -0.742376 0.720261 -0.740542 0.725815 -0.739445 0.729582   \n",
       "2  2014 0.718738 -0.750291 0.726718 -0.747988 0.732152 -0.746592 0.735885   \n",
       "3  2015 0.726793 -0.753813 0.734239 -0.752561 0.739362 -0.751921 0.742935   \n",
       "4  2016 0.762625 -0.779576 0.768692 -0.779664 0.772698 -0.779918 0.775395   \n",
       "5  2017 0.775308 -0.790524 0.781200 -0.791297 0.785139 -0.791953 0.787827   \n",
       "6  2018 0.773787 -0.788696 0.778906 -0.788628 0.782237 -0.788660 0.784451   \n",
       "7  2019 0.785251 -0.799989 0.790266 -0.799931 0.793523 -0.799942 0.795683   \n",
       "\n",
       "     ECI_17   ECI_18  \n",
       "0 -0.747473 0.741711  \n",
       "1 -0.738797 0.732153  \n",
       "2 -0.745755 0.738466  \n",
       "3 -0.751634 0.745452  \n",
       "4 -0.780216 0.777236  \n",
       "5 -0.792489 0.789686  \n",
       "6 -0.788737 0.785940  \n",
       "7 -0.799986 0.797133  "
      ]
     },
     "execution_count": 63,
     "metadata": {},
     "output_type": "execute_result"
    }
   ],
   "source": [
    "ECI_correlation"
   ]
  },
  {
   "cell_type": "code",
   "execution_count": 64,
   "metadata": {},
   "outputs": [
    {
     "name": "stdout",
     "output_type": "stream",
     "text": [
      "year column initial type:\n",
      "category\n",
      "============================================================\n",
      "year column final type:\n",
      "int16\n",
      "============================================================\n"
     ]
    }
   ],
   "source": [
    "# Saving merged ECI_correlation data to a .parquet file\n",
    "output_file_name = \"ECI_correlation.parquet\"\n",
    "save_hs92_parquet_data(\n",
    "    data=ECI_correlation,\n",
    "    file_location=output_file_location,\n",
    "    file_name=output_file_name,\n",
    "    dtype_dict={\"year\": \"category\"},\n",
    ")"
   ]
  },
  {
   "cell_type": "code",
   "execution_count": 65,
   "metadata": {},
   "outputs": [
    {
     "data": {
      "text/plain": [
       "36695"
      ]
     },
     "execution_count": 65,
     "metadata": {},
     "output_type": "execute_result"
    }
   ],
   "source": [
    "del ECI_GDP, ECI_correlation\n",
    "gc.collect()"
   ]
  },
  {
   "cell_type": "code",
   "execution_count": 66,
   "metadata": {},
   "outputs": [],
   "source": [
    "# assert False, \"End of code\""
   ]
  },
  {
   "cell_type": "code",
   "execution_count": 111,
   "metadata": {},
   "outputs": [
    {
     "name": "stdout",
     "output_type": "stream",
     "text": [
      "os.getcwd():\n",
      "c:\\Users\\Admin\\Documents\\Univer\\MASTER THESIS IDEAS\\Flavio Pinehro\\11_MasterProject\\notebooks\n",
      "============================================================\n",
      "input_file_location:\n",
      "..\\data\\05_mor_silver\n",
      "============================================================\n",
      "output_file_location:\n",
      "..\\data\\06_mor_gold\n",
      "============================================================\n"
     ]
    }
   ],
   "source": [
    "# Resolve the path to the 'src' folder with helper functions\n",
    "import config_notebooks\n",
    "from importlib import reload\n",
    "\n",
    "# Import the module and reload it\n",
    "import n06_import_reload\n",
    "\n",
    "reload(n06_import_reload)\n",
    "\n",
    "# Re-import the functions from the reloaded module\n",
    "from p06_mor_analysis import plot_eci_vs_gdp_v2, lineplot_ECI_vs_GDP_correlation"
   ]
  },
  {
   "cell_type": "code",
   "execution_count": 106,
   "metadata": {},
   "outputs": [
    {
     "name": "stdout",
     "output_type": "stream",
     "text": [
      "year column initial type:\n",
      "int16\n",
      "============================================================\n",
      "year column final type:\n",
      "category\n",
      "============================================================\n"
     ]
    }
   ],
   "source": [
    "input_file_name = \"ECI_correlation.parquet\"\n",
    "ECI_correlation = read_hs92_parquet_data(output_file_location, input_file_name)"
   ]
  },
  {
   "cell_type": "markdown",
   "metadata": {},
   "source": [
    "Visualizing the correlation between ECI and GDP per capita for different orders of reflection across years"
   ]
  },
  {
   "cell_type": "code",
   "execution_count": 112,
   "metadata": {},
   "outputs": [
    {
     "data": {
      "image/png": "[encoded data removed]",
      "text/plain": [
       "<Figure size 1000x600 with 1 Axes>"
      ]
     },
     "metadata": {},
     "output_type": "display_data"
    }
   ],
   "source": [
    "lineplot_ECI_vs_GDP_correlation(ECI_correlation)"
   ]
  },
  {
   "cell_type": "code",
   "execution_count": 70,
   "metadata": {},
   "outputs": [],
   "source": [
    "# assert False, \"End of code\""
   ]
  }
 ],
 "metadata": {
  "kernelspec": {
   "display_name": "bdmm2324",
   "language": "python",
   "name": "python3"
  },
  "language_info": {
   "codemirror_mode": {
    "name": "ipython",
    "version": 3
   },
   "file_extension": ".py",
   "mimetype": "text/x-python",
   "name": "python",
   "nbconvert_exporter": "python",
   "pygments_lexer": "ipython3",
   "version": "3.11.11"
  }
 },
 "nbformat": 4,
 "nbformat_minor": 2
}
