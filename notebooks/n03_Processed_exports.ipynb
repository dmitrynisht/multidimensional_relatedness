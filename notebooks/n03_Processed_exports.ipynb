{
 "cells": [
  {
   "cell_type": "code",
   "execution_count": 1,
   "metadata": {},
   "outputs": [
    {
     "data": {
      "text/plain": [
       "1"
      ]
     },
     "execution_count": 1,
     "metadata": {},
     "output_type": "execute_result"
    }
   ],
   "source": [
    "(\n",
    "    1 + 0\n",
    ")  # Utility cell. Sometimes \"Jupyter\" skipps the first cell when running all cells. Especially after a restart."
   ]
  },
  {
   "cell_type": "code",
   "execution_count": 2,
   "metadata": {},
   "outputs": [
    {
     "data": {
      "text/plain": [
       "2"
      ]
     },
     "execution_count": 2,
     "metadata": {},
     "output_type": "execute_result"
    }
   ],
   "source": [
    "(\n",
    "    1 + 1\n",
    ")  # Utility cell. Sometimes \"Jupyter\" skipps the first cell when running all cells. Especially after a restart."
   ]
  },
  {
   "cell_type": "code",
   "execution_count": 3,
   "metadata": {},
   "outputs": [
    {
     "name": "stdout",
     "output_type": "stream",
     "text": [
      "N3 utility cell running...\n"
     ]
    }
   ],
   "source": [
    "print(f\"N{1+2} utility cell running...\")"
   ]
  },
  {
   "cell_type": "code",
   "execution_count": 4,
   "metadata": {},
   "outputs": [
    {
     "name": "stdout",
     "output_type": "stream",
     "text": [
      "PYTHONPATH: C:\\Users\\Admin\\Documents\\Univer\\MASTER THESIS IDEAS\\Flavio Pinehro\\11_MasterProject\\src\n"
     ]
    }
   ],
   "source": [
    "# Resolve the path to the 'src' folder with helper functions\n",
    "import config_notebooks"
   ]
  },
  {
   "cell_type": "code",
   "execution_count": 5,
   "metadata": {},
   "outputs": [
    {
     "name": "stdout",
     "output_type": "stream",
     "text": [
      "os.getcwd():\n",
      "c:\\Users\\Admin\\Documents\\Univer\\MASTER THESIS IDEAS\\Flavio Pinehro\\11_MasterProject\\notebooks\n",
      "============================================================\n",
      "input_file_location:\n",
      "..\\data\\02_ingested\n",
      "============================================================\n",
      "output_file_location:\n",
      "..\\data\\03_preprocessed\n",
      "============================================================\n"
     ]
    }
   ],
   "source": [
    "from n03_import import *"
   ]
  },
  {
   "cell_type": "code",
   "execution_count": 6,
   "metadata": {},
   "outputs": [],
   "source": [
    "# # Resolve the path to the 'src' folder with helper functions\n",
    "# import config_notebooks\n",
    "# from importlib import reload\n",
    "\n",
    "# # Import the module and reload it\n",
    "# import n03_import_reload\n",
    "\n",
    "# reload(n03_import_reload)\n",
    "\n",
    "# # Re-import the functions from the reloaded module\n",
    "# from n03_import_reload import *"
   ]
  },
  {
   "cell_type": "markdown",
   "metadata": {},
   "source": [
    "Restoring valid_gdp_countries set of countries (big enough with significant exports)"
   ]
  },
  {
   "cell_type": "code",
   "execution_count": 7,
   "metadata": {},
   "outputs": [
    {
     "name": "stdout",
     "output_type": "stream",
     "text": [
      "data restored:['valid_gdp_country_codes', 'valid_gdp_country_ids', 'valid_gdp_locations', 'export_years', 'unreliable_locations', 'rolling_exports_years', 'reliable_gdp_codes']\n",
      "============================================================\n"
     ]
    }
   ],
   "source": [
    "# this data was staged at n01_Processed_exports.ipynb\n",
    "dumped_data = restore_cache(input_file_location=input_file_location)"
   ]
  },
  {
   "cell_type": "code",
   "execution_count": 8,
   "metadata": {},
   "outputs": [
    {
     "data": {
      "text/plain": [
       "dict_keys(['valid_gdp_country_codes', 'valid_gdp_country_ids', 'valid_gdp_locations', 'export_years', 'unreliable_locations', 'rolling_exports_years', 'reliable_gdp_codes'])"
      ]
     },
     "execution_count": 8,
     "metadata": {},
     "output_type": "execute_result"
    }
   ],
   "source": [
    "dumped_data.keys()"
   ]
  },
  {
   "cell_type": "code",
   "execution_count": 9,
   "metadata": {},
   "outputs": [],
   "source": [
    "valid_gdp_country_ids = set(map(str, dumped_data[\"valid_gdp_country_ids\"]))\n",
    "valid_gdp_country_codes = set(map(str, dumped_data[\"valid_gdp_country_codes\"]))"
   ]
  },
  {
   "cell_type": "markdown",
   "metadata": {},
   "source": [
    "Restoring range of observed export years"
   ]
  },
  {
   "cell_type": "code",
   "execution_count": 10,
   "metadata": {},
   "outputs": [],
   "source": [
    "# Restore the range of all available years in the dataset\n",
    "export_years = dumped_data[\"export_years\"]"
   ]
  },
  {
   "cell_type": "markdown",
   "metadata": {},
   "source": [
    "# Merged PARQUET data  description"
   ]
  },
  {
   "cell_type": "markdown",
   "metadata": {},
   "source": [
    "| **Field Name**         | **Description**                                      | **Data Type** | **Notes**                                                                                      |\n",
    "|-------------------------|------------------------------------------------------|---------------|------------------------------------------------------------------------------------------------|\n",
    "| country_id             | United Nations Country M49 Codes                     | Integer       | Can be joined with the location_country table within the classifications dataset for more detailed information |\n",
    "| product_id             | Growth Lab assigned numerical product identifier     | Integer       | Can be joined with the product_hs92 table within the classifications dataset for more detailed information |\n",
    "| year                   | Year of record                                       | Integer       | HS records start at 1995                                                                       |\n",
    "| export_value           | Current USD export value                             | Integer       |                                                                                                |\n",
    "\n",
    "*Note:* Any “normalized” fields are assumed to be calculated within the country-year dataset. For example, `normalized_pci` is `pci` normalized to mean of 0 and standard deviation of 1 within a given country for a single year.\n"
   ]
  },
  {
   "cell_type": "markdown",
   "metadata": {},
   "source": [
    "Reading merged 'parquet' exports data for period 2010 - 2019"
   ]
  },
  {
   "cell_type": "code",
   "execution_count": 11,
   "metadata": {},
   "outputs": [
    {
     "name": "stdout",
     "output_type": "stream",
     "text": [
      "country_id column initial type:\n",
      "int16\n",
      "============================================================\n",
      "country_id column final type:\n",
      "category\n",
      "============================================================\n",
      "product_id column initial type:\n",
      "int16\n",
      "============================================================\n",
      "product_id column final type:\n",
      "category\n",
      "============================================================\n",
      "year column initial type:\n",
      "int16\n",
      "============================================================\n",
      "year column final type:\n",
      "category\n",
      "============================================================\n"
     ]
    }
   ],
   "source": [
    "# all_col_names = ['country_id', 'partner_country_id', 'year', 'product_id', 'export_value', 'import_value', 'coi', 'eci', 'pci']\n",
    "col_names = [\"country_id\", \"year\", \"product_id\", \"export_value\"]\n",
    "\n",
    "input_file_name = \"raw_hs92_exports_merged.parquet\"\n",
    "raw_df = read_hs92_parquet_data(input_file_location, input_file_name, col_names)"
   ]
  },
  {
   "cell_type": "code",
   "execution_count": 12,
   "metadata": {},
   "outputs": [
    {
     "name": "stdout",
     "output_type": "stream",
     "text": [
      "['df', <class 'pandas.core.frame.DataFrame'>]\n",
      "============================================================\n",
      "shape:\n",
      "(55159782, 4)\n",
      "============================================================\n",
      "data types:\n",
      "country_id      category\n",
      "year            category\n",
      "product_id      category\n",
      "export_value       int64\n",
      "dtype: object\n",
      "============================================================\n",
      "columns:\n",
      "['country_id', 'year', 'product_id', 'export_value']\n",
      "============================================================\n",
      "            export_value\n",
      "count      55,159,782.00\n",
      "mean        3,077,631.40\n",
      "std       118,551,215.60\n",
      "min                 0.00\n",
      "25%                 0.00\n",
      "50%             5,313.00\n",
      "75%            95,951.00\n",
      "max   127,254,781,879.00\n",
      "============================================================\n",
      "Total memory usage: 717106480 bytes\n",
      "============================================================\n"
     ]
    }
   ],
   "source": [
    "df_stats(raw_df)"
   ]
  },
  {
   "cell_type": "code",
   "execution_count": 13,
   "metadata": {},
   "outputs": [
    {
     "data": {
      "text/html": [
       "<div>\n",
       "<style scoped>\n",
       "    .dataframe tbody tr th:only-of-type {\n",
       "        vertical-align: middle;\n",
       "    }\n",
       "\n",
       "    .dataframe tbody tr th {\n",
       "        vertical-align: top;\n",
       "    }\n",
       "\n",
       "    .dataframe thead th {\n",
       "        text-align: right;\n",
       "    }\n",
       "</style>\n",
       "<table border=\"1\" class=\"dataframe\">\n",
       "  <thead>\n",
       "    <tr style=\"text-align: right;\">\n",
       "      <th></th>\n",
       "      <th>country_id</th>\n",
       "      <th>year</th>\n",
       "      <th>product_id</th>\n",
       "      <th>export_value</th>\n",
       "    </tr>\n",
       "  </thead>\n",
       "  <tbody>\n",
       "    <tr>\n",
       "      <th>15628968</th>\n",
       "      <td>250</td>\n",
       "      <td>2012</td>\n",
       "      <td>1364</td>\n",
       "      <td>0</td>\n",
       "    </tr>\n",
       "    <tr>\n",
       "      <th>44801455</th>\n",
       "      <td>724</td>\n",
       "      <td>2015</td>\n",
       "      <td>1761</td>\n",
       "      <td>3176547</td>\n",
       "    </tr>\n",
       "    <tr>\n",
       "      <th>10227733</th>\n",
       "      <td>158</td>\n",
       "      <td>2015</td>\n",
       "      <td>1270</td>\n",
       "      <td>387512</td>\n",
       "    </tr>\n",
       "    <tr>\n",
       "      <th>4918752</th>\n",
       "      <td>76</td>\n",
       "      <td>2011</td>\n",
       "      <td>1557</td>\n",
       "      <td>0</td>\n",
       "    </tr>\n",
       "    <tr>\n",
       "      <th>26734249</th>\n",
       "      <td>400</td>\n",
       "      <td>2019</td>\n",
       "      <td>1695</td>\n",
       "      <td>36948</td>\n",
       "    </tr>\n",
       "    <tr>\n",
       "      <th>53224906</th>\n",
       "      <td>840</td>\n",
       "      <td>2014</td>\n",
       "      <td>1478</td>\n",
       "      <td>591162</td>\n",
       "    </tr>\n",
       "    <tr>\n",
       "      <th>6100247</th>\n",
       "      <td>104</td>\n",
       "      <td>2014</td>\n",
       "      <td>1614</td>\n",
       "      <td>0</td>\n",
       "    </tr>\n",
       "    <tr>\n",
       "      <th>55021263</th>\n",
       "      <td>999</td>\n",
       "      <td>2015</td>\n",
       "      <td>1731</td>\n",
       "      <td>2926</td>\n",
       "    </tr>\n",
       "    <tr>\n",
       "      <th>9233650</th>\n",
       "      <td>156</td>\n",
       "      <td>2016</td>\n",
       "      <td>790</td>\n",
       "      <td>64567</td>\n",
       "    </tr>\n",
       "    <tr>\n",
       "      <th>16631680</th>\n",
       "      <td>262</td>\n",
       "      <td>2014</td>\n",
       "      <td>673</td>\n",
       "      <td>0</td>\n",
       "    </tr>\n",
       "    <tr>\n",
       "      <th>32348871</th>\n",
       "      <td>504</td>\n",
       "      <td>2013</td>\n",
       "      <td>1307</td>\n",
       "      <td>291729</td>\n",
       "    </tr>\n",
       "    <tr>\n",
       "      <th>28559255</th>\n",
       "      <td>422</td>\n",
       "      <td>2018</td>\n",
       "      <td>1746</td>\n",
       "      <td>0</td>\n",
       "    </tr>\n",
       "    <tr>\n",
       "      <th>38589357</th>\n",
       "      <td>620</td>\n",
       "      <td>2016</td>\n",
       "      <td>1682</td>\n",
       "      <td>36382</td>\n",
       "    </tr>\n",
       "    <tr>\n",
       "      <th>32558421</th>\n",
       "      <td>504</td>\n",
       "      <td>2019</td>\n",
       "      <td>1649</td>\n",
       "      <td>0</td>\n",
       "    </tr>\n",
       "    <tr>\n",
       "      <th>53506439</th>\n",
       "      <td>840</td>\n",
       "      <td>2016</td>\n",
       "      <td>1543</td>\n",
       "      <td>22719022</td>\n",
       "    </tr>\n",
       "  </tbody>\n",
       "</table>\n",
       "</div>"
      ],
      "text/plain": [
       "         country_id  year product_id  export_value\n",
       "15628968        250  2012       1364             0\n",
       "44801455        724  2015       1761       3176547\n",
       "10227733        158  2015       1270        387512\n",
       "4918752          76  2011       1557             0\n",
       "26734249        400  2019       1695         36948\n",
       "53224906        840  2014       1478        591162\n",
       "6100247         104  2014       1614             0\n",
       "55021263        999  2015       1731          2926\n",
       "9233650         156  2016        790         64567\n",
       "16631680        262  2014        673             0\n",
       "32348871        504  2013       1307        291729\n",
       "28559255        422  2018       1746             0\n",
       "38589357        620  2016       1682         36382\n",
       "32558421        504  2019       1649             0\n",
       "53506439        840  2016       1543      22719022"
      ]
     },
     "execution_count": 13,
     "metadata": {},
     "output_type": "execute_result"
    }
   ],
   "source": [
    "raw_df.sample(15)"
   ]
  },
  {
   "cell_type": "code",
   "execution_count": 14,
   "metadata": {},
   "outputs": [
    {
     "data": {
      "text/html": [
       "<div>\n",
       "<style scoped>\n",
       "    .dataframe tbody tr th:only-of-type {\n",
       "        vertical-align: middle;\n",
       "    }\n",
       "\n",
       "    .dataframe tbody tr th {\n",
       "        vertical-align: top;\n",
       "    }\n",
       "\n",
       "    .dataframe thead th {\n",
       "        text-align: right;\n",
       "    }\n",
       "</style>\n",
       "<table border=\"1\" class=\"dataframe\">\n",
       "  <thead>\n",
       "    <tr style=\"text-align: right;\">\n",
       "      <th></th>\n",
       "      <th>country_id</th>\n",
       "      <th>year</th>\n",
       "      <th>product_id</th>\n",
       "      <th>export_value</th>\n",
       "    </tr>\n",
       "  </thead>\n",
       "  <tbody>\n",
       "    <tr>\n",
       "      <th>0</th>\n",
       "      <td>4</td>\n",
       "      <td>2010</td>\n",
       "      <td>650</td>\n",
       "      <td>0</td>\n",
       "    </tr>\n",
       "    <tr>\n",
       "      <th>1</th>\n",
       "      <td>4</td>\n",
       "      <td>2010</td>\n",
       "      <td>650</td>\n",
       "      <td>0</td>\n",
       "    </tr>\n",
       "    <tr>\n",
       "      <th>2</th>\n",
       "      <td>4</td>\n",
       "      <td>2010</td>\n",
       "      <td>650</td>\n",
       "      <td>0</td>\n",
       "    </tr>\n",
       "    <tr>\n",
       "      <th>3</th>\n",
       "      <td>4</td>\n",
       "      <td>2010</td>\n",
       "      <td>651</td>\n",
       "      <td>773058</td>\n",
       "    </tr>\n",
       "    <tr>\n",
       "      <th>4</th>\n",
       "      <td>4</td>\n",
       "      <td>2010</td>\n",
       "      <td>651</td>\n",
       "      <td>0</td>\n",
       "    </tr>\n",
       "    <tr>\n",
       "      <th>5</th>\n",
       "      <td>4</td>\n",
       "      <td>2010</td>\n",
       "      <td>651</td>\n",
       "      <td>0</td>\n",
       "    </tr>\n",
       "    <tr>\n",
       "      <th>6</th>\n",
       "      <td>4</td>\n",
       "      <td>2010</td>\n",
       "      <td>651</td>\n",
       "      <td>0</td>\n",
       "    </tr>\n",
       "    <tr>\n",
       "      <th>7</th>\n",
       "      <td>4</td>\n",
       "      <td>2010</td>\n",
       "      <td>653</td>\n",
       "      <td>1422</td>\n",
       "    </tr>\n",
       "    <tr>\n",
       "      <th>8</th>\n",
       "      <td>4</td>\n",
       "      <td>2010</td>\n",
       "      <td>653</td>\n",
       "      <td>42264</td>\n",
       "    </tr>\n",
       "    <tr>\n",
       "      <th>9</th>\n",
       "      <td>4</td>\n",
       "      <td>2010</td>\n",
       "      <td>654</td>\n",
       "      <td>0</td>\n",
       "    </tr>\n",
       "  </tbody>\n",
       "</table>\n",
       "</div>"
      ],
      "text/plain": [
       "  country_id  year product_id  export_value\n",
       "0          4  2010        650             0\n",
       "1          4  2010        650             0\n",
       "2          4  2010        650             0\n",
       "3          4  2010        651        773058\n",
       "4          4  2010        651             0\n",
       "5          4  2010        651             0\n",
       "6          4  2010        651             0\n",
       "7          4  2010        653          1422\n",
       "8          4  2010        653         42264\n",
       "9          4  2010        654             0"
      ]
     },
     "execution_count": 14,
     "metadata": {},
     "output_type": "execute_result"
    }
   ],
   "source": [
    "raw_df.head(10)"
   ]
  },
  {
   "cell_type": "code",
   "execution_count": 15,
   "metadata": {},
   "outputs": [],
   "source": [
    "# without .reset_index\n",
    "# Total memory usage: 1213515204 bytes\n",
    "# with dtypes convertion, .sort and .reset_index\n",
    "# Total memory usage:  717106480 bytes"
   ]
  },
  {
   "cell_type": "code",
   "execution_count": 16,
   "metadata": {},
   "outputs": [],
   "source": [
    "# del raw_df\n",
    "# gc.collect()"
   ]
  },
  {
   "cell_type": "code",
   "execution_count": 17,
   "metadata": {},
   "outputs": [],
   "source": [
    "# assert False, \"End of code\""
   ]
  },
  {
   "cell_type": "markdown",
   "metadata": {},
   "source": [
    "# Cleaning raw data, removing outliers"
   ]
  },
  {
   "cell_type": "markdown",
   "metadata": {},
   "source": [
    "## Subsetting to valid_gdp set of countries "
   ]
  },
  {
   "cell_type": "code",
   "execution_count": 18,
   "metadata": {},
   "outputs": [
    {
     "name": "stdout",
     "output_type": "stream",
     "text": [
      "Unique categories before filtering: 237\n"
     ]
    }
   ],
   "source": [
    "print(\"Unique categories before filtering:\", len(raw_df[\"country_id\"].cat.categories))"
   ]
  },
  {
   "cell_type": "code",
   "execution_count": 19,
   "metadata": {},
   "outputs": [
    {
     "name": "stdout",
     "output_type": "stream",
     "text": [
      "country_id column initial type:\n",
      "category\n",
      "============================================================\n",
      "country_id column final type:\n",
      "object\n",
      "============================================================\n"
     ]
    }
   ],
   "source": [
    "categorical_columns = [\"country_id\"]\n",
    "raw_df = switch_to_dtype(\n",
    "    raw_df, default_dtype=\"str\", categorical_columns=categorical_columns\n",
    ")"
   ]
  },
  {
   "cell_type": "code",
   "execution_count": 20,
   "metadata": {},
   "outputs": [],
   "source": [
    "# Subsetting export data to include only countries with valid GDP\n",
    "raw_df = raw_df[raw_df[\"country_id\"].isin(valid_gdp_country_ids)]"
   ]
  },
  {
   "cell_type": "code",
   "execution_count": 21,
   "metadata": {},
   "outputs": [
    {
     "data": {
      "text/plain": [
       "16"
      ]
     },
     "execution_count": 21,
     "metadata": {},
     "output_type": "execute_result"
    }
   ],
   "source": [
    "# Force garbage collection before continuing\n",
    "gc.collect()"
   ]
  },
  {
   "cell_type": "code",
   "execution_count": 22,
   "metadata": {},
   "outputs": [
    {
     "name": "stdout",
     "output_type": "stream",
     "text": [
      "country_id column initial type:\n",
      "object\n",
      "============================================================\n",
      "country_id column final type:\n",
      "category\n",
      "============================================================\n"
     ]
    }
   ],
   "source": [
    "# Better to switch to string data type for categorical columns before grouping or any other operations\n",
    "categorical_columns = [\"country_id\"]\n",
    "raw_df = switch_to_dtype(\n",
    "    raw_df, default_dtype=\"category\", categorical_columns=categorical_columns\n",
    ")"
   ]
  },
  {
   "cell_type": "code",
   "execution_count": 23,
   "metadata": {},
   "outputs": [
    {
     "name": "stdout",
     "output_type": "stream",
     "text": [
      "Unique categories after filtering: 150\n"
     ]
    }
   ],
   "source": [
    "print(\"Unique categories after filtering:\", len(raw_df[\"country_id\"].cat.categories))"
   ]
  },
  {
   "cell_type": "code",
   "execution_count": 24,
   "metadata": {},
   "outputs": [],
   "source": [
    "# Remove unused categories to free up memory. Actually there should not be, but...\n",
    "raw_df[\"country_id\"] = raw_df[\"country_id\"].cat.remove_unused_categories()"
   ]
  },
  {
   "cell_type": "code",
   "execution_count": 25,
   "metadata": {},
   "outputs": [
    {
     "name": "stdout",
     "output_type": "stream",
     "text": [
      "Unique categories after filtering: 150\n"
     ]
    }
   ],
   "source": [
    "print(\"Unique categories after filtering:\", len(raw_df[\"country_id\"].cat.categories))"
   ]
  },
  {
   "cell_type": "code",
   "execution_count": 26,
   "metadata": {},
   "outputs": [],
   "source": [
    "# Reset index to optimize memory layout\n",
    "raw_df = raw_df.reset_index(drop=True)"
   ]
  },
  {
   "cell_type": "code",
   "execution_count": 27,
   "metadata": {},
   "outputs": [
    {
     "data": {
      "text/plain": [
       "0"
      ]
     },
     "execution_count": 27,
     "metadata": {},
     "output_type": "execute_result"
    }
   ],
   "source": [
    "# Force another garbage collection\n",
    "gc.collect()"
   ]
  },
  {
   "cell_type": "code",
   "execution_count": 28,
   "metadata": {},
   "outputs": [
    {
     "name": "stdout",
     "output_type": "stream",
     "text": [
      "['df', <class 'pandas.core.frame.DataFrame'>]\n",
      "============================================================\n",
      "shape:\n",
      "(50033003, 4)\n",
      "============================================================\n",
      "data types:\n",
      "country_id      category\n",
      "year            category\n",
      "product_id      category\n",
      "export_value       int64\n",
      "dtype: object\n",
      "============================================================\n",
      "columns:\n",
      "['country_id', 'year', 'product_id', 'export_value']\n",
      "============================================================\n",
      "            export_value\n",
      "count      50,033,003.00\n",
      "mean        3,278,789.11\n",
      "std       121,176,912.59\n",
      "min                 0.00\n",
      "25%                 0.00\n",
      "50%             7,092.00\n",
      "75%           115,391.00\n",
      "max   127,254,781,879.00\n",
      "============================================================\n",
      "Total memory usage: 650461638 bytes\n",
      "============================================================\n"
     ]
    }
   ],
   "source": [
    "df_stats(raw_df)"
   ]
  },
  {
   "cell_type": "code",
   "execution_count": 29,
   "metadata": {},
   "outputs": [
    {
     "name": "stdout",
     "output_type": "stream",
     "text": [
      "country_id column initial type:\n",
      "category\n",
      "============================================================\n",
      "country_id column final type:\n",
      "int16\n",
      "============================================================\n",
      "product_id column initial type:\n",
      "category\n",
      "============================================================\n",
      "product_id column final type:\n",
      "int16\n",
      "============================================================\n",
      "year column initial type:\n",
      "category\n",
      "============================================================\n",
      "year column final type:\n",
      "int16\n",
      "============================================================\n"
     ]
    }
   ],
   "source": [
    "# Save the valid-gdp raw exports Data to a .parquet file\n",
    "output_file_name = \"raw_exports_valid_gdp.parquet\"\n",
    "save_hs92_parquet_data(\n",
    "    data=raw_df, file_location=output_file_location, file_name=output_file_name\n",
    ")"
   ]
  },
  {
   "cell_type": "code",
   "execution_count": 30,
   "metadata": {},
   "outputs": [
    {
     "data": {
      "text/plain": [
       "0"
      ]
     },
     "execution_count": 30,
     "metadata": {},
     "output_type": "execute_result"
    }
   ],
   "source": [
    "del raw_df\n",
    "gc.collect()"
   ]
  },
  {
   "cell_type": "code",
   "execution_count": 31,
   "metadata": {},
   "outputs": [],
   "source": [
    "# assert False, \"End of code\""
   ]
  },
  {
   "cell_type": "markdown",
   "metadata": {},
   "source": [
    "### Now applying sequential filters on a year-per-year basis that discard flows, which:\n",
    "   - valued at less than 5,000 USD, \n",
    "   - products whose export value is equal to zero for more than 80% of the countries, \n",
    "   - products with global exports of less than USD 10 million, and \n",
    "   - countries whose exports equal to zero for 95% of the products.</br></br>"
   ]
  },
  {
   "cell_type": "code",
   "execution_count": 32,
   "metadata": {},
   "outputs": [
    {
     "name": "stdout",
     "output_type": "stream",
     "text": [
      "country_id column initial type:\n",
      "int16\n",
      "============================================================\n",
      "country_id column final type:\n",
      "category\n",
      "============================================================\n",
      "product_id column initial type:\n",
      "int16\n",
      "============================================================\n",
      "product_id column final type:\n",
      "category\n",
      "============================================================\n",
      "year column initial type:\n",
      "int16\n",
      "============================================================\n",
      "year column final type:\n",
      "category\n",
      "============================================================\n"
     ]
    }
   ],
   "source": [
    "# all_col_names = ['country_id', 'partner_country_id', 'year', 'product_id', 'export_value', 'import_value', 'coi', 'eci', 'pci']\n",
    "col_names = [\"country_id\", \"year\", \"product_id\", \"export_value\"]\n",
    "\n",
    "input_file_name = \"raw_exports_valid_gdp.parquet\"\n",
    "clean_df = read_hs92_parquet_data(output_file_location, input_file_name, col_names)"
   ]
  },
  {
   "cell_type": "code",
   "execution_count": 33,
   "metadata": {},
   "outputs": [
    {
     "name": "stdout",
     "output_type": "stream",
     "text": [
      "['df', <class 'pandas.core.frame.DataFrame'>]\n",
      "============================================================\n",
      "shape:\n",
      "(50033003, 4)\n",
      "============================================================\n",
      "data types:\n",
      "country_id      category\n",
      "year            category\n",
      "product_id      category\n",
      "export_value       int64\n",
      "dtype: object\n",
      "============================================================\n",
      "columns:\n",
      "['country_id', 'year', 'product_id', 'export_value']\n",
      "============================================================\n",
      "            export_value\n",
      "count      50,033,003.00\n",
      "mean        3,278,789.11\n",
      "std       121,176,912.59\n",
      "min                 0.00\n",
      "25%                 0.00\n",
      "50%             7,092.00\n",
      "75%           115,391.00\n",
      "max   127,254,781,879.00\n",
      "============================================================\n",
      "Total memory usage: 650455587 bytes\n",
      "============================================================\n"
     ]
    }
   ],
   "source": [
    "df_stats(clean_df)"
   ]
  },
  {
   "cell_type": "markdown",
   "metadata": {},
   "source": [
    "### Discarding Export Flows Valued at Less than $5,000 USD\n",
    "**Noise Reduction:** Small-value export flows may be statistical artifacts, reporting errors, or random outliers rather than meaningful trade data.</br></br>\n",
    "**Relevance:** Trade data is often used to measure economic complexity, competitiveness, or specialization. Extremely small transactions do not contribute significantly to these insights."
   ]
  },
  {
   "cell_type": "code",
   "execution_count": 34,
   "metadata": {},
   "outputs": [],
   "source": [
    "# Transaction-level noise\n",
    "noise = clean_df[clean_df[\"export_value\"] < 5000]"
   ]
  },
  {
   "cell_type": "code",
   "execution_count": 35,
   "metadata": {},
   "outputs": [
    {
     "name": "stdout",
     "output_type": "stream",
     "text": [
      "['df', <class 'pandas.core.frame.DataFrame'>]\n",
      "============================================================\n",
      "shape:\n",
      "(23500420, 4)\n",
      "============================================================\n",
      "data types:\n",
      "country_id      category\n",
      "year            category\n",
      "product_id      category\n",
      "export_value       int64\n",
      "dtype: object\n",
      "============================================================\n",
      "columns:\n",
      "['country_id', 'year', 'product_id', 'export_value']\n",
      "============================================================\n",
      "       export_value\n",
      "count 23,500,420.00\n",
      "mean         697.87\n",
      "std        1,263.51\n",
      "min            0.00\n",
      "25%            0.00\n",
      "50%            0.00\n",
      "75%        1,086.00\n",
      "max        4,999.00\n",
      "============================================================\n",
      "Total memory usage: 493535236 bytes\n",
      "============================================================\n"
     ]
    }
   ],
   "source": [
    "df_stats(noise)"
   ]
  },
  {
   "cell_type": "code",
   "execution_count": 36,
   "metadata": {},
   "outputs": [
    {
     "data": {
      "text/html": [
       "<div>\n",
       "<style scoped>\n",
       "    .dataframe tbody tr th:only-of-type {\n",
       "        vertical-align: middle;\n",
       "    }\n",
       "\n",
       "    .dataframe tbody tr th {\n",
       "        vertical-align: top;\n",
       "    }\n",
       "\n",
       "    .dataframe thead th {\n",
       "        text-align: right;\n",
       "    }\n",
       "</style>\n",
       "<table border=\"1\" class=\"dataframe\">\n",
       "  <thead>\n",
       "    <tr style=\"text-align: right;\">\n",
       "      <th></th>\n",
       "      <th>country_id</th>\n",
       "      <th>year</th>\n",
       "      <th>product_id</th>\n",
       "      <th>export_value</th>\n",
       "    </tr>\n",
       "  </thead>\n",
       "  <tbody>\n",
       "    <tr>\n",
       "      <th>28276620</th>\n",
       "      <td>496</td>\n",
       "      <td>2014</td>\n",
       "      <td>1380</td>\n",
       "      <td>0</td>\n",
       "    </tr>\n",
       "    <tr>\n",
       "      <th>34809132</th>\n",
       "      <td>634</td>\n",
       "      <td>2017</td>\n",
       "      <td>1097</td>\n",
       "      <td>0</td>\n",
       "    </tr>\n",
       "    <tr>\n",
       "      <th>42781357</th>\n",
       "      <td>764</td>\n",
       "      <td>2015</td>\n",
       "      <td>1628</td>\n",
       "      <td>0</td>\n",
       "    </tr>\n",
       "    <tr>\n",
       "      <th>9286767</th>\n",
       "      <td>178</td>\n",
       "      <td>2014</td>\n",
       "      <td>1858</td>\n",
       "      <td>0</td>\n",
       "    </tr>\n",
       "    <tr>\n",
       "      <th>29752734</th>\n",
       "      <td>528</td>\n",
       "      <td>2013</td>\n",
       "      <td>1002</td>\n",
       "      <td>1160</td>\n",
       "    </tr>\n",
       "    <tr>\n",
       "      <th>44606382</th>\n",
       "      <td>792</td>\n",
       "      <td>2012</td>\n",
       "      <td>1876</td>\n",
       "      <td>1270</td>\n",
       "    </tr>\n",
       "    <tr>\n",
       "      <th>49959981</th>\n",
       "      <td>894</td>\n",
       "      <td>2014</td>\n",
       "      <td>1732</td>\n",
       "      <td>0</td>\n",
       "    </tr>\n",
       "    <tr>\n",
       "      <th>49689982</th>\n",
       "      <td>862</td>\n",
       "      <td>2012</td>\n",
       "      <td>1420</td>\n",
       "      <td>0</td>\n",
       "    </tr>\n",
       "    <tr>\n",
       "      <th>2688444</th>\n",
       "      <td>51</td>\n",
       "      <td>2010</td>\n",
       "      <td>1233</td>\n",
       "      <td>0</td>\n",
       "    </tr>\n",
       "    <tr>\n",
       "      <th>28256165</th>\n",
       "      <td>496</td>\n",
       "      <td>2012</td>\n",
       "      <td>1498</td>\n",
       "      <td>0</td>\n",
       "    </tr>\n",
       "    <tr>\n",
       "      <th>47671178</th>\n",
       "      <td>834</td>\n",
       "      <td>2011</td>\n",
       "      <td>1764</td>\n",
       "      <td>0</td>\n",
       "    </tr>\n",
       "    <tr>\n",
       "      <th>5509792</th>\n",
       "      <td>112</td>\n",
       "      <td>2015</td>\n",
       "      <td>1552</td>\n",
       "      <td>0</td>\n",
       "    </tr>\n",
       "    <tr>\n",
       "      <th>17714537</th>\n",
       "      <td>344</td>\n",
       "      <td>2017</td>\n",
       "      <td>1385</td>\n",
       "      <td>4603</td>\n",
       "    </tr>\n",
       "    <tr>\n",
       "      <th>12679091</th>\n",
       "      <td>246</td>\n",
       "      <td>2010</td>\n",
       "      <td>1867</td>\n",
       "      <td>0</td>\n",
       "    </tr>\n",
       "    <tr>\n",
       "      <th>3340442</th>\n",
       "      <td>56</td>\n",
       "      <td>2015</td>\n",
       "      <td>1641</td>\n",
       "      <td>1925</td>\n",
       "    </tr>\n",
       "  </tbody>\n",
       "</table>\n",
       "</div>"
      ],
      "text/plain": [
       "         country_id  year product_id  export_value\n",
       "28276620        496  2014       1380             0\n",
       "34809132        634  2017       1097             0\n",
       "42781357        764  2015       1628             0\n",
       "9286767         178  2014       1858             0\n",
       "29752734        528  2013       1002          1160\n",
       "44606382        792  2012       1876          1270\n",
       "49959981        894  2014       1732             0\n",
       "49689982        862  2012       1420             0\n",
       "2688444          51  2010       1233             0\n",
       "28256165        496  2012       1498             0\n",
       "47671178        834  2011       1764             0\n",
       "5509792         112  2015       1552             0\n",
       "17714537        344  2017       1385          4603\n",
       "12679091        246  2010       1867             0\n",
       "3340442          56  2015       1641          1925"
      ]
     },
     "execution_count": 36,
     "metadata": {},
     "output_type": "execute_result"
    }
   ],
   "source": [
    "noise.sample(15)"
   ]
  },
  {
   "cell_type": "code",
   "execution_count": 37,
   "metadata": {},
   "outputs": [
    {
     "data": {
      "text/plain": [
       "0"
      ]
     },
     "execution_count": 37,
     "metadata": {},
     "output_type": "execute_result"
    }
   ],
   "source": [
    "del noise\n",
    "gc.collect()"
   ]
  },
  {
   "cell_type": "code",
   "execution_count": 38,
   "metadata": {},
   "outputs": [],
   "source": [
    "clean_df = clean_df[clean_df[\"export_value\"] >= 5000].reset_index(drop=True)"
   ]
  },
  {
   "cell_type": "code",
   "execution_count": 39,
   "metadata": {},
   "outputs": [
    {
     "name": "stdout",
     "output_type": "stream",
     "text": [
      "['df', <class 'pandas.core.frame.DataFrame'>]\n",
      "============================================================\n",
      "shape:\n",
      "(26532583, 4)\n",
      "============================================================\n",
      "data types:\n",
      "country_id      category\n",
      "year            category\n",
      "product_id      category\n",
      "export_value       int64\n",
      "dtype: object\n",
      "============================================================\n",
      "columns:\n",
      "['country_id', 'year', 'product_id', 'export_value']\n",
      "============================================================\n",
      "            export_value\n",
      "count      26,532,583.00\n",
      "mean        6,182,257.68\n",
      "std       166,348,009.79\n",
      "min             5,000.00\n",
      "25%            21,766.00\n",
      "50%            95,862.00\n",
      "75%           633,430.00\n",
      "max   127,254,781,879.00\n",
      "============================================================\n",
      "Total memory usage: 344950127 bytes\n",
      "============================================================\n"
     ]
    }
   ],
   "source": [
    "df_stats(clean_df)"
   ]
  },
  {
   "cell_type": "markdown",
   "metadata": {},
   "source": [
    "### Removing Products with Global Exports of Less Than 10 Million USD\n",
    "**Meaningful contribution:** Ensure that products included in the dataset contribute meaningfully to international trade"
   ]
  },
  {
   "cell_type": "code",
   "execution_count": 40,
   "metadata": {},
   "outputs": [],
   "source": [
    "# Calculating total exports of products each year\n",
    "product_totals = clean_df.groupby([\"year\", \"product_id\"], observed=False)[\n",
    "    \"export_value\"\n",
    "].sum()\n",
    "\n",
    "# Keeping only products whose total exports each year are higher than threshold\n",
    "valid_products = product_totals[product_totals >= 10000000].index"
   ]
  },
  {
   "cell_type": "code",
   "execution_count": 41,
   "metadata": {},
   "outputs": [],
   "source": [
    "dirty_df = clean_df[\n",
    "    ~clean_df.set_index([\"year\", \"product_id\"]).index.isin(valid_products)\n",
    "]"
   ]
  },
  {
   "cell_type": "code",
   "execution_count": 42,
   "metadata": {},
   "outputs": [],
   "source": [
    "# Keeping only rows where (year, product_id) exists in valid_products\n",
    "clean_df = clean_df[\n",
    "    clean_df.set_index([\"year\", \"product_id\"]).index.isin(valid_products)\n",
    "].reset_index(drop=True)"
   ]
  },
  {
   "cell_type": "code",
   "execution_count": 43,
   "metadata": {},
   "outputs": [
    {
     "name": "stdout",
     "output_type": "stream",
     "text": [
      "['clean_df', <class 'pandas.core.frame.DataFrame'>]\n",
      "============================================================\n",
      "shape:\n",
      "(26529050, 4)\n",
      "============================================================\n",
      "data types:\n",
      "country_id      category\n",
      "year            category\n",
      "product_id      category\n",
      "export_value       int64\n",
      "dtype: object\n",
      "============================================================\n",
      "columns:\n",
      "['country_id', 'year', 'product_id', 'export_value']\n",
      "============================================================\n",
      "            export_value\n",
      "count      26,529,050.00\n",
      "mean        6,183,066.03\n",
      "std       166,359,071.31\n",
      "min             5,000.00\n",
      "25%            21,769.00\n",
      "50%            95,888.00\n",
      "75%           633,599.75\n",
      "max   127,254,781,879.00\n",
      "============================================================\n",
      "Total memory usage: 344904198 bytes\n",
      "============================================================\n"
     ]
    }
   ],
   "source": [
    "df_stats(clean_df, \"clean_df\")"
   ]
  },
  {
   "cell_type": "code",
   "execution_count": 44,
   "metadata": {},
   "outputs": [
    {
     "data": {
      "text/plain": [
       "(3533, 4)"
      ]
     },
     "execution_count": 44,
     "metadata": {},
     "output_type": "execute_result"
    }
   ],
   "source": [
    "dirty_df.shape"
   ]
  },
  {
   "cell_type": "code",
   "execution_count": 45,
   "metadata": {},
   "outputs": [
    {
     "data": {
      "text/html": [
       "<div>\n",
       "<style scoped>\n",
       "    .dataframe tbody tr th:only-of-type {\n",
       "        vertical-align: middle;\n",
       "    }\n",
       "\n",
       "    .dataframe tbody tr th {\n",
       "        vertical-align: top;\n",
       "    }\n",
       "\n",
       "    .dataframe thead th {\n",
       "        text-align: right;\n",
       "    }\n",
       "</style>\n",
       "<table border=\"1\" class=\"dataframe\">\n",
       "  <thead>\n",
       "    <tr style=\"text-align: right;\">\n",
       "      <th></th>\n",
       "      <th>country_id</th>\n",
       "      <th>year</th>\n",
       "      <th>product_id</th>\n",
       "      <th>export_value</th>\n",
       "    </tr>\n",
       "  </thead>\n",
       "  <tbody>\n",
       "    <tr>\n",
       "      <th>7816560</th>\n",
       "      <td>276</td>\n",
       "      <td>2012</td>\n",
       "      <td>1236</td>\n",
       "      <td>15626</td>\n",
       "    </tr>\n",
       "    <tr>\n",
       "      <th>17089853</th>\n",
       "      <td>608</td>\n",
       "      <td>2015</td>\n",
       "      <td>770</td>\n",
       "      <td>55238</td>\n",
       "    </tr>\n",
       "    <tr>\n",
       "      <th>11910303</th>\n",
       "      <td>380</td>\n",
       "      <td>2015</td>\n",
       "      <td>1226</td>\n",
       "      <td>71125</td>\n",
       "    </tr>\n",
       "    <tr>\n",
       "      <th>20105285</th>\n",
       "      <td>710</td>\n",
       "      <td>2011</td>\n",
       "      <td>1571</td>\n",
       "      <td>52892</td>\n",
       "    </tr>\n",
       "    <tr>\n",
       "      <th>23634725</th>\n",
       "      <td>792</td>\n",
       "      <td>2016</td>\n",
       "      <td>1242</td>\n",
       "      <td>56218</td>\n",
       "    </tr>\n",
       "  </tbody>\n",
       "</table>\n",
       "</div>"
      ],
      "text/plain": [
       "         country_id  year product_id  export_value\n",
       "7816560         276  2012       1236         15626\n",
       "17089853        608  2015        770         55238\n",
       "11910303        380  2015       1226         71125\n",
       "20105285        710  2011       1571         52892\n",
       "23634725        792  2016       1242         56218"
      ]
     },
     "execution_count": 45,
     "metadata": {},
     "output_type": "execute_result"
    }
   ],
   "source": [
    "dirty_df.sample(5)"
   ]
  },
  {
   "cell_type": "code",
   "execution_count": 46,
   "metadata": {},
   "outputs": [
    {
     "name": "stdout",
     "output_type": "stream",
     "text": [
      "30\n",
      "770 771 1687 1562 1435 1564 1571 1576 1577 1578 1069 685 1839 1840 691 1206 955 1859 1860 965 1226 845 1236 1242 1383 1261 1530 1532 1533 1151\n"
     ]
    }
   ],
   "source": [
    "low_export_ids = set(dirty_df[\"product_id\"].unique())\n",
    "print(len(low_export_ids))\n",
    "print(*low_export_ids)"
   ]
  },
  {
   "cell_type": "markdown",
   "metadata": {},
   "source": [
    "Staging preliminary results. At this point dataset still might be sparse"
   ]
  },
  {
   "cell_type": "code",
   "execution_count": 47,
   "metadata": {},
   "outputs": [
    {
     "name": "stdout",
     "output_type": "stream",
     "text": [
      "country_id column initial type:\n",
      "category\n",
      "============================================================\n",
      "country_id column final type:\n",
      "int16\n",
      "============================================================\n",
      "product_id column initial type:\n",
      "category\n",
      "============================================================\n",
      "product_id column final type:\n",
      "int16\n",
      "============================================================\n",
      "year column initial type:\n",
      "category\n",
      "============================================================\n",
      "year column final type:\n",
      "int16\n",
      "============================================================\n"
     ]
    }
   ],
   "source": [
    "# Save the clean_df exports Data to a .parquet file\n",
    "output_file_name = \"clean_sparce_exports.parquet\"\n",
    "save_hs92_parquet_data(\n",
    "    data=clean_df, file_location=output_file_location, file_name=output_file_name\n",
    ")"
   ]
  },
  {
   "cell_type": "code",
   "execution_count": 48,
   "metadata": {},
   "outputs": [
    {
     "data": {
      "text/plain": [
       "0"
      ]
     },
     "execution_count": 48,
     "metadata": {},
     "output_type": "execute_result"
    }
   ],
   "source": [
    "del dirty_df, clean_df\n",
    "gc.collect()"
   ]
  },
  {
   "cell_type": "code",
   "execution_count": 49,
   "metadata": {},
   "outputs": [],
   "source": [
    "# assert False, \"End of code\""
   ]
  },
  {
   "cell_type": "markdown",
   "metadata": {},
   "source": [
    "### Analysing product ubiquity"
   ]
  },
  {
   "cell_type": "code",
   "execution_count": 50,
   "metadata": {},
   "outputs": [
    {
     "name": "stdout",
     "output_type": "stream",
     "text": [
      "country_id column initial type:\n",
      "int16\n",
      "============================================================\n",
      "country_id column final type:\n",
      "category\n",
      "============================================================\n",
      "product_id column initial type:\n",
      "int16\n",
      "============================================================\n",
      "product_id column final type:\n",
      "category\n",
      "============================================================\n",
      "year column initial type:\n",
      "int16\n",
      "============================================================\n",
      "year column final type:\n",
      "category\n",
      "============================================================\n"
     ]
    }
   ],
   "source": [
    "# all_col_names = ['country_id', 'partner_country_id', 'year', 'product_id', 'export_value', 'import_value', 'coi', 'eci', 'pci']\n",
    "col_names = [\"country_id\", \"year\", \"product_id\", \"export_value\"]\n",
    "\n",
    "input_file_name = \"clean_sparce_exports.parquet\"\n",
    "clean_sparce_df = read_hs92_parquet_data(\n",
    "    output_file_location, input_file_name, col_names\n",
    ")"
   ]
  },
  {
   "cell_type": "code",
   "execution_count": 51,
   "metadata": {},
   "outputs": [
    {
     "data": {
      "text/html": [
       "<div>\n",
       "<style scoped>\n",
       "    .dataframe tbody tr th:only-of-type {\n",
       "        vertical-align: middle;\n",
       "    }\n",
       "\n",
       "    .dataframe tbody tr th {\n",
       "        vertical-align: top;\n",
       "    }\n",
       "\n",
       "    .dataframe thead th {\n",
       "        text-align: right;\n",
       "    }\n",
       "</style>\n",
       "<table border=\"1\" class=\"dataframe\">\n",
       "  <thead>\n",
       "    <tr style=\"text-align: right;\">\n",
       "      <th></th>\n",
       "      <th>country_id</th>\n",
       "      <th>year</th>\n",
       "      <th>product_id</th>\n",
       "      <th>export_value</th>\n",
       "    </tr>\n",
       "  </thead>\n",
       "  <tbody>\n",
       "    <tr>\n",
       "      <th>0</th>\n",
       "      <td>4</td>\n",
       "      <td>2010</td>\n",
       "      <td>651</td>\n",
       "      <td>773058</td>\n",
       "    </tr>\n",
       "    <tr>\n",
       "      <th>1</th>\n",
       "      <td>4</td>\n",
       "      <td>2010</td>\n",
       "      <td>653</td>\n",
       "      <td>42264</td>\n",
       "    </tr>\n",
       "    <tr>\n",
       "      <th>2</th>\n",
       "      <td>4</td>\n",
       "      <td>2010</td>\n",
       "      <td>655</td>\n",
       "      <td>30444</td>\n",
       "    </tr>\n",
       "    <tr>\n",
       "      <th>3</th>\n",
       "      <td>4</td>\n",
       "      <td>2010</td>\n",
       "      <td>668</td>\n",
       "      <td>175252</td>\n",
       "    </tr>\n",
       "    <tr>\n",
       "      <th>4</th>\n",
       "      <td>4</td>\n",
       "      <td>2010</td>\n",
       "      <td>668</td>\n",
       "      <td>358345</td>\n",
       "    </tr>\n",
       "  </tbody>\n",
       "</table>\n",
       "</div>"
      ],
      "text/plain": [
       "  country_id  year product_id  export_value\n",
       "0          4  2010        651        773058\n",
       "1          4  2010        653         42264\n",
       "2          4  2010        655         30444\n",
       "3          4  2010        668        175252\n",
       "4          4  2010        668        358345"
      ]
     },
     "execution_count": 51,
     "metadata": {},
     "output_type": "execute_result"
    }
   ],
   "source": [
    "clean_sparce_df[clean_sparce_df[\"year\"] == 2010].head()"
   ]
  },
  {
   "cell_type": "markdown",
   "metadata": {},
   "source": [
    "We will now calculate sparsity for each year separately, rather than across all years"
   ]
  },
  {
   "cell_type": "code",
   "execution_count": 52,
   "metadata": {},
   "outputs": [
    {
     "data": {
      "text/html": [
       "<div>\n",
       "<style scoped>\n",
       "    .dataframe tbody tr th:only-of-type {\n",
       "        vertical-align: middle;\n",
       "    }\n",
       "\n",
       "    .dataframe tbody tr th {\n",
       "        vertical-align: top;\n",
       "    }\n",
       "\n",
       "    .dataframe thead th {\n",
       "        text-align: right;\n",
       "    }\n",
       "</style>\n",
       "<table border=\"1\" class=\"dataframe\">\n",
       "  <thead>\n",
       "    <tr style=\"text-align: right;\">\n",
       "      <th></th>\n",
       "      <th>year</th>\n",
       "      <th>average_sparsity</th>\n",
       "    </tr>\n",
       "  </thead>\n",
       "  <tbody>\n",
       "    <tr>\n",
       "      <th>0</th>\n",
       "      <td>2010</td>\n",
       "      <td>0.370864</td>\n",
       "    </tr>\n",
       "    <tr>\n",
       "      <th>1</th>\n",
       "      <td>2011</td>\n",
       "      <td>0.361476</td>\n",
       "    </tr>\n",
       "    <tr>\n",
       "      <th>2</th>\n",
       "      <td>2012</td>\n",
       "      <td>0.367366</td>\n",
       "    </tr>\n",
       "    <tr>\n",
       "      <th>3</th>\n",
       "      <td>2013</td>\n",
       "      <td>0.367759</td>\n",
       "    </tr>\n",
       "    <tr>\n",
       "      <th>4</th>\n",
       "      <td>2014</td>\n",
       "      <td>0.368660</td>\n",
       "    </tr>\n",
       "    <tr>\n",
       "      <th>5</th>\n",
       "      <td>2015</td>\n",
       "      <td>0.373000</td>\n",
       "    </tr>\n",
       "    <tr>\n",
       "      <th>6</th>\n",
       "      <td>2016</td>\n",
       "      <td>0.374518</td>\n",
       "    </tr>\n",
       "    <tr>\n",
       "      <th>7</th>\n",
       "      <td>2017</td>\n",
       "      <td>0.369113</td>\n",
       "    </tr>\n",
       "    <tr>\n",
       "      <th>8</th>\n",
       "      <td>2018</td>\n",
       "      <td>0.363827</td>\n",
       "    </tr>\n",
       "    <tr>\n",
       "      <th>9</th>\n",
       "      <td>2019</td>\n",
       "      <td>0.365837</td>\n",
       "    </tr>\n",
       "  </tbody>\n",
       "</table>\n",
       "</div>"
      ],
      "text/plain": [
       "   year  average_sparsity\n",
       "0  2010          0.370864\n",
       "1  2011          0.361476\n",
       "2  2012          0.367366\n",
       "3  2013          0.367759\n",
       "4  2014          0.368660\n",
       "5  2015          0.373000\n",
       "6  2016          0.374518\n",
       "7  2017          0.369113\n",
       "8  2018          0.363827\n",
       "9  2019          0.365837"
      ]
     },
     "execution_count": 52,
     "metadata": {},
     "output_type": "execute_result"
    }
   ],
   "source": [
    "sparsity_col_name = \"average_sparsity\"\n",
    "\n",
    "# Calculate sparsity for each year separately, rather than across all years.\n",
    "product_country_counts, sparsity_summary = estimate_average_sparsity(\n",
    "    clean_sparce_df, sparsity_col_name=sparsity_col_name\n",
    ")\n",
    "sparsity_summary"
   ]
  },
  {
   "cell_type": "code",
   "execution_count": 53,
   "metadata": {},
   "outputs": [
    {
     "data": {
      "image/png": "[encoded data removed]",
      "text/plain": [
       "<Figure size 1200x1000 with 9 Axes>"
      ]
     },
     "metadata": {},
     "output_type": "display_data"
    }
   ],
   "source": [
    "# Now, instead of a single distribution, we will generate multiple histograms (one for each year) to compare how product ubiquity changes over time.\n",
    "plot_product_ubiquity(clean_sparce_df, product_country_counts)"
   ]
  },
  {
   "cell_type": "code",
   "execution_count": 54,
   "metadata": {},
   "outputs": [],
   "source": [
    "# assert False, \"End of code\""
   ]
  },
  {
   "cell_type": "markdown",
   "metadata": {},
   "source": [
    "### Removing Products with Zero Export Value for More Than 80% of Countries\n",
    "**Ensuring Statistical Significance:** If a product is rarely exported (zero exports in >80% of cases), it likely provides little useful information for modeling country-product relationships.</br></br>\n",
    "**Avoiding Sparse Matrices:** Economic network analysis, especially if using vector-based or graph-based methods, benefits from reducing sparsity. Too many zero values can lead to issues like weak signal extraction and poor statistical properties."
   ]
  },
  {
   "cell_type": "code",
   "execution_count": 55,
   "metadata": {},
   "outputs": [],
   "source": [
    "clean_df = clean_sparce_df.copy()"
   ]
  },
  {
   "cell_type": "code",
   "execution_count": 56,
   "metadata": {},
   "outputs": [],
   "source": [
    "# Count the number of unique exporting countries for each product per year\n",
    "product_country_counts = clean_df.groupby([\"year\", \"product_id\"], observed=False)[\n",
    "    \"country_id\"\n",
    "].nunique()\n",
    "\n",
    "# Count the total number of countries in each year\n",
    "total_countries = clean_df.groupby(\"year\", observed=False)[\"country_id\"].nunique()"
   ]
  },
  {
   "cell_type": "code",
   "execution_count": 57,
   "metadata": {},
   "outputs": [],
   "source": [
    "# Keeping only products exported by more than 20% of countries in each year\n",
    "ubiq_threshold = 0.2\n",
    "\n",
    "# Extracting valid product-year pairs as an index\n",
    "valid_products = product_country_counts[\n",
    "    product_country_counts / total_countries > ubiq_threshold\n",
    "].index"
   ]
  },
  {
   "cell_type": "code",
   "execution_count": 58,
   "metadata": {},
   "outputs": [],
   "source": [
    "dirty_df = clean_df[\n",
    "    ~clean_df.set_index([\"year\", \"product_id\"]).index.isin(valid_products)\n",
    "].reset_index(drop=True)"
   ]
  },
  {
   "cell_type": "code",
   "execution_count": 59,
   "metadata": {},
   "outputs": [],
   "source": [
    "clean_df = clean_df[\n",
    "    clean_df.set_index([\"year\", \"product_id\"]).index.isin(valid_products)\n",
    "].reset_index(drop=True)"
   ]
  },
  {
   "cell_type": "code",
   "execution_count": 60,
   "metadata": {},
   "outputs": [
    {
     "name": "stdout",
     "output_type": "stream",
     "text": [
      "['clean_df', <class 'pandas.core.frame.DataFrame'>]\n",
      "============================================================\n",
      "shape:\n",
      "(26520736, 4)\n",
      "============================================================\n",
      "data types:\n",
      "country_id      category\n",
      "year            category\n",
      "product_id      category\n",
      "export_value       int64\n",
      "dtype: object\n",
      "============================================================\n",
      "columns:\n",
      "['country_id', 'year', 'product_id', 'export_value']\n",
      "============================================================\n",
      "            export_value\n",
      "count      26,520,736.00\n",
      "mean        6,184,405.67\n",
      "std       166,384,973.04\n",
      "min             5,000.00\n",
      "25%            21,773.00\n",
      "50%            95,907.00\n",
      "75%           633,748.00\n",
      "max   127,254,781,879.00\n",
      "============================================================\n",
      "Total memory usage: 344796074 bytes\n",
      "============================================================\n"
     ]
    }
   ],
   "source": [
    "df_stats(clean_df, \"clean_df\")"
   ]
  },
  {
   "cell_type": "code",
   "execution_count": 61,
   "metadata": {},
   "outputs": [
    {
     "name": "stdout",
     "output_type": "stream",
     "text": [
      "24\n",
      "1283 1798 906 1435 684 1586 1859 1860 965 1226 1227 1228 843 1230 845 1231 981 1245 874 1259 1261 755 885 892\n"
     ]
    }
   ],
   "source": [
    "low_export_ids = set(dirty_df[\"product_id\"].unique())\n",
    "print(len(low_export_ids))\n",
    "print(*low_export_ids)"
   ]
  },
  {
   "cell_type": "code",
   "execution_count": 62,
   "metadata": {},
   "outputs": [
    {
     "name": "stdout",
     "output_type": "stream",
     "text": [
      "product_id column initial type:\n",
      "int16\n",
      "============================================================\n",
      "product_id column final type:\n",
      "category\n",
      "============================================================\n",
      "product_name column initial type:\n",
      "category\n",
      "============================================================\n",
      "product_name column final type:\n",
      "category\n",
      "============================================================\n"
     ]
    }
   ],
   "source": [
    "categorical_columns = [\"product_id\", \"product_name\"]\n",
    "\n",
    "input_file_name = \"product_id_names.parquet\"\n",
    "product_df = read_hs92_parquet_data(\n",
    "    input_file_location, input_file_name, categorical_columns=categorical_columns\n",
    ")"
   ]
  },
  {
   "cell_type": "code",
   "execution_count": 63,
   "metadata": {},
   "outputs": [
    {
     "name": "stdout",
     "output_type": "stream",
     "text": [
      "product_id column initial type:\n",
      "category\n",
      "============================================================\n",
      "product_id column final type:\n",
      "object\n",
      "============================================================\n",
      "product_name column initial type:\n",
      "category\n",
      "============================================================\n",
      "product_name column final type:\n",
      "object\n",
      "============================================================\n"
     ]
    }
   ],
   "source": [
    "categorical_columns = [\"product_id\", \"product_name\"]\n",
    "product_df = switch_to_dtype(\n",
    "    product_df, default_dtype=\"str\", categorical_columns=categorical_columns\n",
    ")"
   ]
  },
  {
   "cell_type": "code",
   "execution_count": 64,
   "metadata": {},
   "outputs": [],
   "source": [
    "low_export_ids_df = pd.DataFrame(\n",
    "    {\"product_id\": dirty_df[\"product_id\"].unique().astype(str)}\n",
    ")"
   ]
  },
  {
   "cell_type": "markdown",
   "metadata": {},
   "source": [
    "Verifying which products were identified as rarely exported"
   ]
  },
  {
   "cell_type": "code",
   "execution_count": 65,
   "metadata": {},
   "outputs": [
    {
     "data": {
      "text/html": [
       "<div>\n",
       "<style scoped>\n",
       "    .dataframe tbody tr th:only-of-type {\n",
       "        vertical-align: middle;\n",
       "    }\n",
       "\n",
       "    .dataframe tbody tr th {\n",
       "        vertical-align: top;\n",
       "    }\n",
       "\n",
       "    .dataframe thead th {\n",
       "        text-align: right;\n",
       "    }\n",
       "</style>\n",
       "<table border=\"1\" class=\"dataframe\">\n",
       "  <thead>\n",
       "    <tr style=\"text-align: right;\">\n",
       "      <th></th>\n",
       "      <th>product_id</th>\n",
       "      <th>product_name</th>\n",
       "    </tr>\n",
       "  </thead>\n",
       "  <tbody>\n",
       "    <tr>\n",
       "      <th>0</th>\n",
       "      <td>1226</td>\n",
       "      <td>Silkworm cocoons</td>\n",
       "    </tr>\n",
       "    <tr>\n",
       "      <th>1</th>\n",
       "      <td>1227</td>\n",
       "      <td>Raw silk</td>\n",
       "    </tr>\n",
       "    <tr>\n",
       "      <th>2</th>\n",
       "      <td>1228</td>\n",
       "      <td>Silk waste</td>\n",
       "    </tr>\n",
       "    <tr>\n",
       "      <th>3</th>\n",
       "      <td>755</td>\n",
       "      <td>Copra</td>\n",
       "    </tr>\n",
       "    <tr>\n",
       "      <th>4</th>\n",
       "      <td>885</td>\n",
       "      <td>Cobalt ore</td>\n",
       "    </tr>\n",
       "    <tr>\n",
       "      <th>5</th>\n",
       "      <td>1230</td>\n",
       "      <td>Yarn from silk waste</td>\n",
       "    </tr>\n",
       "    <tr>\n",
       "      <th>6</th>\n",
       "      <td>874</td>\n",
       "      <td>Asbestos</td>\n",
       "    </tr>\n",
       "    <tr>\n",
       "      <th>7</th>\n",
       "      <td>843</td>\n",
       "      <td>Solid peanut residues</td>\n",
       "    </tr>\n",
       "    <tr>\n",
       "      <th>8</th>\n",
       "      <td>845</td>\n",
       "      <td>Wine lees</td>\n",
       "    </tr>\n",
       "    <tr>\n",
       "      <th>9</th>\n",
       "      <td>684</td>\n",
       "      <td>Brushmaking hair</td>\n",
       "    </tr>\n",
       "    <tr>\n",
       "      <th>10</th>\n",
       "      <td>892</td>\n",
       "      <td>Uranium ore</td>\n",
       "    </tr>\n",
       "    <tr>\n",
       "      <th>11</th>\n",
       "      <td>1859</td>\n",
       "      <td>Rideable wheeled toys, dolls carriages</td>\n",
       "    </tr>\n",
       "    <tr>\n",
       "      <th>12</th>\n",
       "      <td>1860</td>\n",
       "      <td>Dolls</td>\n",
       "    </tr>\n",
       "    <tr>\n",
       "      <th>13</th>\n",
       "      <td>1259</td>\n",
       "      <td>Hemp fiber</td>\n",
       "    </tr>\n",
       "    <tr>\n",
       "      <th>14</th>\n",
       "      <td>1798</td>\n",
       "      <td>Electrostatic photo-copyers</td>\n",
       "    </tr>\n",
       "    <tr>\n",
       "      <th>15</th>\n",
       "      <td>965</td>\n",
       "      <td>Phosphides</td>\n",
       "    </tr>\n",
       "    <tr>\n",
       "      <th>16</th>\n",
       "      <td>1586</td>\n",
       "      <td>Cadmium</td>\n",
       "    </tr>\n",
       "    <tr>\n",
       "      <th>17</th>\n",
       "      <td>906</td>\n",
       "      <td>Non-petroleum gases</td>\n",
       "    </tr>\n",
       "    <tr>\n",
       "      <th>18</th>\n",
       "      <td>981</td>\n",
       "      <td>Derivatives of aldehydes</td>\n",
       "    </tr>\n",
       "    <tr>\n",
       "      <th>19</th>\n",
       "      <td>1245</td>\n",
       "      <td>Woven fabrics of coarse animal hair</td>\n",
       "    </tr>\n",
       "    <tr>\n",
       "      <th>20</th>\n",
       "      <td>1283</td>\n",
       "      <td>Artificial staple fibers, processed</td>\n",
       "    </tr>\n",
       "    <tr>\n",
       "      <th>21</th>\n",
       "      <td>1261</td>\n",
       "      <td>Sisal and agave fibers</td>\n",
       "    </tr>\n",
       "    <tr>\n",
       "      <th>22</th>\n",
       "      <td>1231</td>\n",
       "      <td>Silk yarn, for retail sale</td>\n",
       "    </tr>\n",
       "    <tr>\n",
       "      <th>23</th>\n",
       "      <td>1435</td>\n",
       "      <td>Glass inners for vacuum flasks</td>\n",
       "    </tr>\n",
       "  </tbody>\n",
       "</table>\n",
       "</div>"
      ],
      "text/plain": [
       "   product_id                            product_name\n",
       "0        1226                        Silkworm cocoons\n",
       "1        1227                                Raw silk\n",
       "2        1228                              Silk waste\n",
       "3         755                                   Copra\n",
       "4         885                              Cobalt ore\n",
       "5        1230                    Yarn from silk waste\n",
       "6         874                                Asbestos\n",
       "7         843                   Solid peanut residues\n",
       "8         845                               Wine lees\n",
       "9         684                        Brushmaking hair\n",
       "10        892                             Uranium ore\n",
       "11       1859  Rideable wheeled toys, dolls carriages\n",
       "12       1860                                   Dolls\n",
       "13       1259                              Hemp fiber\n",
       "14       1798             Electrostatic photo-copyers\n",
       "15        965                              Phosphides\n",
       "16       1586                                 Cadmium\n",
       "17        906                     Non-petroleum gases\n",
       "18        981                Derivatives of aldehydes\n",
       "19       1245     Woven fabrics of coarse animal hair\n",
       "20       1283     Artificial staple fibers, processed\n",
       "21       1261                  Sisal and agave fibers\n",
       "22       1231              Silk yarn, for retail sale\n",
       "23       1435          Glass inners for vacuum flasks"
      ]
     },
     "execution_count": 65,
     "metadata": {},
     "output_type": "execute_result"
    }
   ],
   "source": [
    "low_export_ids_df.merge(product_df, how=\"left\", on=\"product_id\")"
   ]
  },
  {
   "cell_type": "code",
   "execution_count": 66,
   "metadata": {},
   "outputs": [],
   "source": [
    "# assert False, \"End of code\""
   ]
  },
  {
   "cell_type": "code",
   "execution_count": 67,
   "metadata": {},
   "outputs": [
    {
     "data": {
      "text/plain": [
       "449"
      ]
     },
     "execution_count": 67,
     "metadata": {},
     "output_type": "execute_result"
    }
   ],
   "source": [
    "del dirty_df\n",
    "gc.collect()"
   ]
  },
  {
   "cell_type": "code",
   "execution_count": 68,
   "metadata": {},
   "outputs": [],
   "source": [
    "sparsity_col_name = \"clean_average_sparsity\"\n",
    "\n",
    "# We will now calculate sparsity for each year separately, rather than across all years.\n",
    "product_country_counts, clean_sparsity_summary = estimate_average_sparsity(\n",
    "    clean_df, sparsity_col_name=sparsity_col_name\n",
    ")"
   ]
  },
  {
   "cell_type": "code",
   "execution_count": 69,
   "metadata": {},
   "outputs": [
    {
     "data": {
      "image/png": "[encoded data removed]",
      "text/plain": [
       "<Figure size 1200x1000 with 9 Axes>"
      ]
     },
     "metadata": {},
     "output_type": "display_data"
    }
   ],
   "source": [
    "# Now, instead of a single distribution, we will generate multiple histograms (one for each year) to compare how product ubiquity changes over time.\n",
    "plot_product_ubiquity(clean_df, product_country_counts)"
   ]
  },
  {
   "cell_type": "markdown",
   "metadata": {},
   "source": [
    "Analyzing how sparsity changed after performing this step of cleaning"
   ]
  },
  {
   "cell_type": "code",
   "execution_count": 70,
   "metadata": {},
   "outputs": [
    {
     "data": {
      "text/html": [
       "<div>\n",
       "<style scoped>\n",
       "    .dataframe tbody tr th:only-of-type {\n",
       "        vertical-align: middle;\n",
       "    }\n",
       "\n",
       "    .dataframe tbody tr th {\n",
       "        vertical-align: top;\n",
       "    }\n",
       "\n",
       "    .dataframe thead th {\n",
       "        text-align: right;\n",
       "    }\n",
       "</style>\n",
       "<table border=\"1\" class=\"dataframe\">\n",
       "  <thead>\n",
       "    <tr style=\"text-align: right;\">\n",
       "      <th></th>\n",
       "      <th>year</th>\n",
       "      <th>average_sparsity</th>\n",
       "      <th>clean_average_sparsity</th>\n",
       "    </tr>\n",
       "  </thead>\n",
       "  <tbody>\n",
       "    <tr>\n",
       "      <th>0</th>\n",
       "      <td>2010</td>\n",
       "      <td>0.370864</td>\n",
       "      <td>0.371953</td>\n",
       "    </tr>\n",
       "    <tr>\n",
       "      <th>1</th>\n",
       "      <td>2011</td>\n",
       "      <td>0.361476</td>\n",
       "      <td>0.362119</td>\n",
       "    </tr>\n",
       "    <tr>\n",
       "      <th>2</th>\n",
       "      <td>2012</td>\n",
       "      <td>0.367366</td>\n",
       "      <td>0.367835</td>\n",
       "    </tr>\n",
       "    <tr>\n",
       "      <th>3</th>\n",
       "      <td>2013</td>\n",
       "      <td>0.367759</td>\n",
       "      <td>0.369129</td>\n",
       "    </tr>\n",
       "    <tr>\n",
       "      <th>4</th>\n",
       "      <td>2014</td>\n",
       "      <td>0.368660</td>\n",
       "      <td>0.370117</td>\n",
       "    </tr>\n",
       "    <tr>\n",
       "      <th>5</th>\n",
       "      <td>2015</td>\n",
       "      <td>0.373000</td>\n",
       "      <td>0.374251</td>\n",
       "    </tr>\n",
       "    <tr>\n",
       "      <th>6</th>\n",
       "      <td>2016</td>\n",
       "      <td>0.374518</td>\n",
       "      <td>0.376375</td>\n",
       "    </tr>\n",
       "    <tr>\n",
       "      <th>7</th>\n",
       "      <td>2017</td>\n",
       "      <td>0.369113</td>\n",
       "      <td>0.370412</td>\n",
       "    </tr>\n",
       "    <tr>\n",
       "      <th>8</th>\n",
       "      <td>2018</td>\n",
       "      <td>0.363827</td>\n",
       "      <td>0.364668</td>\n",
       "    </tr>\n",
       "    <tr>\n",
       "      <th>9</th>\n",
       "      <td>2019</td>\n",
       "      <td>0.365837</td>\n",
       "      <td>0.366514</td>\n",
       "    </tr>\n",
       "  </tbody>\n",
       "</table>\n",
       "</div>"
      ],
      "text/plain": [
       "   year  average_sparsity  clean_average_sparsity\n",
       "0  2010          0.370864                0.371953\n",
       "1  2011          0.361476                0.362119\n",
       "2  2012          0.367366                0.367835\n",
       "3  2013          0.367759                0.369129\n",
       "4  2014          0.368660                0.370117\n",
       "5  2015          0.373000                0.374251\n",
       "6  2016          0.374518                0.376375\n",
       "7  2017          0.369113                0.370412\n",
       "8  2018          0.363827                0.364668\n",
       "9  2019          0.365837                0.366514"
      ]
     },
     "execution_count": 70,
     "metadata": {},
     "output_type": "execute_result"
    }
   ],
   "source": [
    "joint_sparsity = sparsity_summary.merge(clean_sparsity_summary, how=\"inner\", on=\"year\")\n",
    "joint_sparsity"
   ]
  },
  {
   "cell_type": "markdown",
   "metadata": {},
   "source": [
    "### From comparison above, I don't see any significant difference in sparsity level.</br>So I keeping this step only for consistency and comparability with works of other authors"
   ]
  },
  {
   "cell_type": "code",
   "execution_count": 71,
   "metadata": {},
   "outputs": [],
   "source": [
    "# clean_df = clean_sparce_df.copy()"
   ]
  },
  {
   "cell_type": "code",
   "execution_count": 72,
   "metadata": {},
   "outputs": [],
   "source": [
    "# assert False, \"End of code\""
   ]
  },
  {
   "cell_type": "code",
   "execution_count": 73,
   "metadata": {},
   "outputs": [
    {
     "data": {
      "text/plain": [
       "49142"
      ]
     },
     "execution_count": 73,
     "metadata": {},
     "output_type": "execute_result"
    }
   ],
   "source": [
    "del clean_sparce_df, joint_sparsity\n",
    "gc.collect()"
   ]
  },
  {
   "cell_type": "markdown",
   "metadata": {},
   "source": [
    "### Removing Countries Whose Exports Are Zero for 95% of Products\n",
    "**Meaningful contribution:** Ensure that only countries with sufficiently diverse export portfolios remain"
   ]
  },
  {
   "cell_type": "code",
   "execution_count": 74,
   "metadata": {},
   "outputs": [],
   "source": [
    "# Count how many unique products each country exports each year\n",
    "country_product_counts = clean_df.groupby([\"year\", \"country_id\"], observed=False)[\n",
    "    \"product_id\"\n",
    "].nunique()\n",
    "\n",
    "# Count total number of unique products exported by any country each year\n",
    "total_products = clean_df.groupby(\"year\", observed=False)[\"product_id\"].nunique()"
   ]
  },
  {
   "cell_type": "code",
   "execution_count": 75,
   "metadata": {},
   "outputs": [],
   "source": [
    "# Keeping only countries, which export at least 5% of the total available products.\n",
    "diverse_threshold = 0.05\n",
    "\n",
    "# Extracting valid country-year pairs as an index\n",
    "valid_countries = country_product_counts[\n",
    "    country_product_counts / total_products > diverse_threshold\n",
    "].index"
   ]
  },
  {
   "cell_type": "code",
   "execution_count": 76,
   "metadata": {},
   "outputs": [],
   "source": [
    "dirty_df = clean_df[\n",
    "    ~clean_df.set_index([\"year\", \"country_id\"]).index.isin(valid_countries)\n",
    "].reset_index(drop=True)"
   ]
  },
  {
   "cell_type": "code",
   "execution_count": 77,
   "metadata": {},
   "outputs": [],
   "source": [
    "clean_df = clean_df[\n",
    "    clean_df.set_index([\"year\", \"country_id\"]).index.isin(valid_countries)\n",
    "].reset_index(drop=True)"
   ]
  },
  {
   "cell_type": "code",
   "execution_count": 78,
   "metadata": {},
   "outputs": [
    {
     "name": "stdout",
     "output_type": "stream",
     "text": [
      "['clean_df', <class 'pandas.core.frame.DataFrame'>]\n",
      "============================================================\n",
      "shape:\n",
      "(26520065, 4)\n",
      "============================================================\n",
      "data types:\n",
      "country_id      category\n",
      "year            category\n",
      "product_id      category\n",
      "export_value       int64\n",
      "dtype: object\n",
      "============================================================\n",
      "columns:\n",
      "['country_id', 'year', 'product_id', 'export_value']\n",
      "============================================================\n",
      "            export_value\n",
      "count      26,520,065.00\n",
      "mean        6,184,115.02\n",
      "std       166,384,514.44\n",
      "min             5,000.00\n",
      "25%            21,773.00\n",
      "50%            95,912.00\n",
      "75%           633,767.00\n",
      "max   127,254,781,879.00\n",
      "============================================================\n",
      "Total memory usage: 344787351 bytes\n",
      "============================================================\n"
     ]
    }
   ],
   "source": [
    "df_stats(clean_df, \"clean_df\")"
   ]
  },
  {
   "cell_type": "code",
   "execution_count": 79,
   "metadata": {},
   "outputs": [
    {
     "name": "stdout",
     "output_type": "stream",
     "text": [
      "255\n",
      "1035 1549 1038 1037 1040 1042 1044 1045 1572 1597 1599 1600 1601 1092 1094 1095 1614 1615 1616 1135 1618 1108 1110 1623 1112 1114 1627 1116 1629 1630 1631 1633 1636 1637 1638 1639 1130 1643 1645 1646 1647 1648 1649 1137 1138 1139 1141 1142 1140 1656 1650 1659 1660 1661 1149 1155 1159 1160 1164 653 654 1166 656 1169 658 659 1683 1689 666 1691 1692 1690 670 1695 672 1184 1697 675 1699 1187 671 1703 1191 1696 1704 1707 1195 1708 1705 681 1709 1201 690 1715 1714 1718 1720 1721 1209 1724 700 704 1728 1729 1731 1732 1221 710 712 1737 714 1739 715 718 1744 1745 721 1747 1746 726 729 1246 1247 1760 1761 1250 1763 1764 1253 739 741 1768 1765 1766 750 754 1779 1778 1782 759 1784 760 763 1789 1790 767 768 766 1278 772 1800 1289 1803 1804 781 1807 783 1810 1811 787 1303 1816 1817 1815 1819 1820 1821 799 1824 811 1326 814 818 819 1843 1334 1335 823 1338 673 829 1853 831 832 1855 1856 837 1350 1351 1352 1353 1354 1355 1357 847 1359 848 850 851 678 1364 1368 1370 1373 1374 1888 1889 866 867 1891 1380 1700 1701 880 883 1702 1398 888 1404 896 1409 902 904 1417 1418 1419 1420 910 911 912 1446 1451 1456 1465 1475 1477 1479 1492 1494 984 1497 1498 1500 1501 992 1505 1508 1510 1516 1009 1010 1012 1013 1014 1016\n"
     ]
    }
   ],
   "source": [
    "low_export_ids = set(dirty_df[\"product_id\"].unique())\n",
    "print(len(low_export_ids))\n",
    "print(*low_export_ids)"
   ]
  },
  {
   "cell_type": "code",
   "execution_count": 80,
   "metadata": {},
   "outputs": [
    {
     "data": {
      "text/plain": [
       "48784"
      ]
     },
     "execution_count": 80,
     "metadata": {},
     "output_type": "execute_result"
    }
   ],
   "source": [
    "del dirty_df\n",
    "gc.collect()"
   ]
  },
  {
   "cell_type": "markdown",
   "metadata": {},
   "source": [
    "## Looking for countries which are not present across all years"
   ]
  },
  {
   "cell_type": "code",
   "execution_count": 81,
   "metadata": {},
   "outputs": [],
   "source": [
    "# Count the number of unique years each country appears in\n",
    "country_year_counts = clean_df.groupby(\"country_id\", observed=False)[\"year\"].nunique()"
   ]
  },
  {
   "cell_type": "code",
   "execution_count": 82,
   "metadata": {},
   "outputs": [],
   "source": [
    "# Identify countries that do not appear in all years\n",
    "missing_years_country_ids = country_year_counts[\n",
    "    country_year_counts < len(export_years)\n",
    "].index"
   ]
  },
  {
   "cell_type": "code",
   "execution_count": 83,
   "metadata": {},
   "outputs": [],
   "source": [
    "missing_years_country_ids = set(\n",
    "    clean_df[clean_df[\"country_id\"].isin(missing_years_country_ids)][\n",
    "        \"country_id\"\n",
    "    ].unique()\n",
    ")"
   ]
  },
  {
   "cell_type": "code",
   "execution_count": 84,
   "metadata": {},
   "outputs": [
    {
     "data": {
      "text/plain": [
       "{232, 728}"
      ]
     },
     "execution_count": 84,
     "metadata": {},
     "output_type": "execute_result"
    }
   ],
   "source": [
    "missing_years_country_ids"
   ]
  },
  {
   "cell_type": "code",
   "execution_count": 85,
   "metadata": {},
   "outputs": [],
   "source": [
    "# Remove these countries from the dataset. Reset index to optimize memory layout. Works very quickly for categories instead of objects\n",
    "clean_df = clean_df[\n",
    "    ~clean_df[\"country_id\"].isin(missing_years_country_ids)\n",
    "].reset_index(drop=True)"
   ]
  },
  {
   "cell_type": "code",
   "execution_count": 86,
   "metadata": {},
   "outputs": [
    {
     "data": {
      "text/plain": [
       "0"
      ]
     },
     "execution_count": 86,
     "metadata": {},
     "output_type": "execute_result"
    }
   ],
   "source": [
    "# Force garbage collection before continuing\n",
    "del missing_years_country_ids\n",
    "gc.collect()"
   ]
  },
  {
   "cell_type": "code",
   "execution_count": 87,
   "metadata": {},
   "outputs": [],
   "source": [
    "unique_countries = set(clean_df[\"country_id\"].unique())"
   ]
  },
  {
   "cell_type": "code",
   "execution_count": 88,
   "metadata": {},
   "outputs": [
    {
     "name": "stdout",
     "output_type": "stream",
     "text": [
      "Unique countries after filtering: 148\n"
     ]
    }
   ],
   "source": [
    "print(\"Unique countries after filtering:\", len(unique_countries))"
   ]
  },
  {
   "cell_type": "code",
   "execution_count": 89,
   "metadata": {},
   "outputs": [],
   "source": [
    "# Remove unused categories to free up memory. Actually there should not be, but...\n",
    "clean_df[\"country_id\"] = clean_df[\"country_id\"].cat.remove_unused_categories()"
   ]
  },
  {
   "cell_type": "code",
   "execution_count": 90,
   "metadata": {},
   "outputs": [],
   "source": [
    "unique_countries = set(clean_df[\"country_id\"].unique())"
   ]
  },
  {
   "cell_type": "code",
   "execution_count": 91,
   "metadata": {},
   "outputs": [
    {
     "name": "stdout",
     "output_type": "stream",
     "text": [
      "Unique countries after filtering: 148\n"
     ]
    }
   ],
   "source": [
    "print(\"Unique countries after filtering:\", len(unique_countries))"
   ]
  },
  {
   "cell_type": "code",
   "execution_count": 92,
   "metadata": {},
   "outputs": [
    {
     "name": "stdout",
     "output_type": "stream",
     "text": [
      "['df', <class 'pandas.core.frame.DataFrame'>]\n",
      "============================================================\n",
      "shape:\n",
      "(26519175, 4)\n",
      "============================================================\n",
      "data types:\n",
      "country_id      category\n",
      "year            category\n",
      "product_id      category\n",
      "export_value       int64\n",
      "dtype: object\n",
      "============================================================\n",
      "columns:\n",
      "['country_id', 'year', 'product_id', 'export_value']\n",
      "============================================================\n",
      "            export_value\n",
      "count      26,519,175.00\n",
      "mean        6,184,153.30\n",
      "std       166,386,943.15\n",
      "min             5,000.00\n",
      "25%            21,774.00\n",
      "50%            95,918.00\n",
      "75%           633,801.00\n",
      "max   127,254,781,879.00\n",
      "============================================================\n",
      "Total memory usage: 344773145 bytes\n",
      "============================================================\n"
     ]
    }
   ],
   "source": [
    "df_stats(clean_df)"
   ]
  },
  {
   "cell_type": "code",
   "execution_count": 93,
   "metadata": {},
   "outputs": [
    {
     "name": "stdout",
     "output_type": "stream",
     "text": [
      "country_id column initial type:\n",
      "category\n",
      "============================================================\n",
      "country_id column final type:\n",
      "int16\n",
      "============================================================\n",
      "product_id column initial type:\n",
      "category\n",
      "============================================================\n",
      "product_id column final type:\n",
      "int16\n",
      "============================================================\n",
      "year column initial type:\n",
      "category\n",
      "============================================================\n",
      "year column final type:\n",
      "int16\n",
      "============================================================\n"
     ]
    }
   ],
   "source": [
    "# Save the clean exports Data to a .parquet file\n",
    "output_file_name = \"clean_exports.parquet\"\n",
    "save_hs92_parquet_data(\n",
    "    data=clean_df, file_location=output_file_location, file_name=output_file_name\n",
    ")"
   ]
  },
  {
   "cell_type": "code",
   "execution_count": 94,
   "metadata": {},
   "outputs": [
    {
     "data": {
      "text/plain": [
       "0"
      ]
     },
     "execution_count": 94,
     "metadata": {},
     "output_type": "execute_result"
    }
   ],
   "source": [
    "del clean_df\n",
    "gc.collect()"
   ]
  },
  {
   "cell_type": "markdown",
   "metadata": {},
   "source": [
    "## Ensuring reliable data"
   ]
  },
  {
   "cell_type": "markdown",
   "metadata": {},
   "source": [
    "To flag a country as 'unreliable', usually applied following assumptions:\n",
    "1. Conflict or Political Instability\n",
    "    * Countries affected by wars tend to have disrupted trade reporting.\n",
    "    * Example: Iraq and Afghanistan have histories of trade sanctions and missing data.\n",
    "2. Data Volatility and Gaps\n",
    "    * Countries with significant missing years or erratic export trends are considered unreliable.\n",
    "    * Example: Macau is sometimes excluded because of its unique status as a free-trade hub with inconsistent trade reporting.\n",
    "3. Export-to-GDP Imbalance\n",
    "    * Some countries report exports that do not align with their economic size.\n",
    "    * Example: Chad is often flagged because of low economic activity but high-reported trade fluctuations."
   ]
  },
  {
   "cell_type": "markdown",
   "metadata": {},
   "source": [
    "| **Country**         | **Why Excluded?**                                      |\n",
    "|-------------------------|------------------------------------------------------|\n",
    "|Iraq (IRQ) | Data gaps due to war and sanctions; unreliable trade statistics.|\n",
    "|Chad (TCD)\t| Extreme fluctuations in trade data, suspected statistical errors.|\n",
    "|Macau (MAC) | Unique status as a free-trade zone causes inconsistent trade reporting.|\n",
    "|Afghanistan (AFG) | Conflict-related disruptions, high dependence on aid and illicit trade.|"
   ]
  },
  {
   "cell_type": "markdown",
   "metadata": {},
   "source": [
    "Mentioned countries are commonly considered as reporting unreliable data and excluded from ECI estimation process. We are going to exclude them since we don't have any specific reason to keep them."
   ]
  },
  {
   "cell_type": "code",
   "execution_count": 95,
   "metadata": {},
   "outputs": [],
   "source": [
    "# # Resolve the path to the 'src' folder with helper functions\n",
    "# import config_notebooks\n",
    "# from importlib import reload\n",
    "\n",
    "# # Import the module and reload it\n",
    "# import n03_import_reload\n",
    "\n",
    "# reload(n03_import_reload)\n",
    "\n",
    "# # Re-import the functions from the reloaded module\n",
    "# from n03_import_reload import *"
   ]
  },
  {
   "cell_type": "code",
   "execution_count": 96,
   "metadata": {},
   "outputs": [],
   "source": [
    "input_file_name = \"clean_exports.parquet\"\n",
    "reliable_df = read_hs92_parquet_data(\n",
    "    output_file_location, input_file_name, f_convert_dtype=False\n",
    ")"
   ]
  },
  {
   "cell_type": "code",
   "execution_count": 97,
   "metadata": {},
   "outputs": [
    {
     "data": {
      "text/plain": [
       "country_id      int16\n",
       "year            int16\n",
       "product_id      int16\n",
       "export_value    int64\n",
       "dtype: object"
      ]
     },
     "execution_count": 97,
     "metadata": {},
     "output_type": "execute_result"
    }
   ],
   "source": [
    "reliable_df.dtypes"
   ]
  },
  {
   "cell_type": "code",
   "execution_count": 98,
   "metadata": {},
   "outputs": [],
   "source": [
    "# Economies which are commonly considered reporting unreliable data such as Iraq (IRQ), Chad  (TCD), Macau (MAC), Afghanistan (AFG)\n",
    "# List of unreliable country codes\n",
    "unreliable_codes = [\"IRQ\", \"TCD\", \"MAC\", \"AFG\"]"
   ]
  },
  {
   "cell_type": "code",
   "execution_count": 99,
   "metadata": {},
   "outputs": [],
   "source": [
    "input_file_name = \"locations.parquet\"\n",
    "location_df = read_hs92_parquet_data(\n",
    "    input_file_location, input_file_name, f_convert_dtype=False\n",
    ")"
   ]
  },
  {
   "cell_type": "code",
   "execution_count": 100,
   "metadata": {},
   "outputs": [
    {
     "data": {
      "text/plain": [
       "country_id       int16\n",
       "country_name    object\n",
       "country_code    object\n",
       "dtype: object"
      ]
     },
     "execution_count": 100,
     "metadata": {},
     "output_type": "execute_result"
    }
   ],
   "source": [
    "location_df.dtypes"
   ]
  },
  {
   "cell_type": "code",
   "execution_count": 101,
   "metadata": {},
   "outputs": [
    {
     "data": {
      "text/html": [
       "<div>\n",
       "<style scoped>\n",
       "    .dataframe tbody tr th:only-of-type {\n",
       "        vertical-align: middle;\n",
       "    }\n",
       "\n",
       "    .dataframe tbody tr th {\n",
       "        vertical-align: top;\n",
       "    }\n",
       "\n",
       "    .dataframe thead th {\n",
       "        text-align: right;\n",
       "    }\n",
       "</style>\n",
       "<table border=\"1\" class=\"dataframe\">\n",
       "  <thead>\n",
       "    <tr style=\"text-align: right;\">\n",
       "      <th></th>\n",
       "      <th>country_id</th>\n",
       "      <th>country_name</th>\n",
       "      <th>country_code</th>\n",
       "    </tr>\n",
       "  </thead>\n",
       "  <tbody>\n",
       "    <tr>\n",
       "      <th>1</th>\n",
       "      <td>4</td>\n",
       "      <td>Afghanistan</td>\n",
       "      <td>AFG</td>\n",
       "    </tr>\n",
       "    <tr>\n",
       "      <th>108</th>\n",
       "      <td>368</td>\n",
       "      <td>Iraq</td>\n",
       "      <td>IRQ</td>\n",
       "    </tr>\n",
       "    <tr>\n",
       "      <th>133</th>\n",
       "      <td>446</td>\n",
       "      <td>Macao</td>\n",
       "      <td>MAC</td>\n",
       "    </tr>\n",
       "    <tr>\n",
       "      <th>214</th>\n",
       "      <td>148</td>\n",
       "      <td>Chad</td>\n",
       "      <td>TCD</td>\n",
       "    </tr>\n",
       "  </tbody>\n",
       "</table>\n",
       "</div>"
      ],
      "text/plain": [
       "     country_id country_name country_code\n",
       "1             4  Afghanistan          AFG\n",
       "108         368         Iraq          IRQ\n",
       "133         446        Macao          MAC\n",
       "214         148         Chad          TCD"
      ]
     },
     "execution_count": 101,
     "metadata": {},
     "output_type": "execute_result"
    }
   ],
   "source": [
    "# Making sure that were chosen correct country codes\n",
    "unreliable_locations = location_df[location_df[\"country_code\"].isin(unreliable_codes)]\n",
    "unreliable_locations"
   ]
  },
  {
   "cell_type": "code",
   "execution_count": 102,
   "metadata": {},
   "outputs": [
    {
     "name": "stdout",
     "output_type": "stream",
     "text": [
      "data staged:['valid_gdp_country_codes', 'valid_gdp_country_ids', 'valid_gdp_locations', 'export_years', 'unreliable_locations', 'rolling_exports_years', 'reliable_gdp_codes']\n",
      "============================================================\n"
     ]
    }
   ],
   "source": [
    "dumped_data[\"unreliable_locations\"] = unreliable_locations\n",
    "\n",
    "staging_cache(output_file_location=input_file_location, **dumped_data)"
   ]
  },
  {
   "cell_type": "code",
   "execution_count": 103,
   "metadata": {},
   "outputs": [],
   "source": [
    "# Discarding the rows with the following country ids in unreliable_locations\n",
    "reliable_df = reliable_df[\n",
    "    ~reliable_df[\"country_id\"].isin(unreliable_locations[\"country_id\"])\n",
    "].reset_index(drop=True)"
   ]
  },
  {
   "cell_type": "code",
   "execution_count": 104,
   "metadata": {},
   "outputs": [
    {
     "name": "stdout",
     "output_type": "stream",
     "text": [
      "country_id column initial type:\n",
      "int16\n",
      "============================================================\n",
      "country_id column final type:\n",
      "int16\n",
      "============================================================\n",
      "product_id column initial type:\n",
      "int16\n",
      "============================================================\n",
      "product_id column final type:\n",
      "int16\n",
      "============================================================\n",
      "year column initial type:\n",
      "int16\n",
      "============================================================\n",
      "year column final type:\n",
      "int16\n",
      "============================================================\n"
     ]
    }
   ],
   "source": [
    "# Save the clean and reliable exports Data to a .parquet file\n",
    "output_file_name = \"reliable_exports.parquet\"\n",
    "save_hs92_parquet_data(\n",
    "    data=reliable_df, file_location=output_file_location, file_name=output_file_name\n",
    ")"
   ]
  },
  {
   "cell_type": "code",
   "execution_count": 105,
   "metadata": {},
   "outputs": [
    {
     "data": {
      "text/plain": [
       "0"
      ]
     },
     "execution_count": 105,
     "metadata": {},
     "output_type": "execute_result"
    }
   ],
   "source": [
    "del reliable_df\n",
    "gc.collect()"
   ]
  },
  {
   "cell_type": "code",
   "execution_count": 106,
   "metadata": {},
   "outputs": [],
   "source": [
    "# assert False, \"End of code\""
   ]
  },
  {
   "cell_type": "markdown",
   "metadata": {},
   "source": [
    "# Summarizing country-product exports"
   ]
  },
  {
   "cell_type": "code",
   "execution_count": 107,
   "metadata": {},
   "outputs": [
    {
     "name": "stdout",
     "output_type": "stream",
     "text": [
      "country_id column initial type:\n",
      "int16\n",
      "============================================================\n",
      "country_id column final type:\n",
      "category\n",
      "============================================================\n",
      "product_id column initial type:\n",
      "int16\n",
      "============================================================\n",
      "product_id column final type:\n",
      "category\n",
      "============================================================\n",
      "year column initial type:\n",
      "int16\n",
      "============================================================\n",
      "year column final type:\n",
      "category\n",
      "============================================================\n"
     ]
    }
   ],
   "source": [
    "# all_col_names = ['country_id', 'partner_country_id', 'year', 'product_id', 'export_value', 'import_value', 'coi', 'eci', 'pci']\n",
    "# col_names = ['country_id', 'year', 'product_id', 'export_value']\n",
    "\n",
    "input_file_name = \"reliable_exports.parquet\"\n",
    "product_exports_total = read_hs92_parquet_data(output_file_location, input_file_name)"
   ]
  },
  {
   "cell_type": "code",
   "execution_count": 108,
   "metadata": {},
   "outputs": [
    {
     "name": "stdout",
     "output_type": "stream",
     "text": [
      "['df', <class 'pandas.core.frame.DataFrame'>]\n",
      "============================================================\n",
      "shape:\n",
      "(26501863, 4)\n",
      "============================================================\n",
      "data types:\n",
      "country_id      category\n",
      "year            category\n",
      "product_id      category\n",
      "export_value       int64\n",
      "dtype: object\n",
      "============================================================\n",
      "columns:\n",
      "['country_id', 'year', 'product_id', 'export_value']\n",
      "============================================================\n",
      "            export_value\n",
      "count      26,501,863.00\n",
      "mean        6,145,125.21\n",
      "std       161,480,470.44\n",
      "min             5,000.00\n",
      "25%            21,788.00\n",
      "50%            95,997.00\n",
      "75%           634,265.00\n",
      "max   127,254,781,879.00\n",
      "============================================================\n",
      "Total memory usage: 344550701 bytes\n",
      "============================================================\n"
     ]
    }
   ],
   "source": [
    "df_stats(product_exports_total)"
   ]
  },
  {
   "cell_type": "code",
   "execution_count": 109,
   "metadata": {},
   "outputs": [],
   "source": [
    "# # Better to switch to string data type for categorical columns before grouping\n",
    "# categorical_columns = ['country_id', 'product_id', 'year']\n",
    "# raw_df = switch_to_dtype(raw_df, default_dtype='str', categorical_columns=categorical_columns, f_convert_integers=False)"
   ]
  },
  {
   "cell_type": "code",
   "execution_count": 110,
   "metadata": {},
   "outputs": [],
   "source": [
    "# Summarizing the exports_value data across country_id, product_id and year\n",
    "product_exports_total = (\n",
    "    product_exports_total.groupby([\"country_id\", \"product_id\", \"year\"], observed=False)[\n",
    "        \"export_value\"\n",
    "    ]\n",
    "    .sum()\n",
    "    .reset_index()\n",
    ")"
   ]
  },
  {
   "cell_type": "code",
   "execution_count": 111,
   "metadata": {},
   "outputs": [
    {
     "name": "stdout",
     "output_type": "stream",
     "text": [
      "['df', <class 'pandas.core.frame.DataFrame'>]\n",
      "============================================================\n",
      "shape:\n",
      "(1760300, 4)\n",
      "============================================================\n",
      "data types:\n",
      "country_id      category\n",
      "product_id      category\n",
      "year            category\n",
      "export_value       int64\n",
      "dtype: object\n",
      "============================================================\n",
      "columns:\n",
      "['country_id', 'product_id', 'year', 'export_value']\n",
      "============================================================\n",
      "            export_value\n",
      "count       1,760,300.00\n",
      "mean       92,516,767.81\n",
      "std     1,441,150,420.14\n",
      "min                 0.00\n",
      "25%                 0.00\n",
      "50%            99,082.00\n",
      "75%         4,317,080.75\n",
      "max   371,680,640,697.00\n",
      "============================================================\n",
      "Total memory usage: 22910382 bytes\n",
      "============================================================\n"
     ]
    }
   ],
   "source": [
    "df_stats(product_exports_total)"
   ]
  },
  {
   "cell_type": "code",
   "execution_count": 112,
   "metadata": {},
   "outputs": [
    {
     "data": {
      "text/html": [
       "<div>\n",
       "<style scoped>\n",
       "    .dataframe tbody tr th:only-of-type {\n",
       "        vertical-align: middle;\n",
       "    }\n",
       "\n",
       "    .dataframe tbody tr th {\n",
       "        vertical-align: top;\n",
       "    }\n",
       "\n",
       "    .dataframe thead th {\n",
       "        text-align: right;\n",
       "    }\n",
       "</style>\n",
       "<table border=\"1\" class=\"dataframe\">\n",
       "  <thead>\n",
       "    <tr style=\"text-align: right;\">\n",
       "      <th></th>\n",
       "      <th>country_id</th>\n",
       "      <th>product_id</th>\n",
       "      <th>year</th>\n",
       "      <th>export_value</th>\n",
       "    </tr>\n",
       "  </thead>\n",
       "  <tbody>\n",
       "    <tr>\n",
       "      <th>496491</th>\n",
       "      <td>250</td>\n",
       "      <td>1764</td>\n",
       "      <td>2011</td>\n",
       "      <td>4207231490</td>\n",
       "    </tr>\n",
       "    <tr>\n",
       "      <th>618183</th>\n",
       "      <td>332</td>\n",
       "      <td>1793</td>\n",
       "      <td>2013</td>\n",
       "      <td>0</td>\n",
       "    </tr>\n",
       "    <tr>\n",
       "      <th>307608</th>\n",
       "      <td>170</td>\n",
       "      <td>1068</td>\n",
       "      <td>2018</td>\n",
       "      <td>0</td>\n",
       "    </tr>\n",
       "    <tr>\n",
       "      <th>1336953</th>\n",
       "      <td>688</td>\n",
       "      <td>810</td>\n",
       "      <td>2013</td>\n",
       "      <td>7262811</td>\n",
       "    </tr>\n",
       "    <tr>\n",
       "      <th>1199490</th>\n",
       "      <td>598</td>\n",
       "      <td>1652</td>\n",
       "      <td>2010</td>\n",
       "      <td>0</td>\n",
       "    </tr>\n",
       "    <tr>\n",
       "      <th>87526</th>\n",
       "      <td>50</td>\n",
       "      <td>911</td>\n",
       "      <td>2016</td>\n",
       "      <td>37169603</td>\n",
       "    </tr>\n",
       "    <tr>\n",
       "      <th>110664</th>\n",
       "      <td>56</td>\n",
       "      <td>795</td>\n",
       "      <td>2014</td>\n",
       "      <td>123075064</td>\n",
       "    </tr>\n",
       "    <tr>\n",
       "      <th>1157472</th>\n",
       "      <td>578</td>\n",
       "      <td>1075</td>\n",
       "      <td>2012</td>\n",
       "      <td>672373</td>\n",
       "    </tr>\n",
       "    <tr>\n",
       "      <th>564895</th>\n",
       "      <td>288</td>\n",
       "      <td>1309</td>\n",
       "      <td>2015</td>\n",
       "      <td>0</td>\n",
       "    </tr>\n",
       "    <tr>\n",
       "      <th>1037181</th>\n",
       "      <td>504</td>\n",
       "      <td>1187</td>\n",
       "      <td>2011</td>\n",
       "      <td>57673296</td>\n",
       "    </tr>\n",
       "  </tbody>\n",
       "</table>\n",
       "</div>"
      ],
      "text/plain": [
       "        country_id product_id  year  export_value\n",
       "496491         250       1764  2011    4207231490\n",
       "618183         332       1793  2013             0\n",
       "307608         170       1068  2018             0\n",
       "1336953        688        810  2013       7262811\n",
       "1199490        598       1652  2010             0\n",
       "87526           50        911  2016      37169603\n",
       "110664          56        795  2014     123075064\n",
       "1157472        578       1075  2012        672373\n",
       "564895         288       1309  2015             0\n",
       "1037181        504       1187  2011      57673296"
      ]
     },
     "execution_count": 112,
     "metadata": {},
     "output_type": "execute_result"
    }
   ],
   "source": [
    "product_exports_total.sample(10)"
   ]
  },
  {
   "cell_type": "code",
   "execution_count": 113,
   "metadata": {},
   "outputs": [
    {
     "data": {
      "text/html": [
       "<div>\n",
       "<style scoped>\n",
       "    .dataframe tbody tr th:only-of-type {\n",
       "        vertical-align: middle;\n",
       "    }\n",
       "\n",
       "    .dataframe tbody tr th {\n",
       "        vertical-align: top;\n",
       "    }\n",
       "\n",
       "    .dataframe thead tr th {\n",
       "        text-align: left;\n",
       "    }\n",
       "\n",
       "    .dataframe thead tr:last-of-type th {\n",
       "        text-align: right;\n",
       "    }\n",
       "</style>\n",
       "<table border=\"1\" class=\"dataframe\">\n",
       "  <thead>\n",
       "    <tr>\n",
       "      <th></th>\n",
       "      <th></th>\n",
       "      <th colspan=\"10\" halign=\"left\">export_value</th>\n",
       "    </tr>\n",
       "    <tr>\n",
       "      <th></th>\n",
       "      <th>year</th>\n",
       "      <th>2010</th>\n",
       "      <th>2011</th>\n",
       "      <th>2012</th>\n",
       "      <th>2013</th>\n",
       "      <th>2014</th>\n",
       "      <th>2015</th>\n",
       "      <th>2016</th>\n",
       "      <th>2017</th>\n",
       "      <th>2018</th>\n",
       "      <th>2019</th>\n",
       "    </tr>\n",
       "    <tr>\n",
       "      <th>country_id</th>\n",
       "      <th>product_id</th>\n",
       "      <th></th>\n",
       "      <th></th>\n",
       "      <th></th>\n",
       "      <th></th>\n",
       "      <th></th>\n",
       "      <th></th>\n",
       "      <th></th>\n",
       "      <th></th>\n",
       "      <th></th>\n",
       "      <th></th>\n",
       "    </tr>\n",
       "  </thead>\n",
       "  <tbody>\n",
       "    <tr>\n",
       "      <th>384</th>\n",
       "      <th>1803</th>\n",
       "      <td>19766</td>\n",
       "      <td>6590</td>\n",
       "      <td>126693</td>\n",
       "      <td>185540</td>\n",
       "      <td>272467</td>\n",
       "      <td>583470</td>\n",
       "      <td>693011</td>\n",
       "      <td>209683</td>\n",
       "      <td>1366005</td>\n",
       "      <td>1508870</td>\n",
       "    </tr>\n",
       "    <tr>\n",
       "      <th>860</th>\n",
       "      <th>1778</th>\n",
       "      <td>142029</td>\n",
       "      <td>576319</td>\n",
       "      <td>5121926</td>\n",
       "      <td>1229206</td>\n",
       "      <td>220085</td>\n",
       "      <td>1110581</td>\n",
       "      <td>152101</td>\n",
       "      <td>0</td>\n",
       "      <td>2018136</td>\n",
       "      <td>12147525</td>\n",
       "    </tr>\n",
       "    <tr>\n",
       "      <th>108</th>\n",
       "      <th>929</th>\n",
       "      <td>0</td>\n",
       "      <td>0</td>\n",
       "      <td>0</td>\n",
       "      <td>0</td>\n",
       "      <td>0</td>\n",
       "      <td>0</td>\n",
       "      <td>0</td>\n",
       "      <td>0</td>\n",
       "      <td>0</td>\n",
       "      <td>0</td>\n",
       "    </tr>\n",
       "    <tr>\n",
       "      <th>528</th>\n",
       "      <th>1848</th>\n",
       "      <td>568043</td>\n",
       "      <td>424210</td>\n",
       "      <td>454314</td>\n",
       "      <td>632580</td>\n",
       "      <td>469805</td>\n",
       "      <td>424994</td>\n",
       "      <td>261196</td>\n",
       "      <td>311257</td>\n",
       "      <td>374722</td>\n",
       "      <td>894699</td>\n",
       "    </tr>\n",
       "    <tr>\n",
       "      <th>716</th>\n",
       "      <th>1359</th>\n",
       "      <td>0</td>\n",
       "      <td>7412</td>\n",
       "      <td>0</td>\n",
       "      <td>0</td>\n",
       "      <td>0</td>\n",
       "      <td>0</td>\n",
       "      <td>0</td>\n",
       "      <td>0</td>\n",
       "      <td>0</td>\n",
       "      <td>0</td>\n",
       "    </tr>\n",
       "    <tr>\n",
       "      <th>398</th>\n",
       "      <th>1560</th>\n",
       "      <td>195706793</td>\n",
       "      <td>421406154</td>\n",
       "      <td>345857074</td>\n",
       "      <td>234504675</td>\n",
       "      <td>371457124</td>\n",
       "      <td>276311642</td>\n",
       "      <td>258437773</td>\n",
       "      <td>275429797</td>\n",
       "      <td>335373721</td>\n",
       "      <td>183834126</td>\n",
       "    </tr>\n",
       "    <tr>\n",
       "      <th>710</th>\n",
       "      <th>1671</th>\n",
       "      <td>822964</td>\n",
       "      <td>617490</td>\n",
       "      <td>1003569</td>\n",
       "      <td>921011</td>\n",
       "      <td>2908454</td>\n",
       "      <td>1702556</td>\n",
       "      <td>999544</td>\n",
       "      <td>760711</td>\n",
       "      <td>700009</td>\n",
       "      <td>546208</td>\n",
       "    </tr>\n",
       "    <tr>\n",
       "      <th>434</th>\n",
       "      <th>1838</th>\n",
       "      <td>0</td>\n",
       "      <td>0</td>\n",
       "      <td>0</td>\n",
       "      <td>0</td>\n",
       "      <td>0</td>\n",
       "      <td>0</td>\n",
       "      <td>0</td>\n",
       "      <td>0</td>\n",
       "      <td>0</td>\n",
       "      <td>0</td>\n",
       "    </tr>\n",
       "    <tr>\n",
       "      <th>320</th>\n",
       "      <th>1349</th>\n",
       "      <td>21530695</td>\n",
       "      <td>24302297</td>\n",
       "      <td>27255607</td>\n",
       "      <td>25069428</td>\n",
       "      <td>22529204</td>\n",
       "      <td>21485298</td>\n",
       "      <td>11857577</td>\n",
       "      <td>9654644</td>\n",
       "      <td>11735941</td>\n",
       "      <td>8929523</td>\n",
       "    </tr>\n",
       "    <tr>\n",
       "      <th>404</th>\n",
       "      <th>1340</th>\n",
       "      <td>20518520</td>\n",
       "      <td>38705098</td>\n",
       "      <td>29514201</td>\n",
       "      <td>27682726</td>\n",
       "      <td>44305349</td>\n",
       "      <td>10488476</td>\n",
       "      <td>9605609</td>\n",
       "      <td>18948959</td>\n",
       "      <td>23136650</td>\n",
       "      <td>29616492</td>\n",
       "    </tr>\n",
       "  </tbody>\n",
       "</table>\n",
       "</div>"
      ],
      "text/plain": [
       "                      export_value                                   \\\n",
       "year                          2010       2011       2012       2013   \n",
       "country_id product_id                                                 \n",
       "384        1803              19766       6590     126693     185540   \n",
       "860        1778             142029     576319    5121926    1229206   \n",
       "108        929                   0          0          0          0   \n",
       "528        1848             568043     424210     454314     632580   \n",
       "716        1359                  0       7412          0          0   \n",
       "398        1560          195706793  421406154  345857074  234504675   \n",
       "710        1671             822964     617490    1003569     921011   \n",
       "434        1838                  0          0          0          0   \n",
       "320        1349           21530695   24302297   27255607   25069428   \n",
       "404        1340           20518520   38705098   29514201   27682726   \n",
       "\n",
       "                                                                              \\\n",
       "year                        2014       2015       2016       2017       2018   \n",
       "country_id product_id                                                          \n",
       "384        1803           272467     583470     693011     209683    1366005   \n",
       "860        1778           220085    1110581     152101          0    2018136   \n",
       "108        929                 0          0          0          0          0   \n",
       "528        1848           469805     424994     261196     311257     374722   \n",
       "716        1359                0          0          0          0          0   \n",
       "398        1560        371457124  276311642  258437773  275429797  335373721   \n",
       "710        1671          2908454    1702556     999544     760711     700009   \n",
       "434        1838                0          0          0          0          0   \n",
       "320        1349         22529204   21485298   11857577    9654644   11735941   \n",
       "404        1340         44305349   10488476    9605609   18948959   23136650   \n",
       "\n",
       "                                  \n",
       "year                        2019  \n",
       "country_id product_id             \n",
       "384        1803          1508870  \n",
       "860        1778         12147525  \n",
       "108        929                 0  \n",
       "528        1848           894699  \n",
       "716        1359                0  \n",
       "398        1560        183834126  \n",
       "710        1671           546208  \n",
       "434        1838                0  \n",
       "320        1349          8929523  \n",
       "404        1340         29616492  "
      ]
     },
     "execution_count": 113,
     "metadata": {},
     "output_type": "execute_result"
    }
   ],
   "source": [
    "# Exploring the exports_summary data\n",
    "product_exports_total_unstacked = product_exports_total.pivot(\n",
    "    index=[\"country_id\", \"product_id\"], columns=\"year\", values=[\"export_value\"]\n",
    ")\n",
    "product_exports_total_unstacked.sample(10)"
   ]
  },
  {
   "cell_type": "code",
   "execution_count": 114,
   "metadata": {},
   "outputs": [
    {
     "data": {
      "text/plain": [
       "0"
      ]
     },
     "execution_count": 114,
     "metadata": {},
     "output_type": "execute_result"
    }
   ],
   "source": [
    "del product_exports_total_unstacked\n",
    "gc.collect()"
   ]
  },
  {
   "cell_type": "markdown",
   "metadata": {},
   "source": [
    "### Calculating exports rolling average"
   ]
  },
  {
   "cell_type": "code",
   "execution_count": 115,
   "metadata": {},
   "outputs": [
    {
     "data": {
      "text/html": [
       "<div>\n",
       "<style scoped>\n",
       "    .dataframe tbody tr th:only-of-type {\n",
       "        vertical-align: middle;\n",
       "    }\n",
       "\n",
       "    .dataframe tbody tr th {\n",
       "        vertical-align: top;\n",
       "    }\n",
       "\n",
       "    .dataframe thead th {\n",
       "        text-align: right;\n",
       "    }\n",
       "</style>\n",
       "<table border=\"1\" class=\"dataframe\">\n",
       "  <thead>\n",
       "    <tr style=\"text-align: right;\">\n",
       "      <th></th>\n",
       "      <th>country_id</th>\n",
       "      <th>product_id</th>\n",
       "      <th>year</th>\n",
       "      <th>export_value</th>\n",
       "    </tr>\n",
       "  </thead>\n",
       "  <tbody>\n",
       "    <tr>\n",
       "      <th>0</th>\n",
       "      <td>8</td>\n",
       "      <td>650</td>\n",
       "      <td>2010</td>\n",
       "      <td>0</td>\n",
       "    </tr>\n",
       "    <tr>\n",
       "      <th>1</th>\n",
       "      <td>8</td>\n",
       "      <td>650</td>\n",
       "      <td>2011</td>\n",
       "      <td>0</td>\n",
       "    </tr>\n",
       "    <tr>\n",
       "      <th>2</th>\n",
       "      <td>8</td>\n",
       "      <td>650</td>\n",
       "      <td>2012</td>\n",
       "      <td>0</td>\n",
       "    </tr>\n",
       "    <tr>\n",
       "      <th>3</th>\n",
       "      <td>8</td>\n",
       "      <td>650</td>\n",
       "      <td>2013</td>\n",
       "      <td>539813</td>\n",
       "    </tr>\n",
       "    <tr>\n",
       "      <th>4</th>\n",
       "      <td>8</td>\n",
       "      <td>650</td>\n",
       "      <td>2014</td>\n",
       "      <td>0</td>\n",
       "    </tr>\n",
       "  </tbody>\n",
       "</table>\n",
       "</div>"
      ],
      "text/plain": [
       "  country_id product_id  year  export_value\n",
       "0          8        650  2010             0\n",
       "1          8        650  2011             0\n",
       "2          8        650  2012             0\n",
       "3          8        650  2013        539813\n",
       "4          8        650  2014             0"
      ]
     },
     "execution_count": 115,
     "metadata": {},
     "output_type": "execute_result"
    }
   ],
   "source": [
    "product_exports_total.head()"
   ]
  },
  {
   "cell_type": "code",
   "execution_count": 116,
   "metadata": {},
   "outputs": [],
   "source": [
    "# Calculating 'product by country exports rolling average'.\n",
    "# This xslutio avoids the overhead of double transpositions and directly operates on the sorted product_exports DF\n",
    "# using groupby and transform, which is optimized for such operations in pandas\n",
    "\n",
    "# Sort the DataFrame by 'country_id', 'product_id' and 'year' to ensure correct rolling window calculation\n",
    "product_exports_total = product_exports_total.sort_values(\n",
    "    by=[\"country_id\", \"product_id\", \"year\"]\n",
    ")\n",
    "\n",
    "# Group by 'country_id' and 'product_id' and apply 3-month rolling average of 'export_value' for each country-product pair\n",
    "product_exports_total[\"average_export_value\"] = product_exports_total.groupby(\n",
    "    [\"country_id\", \"product_id\"], observed=False\n",
    ")[\"export_value\"].transform(lambda x: x.rolling(window=3).mean())"
   ]
  },
  {
   "cell_type": "code",
   "execution_count": 117,
   "metadata": {},
   "outputs": [
    {
     "name": "stdout",
     "output_type": "stream",
     "text": [
      "['df', <class 'pandas.core.frame.DataFrame'>]\n",
      "============================================================\n",
      "shape:\n",
      "(1760300, 5)\n",
      "============================================================\n",
      "data types:\n",
      "country_id              category\n",
      "product_id              category\n",
      "year                    category\n",
      "export_value               int64\n",
      "average_export_value     float64\n",
      "dtype: object\n",
      "============================================================\n",
      "columns:\n",
      "['country_id', 'product_id', 'year', 'export_value', 'average_export_value']\n",
      "============================================================\n",
      "            export_value  average_export_value\n",
      "count       1,760,300.00          1,408,240.00\n",
      "mean       92,516,767.81         92,694,429.21\n",
      "std     1,441,150,420.14      1,431,323,301.33\n",
      "min                 0.00                  0.00\n",
      "25%                 0.00                  0.00\n",
      "50%            99,082.00            132,606.33\n",
      "75%         4,317,080.75          4,608,486.33\n",
      "max   371,680,640,697.00    359,983,930,717.33\n",
      "============================================================\n",
      "Total memory usage: 36992782 bytes\n",
      "============================================================\n"
     ]
    }
   ],
   "source": [
    "df_stats(product_exports_total)"
   ]
  },
  {
   "cell_type": "markdown",
   "metadata": {},
   "source": [
    "Staging total product exports along with rolling average. We call it raw_ because it is with missing values"
   ]
  },
  {
   "cell_type": "code",
   "execution_count": 118,
   "metadata": {},
   "outputs": [
    {
     "name": "stdout",
     "output_type": "stream",
     "text": [
      "country_id column initial type:\n",
      "category\n",
      "============================================================\n",
      "country_id column final type:\n",
      "int16\n",
      "============================================================\n",
      "product_id column initial type:\n",
      "category\n",
      "============================================================\n",
      "product_id column final type:\n",
      "int16\n",
      "============================================================\n",
      "year column initial type:\n",
      "category\n",
      "============================================================\n",
      "year column final type:\n",
      "int16\n",
      "============================================================\n"
     ]
    }
   ],
   "source": [
    "# Save the product_exports_total average Data to a raw_product_exports_total.parquet file\n",
    "output_file_name = \"raw_product_exports_total.parquet\"\n",
    "save_hs92_parquet_data(\n",
    "    data=product_exports_total,\n",
    "    file_location=output_file_location,\n",
    "    file_name=output_file_name,\n",
    ")"
   ]
  },
  {
   "cell_type": "code",
   "execution_count": 119,
   "metadata": {},
   "outputs": [
    {
     "data": {
      "text/plain": [
       "0"
      ]
     },
     "execution_count": 119,
     "metadata": {},
     "output_type": "execute_result"
    }
   ],
   "source": [
    "del product_exports_total\n",
    "gc.collect()"
   ]
  },
  {
   "cell_type": "code",
   "execution_count": 120,
   "metadata": {},
   "outputs": [],
   "source": [
    "# assert False, \"End of code\""
   ]
  },
  {
   "cell_type": "markdown",
   "metadata": {},
   "source": [
    "Reading raw total product exports"
   ]
  },
  {
   "cell_type": "code",
   "execution_count": 121,
   "metadata": {},
   "outputs": [
    {
     "name": "stdout",
     "output_type": "stream",
     "text": [
      "country_id column initial type:\n",
      "int16\n",
      "============================================================\n",
      "country_id column final type:\n",
      "category\n",
      "============================================================\n",
      "product_id column initial type:\n",
      "int16\n",
      "============================================================\n",
      "product_id column final type:\n",
      "category\n",
      "============================================================\n",
      "year column initial type:\n",
      "int16\n",
      "============================================================\n",
      "year column final type:\n",
      "category\n",
      "============================================================\n"
     ]
    }
   ],
   "source": [
    "col_names = [\"country_id\", \"product_id\", \"year\", \"average_export_value\"]\n",
    "\n",
    "input_file_name = \"raw_product_exports_total.parquet\"\n",
    "product_rolling_exports = read_hs92_parquet_data(\n",
    "    output_file_location, input_file_name, columns=col_names\n",
    ")"
   ]
  },
  {
   "cell_type": "code",
   "execution_count": 122,
   "metadata": {},
   "outputs": [
    {
     "data": {
      "text/html": [
       "<div>\n",
       "<style scoped>\n",
       "    .dataframe tbody tr th:only-of-type {\n",
       "        vertical-align: middle;\n",
       "    }\n",
       "\n",
       "    .dataframe tbody tr th {\n",
       "        vertical-align: top;\n",
       "    }\n",
       "\n",
       "    .dataframe thead th {\n",
       "        text-align: right;\n",
       "    }\n",
       "</style>\n",
       "<table border=\"1\" class=\"dataframe\">\n",
       "  <thead>\n",
       "    <tr style=\"text-align: right;\">\n",
       "      <th></th>\n",
       "      <th>country_id</th>\n",
       "      <th>product_id</th>\n",
       "      <th>year</th>\n",
       "      <th>average_export_value</th>\n",
       "    </tr>\n",
       "  </thead>\n",
       "  <tbody>\n",
       "    <tr>\n",
       "      <th>0</th>\n",
       "      <td>8</td>\n",
       "      <td>650</td>\n",
       "      <td>2010</td>\n",
       "      <td>NaN</td>\n",
       "    </tr>\n",
       "    <tr>\n",
       "      <th>1</th>\n",
       "      <td>8</td>\n",
       "      <td>650</td>\n",
       "      <td>2011</td>\n",
       "      <td>NaN</td>\n",
       "    </tr>\n",
       "    <tr>\n",
       "      <th>2</th>\n",
       "      <td>8</td>\n",
       "      <td>650</td>\n",
       "      <td>2012</td>\n",
       "      <td>0.00</td>\n",
       "    </tr>\n",
       "    <tr>\n",
       "      <th>3</th>\n",
       "      <td>8</td>\n",
       "      <td>650</td>\n",
       "      <td>2013</td>\n",
       "      <td>179,937.67</td>\n",
       "    </tr>\n",
       "    <tr>\n",
       "      <th>4</th>\n",
       "      <td>8</td>\n",
       "      <td>650</td>\n",
       "      <td>2014</td>\n",
       "      <td>179,937.67</td>\n",
       "    </tr>\n",
       "    <tr>\n",
       "      <th>5</th>\n",
       "      <td>8</td>\n",
       "      <td>650</td>\n",
       "      <td>2015</td>\n",
       "      <td>179,937.67</td>\n",
       "    </tr>\n",
       "    <tr>\n",
       "      <th>6</th>\n",
       "      <td>8</td>\n",
       "      <td>650</td>\n",
       "      <td>2016</td>\n",
       "      <td>0.00</td>\n",
       "    </tr>\n",
       "    <tr>\n",
       "      <th>7</th>\n",
       "      <td>8</td>\n",
       "      <td>650</td>\n",
       "      <td>2017</td>\n",
       "      <td>0.00</td>\n",
       "    </tr>\n",
       "    <tr>\n",
       "      <th>8</th>\n",
       "      <td>8</td>\n",
       "      <td>650</td>\n",
       "      <td>2018</td>\n",
       "      <td>0.00</td>\n",
       "    </tr>\n",
       "    <tr>\n",
       "      <th>9</th>\n",
       "      <td>8</td>\n",
       "      <td>650</td>\n",
       "      <td>2019</td>\n",
       "      <td>0.00</td>\n",
       "    </tr>\n",
       "    <tr>\n",
       "      <th>10</th>\n",
       "      <td>8</td>\n",
       "      <td>651</td>\n",
       "      <td>2010</td>\n",
       "      <td>NaN</td>\n",
       "    </tr>\n",
       "    <tr>\n",
       "      <th>11</th>\n",
       "      <td>8</td>\n",
       "      <td>651</td>\n",
       "      <td>2011</td>\n",
       "      <td>NaN</td>\n",
       "    </tr>\n",
       "    <tr>\n",
       "      <th>12</th>\n",
       "      <td>8</td>\n",
       "      <td>651</td>\n",
       "      <td>2012</td>\n",
       "      <td>0.00</td>\n",
       "    </tr>\n",
       "    <tr>\n",
       "      <th>13</th>\n",
       "      <td>8</td>\n",
       "      <td>651</td>\n",
       "      <td>2013</td>\n",
       "      <td>87,674.67</td>\n",
       "    </tr>\n",
       "    <tr>\n",
       "      <th>14</th>\n",
       "      <td>8</td>\n",
       "      <td>651</td>\n",
       "      <td>2014</td>\n",
       "      <td>87,674.67</td>\n",
       "    </tr>\n",
       "  </tbody>\n",
       "</table>\n",
       "</div>"
      ],
      "text/plain": [
       "   country_id product_id  year  average_export_value\n",
       "0           8        650  2010                   NaN\n",
       "1           8        650  2011                   NaN\n",
       "2           8        650  2012                  0.00\n",
       "3           8        650  2013            179,937.67\n",
       "4           8        650  2014            179,937.67\n",
       "5           8        650  2015            179,937.67\n",
       "6           8        650  2016                  0.00\n",
       "7           8        650  2017                  0.00\n",
       "8           8        650  2018                  0.00\n",
       "9           8        650  2019                  0.00\n",
       "10          8        651  2010                   NaN\n",
       "11          8        651  2011                   NaN\n",
       "12          8        651  2012                  0.00\n",
       "13          8        651  2013             87,674.67\n",
       "14          8        651  2014             87,674.67"
      ]
     },
     "execution_count": 122,
     "metadata": {},
     "output_type": "execute_result"
    }
   ],
   "source": [
    "# product_rolling_exports = product_exports_total.copy()\n",
    "product_rolling_exports.head(15)"
   ]
  },
  {
   "cell_type": "code",
   "execution_count": 123,
   "metadata": {},
   "outputs": [
    {
     "data": {
      "text/html": [
       "<div>\n",
       "<style scoped>\n",
       "    .dataframe tbody tr th:only-of-type {\n",
       "        vertical-align: middle;\n",
       "    }\n",
       "\n",
       "    .dataframe tbody tr th {\n",
       "        vertical-align: top;\n",
       "    }\n",
       "\n",
       "    .dataframe thead th {\n",
       "        text-align: right;\n",
       "    }\n",
       "</style>\n",
       "<table border=\"1\" class=\"dataframe\">\n",
       "  <thead>\n",
       "    <tr style=\"text-align: right;\">\n",
       "      <th></th>\n",
       "      <th>country_id</th>\n",
       "      <th>product_id</th>\n",
       "      <th>year</th>\n",
       "      <th>average_export_value</th>\n",
       "    </tr>\n",
       "  </thead>\n",
       "  <tbody>\n",
       "    <tr>\n",
       "      <th>2</th>\n",
       "      <td>8</td>\n",
       "      <td>650</td>\n",
       "      <td>2012</td>\n",
       "      <td>0.00</td>\n",
       "    </tr>\n",
       "    <tr>\n",
       "      <th>3</th>\n",
       "      <td>8</td>\n",
       "      <td>650</td>\n",
       "      <td>2013</td>\n",
       "      <td>179,937.67</td>\n",
       "    </tr>\n",
       "    <tr>\n",
       "      <th>4</th>\n",
       "      <td>8</td>\n",
       "      <td>650</td>\n",
       "      <td>2014</td>\n",
       "      <td>179,937.67</td>\n",
       "    </tr>\n",
       "    <tr>\n",
       "      <th>5</th>\n",
       "      <td>8</td>\n",
       "      <td>650</td>\n",
       "      <td>2015</td>\n",
       "      <td>179,937.67</td>\n",
       "    </tr>\n",
       "    <tr>\n",
       "      <th>6</th>\n",
       "      <td>8</td>\n",
       "      <td>650</td>\n",
       "      <td>2016</td>\n",
       "      <td>0.00</td>\n",
       "    </tr>\n",
       "    <tr>\n",
       "      <th>7</th>\n",
       "      <td>8</td>\n",
       "      <td>650</td>\n",
       "      <td>2017</td>\n",
       "      <td>0.00</td>\n",
       "    </tr>\n",
       "    <tr>\n",
       "      <th>8</th>\n",
       "      <td>8</td>\n",
       "      <td>650</td>\n",
       "      <td>2018</td>\n",
       "      <td>0.00</td>\n",
       "    </tr>\n",
       "    <tr>\n",
       "      <th>9</th>\n",
       "      <td>8</td>\n",
       "      <td>650</td>\n",
       "      <td>2019</td>\n",
       "      <td>0.00</td>\n",
       "    </tr>\n",
       "    <tr>\n",
       "      <th>12</th>\n",
       "      <td>8</td>\n",
       "      <td>651</td>\n",
       "      <td>2012</td>\n",
       "      <td>0.00</td>\n",
       "    </tr>\n",
       "    <tr>\n",
       "      <th>13</th>\n",
       "      <td>8</td>\n",
       "      <td>651</td>\n",
       "      <td>2013</td>\n",
       "      <td>87,674.67</td>\n",
       "    </tr>\n",
       "    <tr>\n",
       "      <th>14</th>\n",
       "      <td>8</td>\n",
       "      <td>651</td>\n",
       "      <td>2014</td>\n",
       "      <td>87,674.67</td>\n",
       "    </tr>\n",
       "    <tr>\n",
       "      <th>15</th>\n",
       "      <td>8</td>\n",
       "      <td>651</td>\n",
       "      <td>2015</td>\n",
       "      <td>92,421.33</td>\n",
       "    </tr>\n",
       "    <tr>\n",
       "      <th>16</th>\n",
       "      <td>8</td>\n",
       "      <td>651</td>\n",
       "      <td>2016</td>\n",
       "      <td>4,746.67</td>\n",
       "    </tr>\n",
       "    <tr>\n",
       "      <th>17</th>\n",
       "      <td>8</td>\n",
       "      <td>651</td>\n",
       "      <td>2017</td>\n",
       "      <td>7,380.33</td>\n",
       "    </tr>\n",
       "    <tr>\n",
       "      <th>18</th>\n",
       "      <td>8</td>\n",
       "      <td>651</td>\n",
       "      <td>2018</td>\n",
       "      <td>2,633.67</td>\n",
       "    </tr>\n",
       "  </tbody>\n",
       "</table>\n",
       "</div>"
      ],
      "text/plain": [
       "   country_id product_id  year  average_export_value\n",
       "2           8        650  2012                  0.00\n",
       "3           8        650  2013            179,937.67\n",
       "4           8        650  2014            179,937.67\n",
       "5           8        650  2015            179,937.67\n",
       "6           8        650  2016                  0.00\n",
       "7           8        650  2017                  0.00\n",
       "8           8        650  2018                  0.00\n",
       "9           8        650  2019                  0.00\n",
       "12          8        651  2012                  0.00\n",
       "13          8        651  2013             87,674.67\n",
       "14          8        651  2014             87,674.67\n",
       "15          8        651  2015             92,421.33\n",
       "16          8        651  2016              4,746.67\n",
       "17          8        651  2017              7,380.33\n",
       "18          8        651  2018              2,633.67"
      ]
     },
     "execution_count": 123,
     "metadata": {},
     "output_type": "execute_result"
    }
   ],
   "source": [
    "# Filter out rows where the rolling average could not be calculated (first two years for each country)\n",
    "product_rolling_exports.dropna(subset=[\"average_export_value\"], inplace=True)\n",
    "product_rolling_exports.head(15)"
   ]
  },
  {
   "cell_type": "code",
   "execution_count": 124,
   "metadata": {},
   "outputs": [
    {
     "name": "stdout",
     "output_type": "stream",
     "text": [
      "['df', <class 'pandas.core.frame.DataFrame'>]\n",
      "============================================================\n",
      "shape:\n",
      "(1408240, 4)\n",
      "============================================================\n",
      "data types:\n",
      "country_id              category\n",
      "product_id              category\n",
      "year                    category\n",
      "average_export_value     float64\n",
      "dtype: object\n",
      "============================================================\n",
      "columns:\n",
      "['country_id', 'product_id', 'year', 'average_export_value']\n",
      "============================================================\n",
      "       average_export_value\n",
      "count          1,408,240.00\n",
      "mean          92,694,429.21\n",
      "std        1,431,323,301.33\n",
      "min                    0.00\n",
      "25%                    0.00\n",
      "50%              132,606.33\n",
      "75%            4,608,486.33\n",
      "max      359,983,930,717.33\n",
      "============================================================\n",
      "Total memory usage: 29599390 bytes\n",
      "============================================================\n"
     ]
    }
   ],
   "source": [
    "df_stats(product_rolling_exports)"
   ]
  },
  {
   "cell_type": "code",
   "execution_count": 125,
   "metadata": {},
   "outputs": [
    {
     "data": {
      "text/html": [
       "<div>\n",
       "<style scoped>\n",
       "    .dataframe tbody tr th:only-of-type {\n",
       "        vertical-align: middle;\n",
       "    }\n",
       "\n",
       "    .dataframe tbody tr th {\n",
       "        vertical-align: top;\n",
       "    }\n",
       "\n",
       "    .dataframe thead tr th {\n",
       "        text-align: left;\n",
       "    }\n",
       "\n",
       "    .dataframe thead tr:last-of-type th {\n",
       "        text-align: right;\n",
       "    }\n",
       "</style>\n",
       "<table border=\"1\" class=\"dataframe\">\n",
       "  <thead>\n",
       "    <tr>\n",
       "      <th></th>\n",
       "      <th></th>\n",
       "      <th colspan=\"8\" halign=\"left\">average_export_value</th>\n",
       "    </tr>\n",
       "    <tr>\n",
       "      <th></th>\n",
       "      <th>year</th>\n",
       "      <th>2012</th>\n",
       "      <th>2013</th>\n",
       "      <th>2014</th>\n",
       "      <th>2015</th>\n",
       "      <th>2016</th>\n",
       "      <th>2017</th>\n",
       "      <th>2018</th>\n",
       "      <th>2019</th>\n",
       "    </tr>\n",
       "    <tr>\n",
       "      <th>country_id</th>\n",
       "      <th>product_id</th>\n",
       "      <th></th>\n",
       "      <th></th>\n",
       "      <th></th>\n",
       "      <th></th>\n",
       "      <th></th>\n",
       "      <th></th>\n",
       "      <th></th>\n",
       "      <th></th>\n",
       "    </tr>\n",
       "  </thead>\n",
       "  <tbody>\n",
       "    <tr>\n",
       "      <th>430</th>\n",
       "      <th>1150</th>\n",
       "      <td>4,566.00</td>\n",
       "      <td>4,566.00</td>\n",
       "      <td>0.00</td>\n",
       "      <td>0.00</td>\n",
       "      <td>0.00</td>\n",
       "      <td>0.00</td>\n",
       "      <td>0.00</td>\n",
       "      <td>2,891.67</td>\n",
       "    </tr>\n",
       "    <tr>\n",
       "      <th>784</th>\n",
       "      <th>1133</th>\n",
       "      <td>7,327,600.33</td>\n",
       "      <td>7,996,723.67</td>\n",
       "      <td>8,475,702.00</td>\n",
       "      <td>3,092,981.00</td>\n",
       "      <td>2,731,447.00</td>\n",
       "      <td>5,894,915.00</td>\n",
       "      <td>16,893,712.67</td>\n",
       "      <td>24,861,503.00</td>\n",
       "    </tr>\n",
       "    <tr>\n",
       "      <th>768</th>\n",
       "      <th>1307</th>\n",
       "      <td>0.00</td>\n",
       "      <td>17,511.33</td>\n",
       "      <td>17,511.33</td>\n",
       "      <td>17,511.33</td>\n",
       "      <td>0.00</td>\n",
       "      <td>0.00</td>\n",
       "      <td>0.00</td>\n",
       "      <td>0.00</td>\n",
       "    </tr>\n",
       "    <tr>\n",
       "      <th>144</th>\n",
       "      <th>1026</th>\n",
       "      <td>0.00</td>\n",
       "      <td>0.00</td>\n",
       "      <td>1,972.67</td>\n",
       "      <td>7,828.67</td>\n",
       "      <td>10,482.00</td>\n",
       "      <td>12,328.67</td>\n",
       "      <td>10,652.00</td>\n",
       "      <td>13,207.67</td>\n",
       "    </tr>\n",
       "    <tr>\n",
       "      <th>764</th>\n",
       "      <th>814</th>\n",
       "      <td>232,044,444.67</td>\n",
       "      <td>264,475,270.33</td>\n",
       "      <td>290,246,151.33</td>\n",
       "      <td>318,353,999.33</td>\n",
       "      <td>340,514,507.00</td>\n",
       "      <td>365,589,158.00</td>\n",
       "      <td>390,327,332.67</td>\n",
       "      <td>414,632,431.67</td>\n",
       "    </tr>\n",
       "    <tr>\n",
       "      <th>12</th>\n",
       "      <th>887</th>\n",
       "      <td>960,296.33</td>\n",
       "      <td>156,557.67</td>\n",
       "      <td>156,557.67</td>\n",
       "      <td>0.00</td>\n",
       "      <td>1,142,349.33</td>\n",
       "      <td>2,425,136.67</td>\n",
       "      <td>2,721,070.33</td>\n",
       "      <td>1,578,721.00</td>\n",
       "    </tr>\n",
       "    <tr>\n",
       "      <th>558</th>\n",
       "      <th>1333</th>\n",
       "      <td>16,414,201.67</td>\n",
       "      <td>30,063,294.33</td>\n",
       "      <td>57,238,474.00</td>\n",
       "      <td>66,019,212.33</td>\n",
       "      <td>65,773,501.00</td>\n",
       "      <td>52,615,871.33</td>\n",
       "      <td>46,377,435.33</td>\n",
       "      <td>47,473,955.00</td>\n",
       "    </tr>\n",
       "    <tr>\n",
       "      <th>270</th>\n",
       "      <th>1508</th>\n",
       "      <td>0.00</td>\n",
       "      <td>5,674.67</td>\n",
       "      <td>5,674.67</td>\n",
       "      <td>5,674.67</td>\n",
       "      <td>0.00</td>\n",
       "      <td>0.00</td>\n",
       "      <td>0.00</td>\n",
       "      <td>0.00</td>\n",
       "    </tr>\n",
       "    <tr>\n",
       "      <th>768</th>\n",
       "      <th>1507</th>\n",
       "      <td>944,929.33</td>\n",
       "      <td>828,201.00</td>\n",
       "      <td>710,097.00</td>\n",
       "      <td>405,387.00</td>\n",
       "      <td>201,868.67</td>\n",
       "      <td>94,761.00</td>\n",
       "      <td>102,904.00</td>\n",
       "      <td>159,555.67</td>\n",
       "    </tr>\n",
       "    <tr>\n",
       "      <th>703</th>\n",
       "      <th>1611</th>\n",
       "      <td>235,046.00</td>\n",
       "      <td>163,529.33</td>\n",
       "      <td>118,759.33</td>\n",
       "      <td>157,851.33</td>\n",
       "      <td>265,451.00</td>\n",
       "      <td>433,202.67</td>\n",
       "      <td>532,989.33</td>\n",
       "      <td>598,939.33</td>\n",
       "    </tr>\n",
       "  </tbody>\n",
       "</table>\n",
       "</div>"
      ],
      "text/plain": [
       "                      average_export_value                                \\\n",
       "year                                  2012           2013           2014   \n",
       "country_id product_id                                                      \n",
       "430        1150                   4,566.00       4,566.00           0.00   \n",
       "784        1133               7,327,600.33   7,996,723.67   8,475,702.00   \n",
       "768        1307                       0.00      17,511.33      17,511.33   \n",
       "144        1026                       0.00           0.00       1,972.67   \n",
       "764        814              232,044,444.67 264,475,270.33 290,246,151.33   \n",
       "12         887                  960,296.33     156,557.67     156,557.67   \n",
       "558        1333              16,414,201.67  30,063,294.33  57,238,474.00   \n",
       "270        1508                       0.00       5,674.67       5,674.67   \n",
       "768        1507                 944,929.33     828,201.00     710,097.00   \n",
       "703        1611                 235,046.00     163,529.33     118,759.33   \n",
       "\n",
       "                                                                    \\\n",
       "year                            2015           2016           2017   \n",
       "country_id product_id                                                \n",
       "430        1150                 0.00           0.00           0.00   \n",
       "784        1133         3,092,981.00   2,731,447.00   5,894,915.00   \n",
       "768        1307            17,511.33           0.00           0.00   \n",
       "144        1026             7,828.67      10,482.00      12,328.67   \n",
       "764        814        318,353,999.33 340,514,507.00 365,589,158.00   \n",
       "12         887                  0.00   1,142,349.33   2,425,136.67   \n",
       "558        1333        66,019,212.33  65,773,501.00  52,615,871.33   \n",
       "270        1508             5,674.67           0.00           0.00   \n",
       "768        1507           405,387.00     201,868.67      94,761.00   \n",
       "703        1611           157,851.33     265,451.00     433,202.67   \n",
       "\n",
       "                                                     \n",
       "year                            2018           2019  \n",
       "country_id product_id                                \n",
       "430        1150                 0.00       2,891.67  \n",
       "784        1133        16,893,712.67  24,861,503.00  \n",
       "768        1307                 0.00           0.00  \n",
       "144        1026            10,652.00      13,207.67  \n",
       "764        814        390,327,332.67 414,632,431.67  \n",
       "12         887          2,721,070.33   1,578,721.00  \n",
       "558        1333        46,377,435.33  47,473,955.00  \n",
       "270        1508                 0.00           0.00  \n",
       "768        1507           102,904.00     159,555.67  \n",
       "703        1611           532,989.33     598,939.33  "
      ]
     },
     "execution_count": 125,
     "metadata": {},
     "output_type": "execute_result"
    }
   ],
   "source": [
    "# Exploring the product_rolling_exports data\n",
    "product_rolling_exports_unstacked = product_rolling_exports.pivot(\n",
    "    index=[\"country_id\", \"product_id\"], columns=\"year\", values=[\"average_export_value\"]\n",
    ")\n",
    "product_rolling_exports_unstacked.sample(10)"
   ]
  },
  {
   "cell_type": "markdown",
   "metadata": {},
   "source": [
    "Staging product rolling exports. Actually \"product rolling exports\" is location–activity matrix Xcp. "
   ]
  },
  {
   "cell_type": "code",
   "execution_count": 126,
   "metadata": {},
   "outputs": [
    {
     "name": "stdout",
     "output_type": "stream",
     "text": [
      "country_id column initial type:\n",
      "category\n",
      "============================================================\n",
      "country_id column final type:\n",
      "int16\n",
      "============================================================\n",
      "product_id column initial type:\n",
      "category\n",
      "============================================================\n",
      "product_id column final type:\n",
      "int16\n",
      "============================================================\n",
      "year column initial type:\n",
      "category\n",
      "============================================================\n",
      "year column final type:\n",
      "int16\n",
      "============================================================\n"
     ]
    }
   ],
   "source": [
    "# Save the product_rolling_exports average Data to a .parquet file\n",
    "output_file_name = \"product_rolling_exports.parquet\"\n",
    "save_hs92_parquet_data(\n",
    "    data=product_rolling_exports,\n",
    "    file_location=output_file_location,\n",
    "    file_name=output_file_name,\n",
    ")"
   ]
  },
  {
   "cell_type": "code",
   "execution_count": null,
   "metadata": {},
   "outputs": [
    {
     "name": "stdout",
     "output_type": "stream",
     "text": [
      "country_id column initial type:\n",
      "category\n",
      "============================================================\n",
      "country_id column final type:\n",
      "int16\n",
      "============================================================\n",
      "product_id column initial type:\n",
      "category\n",
      "============================================================\n",
      "product_id column final type:\n",
      "int16\n",
      "============================================================\n",
      "year column initial type:\n",
      "category\n",
      "============================================================\n",
      "year column final type:\n",
      "int16\n",
      "============================================================\n"
     ]
    }
   ],
   "source": [
    "# Save the product_rolling_exports average Data to a .parquet file\n",
    "output_file_name = \"raw_X_cp.parquet\"\n",
    "save_hs92_parquet_data(\n",
    "    data=product_rolling_exports,\n",
    "    file_location=output_file_location,\n",
    "    file_name=output_file_name,\n",
    ")"
   ]
  },
  {
   "cell_type": "code",
   "execution_count": 128,
   "metadata": {},
   "outputs": [
    {
     "name": "stdout",
     "output_type": "stream",
     "text": [
      "data staged:['valid_gdp_country_codes', 'valid_gdp_country_ids', 'valid_gdp_locations', 'export_years', 'unreliable_locations', 'rolling_exports_years', 'reliable_gdp_codes']\n",
      "============================================================\n"
     ]
    }
   ],
   "source": [
    "dumped_data[\"rolling_exports_years\"] = set(product_rolling_exports[\"year\"].unique())\n",
    "\n",
    "staging_cache(output_file_location=input_file_location, **dumped_data)"
   ]
  },
  {
   "cell_type": "code",
   "execution_count": 129,
   "metadata": {},
   "outputs": [
    {
     "data": {
      "text/plain": [
       "0"
      ]
     },
     "execution_count": 129,
     "metadata": {},
     "output_type": "execute_result"
    }
   ],
   "source": [
    "del product_rolling_exports, product_rolling_exports_unstacked\n",
    "gc.collect()"
   ]
  },
  {
   "cell_type": "code",
   "execution_count": 130,
   "metadata": {},
   "outputs": [],
   "source": [
    "# assert False, \"End of code\""
   ]
  },
  {
   "cell_type": "markdown",
   "metadata": {},
   "source": [
    "# Summarizing total country-level exports"
   ]
  },
  {
   "cell_type": "code",
   "execution_count": 131,
   "metadata": {},
   "outputs": [
    {
     "name": "stdout",
     "output_type": "stream",
     "text": [
      "country_id column initial type:\n",
      "int16\n",
      "============================================================\n",
      "country_id column final type:\n",
      "category\n",
      "============================================================\n",
      "year column initial type:\n",
      "int16\n",
      "============================================================\n",
      "year column final type:\n",
      "category\n",
      "============================================================\n"
     ]
    }
   ],
   "source": [
    "col_names = [\"country_id\", \"year\", \"export_value\"]\n",
    "\n",
    "input_file_name = \"raw_product_exports_total.parquet\"\n",
    "country_exports_total = read_hs92_parquet_data(\n",
    "    output_file_location, input_file_name, columns=col_names\n",
    ")"
   ]
  },
  {
   "cell_type": "code",
   "execution_count": 132,
   "metadata": {},
   "outputs": [],
   "source": [
    "# Summarizing the exports_value data across country and year\n",
    "country_exports_total = (\n",
    "    country_exports_total.groupby([\"country_id\", \"year\"], observed=False)[\n",
    "        \"export_value\"\n",
    "    ]\n",
    "    .sum()\n",
    "    .reset_index()\n",
    ")"
   ]
  },
  {
   "cell_type": "code",
   "execution_count": 133,
   "metadata": {},
   "outputs": [
    {
     "name": "stdout",
     "output_type": "stream",
     "text": [
      "['df', <class 'pandas.core.frame.DataFrame'>]\n",
      "============================================================\n",
      "shape:\n",
      "(1450, 3)\n",
      "============================================================\n",
      "data types:\n",
      "country_id      category\n",
      "year            category\n",
      "export_value       int64\n",
      "dtype: object\n",
      "============================================================\n",
      "columns:\n",
      "['country_id', 'year', 'export_value']\n",
      "============================================================\n",
      "              export_value\n",
      "count             1,450.00\n",
      "mean    112,315,356,118.68\n",
      "std     269,142,722,787.11\n",
      "min          73,553,867.00\n",
      "25%       3,630,718,268.75\n",
      "50%      13,847,902,146.50\n",
      "75%      94,710,036,749.00\n",
      "max   2,468,483,493,200.00\n",
      "============================================================\n",
      "Total memory usage: 19228 bytes\n",
      "============================================================\n"
     ]
    }
   ],
   "source": [
    "df_stats(country_exports_total)"
   ]
  },
  {
   "cell_type": "code",
   "execution_count": 134,
   "metadata": {},
   "outputs": [
    {
     "data": {
      "text/html": [
       "<div>\n",
       "<style scoped>\n",
       "    .dataframe tbody tr th:only-of-type {\n",
       "        vertical-align: middle;\n",
       "    }\n",
       "\n",
       "    .dataframe tbody tr th {\n",
       "        vertical-align: top;\n",
       "    }\n",
       "\n",
       "    .dataframe thead th {\n",
       "        text-align: right;\n",
       "    }\n",
       "</style>\n",
       "<table border=\"1\" class=\"dataframe\">\n",
       "  <thead>\n",
       "    <tr style=\"text-align: right;\">\n",
       "      <th></th>\n",
       "      <th>country_id</th>\n",
       "      <th>year</th>\n",
       "      <th>export_value</th>\n",
       "    </tr>\n",
       "  </thead>\n",
       "  <tbody>\n",
       "    <tr>\n",
       "      <th>0</th>\n",
       "      <td>8</td>\n",
       "      <td>2010</td>\n",
       "      <td>1596114928</td>\n",
       "    </tr>\n",
       "    <tr>\n",
       "      <th>1</th>\n",
       "      <td>8</td>\n",
       "      <td>2011</td>\n",
       "      <td>1954231052</td>\n",
       "    </tr>\n",
       "    <tr>\n",
       "      <th>2</th>\n",
       "      <td>8</td>\n",
       "      <td>2012</td>\n",
       "      <td>1978862984</td>\n",
       "    </tr>\n",
       "    <tr>\n",
       "      <th>3</th>\n",
       "      <td>8</td>\n",
       "      <td>2013</td>\n",
       "      <td>2540723872</td>\n",
       "    </tr>\n",
       "    <tr>\n",
       "      <th>4</th>\n",
       "      <td>8</td>\n",
       "      <td>2014</td>\n",
       "      <td>2527803546</td>\n",
       "    </tr>\n",
       "    <tr>\n",
       "      <th>5</th>\n",
       "      <td>8</td>\n",
       "      <td>2015</td>\n",
       "      <td>2005707313</td>\n",
       "    </tr>\n",
       "    <tr>\n",
       "      <th>6</th>\n",
       "      <td>8</td>\n",
       "      <td>2016</td>\n",
       "      <td>2055737037</td>\n",
       "    </tr>\n",
       "    <tr>\n",
       "      <th>7</th>\n",
       "      <td>8</td>\n",
       "      <td>2017</td>\n",
       "      <td>2340459217</td>\n",
       "    </tr>\n",
       "    <tr>\n",
       "      <th>8</th>\n",
       "      <td>8</td>\n",
       "      <td>2018</td>\n",
       "      <td>2747924814</td>\n",
       "    </tr>\n",
       "    <tr>\n",
       "      <th>9</th>\n",
       "      <td>8</td>\n",
       "      <td>2019</td>\n",
       "      <td>2730367990</td>\n",
       "    </tr>\n",
       "    <tr>\n",
       "      <th>10</th>\n",
       "      <td>12</td>\n",
       "      <td>2010</td>\n",
       "      <td>50692064627</td>\n",
       "    </tr>\n",
       "    <tr>\n",
       "      <th>11</th>\n",
       "      <td>12</td>\n",
       "      <td>2011</td>\n",
       "      <td>68575540891</td>\n",
       "    </tr>\n",
       "    <tr>\n",
       "      <th>12</th>\n",
       "      <td>12</td>\n",
       "      <td>2012</td>\n",
       "      <td>67836667672</td>\n",
       "    </tr>\n",
       "    <tr>\n",
       "      <th>13</th>\n",
       "      <td>12</td>\n",
       "      <td>2013</td>\n",
       "      <td>59966474697</td>\n",
       "    </tr>\n",
       "    <tr>\n",
       "      <th>14</th>\n",
       "      <td>12</td>\n",
       "      <td>2014</td>\n",
       "      <td>54954357245</td>\n",
       "    </tr>\n",
       "  </tbody>\n",
       "</table>\n",
       "</div>"
      ],
      "text/plain": [
       "   country_id  year  export_value\n",
       "0           8  2010    1596114928\n",
       "1           8  2011    1954231052\n",
       "2           8  2012    1978862984\n",
       "3           8  2013    2540723872\n",
       "4           8  2014    2527803546\n",
       "5           8  2015    2005707313\n",
       "6           8  2016    2055737037\n",
       "7           8  2017    2340459217\n",
       "8           8  2018    2747924814\n",
       "9           8  2019    2730367990\n",
       "10         12  2010   50692064627\n",
       "11         12  2011   68575540891\n",
       "12         12  2012   67836667672\n",
       "13         12  2013   59966474697\n",
       "14         12  2014   54954357245"
      ]
     },
     "execution_count": 134,
     "metadata": {},
     "output_type": "execute_result"
    }
   ],
   "source": [
    "country_exports_total.head(15)"
   ]
  },
  {
   "cell_type": "code",
   "execution_count": 135,
   "metadata": {},
   "outputs": [],
   "source": [
    "# country_exports_total = switch_to_dtype(country_exports_total, default_dtype='int16', categorical_columns=['country_id', 'year'])\n",
    "\n",
    "# Sort the DataFrame by country and year\n",
    "country_exports_total = country_exports_total.sort_values(by=[\"country_id\", \"year\"])\n",
    "\n",
    "# country_exports_total = switch_to_dtype(country_exports_total, default_dtype='str', categorical_columns=['country_id', 'year'])"
   ]
  },
  {
   "cell_type": "code",
   "execution_count": 136,
   "metadata": {},
   "outputs": [
    {
     "data": {
      "text/html": [
       "<div>\n",
       "<style scoped>\n",
       "    .dataframe tbody tr th:only-of-type {\n",
       "        vertical-align: middle;\n",
       "    }\n",
       "\n",
       "    .dataframe tbody tr th {\n",
       "        vertical-align: top;\n",
       "    }\n",
       "\n",
       "    .dataframe thead th {\n",
       "        text-align: right;\n",
       "    }\n",
       "</style>\n",
       "<table border=\"1\" class=\"dataframe\">\n",
       "  <thead>\n",
       "    <tr style=\"text-align: right;\">\n",
       "      <th></th>\n",
       "      <th>country_id</th>\n",
       "      <th>year</th>\n",
       "      <th>export_value</th>\n",
       "    </tr>\n",
       "  </thead>\n",
       "  <tbody>\n",
       "  </tbody>\n",
       "</table>\n",
       "</div>"
      ],
      "text/plain": [
       "Empty DataFrame\n",
       "Columns: [country_id, year, export_value]\n",
       "Index: []"
      ]
     },
     "execution_count": 136,
     "metadata": {},
     "output_type": "execute_result"
    }
   ],
   "source": [
    "country_exports_total[\n",
    "    country_exports_total.duplicated(subset=[\"country_id\", \"year\"], keep=False)\n",
    "]"
   ]
  },
  {
   "cell_type": "code",
   "execution_count": 137,
   "metadata": {},
   "outputs": [
    {
     "data": {
      "text/html": [
       "<div>\n",
       "<style scoped>\n",
       "    .dataframe tbody tr th:only-of-type {\n",
       "        vertical-align: middle;\n",
       "    }\n",
       "\n",
       "    .dataframe tbody tr th {\n",
       "        vertical-align: top;\n",
       "    }\n",
       "\n",
       "    .dataframe thead tr th {\n",
       "        text-align: left;\n",
       "    }\n",
       "\n",
       "    .dataframe thead tr:last-of-type th {\n",
       "        text-align: right;\n",
       "    }\n",
       "</style>\n",
       "<table border=\"1\" class=\"dataframe\">\n",
       "  <thead>\n",
       "    <tr>\n",
       "      <th></th>\n",
       "      <th colspan=\"10\" halign=\"left\">export_value</th>\n",
       "    </tr>\n",
       "    <tr>\n",
       "      <th>year</th>\n",
       "      <th>2010</th>\n",
       "      <th>2011</th>\n",
       "      <th>2012</th>\n",
       "      <th>2013</th>\n",
       "      <th>2014</th>\n",
       "      <th>2015</th>\n",
       "      <th>2016</th>\n",
       "      <th>2017</th>\n",
       "      <th>2018</th>\n",
       "      <th>2019</th>\n",
       "    </tr>\n",
       "    <tr>\n",
       "      <th>country_id</th>\n",
       "      <th></th>\n",
       "      <th></th>\n",
       "      <th></th>\n",
       "      <th></th>\n",
       "      <th></th>\n",
       "      <th></th>\n",
       "      <th></th>\n",
       "      <th></th>\n",
       "      <th></th>\n",
       "      <th></th>\n",
       "    </tr>\n",
       "  </thead>\n",
       "  <tbody>\n",
       "    <tr>\n",
       "      <th>434</th>\n",
       "      <td>41714799640</td>\n",
       "      <td>16138990227</td>\n",
       "      <td>48991798433</td>\n",
       "      <td>35434764153</td>\n",
       "      <td>17318212128</td>\n",
       "      <td>9548168120</td>\n",
       "      <td>10904699715</td>\n",
       "      <td>17877509102</td>\n",
       "      <td>28210052936</td>\n",
       "      <td>29806898256</td>\n",
       "    </tr>\n",
       "    <tr>\n",
       "      <th>430</th>\n",
       "      <td>811354216</td>\n",
       "      <td>829664384</td>\n",
       "      <td>1100892192</td>\n",
       "      <td>1122144916</td>\n",
       "      <td>1234238004</td>\n",
       "      <td>1496341506</td>\n",
       "      <td>868261362</td>\n",
       "      <td>1076243656</td>\n",
       "      <td>1183994577</td>\n",
       "      <td>1155315663</td>\n",
       "    </tr>\n",
       "    <tr>\n",
       "      <th>562</th>\n",
       "      <td>321686567</td>\n",
       "      <td>493044787</td>\n",
       "      <td>998047130</td>\n",
       "      <td>1898980227</td>\n",
       "      <td>671719501</td>\n",
       "      <td>713645878</td>\n",
       "      <td>583299171</td>\n",
       "      <td>647729013</td>\n",
       "      <td>621729763</td>\n",
       "      <td>854398244</td>\n",
       "    </tr>\n",
       "    <tr>\n",
       "      <th>70</th>\n",
       "      <td>4316750567</td>\n",
       "      <td>5458902941</td>\n",
       "      <td>4905181137</td>\n",
       "      <td>5398861022</td>\n",
       "      <td>5775655057</td>\n",
       "      <td>4977918497</td>\n",
       "      <td>5226777272</td>\n",
       "      <td>5979080314</td>\n",
       "      <td>6756703691</td>\n",
       "      <td>6311020484</td>\n",
       "    </tr>\n",
       "    <tr>\n",
       "      <th>178</th>\n",
       "      <td>10232840438</td>\n",
       "      <td>10924816114</td>\n",
       "      <td>9378327809</td>\n",
       "      <td>10167499336</td>\n",
       "      <td>10601701550</td>\n",
       "      <td>8250362944</td>\n",
       "      <td>6723077538</td>\n",
       "      <td>7442084954</td>\n",
       "      <td>11291624853</td>\n",
       "      <td>8655487392</td>\n",
       "    </tr>\n",
       "    <tr>\n",
       "      <th>440</th>\n",
       "      <td>18246295279</td>\n",
       "      <td>25198442963</td>\n",
       "      <td>26728765514</td>\n",
       "      <td>27446181368</td>\n",
       "      <td>27921519687</td>\n",
       "      <td>21500472799</td>\n",
       "      <td>21257991333</td>\n",
       "      <td>24799563050</td>\n",
       "      <td>28557762582</td>\n",
       "      <td>28931724735</td>\n",
       "    </tr>\n",
       "    <tr>\n",
       "      <th>218</th>\n",
       "      <td>18103531580</td>\n",
       "      <td>23598871389</td>\n",
       "      <td>24977531192</td>\n",
       "      <td>24502502727</td>\n",
       "      <td>27532956483</td>\n",
       "      <td>18130945108</td>\n",
       "      <td>16679370147</td>\n",
       "      <td>18486102410</td>\n",
       "      <td>20964006012</td>\n",
       "      <td>22250745505</td>\n",
       "    </tr>\n",
       "    <tr>\n",
       "      <th>729</th>\n",
       "      <td>10647960138</td>\n",
       "      <td>12630638720</td>\n",
       "      <td>4942707174</td>\n",
       "      <td>11670354508</td>\n",
       "      <td>5066776025</td>\n",
       "      <td>3434827225</td>\n",
       "      <td>3304680151</td>\n",
       "      <td>4280191740</td>\n",
       "      <td>3827331456</td>\n",
       "      <td>3360808612</td>\n",
       "    </tr>\n",
       "    <tr>\n",
       "      <th>108</th>\n",
       "      <td>87347555</td>\n",
       "      <td>163809315</td>\n",
       "      <td>380429436</td>\n",
       "      <td>250349519</td>\n",
       "      <td>242757058</td>\n",
       "      <td>211132091</td>\n",
       "      <td>157600620</td>\n",
       "      <td>144865625</td>\n",
       "      <td>196696301</td>\n",
       "      <td>207785851</td>\n",
       "    </tr>\n",
       "    <tr>\n",
       "      <th>792</th>\n",
       "      <td>111918115010</td>\n",
       "      <td>132170952754</td>\n",
       "      <td>148794833030</td>\n",
       "      <td>156306329352</td>\n",
       "      <td>160587959224</td>\n",
       "      <td>146361153410</td>\n",
       "      <td>143946558314</td>\n",
       "      <td>157485974711</td>\n",
       "      <td>172700887421</td>\n",
       "      <td>175198946000</td>\n",
       "    </tr>\n",
       "  </tbody>\n",
       "</table>\n",
       "</div>"
      ],
      "text/plain": [
       "            export_value                                            \\\n",
       "year                2010          2011          2012          2013   \n",
       "country_id                                                           \n",
       "434          41714799640   16138990227   48991798433   35434764153   \n",
       "430            811354216     829664384    1100892192    1122144916   \n",
       "562            321686567     493044787     998047130    1898980227   \n",
       "70            4316750567    5458902941    4905181137    5398861022   \n",
       "178          10232840438   10924816114    9378327809   10167499336   \n",
       "440          18246295279   25198442963   26728765514   27446181368   \n",
       "218          18103531580   23598871389   24977531192   24502502727   \n",
       "729          10647960138   12630638720    4942707174   11670354508   \n",
       "108             87347555     163809315     380429436     250349519   \n",
       "792         111918115010  132170952754  148794833030  156306329352   \n",
       "\n",
       "                                                                    \\\n",
       "year                2014          2015          2016          2017   \n",
       "country_id                                                           \n",
       "434          17318212128    9548168120   10904699715   17877509102   \n",
       "430           1234238004    1496341506     868261362    1076243656   \n",
       "562            671719501     713645878     583299171     647729013   \n",
       "70            5775655057    4977918497    5226777272    5979080314   \n",
       "178          10601701550    8250362944    6723077538    7442084954   \n",
       "440          27921519687   21500472799   21257991333   24799563050   \n",
       "218          27532956483   18130945108   16679370147   18486102410   \n",
       "729           5066776025    3434827225    3304680151    4280191740   \n",
       "108            242757058     211132091     157600620     144865625   \n",
       "792         160587959224  146361153410  143946558314  157485974711   \n",
       "\n",
       "                                        \n",
       "year                2018          2019  \n",
       "country_id                              \n",
       "434          28210052936   29806898256  \n",
       "430           1183994577    1155315663  \n",
       "562            621729763     854398244  \n",
       "70            6756703691    6311020484  \n",
       "178          11291624853    8655487392  \n",
       "440          28557762582   28931724735  \n",
       "218          20964006012   22250745505  \n",
       "729           3827331456    3360808612  \n",
       "108            196696301     207785851  \n",
       "792         172700887421  175198946000  "
      ]
     },
     "execution_count": 137,
     "metadata": {},
     "output_type": "execute_result"
    }
   ],
   "source": [
    "# Exploring the exports_summary data\n",
    "country_exports_unstacked = country_exports_total.pivot(\n",
    "    index=[\"country_id\"], columns=\"year\", values=[\"export_value\"]\n",
    ")\n",
    "country_exports_unstacked.sample(10)"
   ]
  },
  {
   "cell_type": "code",
   "execution_count": 138,
   "metadata": {},
   "outputs": [
    {
     "data": {
      "text/plain": [
       "(145, 10)"
      ]
     },
     "execution_count": 138,
     "metadata": {},
     "output_type": "execute_result"
    }
   ],
   "source": [
    "country_exports_unstacked.shape"
   ]
  },
  {
   "cell_type": "code",
   "execution_count": 139,
   "metadata": {},
   "outputs": [
    {
     "data": {
      "text/plain": [
       "0"
      ]
     },
     "execution_count": 139,
     "metadata": {},
     "output_type": "execute_result"
    }
   ],
   "source": [
    "del country_exports_unstacked\n",
    "gc.collect()"
   ]
  },
  {
   "cell_type": "code",
   "execution_count": 140,
   "metadata": {},
   "outputs": [],
   "source": [
    "# Calculating 'country exports rolling average'. Solution 2\n",
    "# It is superior in terms of both efficiency and long-term maintainability.\n",
    "# It avoids the overhead of double transpositions and directly operates on the sorted DataFrame using groupby and transform, which is optimized for such operations in pandas\n",
    "\n",
    "# country_exports_total = switch_to_dtype(country_exports_total, default_dtype='int16', categorical_columns=['country_id', 'year'])\n",
    "\n",
    "# Sort the DataFrame by 'country_id' and 'year' to ensure correct rolling window calculation\n",
    "country_exports_total = country_exports_total.sort_values(by=[\"country_id\", \"year\"])\n",
    "\n",
    "# country_exports_total = switch_to_dtype(country_exports_total, default_dtype='str', categorical_columns=['country_id', 'year'])\n",
    "\n",
    "# Group by 'country_id' and apply rolling average on 'export_value'\n",
    "country_exports_total[\"average_export_value\"] = country_exports_total.groupby(\n",
    "    [\"country_id\"], observed=False\n",
    ")[\"export_value\"].transform(lambda x: x.rolling(window=3).mean())"
   ]
  },
  {
   "cell_type": "code",
   "execution_count": 141,
   "metadata": {},
   "outputs": [
    {
     "name": "stdout",
     "output_type": "stream",
     "text": [
      "['df', <class 'pandas.core.frame.DataFrame'>]\n",
      "============================================================\n",
      "shape:\n",
      "(1450, 4)\n",
      "============================================================\n",
      "data types:\n",
      "country_id              category\n",
      "year                    category\n",
      "export_value               int64\n",
      "average_export_value     float64\n",
      "dtype: object\n",
      "============================================================\n",
      "columns:\n",
      "['country_id', 'year', 'export_value', 'average_export_value']\n",
      "============================================================\n",
      "              export_value  average_export_value\n",
      "count             1,450.00              1,160.00\n",
      "mean    112,315,356,118.68    112,531,037,061.54\n",
      "std     269,142,722,787.11    269,461,923,213.84\n",
      "min          73,553,867.00         85,456,830.00\n",
      "25%       3,630,718,268.75      3,809,652,423.33\n",
      "50%      13,847,902,146.50     14,104,899,439.67\n",
      "75%      94,710,036,749.00     99,468,218,391.25\n",
      "max   2,468,483,493,200.00  2,402,043,349,141.67\n",
      "============================================================\n",
      "Total memory usage: 30828 bytes\n",
      "============================================================\n"
     ]
    }
   ],
   "source": [
    "df_stats(country_exports_total)"
   ]
  },
  {
   "cell_type": "markdown",
   "metadata": {},
   "source": [
    "Staging total country-level exports along with rolling average. We call it raw_ because it is with missing values"
   ]
  },
  {
   "cell_type": "code",
   "execution_count": 142,
   "metadata": {},
   "outputs": [
    {
     "name": "stdout",
     "output_type": "stream",
     "text": [
      "country_id column initial type:\n",
      "category\n",
      "============================================================\n",
      "country_id column final type:\n",
      "int16\n",
      "============================================================\n",
      "year column initial type:\n",
      "category\n",
      "============================================================\n",
      "year column final type:\n",
      "int16\n",
      "============================================================\n"
     ]
    }
   ],
   "source": [
    "# Save the product_rolling_exports average Data to a .parquet file\n",
    "output_file_name = \"raw_country_total_exports.parquet\"\n",
    "save_hs92_parquet_data(\n",
    "    data=country_exports_total,\n",
    "    file_location=output_file_location,\n",
    "    file_name=output_file_name,\n",
    ")"
   ]
  },
  {
   "cell_type": "code",
   "execution_count": 143,
   "metadata": {},
   "outputs": [
    {
     "data": {
      "text/plain": [
       "0"
      ]
     },
     "execution_count": 143,
     "metadata": {},
     "output_type": "execute_result"
    }
   ],
   "source": [
    "del country_exports_total\n",
    "gc.collect()"
   ]
  },
  {
   "cell_type": "code",
   "execution_count": 144,
   "metadata": {},
   "outputs": [
    {
     "name": "stdout",
     "output_type": "stream",
     "text": [
      "country_id column initial type:\n",
      "int16\n",
      "============================================================\n",
      "country_id column final type:\n",
      "category\n",
      "============================================================\n",
      "year column initial type:\n",
      "int16\n",
      "============================================================\n",
      "year column final type:\n",
      "category\n",
      "============================================================\n"
     ]
    }
   ],
   "source": [
    "col_names = [\"country_id\", \"year\", \"average_export_value\"]\n",
    "\n",
    "input_file_name = \"raw_country_total_exports.parquet\"\n",
    "country_rolling_exports = read_hs92_parquet_data(\n",
    "    output_file_location, input_file_name, columns=col_names\n",
    ")"
   ]
  },
  {
   "cell_type": "code",
   "execution_count": 145,
   "metadata": {},
   "outputs": [
    {
     "data": {
      "text/html": [
       "<div>\n",
       "<style scoped>\n",
       "    .dataframe tbody tr th:only-of-type {\n",
       "        vertical-align: middle;\n",
       "    }\n",
       "\n",
       "    .dataframe tbody tr th {\n",
       "        vertical-align: top;\n",
       "    }\n",
       "\n",
       "    .dataframe thead th {\n",
       "        text-align: right;\n",
       "    }\n",
       "</style>\n",
       "<table border=\"1\" class=\"dataframe\">\n",
       "  <thead>\n",
       "    <tr style=\"text-align: right;\">\n",
       "      <th></th>\n",
       "      <th>country_id</th>\n",
       "      <th>year</th>\n",
       "      <th>average_export_value</th>\n",
       "    </tr>\n",
       "  </thead>\n",
       "  <tbody>\n",
       "    <tr>\n",
       "      <th>0</th>\n",
       "      <td>8</td>\n",
       "      <td>2010</td>\n",
       "      <td>NaN</td>\n",
       "    </tr>\n",
       "    <tr>\n",
       "      <th>1</th>\n",
       "      <td>8</td>\n",
       "      <td>2011</td>\n",
       "      <td>NaN</td>\n",
       "    </tr>\n",
       "    <tr>\n",
       "      <th>2</th>\n",
       "      <td>8</td>\n",
       "      <td>2012</td>\n",
       "      <td>1,843,069,654.67</td>\n",
       "    </tr>\n",
       "    <tr>\n",
       "      <th>3</th>\n",
       "      <td>8</td>\n",
       "      <td>2013</td>\n",
       "      <td>2,157,939,302.67</td>\n",
       "    </tr>\n",
       "    <tr>\n",
       "      <th>4</th>\n",
       "      <td>8</td>\n",
       "      <td>2014</td>\n",
       "      <td>2,349,130,134.00</td>\n",
       "    </tr>\n",
       "    <tr>\n",
       "      <th>5</th>\n",
       "      <td>8</td>\n",
       "      <td>2015</td>\n",
       "      <td>2,358,078,243.67</td>\n",
       "    </tr>\n",
       "    <tr>\n",
       "      <th>6</th>\n",
       "      <td>8</td>\n",
       "      <td>2016</td>\n",
       "      <td>2,196,415,965.33</td>\n",
       "    </tr>\n",
       "    <tr>\n",
       "      <th>7</th>\n",
       "      <td>8</td>\n",
       "      <td>2017</td>\n",
       "      <td>2,133,967,855.67</td>\n",
       "    </tr>\n",
       "    <tr>\n",
       "      <th>8</th>\n",
       "      <td>8</td>\n",
       "      <td>2018</td>\n",
       "      <td>2,381,373,689.33</td>\n",
       "    </tr>\n",
       "    <tr>\n",
       "      <th>9</th>\n",
       "      <td>8</td>\n",
       "      <td>2019</td>\n",
       "      <td>2,606,250,673.67</td>\n",
       "    </tr>\n",
       "    <tr>\n",
       "      <th>10</th>\n",
       "      <td>12</td>\n",
       "      <td>2010</td>\n",
       "      <td>NaN</td>\n",
       "    </tr>\n",
       "    <tr>\n",
       "      <th>11</th>\n",
       "      <td>12</td>\n",
       "      <td>2011</td>\n",
       "      <td>NaN</td>\n",
       "    </tr>\n",
       "    <tr>\n",
       "      <th>12</th>\n",
       "      <td>12</td>\n",
       "      <td>2012</td>\n",
       "      <td>62,368,091,063.33</td>\n",
       "    </tr>\n",
       "    <tr>\n",
       "      <th>13</th>\n",
       "      <td>12</td>\n",
       "      <td>2013</td>\n",
       "      <td>65,459,561,086.67</td>\n",
       "    </tr>\n",
       "    <tr>\n",
       "      <th>14</th>\n",
       "      <td>12</td>\n",
       "      <td>2014</td>\n",
       "      <td>60,919,166,538.00</td>\n",
       "    </tr>\n",
       "  </tbody>\n",
       "</table>\n",
       "</div>"
      ],
      "text/plain": [
       "   country_id  year  average_export_value\n",
       "0           8  2010                   NaN\n",
       "1           8  2011                   NaN\n",
       "2           8  2012      1,843,069,654.67\n",
       "3           8  2013      2,157,939,302.67\n",
       "4           8  2014      2,349,130,134.00\n",
       "5           8  2015      2,358,078,243.67\n",
       "6           8  2016      2,196,415,965.33\n",
       "7           8  2017      2,133,967,855.67\n",
       "8           8  2018      2,381,373,689.33\n",
       "9           8  2019      2,606,250,673.67\n",
       "10         12  2010                   NaN\n",
       "11         12  2011                   NaN\n",
       "12         12  2012     62,368,091,063.33\n",
       "13         12  2013     65,459,561,086.67\n",
       "14         12  2014     60,919,166,538.00"
      ]
     },
     "execution_count": 145,
     "metadata": {},
     "output_type": "execute_result"
    }
   ],
   "source": [
    "# country_rolling_exports = country_exports_total.copy()\n",
    "country_rolling_exports.head(15)"
   ]
  },
  {
   "cell_type": "code",
   "execution_count": 146,
   "metadata": {},
   "outputs": [
    {
     "data": {
      "text/html": [
       "<div>\n",
       "<style scoped>\n",
       "    .dataframe tbody tr th:only-of-type {\n",
       "        vertical-align: middle;\n",
       "    }\n",
       "\n",
       "    .dataframe tbody tr th {\n",
       "        vertical-align: top;\n",
       "    }\n",
       "\n",
       "    .dataframe thead th {\n",
       "        text-align: right;\n",
       "    }\n",
       "</style>\n",
       "<table border=\"1\" class=\"dataframe\">\n",
       "  <thead>\n",
       "    <tr style=\"text-align: right;\">\n",
       "      <th></th>\n",
       "      <th>country_id</th>\n",
       "      <th>year</th>\n",
       "      <th>average_export_value</th>\n",
       "    </tr>\n",
       "  </thead>\n",
       "  <tbody>\n",
       "    <tr>\n",
       "      <th>2</th>\n",
       "      <td>8</td>\n",
       "      <td>2012</td>\n",
       "      <td>1,843,069,654.67</td>\n",
       "    </tr>\n",
       "    <tr>\n",
       "      <th>3</th>\n",
       "      <td>8</td>\n",
       "      <td>2013</td>\n",
       "      <td>2,157,939,302.67</td>\n",
       "    </tr>\n",
       "    <tr>\n",
       "      <th>4</th>\n",
       "      <td>8</td>\n",
       "      <td>2014</td>\n",
       "      <td>2,349,130,134.00</td>\n",
       "    </tr>\n",
       "    <tr>\n",
       "      <th>5</th>\n",
       "      <td>8</td>\n",
       "      <td>2015</td>\n",
       "      <td>2,358,078,243.67</td>\n",
       "    </tr>\n",
       "    <tr>\n",
       "      <th>6</th>\n",
       "      <td>8</td>\n",
       "      <td>2016</td>\n",
       "      <td>2,196,415,965.33</td>\n",
       "    </tr>\n",
       "    <tr>\n",
       "      <th>7</th>\n",
       "      <td>8</td>\n",
       "      <td>2017</td>\n",
       "      <td>2,133,967,855.67</td>\n",
       "    </tr>\n",
       "    <tr>\n",
       "      <th>8</th>\n",
       "      <td>8</td>\n",
       "      <td>2018</td>\n",
       "      <td>2,381,373,689.33</td>\n",
       "    </tr>\n",
       "    <tr>\n",
       "      <th>9</th>\n",
       "      <td>8</td>\n",
       "      <td>2019</td>\n",
       "      <td>2,606,250,673.67</td>\n",
       "    </tr>\n",
       "    <tr>\n",
       "      <th>12</th>\n",
       "      <td>12</td>\n",
       "      <td>2012</td>\n",
       "      <td>62,368,091,063.33</td>\n",
       "    </tr>\n",
       "    <tr>\n",
       "      <th>13</th>\n",
       "      <td>12</td>\n",
       "      <td>2013</td>\n",
       "      <td>65,459,561,086.67</td>\n",
       "    </tr>\n",
       "  </tbody>\n",
       "</table>\n",
       "</div>"
      ],
      "text/plain": [
       "   country_id  year  average_export_value\n",
       "2           8  2012      1,843,069,654.67\n",
       "3           8  2013      2,157,939,302.67\n",
       "4           8  2014      2,349,130,134.00\n",
       "5           8  2015      2,358,078,243.67\n",
       "6           8  2016      2,196,415,965.33\n",
       "7           8  2017      2,133,967,855.67\n",
       "8           8  2018      2,381,373,689.33\n",
       "9           8  2019      2,606,250,673.67\n",
       "12         12  2012     62,368,091,063.33\n",
       "13         12  2013     65,459,561,086.67"
      ]
     },
     "execution_count": 146,
     "metadata": {},
     "output_type": "execute_result"
    }
   ],
   "source": [
    "# Filter out rows where the rolling average could not be calculated (first two years for each country)\n",
    "country_rolling_exports.dropna(subset=[\"average_export_value\"], inplace=True)\n",
    "country_rolling_exports.head(10)"
   ]
  },
  {
   "cell_type": "code",
   "execution_count": 147,
   "metadata": {},
   "outputs": [
    {
     "name": "stdout",
     "output_type": "stream",
     "text": [
      "['df', <class 'pandas.core.frame.DataFrame'>]\n",
      "============================================================\n",
      "shape:\n",
      "(1160, 3)\n",
      "============================================================\n",
      "data types:\n",
      "country_id              category\n",
      "year                    category\n",
      "average_export_value     float64\n",
      "dtype: object\n",
      "============================================================\n",
      "columns:\n",
      "['country_id', 'year', 'average_export_value']\n",
      "============================================================\n",
      "       average_export_value\n",
      "count              1,160.00\n",
      "mean     112,531,037,061.54\n",
      "std      269,461,923,213.84\n",
      "min           85,456,830.00\n",
      "25%        3,809,652,423.33\n",
      "50%       14,104,899,439.67\n",
      "75%       99,468,218,391.25\n",
      "max    2,402,043,349,141.67\n",
      "============================================================\n",
      "Total memory usage: 25186 bytes\n",
      "============================================================\n"
     ]
    }
   ],
   "source": [
    "df_stats(country_rolling_exports)"
   ]
  },
  {
   "cell_type": "code",
   "execution_count": 148,
   "metadata": {},
   "outputs": [
    {
     "data": {
      "text/html": [
       "<div>\n",
       "<style scoped>\n",
       "    .dataframe tbody tr th:only-of-type {\n",
       "        vertical-align: middle;\n",
       "    }\n",
       "\n",
       "    .dataframe tbody tr th {\n",
       "        vertical-align: top;\n",
       "    }\n",
       "\n",
       "    .dataframe thead tr th {\n",
       "        text-align: left;\n",
       "    }\n",
       "\n",
       "    .dataframe thead tr:last-of-type th {\n",
       "        text-align: right;\n",
       "    }\n",
       "</style>\n",
       "<table border=\"1\" class=\"dataframe\">\n",
       "  <thead>\n",
       "    <tr>\n",
       "      <th></th>\n",
       "      <th colspan=\"8\" halign=\"left\">average_export_value</th>\n",
       "    </tr>\n",
       "    <tr>\n",
       "      <th>year</th>\n",
       "      <th>2012</th>\n",
       "      <th>2013</th>\n",
       "      <th>2014</th>\n",
       "      <th>2015</th>\n",
       "      <th>2016</th>\n",
       "      <th>2017</th>\n",
       "      <th>2018</th>\n",
       "      <th>2019</th>\n",
       "    </tr>\n",
       "    <tr>\n",
       "      <th>country_id</th>\n",
       "      <th></th>\n",
       "      <th></th>\n",
       "      <th></th>\n",
       "      <th></th>\n",
       "      <th></th>\n",
       "      <th></th>\n",
       "      <th></th>\n",
       "      <th></th>\n",
       "    </tr>\n",
       "  </thead>\n",
       "  <tbody>\n",
       "    <tr>\n",
       "      <th>705</th>\n",
       "      <td>25,769,792,303.33</td>\n",
       "      <td>27,487,540,657.00</td>\n",
       "      <td>28,209,079,269.00</td>\n",
       "      <td>28,031,721,623.00</td>\n",
       "      <td>27,507,444,945.33</td>\n",
       "      <td>27,622,649,886.67</td>\n",
       "      <td>30,687,839,756.67</td>\n",
       "      <td>33,441,964,585.00</td>\n",
       "    </tr>\n",
       "    <tr>\n",
       "      <th>498</th>\n",
       "      <td>2,036,360,410.33</td>\n",
       "      <td>2,276,797,278.00</td>\n",
       "      <td>2,340,656,180.00</td>\n",
       "      <td>2,305,582,831.67</td>\n",
       "      <td>2,212,597,194.33</td>\n",
       "      <td>2,234,784,577.00</td>\n",
       "      <td>2,505,720,034.33</td>\n",
       "      <td>2,771,792,411.00</td>\n",
       "    </tr>\n",
       "    <tr>\n",
       "      <th>116</th>\n",
       "      <td>6,879,464,841.00</td>\n",
       "      <td>7,877,822,088.67</td>\n",
       "      <td>8,879,350,419.00</td>\n",
       "      <td>10,159,493,597.00</td>\n",
       "      <td>11,799,097,858.33</td>\n",
       "      <td>13,224,635,578.67</td>\n",
       "      <td>14,796,831,783.67</td>\n",
       "      <td>17,101,028,388.33</td>\n",
       "    </tr>\n",
       "    <tr>\n",
       "      <th>554</th>\n",
       "      <td>33,837,352,453.00</td>\n",
       "      <td>36,719,872,850.00</td>\n",
       "      <td>38,062,315,686.33</td>\n",
       "      <td>36,904,031,635.67</td>\n",
       "      <td>34,821,768,294.00</td>\n",
       "      <td>33,637,728,757.33</td>\n",
       "      <td>35,545,823,848.33</td>\n",
       "      <td>37,441,125,271.00</td>\n",
       "    </tr>\n",
       "    <tr>\n",
       "      <th>218</th>\n",
       "      <td>22,226,644,720.33</td>\n",
       "      <td>24,359,635,102.67</td>\n",
       "      <td>25,670,996,800.67</td>\n",
       "      <td>23,388,801,439.33</td>\n",
       "      <td>20,781,090,579.33</td>\n",
       "      <td>17,765,472,555.00</td>\n",
       "      <td>18,709,826,189.67</td>\n",
       "      <td>20,566,951,309.00</td>\n",
       "    </tr>\n",
       "    <tr>\n",
       "      <th>204</th>\n",
       "      <td>1,252,276,161.67</td>\n",
       "      <td>1,143,904,405.67</td>\n",
       "      <td>1,188,676,537.67</td>\n",
       "      <td>1,091,469,941.33</td>\n",
       "      <td>1,043,548,672.00</td>\n",
       "      <td>983,154,644.67</td>\n",
       "      <td>1,075,106,151.67</td>\n",
       "      <td>1,292,623,948.33</td>\n",
       "    </tr>\n",
       "    <tr>\n",
       "      <th>24</th>\n",
       "      <td>60,179,029,054.33</td>\n",
       "      <td>67,910,637,706.33</td>\n",
       "      <td>64,818,337,567.33</td>\n",
       "      <td>52,018,175,452.33</td>\n",
       "      <td>38,013,471,654.33</td>\n",
       "      <td>30,047,687,412.33</td>\n",
       "      <td>31,418,632,173.00</td>\n",
       "      <td>32,882,319,795.67</td>\n",
       "    </tr>\n",
       "    <tr>\n",
       "      <th>250</th>\n",
       "      <td>538,299,520,131.67</td>\n",
       "      <td>556,209,519,536.67</td>\n",
       "      <td>551,244,242,664.67</td>\n",
       "      <td>531,192,239,493.67</td>\n",
       "      <td>506,684,932,656.00</td>\n",
       "      <td>490,888,431,287.33</td>\n",
       "      <td>513,967,469,269.00</td>\n",
       "      <td>535,192,936,355.67</td>\n",
       "    </tr>\n",
       "    <tr>\n",
       "      <th>410</th>\n",
       "      <td>520,552,369,597.33</td>\n",
       "      <td>554,873,543,035.67</td>\n",
       "      <td>566,081,331,886.33</td>\n",
       "      <td>553,351,001,536.67</td>\n",
       "      <td>527,450,535,431.67</td>\n",
       "      <td>518,059,861,745.00</td>\n",
       "      <td>547,987,347,414.67</td>\n",
       "      <td>563,148,327,180.00</td>\n",
       "    </tr>\n",
       "    <tr>\n",
       "      <th>192</th>\n",
       "      <td>2,588,889,654.00</td>\n",
       "      <td>2,658,067,820.67</td>\n",
       "      <td>2,313,993,340.67</td>\n",
       "      <td>1,969,784,370.33</td>\n",
       "      <td>1,785,724,544.00</td>\n",
       "      <td>1,886,862,667.00</td>\n",
       "      <td>2,075,272,045.67</td>\n",
       "      <td>1,894,752,356.67</td>\n",
       "    </tr>\n",
       "  </tbody>\n",
       "</table>\n",
       "</div>"
      ],
      "text/plain": [
       "           average_export_value                                        \\\n",
       "year                       2012               2013               2014   \n",
       "country_id                                                              \n",
       "705           25,769,792,303.33  27,487,540,657.00  28,209,079,269.00   \n",
       "498            2,036,360,410.33   2,276,797,278.00   2,340,656,180.00   \n",
       "116            6,879,464,841.00   7,877,822,088.67   8,879,350,419.00   \n",
       "554           33,837,352,453.00  36,719,872,850.00  38,062,315,686.33   \n",
       "218           22,226,644,720.33  24,359,635,102.67  25,670,996,800.67   \n",
       "204            1,252,276,161.67   1,143,904,405.67   1,188,676,537.67   \n",
       "24            60,179,029,054.33  67,910,637,706.33  64,818,337,567.33   \n",
       "250          538,299,520,131.67 556,209,519,536.67 551,244,242,664.67   \n",
       "410          520,552,369,597.33 554,873,543,035.67 566,081,331,886.33   \n",
       "192            2,588,889,654.00   2,658,067,820.67   2,313,993,340.67   \n",
       "\n",
       "                                                                     \\\n",
       "year                     2015               2016               2017   \n",
       "country_id                                                            \n",
       "705         28,031,721,623.00  27,507,444,945.33  27,622,649,886.67   \n",
       "498          2,305,582,831.67   2,212,597,194.33   2,234,784,577.00   \n",
       "116         10,159,493,597.00  11,799,097,858.33  13,224,635,578.67   \n",
       "554         36,904,031,635.67  34,821,768,294.00  33,637,728,757.33   \n",
       "218         23,388,801,439.33  20,781,090,579.33  17,765,472,555.00   \n",
       "204          1,091,469,941.33   1,043,548,672.00     983,154,644.67   \n",
       "24          52,018,175,452.33  38,013,471,654.33  30,047,687,412.33   \n",
       "250        531,192,239,493.67 506,684,932,656.00 490,888,431,287.33   \n",
       "410        553,351,001,536.67 527,450,535,431.67 518,059,861,745.00   \n",
       "192          1,969,784,370.33   1,785,724,544.00   1,886,862,667.00   \n",
       "\n",
       "                                                  \n",
       "year                     2018               2019  \n",
       "country_id                                        \n",
       "705         30,687,839,756.67  33,441,964,585.00  \n",
       "498          2,505,720,034.33   2,771,792,411.00  \n",
       "116         14,796,831,783.67  17,101,028,388.33  \n",
       "554         35,545,823,848.33  37,441,125,271.00  \n",
       "218         18,709,826,189.67  20,566,951,309.00  \n",
       "204          1,075,106,151.67   1,292,623,948.33  \n",
       "24          31,418,632,173.00  32,882,319,795.67  \n",
       "250        513,967,469,269.00 535,192,936,355.67  \n",
       "410        547,987,347,414.67 563,148,327,180.00  \n",
       "192          2,075,272,045.67   1,894,752,356.67  "
      ]
     },
     "execution_count": 148,
     "metadata": {},
     "output_type": "execute_result"
    }
   ],
   "source": [
    "# Exploring the rolling_exports data\n",
    "country_rolling_exports_unstacked = country_rolling_exports.pivot(\n",
    "    index=[\"country_id\"], columns=\"year\", values=[\"average_export_value\"]\n",
    ")\n",
    "country_rolling_exports_unstacked.sample(10)"
   ]
  },
  {
   "cell_type": "markdown",
   "metadata": {},
   "source": [
    "Staging total country-level exports rolling average"
   ]
  },
  {
   "cell_type": "code",
   "execution_count": 149,
   "metadata": {},
   "outputs": [
    {
     "name": "stdout",
     "output_type": "stream",
     "text": [
      "country_id column initial type:\n",
      "category\n",
      "============================================================\n",
      "country_id column final type:\n",
      "int16\n",
      "============================================================\n",
      "year column initial type:\n",
      "category\n",
      "============================================================\n",
      "year column final type:\n",
      "int16\n",
      "============================================================\n"
     ]
    }
   ],
   "source": [
    "# Save the country_rolling_exports DataFrame to a .dta file\n",
    "output_file_name = \"country_rolling_exports.parquet\"\n",
    "save_hs92_parquet_data(\n",
    "    data=country_rolling_exports,\n",
    "    file_location=output_file_location,\n",
    "    file_name=output_file_name,\n",
    ")"
   ]
  },
  {
   "cell_type": "code",
   "execution_count": 150,
   "metadata": {},
   "outputs": [],
   "source": [
    "# assert False, \"End of code\""
   ]
  },
  {
   "cell_type": "code",
   "execution_count": 151,
   "metadata": {},
   "outputs": [
    {
     "data": {
      "text/plain": [
       "0"
      ]
     },
     "execution_count": 151,
     "metadata": {},
     "output_type": "execute_result"
    }
   ],
   "source": [
    "del country_rolling_exports_unstacked\n",
    "gc.collect()"
   ]
  }
 ],
 "metadata": {
  "kernelspec": {
   "display_name": "bdmm2324",
   "language": "python",
   "name": "python3"
  },
  "language_info": {
   "codemirror_mode": {
    "name": "ipython",
    "version": 3
   },
   "file_extension": ".py",
   "mimetype": "text/x-python",
   "name": "python",
   "nbconvert_exporter": "python",
   "pygments_lexer": "ipython3",
   "version": "3.11.7"
  }
 },
 "nbformat": 4,
 "nbformat_minor": 2
}
