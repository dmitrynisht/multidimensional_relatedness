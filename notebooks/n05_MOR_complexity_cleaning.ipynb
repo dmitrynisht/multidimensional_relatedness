{
 "cells": [
  {
   "cell_type": "code",
   "execution_count": 1,
   "metadata": {},
   "outputs": [
    {
     "data": {
      "text/plain": [
       "1"
      ]
     },
     "execution_count": 1,
     "metadata": {},
     "output_type": "execute_result"
    }
   ],
   "source": [
    "(\n",
    "    1 + 0\n",
    ")  # Utility cell. Sometimes \"Jupyter\" skipps the first cell when running all cells. Especially after a restart."
   ]
  },
  {
   "cell_type": "code",
   "execution_count": 2,
   "metadata": {},
   "outputs": [
    {
     "data": {
      "text/plain": [
       "2"
      ]
     },
     "execution_count": 2,
     "metadata": {},
     "output_type": "execute_result"
    }
   ],
   "source": [
    "(\n",
    "    1 + 1\n",
    ")  # Utility cell. Sometimes \"Jupyter\" skipps the first cell when running all cells. Especially after a restart."
   ]
  },
  {
   "cell_type": "code",
   "execution_count": 3,
   "metadata": {},
   "outputs": [
    {
     "name": "stdout",
     "output_type": "stream",
     "text": [
      "N3 utility cell running...\n"
     ]
    }
   ],
   "source": [
    "print(f\"N{1+2} utility cell running...\")"
   ]
  },
  {
   "cell_type": "code",
   "execution_count": 4,
   "metadata": {},
   "outputs": [
    {
     "name": "stdout",
     "output_type": "stream",
     "text": [
      "PYTHONPATH: C:\\Users\\Admin\\Documents\\Univer\\MASTER THESIS IDEAS\\Flavio Pinehro\\11_MasterProject\\src\n"
     ]
    }
   ],
   "source": [
    "# Resolve the path to the 'src' folder with helper functions\n",
    "import config_notebooks"
   ]
  },
  {
   "cell_type": "code",
   "execution_count": 5,
   "metadata": {},
   "outputs": [
    {
     "name": "stdout",
     "output_type": "stream",
     "text": [
      "os.getcwd():\n",
      "c:\\Users\\Admin\\Documents\\Univer\\MASTER THESIS IDEAS\\Flavio Pinehro\\11_MasterProject\\notebooks\n",
      "============================================================\n",
      "input_file_location:\n",
      "..\\data\\04_mor_implemented\n",
      "============================================================\n",
      "output_file_location:\n",
      "..\\data\\05_mor_silver\n",
      "============================================================\n"
     ]
    }
   ],
   "source": [
    "from n05_import import *"
   ]
  },
  {
   "cell_type": "code",
   "execution_count": 6,
   "metadata": {},
   "outputs": [],
   "source": [
    "# # Resolve the path to the 'src' folder with helper functions\n",
    "# import config_notebooks\n",
    "# from importlib import reload\n",
    "\n",
    "# # Import the module and reload it\n",
    "# import n05_import_reload\n",
    "\n",
    "# reload(n05_import_reload)\n",
    "\n",
    "# # Re-import the functions from the reloaded module\n",
    "# from n05_import_reload import *"
   ]
  },
  {
   "cell_type": "markdown",
   "metadata": {},
   "source": [
    "# Processing ECI data"
   ]
  },
  {
   "cell_type": "code",
   "execution_count": 7,
   "metadata": {},
   "outputs": [
    {
     "name": "stdout",
     "output_type": "stream",
     "text": [
      "country_id column initial type:\n",
      "int16\n",
      "============================================================\n",
      "country_id column final type:\n",
      "category\n",
      "============================================================\n",
      "year column initial type:\n",
      "int16\n",
      "============================================================\n",
      "year column final type:\n",
      "category\n",
      "============================================================\n"
     ]
    }
   ],
   "source": [
    "input_file_name = \"impl_ECI.parquet\"\n",
    "raw_ECI = read_hs92_parquet_data(input_file_location, input_file_name)"
   ]
  },
  {
   "cell_type": "code",
   "execution_count": 8,
   "metadata": {},
   "outputs": [
    {
     "name": "stdout",
     "output_type": "stream",
     "text": [
      "['df', <class 'pandas.core.frame.DataFrame'>]\n",
      "============================================================\n",
      "shape:\n",
      "(1395360, 22)\n",
      "============================================================\n",
      "data types:\n",
      "year          category\n",
      "country_id    category\n",
      "k_c0             int32\n",
      "ECI_0          float64\n",
      "ECI_1          float64\n",
      "ECI_2          float64\n",
      "ECI_3          float64\n",
      "ECI_4          float64\n",
      "ECI_5          float64\n",
      "ECI_6          float64\n",
      "ECI_7          float64\n",
      "ECI_8          float64\n",
      "ECI_9          float64\n",
      "ECI_10         float64\n",
      "ECI_11         float64\n",
      "ECI_12         float64\n",
      "ECI_13         float64\n",
      "ECI_14         float64\n",
      "ECI_15         float64\n",
      "ECI_16         float64\n",
      "ECI_17         float64\n",
      "ECI_18         float64\n",
      "dtype: object\n",
      "============================================================\n",
      "columns:\n",
      "['year', 'country_id', 'k_c0', 'ECI_0', 'ECI_1', 'ECI_2', 'ECI_3', 'ECI_4', 'ECI_5', 'ECI_6', 'ECI_7', 'ECI_8', 'ECI_9', 'ECI_10', 'ECI_11', 'ECI_12', 'ECI_13', 'ECI_14', 'ECI_15', 'ECI_16', 'ECI_17', 'ECI_18']\n",
      "============================================================\n",
      "              k_c0        ECI_0        ECI_1        ECI_2        ECI_3  \\\n",
      "count 1,395,360.00 1,395,360.00 1,395,360.00 1,395,360.00 1,395,360.00   \n",
      "mean        179.84     0.000000    -0.000000    -0.000000    -0.000000   \n",
      "std         125.97     0.999997     0.999997     0.999997     0.999997   \n",
      "min           7.00        -1.39        -2.83        -2.67        -2.99   \n",
      "25%          78.00    -0.808449    -0.668555    -0.750863    -0.668451   \n",
      "50%         158.00    -0.170181     0.093885    -0.046320     0.169263   \n",
      "75%         251.00     0.565299     0.725529     0.815936     0.759442   \n",
      "max         560.00         2.92         2.63         2.13         2.35   \n",
      "\n",
      "             ECI_4        ECI_5        ECI_6        ECI_7        ECI_8  \\\n",
      "count 1,395,360.00 1,395,360.00 1,395,360.00 1,395,360.00 1,395,360.00   \n",
      "mean     -0.000000     0.000000    -0.000000    -0.000000     0.000000   \n",
      "std       0.999997     0.999997     0.999997     0.999997     0.999997   \n",
      "min          -2.49        -2.83        -2.31        -2.70        -2.31   \n",
      "25%      -0.756742    -0.692414    -0.778908    -0.732765    -0.785925   \n",
      "50%      -0.076278     0.158997    -0.092795     0.156815    -0.115797   \n",
      "75%       0.792323     0.818082     0.757471     0.828279     0.748625   \n",
      "max           2.26         2.29         2.37         2.28         2.44   \n",
      "\n",
      "             ECI_9       ECI_10       ECI_11       ECI_12       ECI_13  \\\n",
      "count 1,395,360.00 1,395,360.00 1,395,360.00 1,395,360.00 1,395,360.00   \n",
      "mean     -0.000000    -0.000000    -0.000000    -0.000000     0.000000   \n",
      "std       0.999997     0.999997     0.999997     0.999997     0.999997   \n",
      "min          -2.62        -2.30        -2.58        -2.29        -2.55   \n",
      "25%      -0.741872    -0.805295    -0.736916    -0.806290    -0.739181   \n",
      "50%       0.158439    -0.129622     0.155115    -0.133828     0.148123   \n",
      "75%       0.822119     0.745880     0.822785     0.746354     0.822743   \n",
      "max           2.27         2.47         2.27         2.50         2.27   \n",
      "\n",
      "            ECI_14       ECI_15       ECI_16       ECI_17       ECI_18  \n",
      "count 1,395,360.00 1,395,360.00 1,395,360.00 1,395,360.00 1,395,360.00  \n",
      "mean     -0.000000    -0.000000    -0.000000    -0.000000     0.000000  \n",
      "std       0.999997     0.999997     0.999997     0.999997     0.999997  \n",
      "min          -2.29        -2.54        -2.28        -2.54        -2.28  \n",
      "25%      -0.807520    -0.743273    -0.807369    -0.744059    -0.807235  \n",
      "50%      -0.138531     0.147810    -0.139843     0.144740    -0.139658  \n",
      "75%       0.754894     0.821330     0.743838     0.823181     0.745106  \n",
      "max           2.51         2.27         2.52         2.27         2.52  \n",
      "============================================================\n",
      "Total memory usage: 221865512 bytes\n",
      "============================================================\n"
     ]
    }
   ],
   "source": [
    "df_stats(raw_ECI)"
   ]
  },
  {
   "cell_type": "code",
   "execution_count": 9,
   "metadata": {},
   "outputs": [
    {
     "data": {
      "text/html": [
       "<div>\n",
       "<style scoped>\n",
       "    .dataframe tbody tr th:only-of-type {\n",
       "        vertical-align: middle;\n",
       "    }\n",
       "\n",
       "    .dataframe tbody tr th {\n",
       "        vertical-align: top;\n",
       "    }\n",
       "\n",
       "    .dataframe thead th {\n",
       "        text-align: right;\n",
       "    }\n",
       "</style>\n",
       "<table border=\"1\" class=\"dataframe\">\n",
       "  <thead>\n",
       "    <tr style=\"text-align: right;\">\n",
       "      <th></th>\n",
       "      <th>year</th>\n",
       "      <th>country_id</th>\n",
       "      <th>k_c0</th>\n",
       "      <th>ECI_0</th>\n",
       "      <th>ECI_1</th>\n",
       "      <th>ECI_2</th>\n",
       "      <th>ECI_3</th>\n",
       "      <th>ECI_4</th>\n",
       "      <th>ECI_5</th>\n",
       "      <th>ECI_6</th>\n",
       "      <th>...</th>\n",
       "      <th>ECI_9</th>\n",
       "      <th>ECI_10</th>\n",
       "      <th>ECI_11</th>\n",
       "      <th>ECI_12</th>\n",
       "      <th>ECI_13</th>\n",
       "      <th>ECI_14</th>\n",
       "      <th>ECI_15</th>\n",
       "      <th>ECI_16</th>\n",
       "      <th>ECI_17</th>\n",
       "      <th>ECI_18</th>\n",
       "    </tr>\n",
       "  </thead>\n",
       "  <tbody>\n",
       "    <tr>\n",
       "      <th>0</th>\n",
       "      <td>2012</td>\n",
       "      <td>8</td>\n",
       "      <td>166</td>\n",
       "      <td>-0.131844</td>\n",
       "      <td>0.831169</td>\n",
       "      <td>-0.040967</td>\n",
       "      <td>0.548779</td>\n",
       "      <td>-0.090630</td>\n",
       "      <td>0.436914</td>\n",
       "      <td>-0.154422</td>\n",
       "      <td>...</td>\n",
       "      <td>0.349790</td>\n",
       "      <td>-0.239123</td>\n",
       "      <td>0.332050</td>\n",
       "      <td>-0.262405</td>\n",
       "      <td>0.321890</td>\n",
       "      <td>-0.277831</td>\n",
       "      <td>0.316103</td>\n",
       "      <td>-0.288045</td>\n",
       "      <td>0.312832</td>\n",
       "      <td>-0.294829</td>\n",
       "    </tr>\n",
       "    <tr>\n",
       "      <th>1</th>\n",
       "      <td>2012</td>\n",
       "      <td>8</td>\n",
       "      <td>166</td>\n",
       "      <td>-0.131844</td>\n",
       "      <td>0.831169</td>\n",
       "      <td>-0.040967</td>\n",
       "      <td>0.548779</td>\n",
       "      <td>-0.090630</td>\n",
       "      <td>0.436914</td>\n",
       "      <td>-0.154422</td>\n",
       "      <td>...</td>\n",
       "      <td>0.349790</td>\n",
       "      <td>-0.239123</td>\n",
       "      <td>0.332050</td>\n",
       "      <td>-0.262405</td>\n",
       "      <td>0.321890</td>\n",
       "      <td>-0.277831</td>\n",
       "      <td>0.316103</td>\n",
       "      <td>-0.288045</td>\n",
       "      <td>0.312832</td>\n",
       "      <td>-0.294829</td>\n",
       "    </tr>\n",
       "    <tr>\n",
       "      <th>2</th>\n",
       "      <td>2012</td>\n",
       "      <td>8</td>\n",
       "      <td>166</td>\n",
       "      <td>-0.131844</td>\n",
       "      <td>0.831169</td>\n",
       "      <td>-0.040967</td>\n",
       "      <td>0.548779</td>\n",
       "      <td>-0.090630</td>\n",
       "      <td>0.436914</td>\n",
       "      <td>-0.154422</td>\n",
       "      <td>...</td>\n",
       "      <td>0.349790</td>\n",
       "      <td>-0.239123</td>\n",
       "      <td>0.332050</td>\n",
       "      <td>-0.262405</td>\n",
       "      <td>0.321890</td>\n",
       "      <td>-0.277831</td>\n",
       "      <td>0.316103</td>\n",
       "      <td>-0.288045</td>\n",
       "      <td>0.312832</td>\n",
       "      <td>-0.294829</td>\n",
       "    </tr>\n",
       "    <tr>\n",
       "      <th>3</th>\n",
       "      <td>2012</td>\n",
       "      <td>8</td>\n",
       "      <td>166</td>\n",
       "      <td>-0.131844</td>\n",
       "      <td>0.831169</td>\n",
       "      <td>-0.040967</td>\n",
       "      <td>0.548779</td>\n",
       "      <td>-0.090630</td>\n",
       "      <td>0.436914</td>\n",
       "      <td>-0.154422</td>\n",
       "      <td>...</td>\n",
       "      <td>0.349790</td>\n",
       "      <td>-0.239123</td>\n",
       "      <td>0.332050</td>\n",
       "      <td>-0.262405</td>\n",
       "      <td>0.321890</td>\n",
       "      <td>-0.277831</td>\n",
       "      <td>0.316103</td>\n",
       "      <td>-0.288045</td>\n",
       "      <td>0.312832</td>\n",
       "      <td>-0.294829</td>\n",
       "    </tr>\n",
       "    <tr>\n",
       "      <th>4</th>\n",
       "      <td>2012</td>\n",
       "      <td>8</td>\n",
       "      <td>166</td>\n",
       "      <td>-0.131844</td>\n",
       "      <td>0.831169</td>\n",
       "      <td>-0.040967</td>\n",
       "      <td>0.548779</td>\n",
       "      <td>-0.090630</td>\n",
       "      <td>0.436914</td>\n",
       "      <td>-0.154422</td>\n",
       "      <td>...</td>\n",
       "      <td>0.349790</td>\n",
       "      <td>-0.239123</td>\n",
       "      <td>0.332050</td>\n",
       "      <td>-0.262405</td>\n",
       "      <td>0.321890</td>\n",
       "      <td>-0.277831</td>\n",
       "      <td>0.316103</td>\n",
       "      <td>-0.288045</td>\n",
       "      <td>0.312832</td>\n",
       "      <td>-0.294829</td>\n",
       "    </tr>\n",
       "  </tbody>\n",
       "</table>\n",
       "<p>5 rows × 22 columns</p>\n",
       "</div>"
      ],
      "text/plain": [
       "   year country_id  k_c0     ECI_0    ECI_1     ECI_2    ECI_3     ECI_4  \\\n",
       "0  2012          8   166 -0.131844 0.831169 -0.040967 0.548779 -0.090630   \n",
       "1  2012          8   166 -0.131844 0.831169 -0.040967 0.548779 -0.090630   \n",
       "2  2012          8   166 -0.131844 0.831169 -0.040967 0.548779 -0.090630   \n",
       "3  2012          8   166 -0.131844 0.831169 -0.040967 0.548779 -0.090630   \n",
       "4  2012          8   166 -0.131844 0.831169 -0.040967 0.548779 -0.090630   \n",
       "\n",
       "     ECI_5     ECI_6  ...    ECI_9    ECI_10   ECI_11    ECI_12   ECI_13  \\\n",
       "0 0.436914 -0.154422  ... 0.349790 -0.239123 0.332050 -0.262405 0.321890   \n",
       "1 0.436914 -0.154422  ... 0.349790 -0.239123 0.332050 -0.262405 0.321890   \n",
       "2 0.436914 -0.154422  ... 0.349790 -0.239123 0.332050 -0.262405 0.321890   \n",
       "3 0.436914 -0.154422  ... 0.349790 -0.239123 0.332050 -0.262405 0.321890   \n",
       "4 0.436914 -0.154422  ... 0.349790 -0.239123 0.332050 -0.262405 0.321890   \n",
       "\n",
       "     ECI_14   ECI_15    ECI_16   ECI_17    ECI_18  \n",
       "0 -0.277831 0.316103 -0.288045 0.312832 -0.294829  \n",
       "1 -0.277831 0.316103 -0.288045 0.312832 -0.294829  \n",
       "2 -0.277831 0.316103 -0.288045 0.312832 -0.294829  \n",
       "3 -0.277831 0.316103 -0.288045 0.312832 -0.294829  \n",
       "4 -0.277831 0.316103 -0.288045 0.312832 -0.294829  \n",
       "\n",
       "[5 rows x 22 columns]"
      ]
     },
     "execution_count": 9,
     "metadata": {},
     "output_type": "execute_result"
    }
   ],
   "source": [
    "raw_ECI.head()"
   ]
  },
  {
   "cell_type": "code",
   "execution_count": 10,
   "metadata": {},
   "outputs": [
    {
     "data": {
      "text/html": [
       "<div>\n",
       "<style scoped>\n",
       "    .dataframe tbody tr th:only-of-type {\n",
       "        vertical-align: middle;\n",
       "    }\n",
       "\n",
       "    .dataframe tbody tr th {\n",
       "        vertical-align: top;\n",
       "    }\n",
       "\n",
       "    .dataframe thead th {\n",
       "        text-align: right;\n",
       "    }\n",
       "</style>\n",
       "<table border=\"1\" class=\"dataframe\">\n",
       "  <thead>\n",
       "    <tr style=\"text-align: right;\">\n",
       "      <th></th>\n",
       "      <th>year</th>\n",
       "      <th>country_id</th>\n",
       "      <th>k_c0</th>\n",
       "      <th>ECI_0</th>\n",
       "      <th>ECI_1</th>\n",
       "      <th>ECI_2</th>\n",
       "      <th>ECI_3</th>\n",
       "      <th>ECI_4</th>\n",
       "      <th>ECI_5</th>\n",
       "      <th>ECI_6</th>\n",
       "      <th>...</th>\n",
       "      <th>ECI_9</th>\n",
       "      <th>ECI_10</th>\n",
       "      <th>ECI_11</th>\n",
       "      <th>ECI_12</th>\n",
       "      <th>ECI_13</th>\n",
       "      <th>ECI_14</th>\n",
       "      <th>ECI_15</th>\n",
       "      <th>ECI_16</th>\n",
       "      <th>ECI_17</th>\n",
       "      <th>ECI_18</th>\n",
       "    </tr>\n",
       "  </thead>\n",
       "  <tbody>\n",
       "    <tr>\n",
       "      <th>945281</th>\n",
       "      <td>2017</td>\n",
       "      <td>384</td>\n",
       "      <td>91</td>\n",
       "      <td>-0.716264</td>\n",
       "      <td>0.685636</td>\n",
       "      <td>-0.868777</td>\n",
       "      <td>0.913393</td>\n",
       "      <td>-0.881326</td>\n",
       "      <td>0.877793</td>\n",
       "      <td>-0.872150</td>\n",
       "      <td>...</td>\n",
       "      <td>0.836216</td>\n",
       "      <td>-0.850816</td>\n",
       "      <td>0.831948</td>\n",
       "      <td>-0.844007</td>\n",
       "      <td>0.830606</td>\n",
       "      <td>-0.839334</td>\n",
       "      <td>0.830177</td>\n",
       "      <td>-0.836156</td>\n",
       "      <td>0.829984</td>\n",
       "      <td>-0.833990</td>\n",
       "    </tr>\n",
       "    <tr>\n",
       "      <th>965654</th>\n",
       "      <td>2017</td>\n",
       "      <td>450</td>\n",
       "      <td>136</td>\n",
       "      <td>-0.346785</td>\n",
       "      <td>0.074890</td>\n",
       "      <td>-0.680783</td>\n",
       "      <td>0.623295</td>\n",
       "      <td>-0.800263</td>\n",
       "      <td>0.834931</td>\n",
       "      <td>-0.867891</td>\n",
       "      <td>...</td>\n",
       "      <td>0.968527</td>\n",
       "      <td>-0.946087</td>\n",
       "      <td>0.992799</td>\n",
       "      <td>-0.970283</td>\n",
       "      <td>1.01</td>\n",
       "      <td>-0.988153</td>\n",
       "      <td>1.02</td>\n",
       "      <td>-1.00</td>\n",
       "      <td>1.02</td>\n",
       "      <td>-1.01</td>\n",
       "    </tr>\n",
       "    <tr>\n",
       "      <th>1051047</th>\n",
       "      <td>2018</td>\n",
       "      <td>31</td>\n",
       "      <td>35</td>\n",
       "      <td>-1.16</td>\n",
       "      <td>0.782189</td>\n",
       "      <td>-1.01</td>\n",
       "      <td>0.888043</td>\n",
       "      <td>-0.939048</td>\n",
       "      <td>0.894530</td>\n",
       "      <td>-0.920245</td>\n",
       "      <td>...</td>\n",
       "      <td>0.885289</td>\n",
       "      <td>-0.902597</td>\n",
       "      <td>0.881939</td>\n",
       "      <td>-0.895594</td>\n",
       "      <td>0.879647</td>\n",
       "      <td>-0.889971</td>\n",
       "      <td>0.878100</td>\n",
       "      <td>-0.885693</td>\n",
       "      <td>0.877058</td>\n",
       "      <td>-0.882546</td>\n",
       "    </tr>\n",
       "    <tr>\n",
       "      <th>1315091</th>\n",
       "      <td>2019</td>\n",
       "      <td>454</td>\n",
       "      <td>80</td>\n",
       "      <td>-0.784308</td>\n",
       "      <td>1.06</td>\n",
       "      <td>-0.729173</td>\n",
       "      <td>0.935540</td>\n",
       "      <td>-0.748760</td>\n",
       "      <td>0.855557</td>\n",
       "      <td>-0.767238</td>\n",
       "      <td>...</td>\n",
       "      <td>0.802839</td>\n",
       "      <td>-0.781819</td>\n",
       "      <td>0.794146</td>\n",
       "      <td>-0.783844</td>\n",
       "      <td>0.789604</td>\n",
       "      <td>-0.784639</td>\n",
       "      <td>0.787200</td>\n",
       "      <td>-0.784885</td>\n",
       "      <td>0.785915</td>\n",
       "      <td>-0.784900</td>\n",
       "    </tr>\n",
       "    <tr>\n",
       "      <th>480304</th>\n",
       "      <td>2014</td>\n",
       "      <td>646</td>\n",
       "      <td>108</td>\n",
       "      <td>-0.569001</td>\n",
       "      <td>0.916395</td>\n",
       "      <td>-0.518337</td>\n",
       "      <td>0.887113</td>\n",
       "      <td>-0.563627</td>\n",
       "      <td>0.789112</td>\n",
       "      <td>-0.596251</td>\n",
       "      <td>...</td>\n",
       "      <td>0.696761</td>\n",
       "      <td>-0.631257</td>\n",
       "      <td>0.679603</td>\n",
       "      <td>-0.640293</td>\n",
       "      <td>0.670280</td>\n",
       "      <td>-0.646233</td>\n",
       "      <td>0.665118</td>\n",
       "      <td>-0.650162</td>\n",
       "      <td>0.662219</td>\n",
       "      <td>-0.652777</td>\n",
       "    </tr>\n",
       "  </tbody>\n",
       "</table>\n",
       "<p>5 rows × 22 columns</p>\n",
       "</div>"
      ],
      "text/plain": [
       "         year country_id  k_c0     ECI_0    ECI_1     ECI_2    ECI_3  \\\n",
       "945281   2017        384    91 -0.716264 0.685636 -0.868777 0.913393   \n",
       "965654   2017        450   136 -0.346785 0.074890 -0.680783 0.623295   \n",
       "1051047  2018         31    35     -1.16 0.782189     -1.01 0.888043   \n",
       "1315091  2019        454    80 -0.784308     1.06 -0.729173 0.935540   \n",
       "480304   2014        646   108 -0.569001 0.916395 -0.518337 0.887113   \n",
       "\n",
       "            ECI_4    ECI_5     ECI_6  ...    ECI_9    ECI_10   ECI_11  \\\n",
       "945281  -0.881326 0.877793 -0.872150  ... 0.836216 -0.850816 0.831948   \n",
       "965654  -0.800263 0.834931 -0.867891  ... 0.968527 -0.946087 0.992799   \n",
       "1051047 -0.939048 0.894530 -0.920245  ... 0.885289 -0.902597 0.881939   \n",
       "1315091 -0.748760 0.855557 -0.767238  ... 0.802839 -0.781819 0.794146   \n",
       "480304  -0.563627 0.789112 -0.596251  ... 0.696761 -0.631257 0.679603   \n",
       "\n",
       "           ECI_12   ECI_13    ECI_14   ECI_15    ECI_16   ECI_17    ECI_18  \n",
       "945281  -0.844007 0.830606 -0.839334 0.830177 -0.836156 0.829984 -0.833990  \n",
       "965654  -0.970283     1.01 -0.988153     1.02     -1.00     1.02     -1.01  \n",
       "1051047 -0.895594 0.879647 -0.889971 0.878100 -0.885693 0.877058 -0.882546  \n",
       "1315091 -0.783844 0.789604 -0.784639 0.787200 -0.784885 0.785915 -0.784900  \n",
       "480304  -0.640293 0.670280 -0.646233 0.665118 -0.650162 0.662219 -0.652777  \n",
       "\n",
       "[5 rows x 22 columns]"
      ]
     },
     "execution_count": 10,
     "metadata": {},
     "output_type": "execute_result"
    }
   ],
   "source": [
    "raw_ECI.sample(5)"
   ]
  },
  {
   "cell_type": "markdown",
   "metadata": {},
   "source": [
    "## Removing duplicates"
   ]
  },
  {
   "cell_type": "code",
   "execution_count": 11,
   "metadata": {},
   "outputs": [
    {
     "data": {
      "text/plain": [
       "1395360"
      ]
     },
     "execution_count": 11,
     "metadata": {},
     "output_type": "execute_result"
    }
   ],
   "source": [
    "raw_ECI.shape[0]"
   ]
  },
  {
   "cell_type": "code",
   "execution_count": 12,
   "metadata": {},
   "outputs": [
    {
     "data": {
      "text/plain": [
       "1394208"
      ]
     },
     "execution_count": 12,
     "metadata": {},
     "output_type": "execute_result"
    }
   ],
   "source": [
    "# Identifying duplicates\n",
    "raw_ECI.duplicated().sum()"
   ]
  },
  {
   "cell_type": "code",
   "execution_count": 13,
   "metadata": {},
   "outputs": [
    {
     "data": {
      "text/plain": [
       "1152"
      ]
     },
     "execution_count": 13,
     "metadata": {},
     "output_type": "execute_result"
    }
   ],
   "source": [
    "raw_ECI.shape[0] - raw_ECI.duplicated().sum()"
   ]
  },
  {
   "cell_type": "code",
   "execution_count": 14,
   "metadata": {},
   "outputs": [],
   "source": [
    "# Dropping duplicates\n",
    "ECI_noduplicates = raw_ECI.drop_duplicates().reset_index(drop=True)"
   ]
  },
  {
   "cell_type": "code",
   "execution_count": 15,
   "metadata": {},
   "outputs": [
    {
     "data": {
      "text/plain": [
       "0"
      ]
     },
     "execution_count": 15,
     "metadata": {},
     "output_type": "execute_result"
    }
   ],
   "source": [
    "del raw_ECI\n",
    "gc.collect()"
   ]
  },
  {
   "cell_type": "code",
   "execution_count": 16,
   "metadata": {},
   "outputs": [
    {
     "name": "stdout",
     "output_type": "stream",
     "text": [
      "['df', <class 'pandas.core.frame.DataFrame'>]\n",
      "============================================================\n",
      "shape:\n",
      "(1152, 22)\n",
      "============================================================\n",
      "data types:\n",
      "year          category\n",
      "country_id    category\n",
      "k_c0             int32\n",
      "ECI_0          float64\n",
      "ECI_1          float64\n",
      "ECI_2          float64\n",
      "ECI_3          float64\n",
      "ECI_4          float64\n",
      "ECI_5          float64\n",
      "ECI_6          float64\n",
      "ECI_7          float64\n",
      "ECI_8          float64\n",
      "ECI_9          float64\n",
      "ECI_10         float64\n",
      "ECI_11         float64\n",
      "ECI_12         float64\n",
      "ECI_13         float64\n",
      "ECI_14         float64\n",
      "ECI_15         float64\n",
      "ECI_16         float64\n",
      "ECI_17         float64\n",
      "ECI_18         float64\n",
      "dtype: object\n",
      "============================================================\n",
      "columns:\n",
      "['year', 'country_id', 'k_c0', 'ECI_0', 'ECI_1', 'ECI_2', 'ECI_3', 'ECI_4', 'ECI_5', 'ECI_6', 'ECI_7', 'ECI_8', 'ECI_9', 'ECI_10', 'ECI_11', 'ECI_12', 'ECI_13', 'ECI_14', 'ECI_15', 'ECI_16', 'ECI_17', 'ECI_18']\n",
      "============================================================\n",
      "          k_c0     ECI_0     ECI_1     ECI_2     ECI_3     ECI_4     ECI_5  \\\n",
      "count 1,152.00  1,152.00  1,152.00  1,152.00  1,152.00  1,152.00  1,152.00   \n",
      "mean    179.83  0.000000 -0.000000 -0.000000 -0.000000 -0.000000  0.000000   \n",
      "std     126.02      1.00      1.00      1.00      1.00      1.00      1.00   \n",
      "min       7.00     -1.39     -2.83     -2.67     -2.99     -2.49     -2.83   \n",
      "25%      78.00 -0.808449 -0.668768 -0.748906 -0.661838 -0.756843 -0.690107   \n",
      "50%     158.00 -0.171143  0.090858 -0.051378  0.168680 -0.077772  0.159323   \n",
      "75%     251.00  0.565839  0.726189  0.816547  0.759513  0.791234  0.816117   \n",
      "max     560.00      2.92      2.63      2.13      2.35      2.26      2.29   \n",
      "\n",
      "          ECI_6     ECI_7     ECI_8     ECI_9    ECI_10    ECI_11    ECI_12  \\\n",
      "count  1,152.00  1,152.00  1,152.00  1,152.00  1,152.00  1,152.00  1,152.00   \n",
      "mean  -0.000000 -0.000000  0.000000 -0.000000 -0.000000 -0.000000 -0.000000   \n",
      "std        1.00      1.00      1.00      1.00      1.00      1.00      1.00   \n",
      "min       -2.31     -2.70     -2.31     -2.62     -2.30     -2.58     -2.29   \n",
      "25%   -0.779031 -0.728318 -0.786615 -0.741854 -0.805665 -0.736665 -0.807121   \n",
      "50%   -0.092767  0.159729 -0.117145  0.160490 -0.130457  0.155139 -0.134515   \n",
      "75%    0.745957  0.822175  0.747620  0.818359  0.739899  0.820948  0.745855   \n",
      "max        2.37      2.28      2.44      2.27      2.47      2.27      2.50   \n",
      "\n",
      "         ECI_13    ECI_14    ECI_15    ECI_16    ECI_17    ECI_18  \n",
      "count  1,152.00  1,152.00  1,152.00  1,152.00  1,152.00  1,152.00  \n",
      "mean   0.000000 -0.000000 -0.000000 -0.000000 -0.000000  0.000000  \n",
      "std        1.00      1.00      1.00      1.00      1.00      1.00  \n",
      "min       -2.55     -2.29     -2.54     -2.28     -2.54     -2.28  \n",
      "25%   -0.738526 -0.807520 -0.738839 -0.807369 -0.738449 -0.806295  \n",
      "50%    0.149996 -0.139149  0.147937 -0.142375  0.145410 -0.141866  \n",
      "75%    0.821206  0.754662  0.820938  0.741563  0.821992  0.737877  \n",
      "max        2.27      2.51      2.27      2.52      2.27      2.52  \n",
      "============================================================\n",
      "Total memory usage: 186440 bytes\n",
      "============================================================\n"
     ]
    }
   ],
   "source": [
    "df_stats(ECI_noduplicates)"
   ]
  },
  {
   "cell_type": "code",
   "execution_count": 17,
   "metadata": {},
   "outputs": [
    {
     "data": {
      "text/html": [
       "<div>\n",
       "<style scoped>\n",
       "    .dataframe tbody tr th:only-of-type {\n",
       "        vertical-align: middle;\n",
       "    }\n",
       "\n",
       "    .dataframe tbody tr th {\n",
       "        vertical-align: top;\n",
       "    }\n",
       "\n",
       "    .dataframe thead th {\n",
       "        text-align: right;\n",
       "    }\n",
       "</style>\n",
       "<table border=\"1\" class=\"dataframe\">\n",
       "  <thead>\n",
       "    <tr style=\"text-align: right;\">\n",
       "      <th></th>\n",
       "      <th>year</th>\n",
       "      <th>country_id</th>\n",
       "      <th>k_c0</th>\n",
       "      <th>ECI_0</th>\n",
       "      <th>ECI_1</th>\n",
       "      <th>ECI_2</th>\n",
       "      <th>ECI_3</th>\n",
       "      <th>ECI_4</th>\n",
       "      <th>ECI_5</th>\n",
       "      <th>ECI_6</th>\n",
       "      <th>...</th>\n",
       "      <th>ECI_9</th>\n",
       "      <th>ECI_10</th>\n",
       "      <th>ECI_11</th>\n",
       "      <th>ECI_12</th>\n",
       "      <th>ECI_13</th>\n",
       "      <th>ECI_14</th>\n",
       "      <th>ECI_15</th>\n",
       "      <th>ECI_16</th>\n",
       "      <th>ECI_17</th>\n",
       "      <th>ECI_18</th>\n",
       "    </tr>\n",
       "  </thead>\n",
       "  <tbody>\n",
       "    <tr>\n",
       "      <th>0</th>\n",
       "      <td>2012</td>\n",
       "      <td>8</td>\n",
       "      <td>166</td>\n",
       "      <td>-0.131844</td>\n",
       "      <td>0.831169</td>\n",
       "      <td>-0.040967</td>\n",
       "      <td>0.548779</td>\n",
       "      <td>-0.090630</td>\n",
       "      <td>0.436914</td>\n",
       "      <td>-0.154422</td>\n",
       "      <td>...</td>\n",
       "      <td>0.349790</td>\n",
       "      <td>-0.239123</td>\n",
       "      <td>0.332050</td>\n",
       "      <td>-0.262405</td>\n",
       "      <td>0.321890</td>\n",
       "      <td>-0.277831</td>\n",
       "      <td>0.316103</td>\n",
       "      <td>-0.288045</td>\n",
       "      <td>0.312832</td>\n",
       "      <td>-0.294829</td>\n",
       "    </tr>\n",
       "    <tr>\n",
       "      <th>1</th>\n",
       "      <td>2012</td>\n",
       "      <td>12</td>\n",
       "      <td>15</td>\n",
       "      <td>-1.30</td>\n",
       "      <td>0.641786</td>\n",
       "      <td>-1.32</td>\n",
       "      <td>0.768264</td>\n",
       "      <td>-1.37</td>\n",
       "      <td>0.892379</td>\n",
       "      <td>-1.31</td>\n",
       "      <td>...</td>\n",
       "      <td>1.02</td>\n",
       "      <td>-1.20</td>\n",
       "      <td>1.04</td>\n",
       "      <td>-1.16</td>\n",
       "      <td>1.06</td>\n",
       "      <td>-1.13</td>\n",
       "      <td>1.07</td>\n",
       "      <td>-1.12</td>\n",
       "      <td>1.07</td>\n",
       "      <td>-1.10</td>\n",
       "    </tr>\n",
       "    <tr>\n",
       "      <th>2</th>\n",
       "      <td>2012</td>\n",
       "      <td>24</td>\n",
       "      <td>7</td>\n",
       "      <td>-1.36</td>\n",
       "      <td>-0.805907</td>\n",
       "      <td>-2.05</td>\n",
       "      <td>0.246574</td>\n",
       "      <td>-1.83</td>\n",
       "      <td>0.673335</td>\n",
       "      <td>-1.63</td>\n",
       "      <td>...</td>\n",
       "      <td>1.05</td>\n",
       "      <td>-1.41</td>\n",
       "      <td>1.13</td>\n",
       "      <td>-1.35</td>\n",
       "      <td>1.18</td>\n",
       "      <td>-1.31</td>\n",
       "      <td>1.21</td>\n",
       "      <td>-1.29</td>\n",
       "      <td>1.22</td>\n",
       "      <td>-1.27</td>\n",
       "    </tr>\n",
       "    <tr>\n",
       "      <th>3</th>\n",
       "      <td>2012</td>\n",
       "      <td>31</td>\n",
       "      <td>22</td>\n",
       "      <td>-1.25</td>\n",
       "      <td>1.52</td>\n",
       "      <td>-0.961099</td>\n",
       "      <td>1.32</td>\n",
       "      <td>-0.978661</td>\n",
       "      <td>1.18</td>\n",
       "      <td>-1.01</td>\n",
       "      <td>...</td>\n",
       "      <td>1.06</td>\n",
       "      <td>-1.02</td>\n",
       "      <td>1.04</td>\n",
       "      <td>-1.02</td>\n",
       "      <td>1.03</td>\n",
       "      <td>-1.02</td>\n",
       "      <td>1.02</td>\n",
       "      <td>-1.02</td>\n",
       "      <td>1.02</td>\n",
       "      <td>-1.02</td>\n",
       "    </tr>\n",
       "    <tr>\n",
       "      <th>4</th>\n",
       "      <td>2012</td>\n",
       "      <td>32</td>\n",
       "      <td>204</td>\n",
       "      <td>0.162505</td>\n",
       "      <td>-0.588760</td>\n",
       "      <td>0.331355</td>\n",
       "      <td>-0.298881</td>\n",
       "      <td>0.301952</td>\n",
       "      <td>-0.237945</td>\n",
       "      <td>0.287522</td>\n",
       "      <td>...</td>\n",
       "      <td>-0.262653</td>\n",
       "      <td>0.286262</td>\n",
       "      <td>-0.277414</td>\n",
       "      <td>0.289150</td>\n",
       "      <td>-0.287426</td>\n",
       "      <td>0.292120</td>\n",
       "      <td>-0.293705</td>\n",
       "      <td>0.294720</td>\n",
       "      <td>-0.297496</td>\n",
       "      <td>0.296829</td>\n",
       "    </tr>\n",
       "    <tr>\n",
       "      <th>5</th>\n",
       "      <td>2012</td>\n",
       "      <td>36</td>\n",
       "      <td>132</td>\n",
       "      <td>-0.395209</td>\n",
       "      <td>-0.784621</td>\n",
       "      <td>-0.461235</td>\n",
       "      <td>-0.057808</td>\n",
       "      <td>-0.383932</td>\n",
       "      <td>0.133994</td>\n",
       "      <td>-0.324721</td>\n",
       "      <td>...</td>\n",
       "      <td>0.195086</td>\n",
       "      <td>-0.255164</td>\n",
       "      <td>0.194709</td>\n",
       "      <td>-0.234553</td>\n",
       "      <td>0.192005</td>\n",
       "      <td>-0.219784</td>\n",
       "      <td>0.189467</td>\n",
       "      <td>-0.209250</td>\n",
       "      <td>0.187604</td>\n",
       "      <td>-0.201779</td>\n",
       "    </tr>\n",
       "    <tr>\n",
       "      <th>6</th>\n",
       "      <td>2012</td>\n",
       "      <td>40</td>\n",
       "      <td>437</td>\n",
       "      <td>1.97</td>\n",
       "      <td>-1.27</td>\n",
       "      <td>1.80</td>\n",
       "      <td>-1.57</td>\n",
       "      <td>1.72</td>\n",
       "      <td>-1.67</td>\n",
       "      <td>1.72</td>\n",
       "      <td>...</td>\n",
       "      <td>-1.72</td>\n",
       "      <td>1.73</td>\n",
       "      <td>-1.73</td>\n",
       "      <td>1.73</td>\n",
       "      <td>-1.74</td>\n",
       "      <td>1.74</td>\n",
       "      <td>-1.74</td>\n",
       "      <td>1.74</td>\n",
       "      <td>-1.74</td>\n",
       "      <td>1.74</td>\n",
       "    </tr>\n",
       "    <tr>\n",
       "      <th>7</th>\n",
       "      <td>2012</td>\n",
       "      <td>50</td>\n",
       "      <td>120</td>\n",
       "      <td>-0.488162</td>\n",
       "      <td>0.546680</td>\n",
       "      <td>-0.354924</td>\n",
       "      <td>0.803028</td>\n",
       "      <td>-0.492747</td>\n",
       "      <td>0.913236</td>\n",
       "      <td>-0.632492</td>\n",
       "      <td>...</td>\n",
       "      <td>0.953942</td>\n",
       "      <td>-0.802287</td>\n",
       "      <td>0.954170</td>\n",
       "      <td>-0.849262</td>\n",
       "      <td>0.953062</td>\n",
       "      <td>-0.881302</td>\n",
       "      <td>0.952099</td>\n",
       "      <td>-0.903206</td>\n",
       "      <td>0.951503</td>\n",
       "      <td>-0.918211</td>\n",
       "    </tr>\n",
       "    <tr>\n",
       "      <th>8</th>\n",
       "      <td>2012</td>\n",
       "      <td>51</td>\n",
       "      <td>134</td>\n",
       "      <td>-0.379717</td>\n",
       "      <td>-0.091156</td>\n",
       "      <td>0.354090</td>\n",
       "      <td>-0.331850</td>\n",
       "      <td>0.512258</td>\n",
       "      <td>-0.447000</td>\n",
       "      <td>0.544640</td>\n",
       "      <td>...</td>\n",
       "      <td>-0.520912</td>\n",
       "      <td>0.548414</td>\n",
       "      <td>-0.532085</td>\n",
       "      <td>0.547018</td>\n",
       "      <td>-0.537779</td>\n",
       "      <td>0.545984</td>\n",
       "      <td>-0.540794</td>\n",
       "      <td>0.545333</td>\n",
       "      <td>-0.542431</td>\n",
       "      <td>0.544950</td>\n",
       "    </tr>\n",
       "    <tr>\n",
       "      <th>9</th>\n",
       "      <td>2012</td>\n",
       "      <td>56</td>\n",
       "      <td>429</td>\n",
       "      <td>1.91</td>\n",
       "      <td>-1.11</td>\n",
       "      <td>1.33</td>\n",
       "      <td>-1.27</td>\n",
       "      <td>1.25</td>\n",
       "      <td>-1.31</td>\n",
       "      <td>1.26</td>\n",
       "      <td>...</td>\n",
       "      <td>-1.33</td>\n",
       "      <td>1.30</td>\n",
       "      <td>-1.34</td>\n",
       "      <td>1.31</td>\n",
       "      <td>-1.34</td>\n",
       "      <td>1.32</td>\n",
       "      <td>-1.34</td>\n",
       "      <td>1.33</td>\n",
       "      <td>-1.34</td>\n",
       "      <td>1.33</td>\n",
       "    </tr>\n",
       "    <tr>\n",
       "      <th>10</th>\n",
       "      <td>2012</td>\n",
       "      <td>68</td>\n",
       "      <td>95</td>\n",
       "      <td>-0.681813</td>\n",
       "      <td>-0.441124</td>\n",
       "      <td>-0.516303</td>\n",
       "      <td>0.095969</td>\n",
       "      <td>-0.471775</td>\n",
       "      <td>0.319977</td>\n",
       "      <td>-0.459059</td>\n",
       "      <td>...</td>\n",
       "      <td>0.427145</td>\n",
       "      <td>-0.449137</td>\n",
       "      <td>0.435840</td>\n",
       "      <td>-0.446148</td>\n",
       "      <td>0.438293</td>\n",
       "      <td>-0.443895</td>\n",
       "      <td>0.438757</td>\n",
       "      <td>-0.442224</td>\n",
       "      <td>0.438667</td>\n",
       "      <td>-0.441002</td>\n",
       "    </tr>\n",
       "    <tr>\n",
       "      <th>11</th>\n",
       "      <td>2012</td>\n",
       "      <td>70</td>\n",
       "      <td>233</td>\n",
       "      <td>0.387140</td>\n",
       "      <td>0.364293</td>\n",
       "      <td>0.677353</td>\n",
       "      <td>-0.084835</td>\n",
       "      <td>0.653463</td>\n",
       "      <td>-0.306719</td>\n",
       "      <td>0.613865</td>\n",
       "      <td>...</td>\n",
       "      <td>-0.464621</td>\n",
       "      <td>0.562658</td>\n",
       "      <td>-0.492562</td>\n",
       "      <td>0.549416</td>\n",
       "      <td>-0.507743</td>\n",
       "      <td>0.541072</td>\n",
       "      <td>-0.516119</td>\n",
       "      <td>0.535839</td>\n",
       "      <td>-0.520778</td>\n",
       "      <td>0.532550</td>\n",
       "    </tr>\n",
       "    <tr>\n",
       "      <th>12</th>\n",
       "      <td>2012</td>\n",
       "      <td>72</td>\n",
       "      <td>61</td>\n",
       "      <td>-0.945178</td>\n",
       "      <td>0.886468</td>\n",
       "      <td>-0.284988</td>\n",
       "      <td>0.558281</td>\n",
       "      <td>-0.267807</td>\n",
       "      <td>0.481418</td>\n",
       "      <td>-0.303956</td>\n",
       "      <td>...</td>\n",
       "      <td>0.427813</td>\n",
       "      <td>-0.356180</td>\n",
       "      <td>0.415066</td>\n",
       "      <td>-0.370136</td>\n",
       "      <td>0.407164</td>\n",
       "      <td>-0.379121</td>\n",
       "      <td>0.402399</td>\n",
       "      <td>-0.384899</td>\n",
       "      <td>0.399591</td>\n",
       "      <td>-0.388633</td>\n",
       "    </tr>\n",
       "    <tr>\n",
       "      <th>13</th>\n",
       "      <td>2012</td>\n",
       "      <td>76</td>\n",
       "      <td>207</td>\n",
       "      <td>0.185744</td>\n",
       "      <td>-1.25</td>\n",
       "      <td>0.348427</td>\n",
       "      <td>-0.640384</td>\n",
       "      <td>0.352244</td>\n",
       "      <td>-0.455149</td>\n",
       "      <td>0.358129</td>\n",
       "      <td>...</td>\n",
       "      <td>-0.397658</td>\n",
       "      <td>0.376972</td>\n",
       "      <td>-0.397255</td>\n",
       "      <td>0.384218</td>\n",
       "      <td>-0.398707</td>\n",
       "      <td>0.389597</td>\n",
       "      <td>-0.400106</td>\n",
       "      <td>0.393483</td>\n",
       "      <td>-0.401110</td>\n",
       "      <td>0.396255</td>\n",
       "    </tr>\n",
       "    <tr>\n",
       "      <th>14</th>\n",
       "      <td>2012</td>\n",
       "      <td>100</td>\n",
       "      <td>324</td>\n",
       "      <td>1.09</td>\n",
       "      <td>-0.070797</td>\n",
       "      <td>0.803528</td>\n",
       "      <td>-0.277871</td>\n",
       "      <td>0.695213</td>\n",
       "      <td>-0.400707</td>\n",
       "      <td>0.641980</td>\n",
       "      <td>...</td>\n",
       "      <td>-0.501764</td>\n",
       "      <td>0.587049</td>\n",
       "      <td>-0.521458</td>\n",
       "      <td>0.572964</td>\n",
       "      <td>-0.532499</td>\n",
       "      <td>0.563848</td>\n",
       "      <td>-0.538717</td>\n",
       "      <td>0.557946</td>\n",
       "      <td>-0.542218</td>\n",
       "      <td>0.554112</td>\n",
       "    </tr>\n",
       "  </tbody>\n",
       "</table>\n",
       "<p>15 rows × 22 columns</p>\n",
       "</div>"
      ],
      "text/plain": [
       "    year country_id  k_c0     ECI_0     ECI_1     ECI_2     ECI_3     ECI_4  \\\n",
       "0   2012          8   166 -0.131844  0.831169 -0.040967  0.548779 -0.090630   \n",
       "1   2012         12    15     -1.30  0.641786     -1.32  0.768264     -1.37   \n",
       "2   2012         24     7     -1.36 -0.805907     -2.05  0.246574     -1.83   \n",
       "3   2012         31    22     -1.25      1.52 -0.961099      1.32 -0.978661   \n",
       "4   2012         32   204  0.162505 -0.588760  0.331355 -0.298881  0.301952   \n",
       "5   2012         36   132 -0.395209 -0.784621 -0.461235 -0.057808 -0.383932   \n",
       "6   2012         40   437      1.97     -1.27      1.80     -1.57      1.72   \n",
       "7   2012         50   120 -0.488162  0.546680 -0.354924  0.803028 -0.492747   \n",
       "8   2012         51   134 -0.379717 -0.091156  0.354090 -0.331850  0.512258   \n",
       "9   2012         56   429      1.91     -1.11      1.33     -1.27      1.25   \n",
       "10  2012         68    95 -0.681813 -0.441124 -0.516303  0.095969 -0.471775   \n",
       "11  2012         70   233  0.387140  0.364293  0.677353 -0.084835  0.653463   \n",
       "12  2012         72    61 -0.945178  0.886468 -0.284988  0.558281 -0.267807   \n",
       "13  2012         76   207  0.185744     -1.25  0.348427 -0.640384  0.352244   \n",
       "14  2012        100   324      1.09 -0.070797  0.803528 -0.277871  0.695213   \n",
       "\n",
       "       ECI_5     ECI_6  ...     ECI_9    ECI_10    ECI_11    ECI_12    ECI_13  \\\n",
       "0   0.436914 -0.154422  ...  0.349790 -0.239123  0.332050 -0.262405  0.321890   \n",
       "1   0.892379     -1.31  ...      1.02     -1.20      1.04     -1.16      1.06   \n",
       "2   0.673335     -1.63  ...      1.05     -1.41      1.13     -1.35      1.18   \n",
       "3       1.18     -1.01  ...      1.06     -1.02      1.04     -1.02      1.03   \n",
       "4  -0.237945  0.287522  ... -0.262653  0.286262 -0.277414  0.289150 -0.287426   \n",
       "5   0.133994 -0.324721  ...  0.195086 -0.255164  0.194709 -0.234553  0.192005   \n",
       "6      -1.67      1.72  ...     -1.72      1.73     -1.73      1.73     -1.74   \n",
       "7   0.913236 -0.632492  ...  0.953942 -0.802287  0.954170 -0.849262  0.953062   \n",
       "8  -0.447000  0.544640  ... -0.520912  0.548414 -0.532085  0.547018 -0.537779   \n",
       "9      -1.31      1.26  ...     -1.33      1.30     -1.34      1.31     -1.34   \n",
       "10  0.319977 -0.459059  ...  0.427145 -0.449137  0.435840 -0.446148  0.438293   \n",
       "11 -0.306719  0.613865  ... -0.464621  0.562658 -0.492562  0.549416 -0.507743   \n",
       "12  0.481418 -0.303956  ...  0.427813 -0.356180  0.415066 -0.370136  0.407164   \n",
       "13 -0.455149  0.358129  ... -0.397658  0.376972 -0.397255  0.384218 -0.398707   \n",
       "14 -0.400707  0.641980  ... -0.501764  0.587049 -0.521458  0.572964 -0.532499   \n",
       "\n",
       "      ECI_14    ECI_15    ECI_16    ECI_17    ECI_18  \n",
       "0  -0.277831  0.316103 -0.288045  0.312832 -0.294829  \n",
       "1      -1.13      1.07     -1.12      1.07     -1.10  \n",
       "2      -1.31      1.21     -1.29      1.22     -1.27  \n",
       "3      -1.02      1.02     -1.02      1.02     -1.02  \n",
       "4   0.292120 -0.293705  0.294720 -0.297496  0.296829  \n",
       "5  -0.219784  0.189467 -0.209250  0.187604 -0.201779  \n",
       "6       1.74     -1.74      1.74     -1.74      1.74  \n",
       "7  -0.881302  0.952099 -0.903206  0.951503 -0.918211  \n",
       "8   0.545984 -0.540794  0.545333 -0.542431  0.544950  \n",
       "9       1.32     -1.34      1.33     -1.34      1.33  \n",
       "10 -0.443895  0.438757 -0.442224  0.438667 -0.441002  \n",
       "11  0.541072 -0.516119  0.535839 -0.520778  0.532550  \n",
       "12 -0.379121  0.402399 -0.384899  0.399591 -0.388633  \n",
       "13  0.389597 -0.400106  0.393483 -0.401110  0.396255  \n",
       "14  0.563848 -0.538717  0.557946 -0.542218  0.554112  \n",
       "\n",
       "[15 rows x 22 columns]"
      ]
     },
     "execution_count": 17,
     "metadata": {},
     "output_type": "execute_result"
    }
   ],
   "source": [
    "ECI_noduplicates.head(15)"
   ]
  },
  {
   "cell_type": "code",
   "execution_count": 18,
   "metadata": {},
   "outputs": [
    {
     "data": {
      "text/plain": [
       "144"
      ]
     },
     "execution_count": 18,
     "metadata": {},
     "output_type": "execute_result"
    }
   ],
   "source": [
    "ECI_noduplicates[\"country_id\"].nunique()"
   ]
  },
  {
   "cell_type": "markdown",
   "metadata": {},
   "source": [
    "## Staging ECI data, without duplicates, but with outliers"
   ]
  },
  {
   "cell_type": "code",
   "execution_count": 19,
   "metadata": {},
   "outputs": [
    {
     "name": "stdout",
     "output_type": "stream",
     "text": [
      "country_id column initial type:\n",
      "category\n",
      "============================================================\n",
      "country_id column final type:\n",
      "int16\n",
      "============================================================\n",
      "year column initial type:\n",
      "category\n",
      "============================================================\n",
      "year column final type:\n",
      "int16\n",
      "============================================================\n"
     ]
    }
   ],
   "source": [
    "# Saving ECI without duplicates, in case it is needed for further analysis\n",
    "\n",
    "# Saving clean ECI (economic complexity) reflections to a .parquet file\n",
    "output_file_name = \"ECI_noduplicates.parquet\"\n",
    "save_hs92_parquet_data(\n",
    "    data=ECI_noduplicates,\n",
    "    file_location=output_file_location,\n",
    "    file_name=output_file_name,\n",
    ")"
   ]
  },
  {
   "cell_type": "code",
   "execution_count": 20,
   "metadata": {},
   "outputs": [
    {
     "data": {
      "text/plain": [
       "0"
      ]
     },
     "execution_count": 20,
     "metadata": {},
     "output_type": "execute_result"
    }
   ],
   "source": [
    "del ECI_noduplicates\n",
    "gc.collect()"
   ]
  },
  {
   "cell_type": "markdown",
   "metadata": {},
   "source": [
    "## Pefroming other cleaning steps"
   ]
  },
  {
   "cell_type": "code",
   "execution_count": 21,
   "metadata": {},
   "outputs": [
    {
     "name": "stdout",
     "output_type": "stream",
     "text": [
      "country_id column initial type:\n",
      "int16\n",
      "============================================================\n",
      "country_id column final type:\n",
      "category\n",
      "============================================================\n",
      "year column initial type:\n",
      "int16\n",
      "============================================================\n",
      "year column final type:\n",
      "category\n",
      "============================================================\n"
     ]
    }
   ],
   "source": [
    "input_file_name = \"ECI_noduplicates.parquet\"\n",
    "ECI = read_hs92_parquet_data(output_file_location, input_file_name)"
   ]
  },
  {
   "cell_type": "code",
   "execution_count": 22,
   "metadata": {},
   "outputs": [
    {
     "name": "stdout",
     "output_type": "stream",
     "text": [
      "['df', <class 'pandas.core.frame.DataFrame'>]\n",
      "============================================================\n",
      "shape:\n",
      "(1152, 22)\n",
      "============================================================\n",
      "data types:\n",
      "year          category\n",
      "country_id    category\n",
      "k_c0             int32\n",
      "ECI_0          float64\n",
      "ECI_1          float64\n",
      "ECI_2          float64\n",
      "ECI_3          float64\n",
      "ECI_4          float64\n",
      "ECI_5          float64\n",
      "ECI_6          float64\n",
      "ECI_7          float64\n",
      "ECI_8          float64\n",
      "ECI_9          float64\n",
      "ECI_10         float64\n",
      "ECI_11         float64\n",
      "ECI_12         float64\n",
      "ECI_13         float64\n",
      "ECI_14         float64\n",
      "ECI_15         float64\n",
      "ECI_16         float64\n",
      "ECI_17         float64\n",
      "ECI_18         float64\n",
      "dtype: object\n",
      "============================================================\n",
      "columns:\n",
      "['year', 'country_id', 'k_c0', 'ECI_0', 'ECI_1', 'ECI_2', 'ECI_3', 'ECI_4', 'ECI_5', 'ECI_6', 'ECI_7', 'ECI_8', 'ECI_9', 'ECI_10', 'ECI_11', 'ECI_12', 'ECI_13', 'ECI_14', 'ECI_15', 'ECI_16', 'ECI_17', 'ECI_18']\n",
      "============================================================\n",
      "          k_c0     ECI_0     ECI_1     ECI_2     ECI_3     ECI_4     ECI_5  \\\n",
      "count 1,152.00  1,152.00  1,152.00  1,152.00  1,152.00  1,152.00  1,152.00   \n",
      "mean    179.83  0.000000 -0.000000 -0.000000 -0.000000 -0.000000  0.000000   \n",
      "std     126.02      1.00      1.00      1.00      1.00      1.00      1.00   \n",
      "min       7.00     -1.39     -2.83     -2.67     -2.99     -2.49     -2.83   \n",
      "25%      78.00 -0.808449 -0.668768 -0.748906 -0.661838 -0.756843 -0.690107   \n",
      "50%     158.00 -0.171143  0.090858 -0.051378  0.168680 -0.077772  0.159323   \n",
      "75%     251.00  0.565839  0.726189  0.816547  0.759513  0.791234  0.816117   \n",
      "max     560.00      2.92      2.63      2.13      2.35      2.26      2.29   \n",
      "\n",
      "          ECI_6     ECI_7     ECI_8     ECI_9    ECI_10    ECI_11    ECI_12  \\\n",
      "count  1,152.00  1,152.00  1,152.00  1,152.00  1,152.00  1,152.00  1,152.00   \n",
      "mean  -0.000000 -0.000000  0.000000 -0.000000 -0.000000 -0.000000 -0.000000   \n",
      "std        1.00      1.00      1.00      1.00      1.00      1.00      1.00   \n",
      "min       -2.31     -2.70     -2.31     -2.62     -2.30     -2.58     -2.29   \n",
      "25%   -0.779031 -0.728318 -0.786615 -0.741854 -0.805665 -0.736665 -0.807121   \n",
      "50%   -0.092767  0.159729 -0.117145  0.160490 -0.130457  0.155139 -0.134515   \n",
      "75%    0.745957  0.822175  0.747620  0.818359  0.739899  0.820948  0.745855   \n",
      "max        2.37      2.28      2.44      2.27      2.47      2.27      2.50   \n",
      "\n",
      "         ECI_13    ECI_14    ECI_15    ECI_16    ECI_17    ECI_18  \n",
      "count  1,152.00  1,152.00  1,152.00  1,152.00  1,152.00  1,152.00  \n",
      "mean   0.000000 -0.000000 -0.000000 -0.000000 -0.000000  0.000000  \n",
      "std        1.00      1.00      1.00      1.00      1.00      1.00  \n",
      "min       -2.55     -2.29     -2.54     -2.28     -2.54     -2.28  \n",
      "25%   -0.738526 -0.807520 -0.738839 -0.807369 -0.738449 -0.806295  \n",
      "50%    0.149996 -0.139149  0.147937 -0.142375  0.145410 -0.141866  \n",
      "75%    0.821206  0.754662  0.820938  0.741563  0.821992  0.737877  \n",
      "max        2.27      2.51      2.27      2.52      2.27      2.52  \n",
      "============================================================\n",
      "Total memory usage: 186440 bytes\n",
      "============================================================\n"
     ]
    }
   ],
   "source": [
    "df_stats(ECI)"
   ]
  },
  {
   "cell_type": "markdown",
   "metadata": {},
   "source": [
    "### ECI validation"
   ]
  },
  {
   "cell_type": "code",
   "execution_count": 23,
   "metadata": {},
   "outputs": [
    {
     "name": "stdout",
     "output_type": "stream",
     "text": [
      "available_reflections ['ECI_12', 'ECI_11', 'ECI_10', 'ECI_9'] available_years [2019, 2012]\n",
      "total_plots 8 cols 4 rows 2\n"
     ]
    },
    {
     "data": {
      "image/png": "[encoded data removed]",
      "text/plain": [
       "<Figure size 2000x800 with 8 Axes>"
      ]
     },
     "metadata": {},
     "output_type": "display_data"
    }
   ],
   "source": [
    "validate_eci_reflections_adjusted(ECI, years=[2019, 2012], reflections=[12, 11, 10, 9])"
   ]
  },
  {
   "cell_type": "code",
   "execution_count": 24,
   "metadata": {},
   "outputs": [
    {
     "name": "stdout",
     "output_type": "stream",
     "text": [
      "available_reflections ['ECI_18', 'ECI_16', 'ECI_14'] available_years [2019]\n",
      "total_plots 3 cols 3 rows 1\n"
     ]
    },
    {
     "data": {
      "image/png": "[encoded data removed]",
      "text/plain": [
       "<Figure size 1500x400 with 3 Axes>"
      ]
     },
     "metadata": {},
     "output_type": "display_data"
    }
   ],
   "source": [
    "validate_eci_reflections_adjusted(ECI, years=[2019], reflections=[18, 16, 14])"
   ]
  },
  {
   "cell_type": "markdown",
   "metadata": {},
   "source": [
    "Complexity indices are mean-centered and normalized by standard deviation. We generally expect the share of positive and negative values to be within a 45%-55% range."
   ]
  },
  {
   "cell_type": "markdown",
   "metadata": {},
   "source": [
    "### Ensuring unreliable locations are not present in the ECI dataset"
   ]
  },
  {
   "cell_type": "code",
   "execution_count": 25,
   "metadata": {},
   "outputs": [
    {
     "name": "stdout",
     "output_type": "stream",
     "text": [
      "data restored:['valid_gdp_country_codes', 'valid_gdp_country_ids', 'valid_gdp_locations', 'export_years', 'unreliable_locations', 'rolling_exports_years', 'reliable_gdp_codes']\n",
      "============================================================\n"
     ]
    }
   ],
   "source": [
    "initial_input_location = input_file_location\n",
    "\n",
    "input_file_location = os.path.join(\"..\", \"data\", \"02_ingested\")\n",
    "dumped_data = restore_cache(input_file_location=input_file_location)\n",
    "\n",
    "input_file_location = initial_input_location"
   ]
  },
  {
   "cell_type": "code",
   "execution_count": 26,
   "metadata": {},
   "outputs": [
    {
     "data": {
      "text/html": [
       "<div>\n",
       "<style scoped>\n",
       "    .dataframe tbody tr th:only-of-type {\n",
       "        vertical-align: middle;\n",
       "    }\n",
       "\n",
       "    .dataframe tbody tr th {\n",
       "        vertical-align: top;\n",
       "    }\n",
       "\n",
       "    .dataframe thead th {\n",
       "        text-align: right;\n",
       "    }\n",
       "</style>\n",
       "<table border=\"1\" class=\"dataframe\">\n",
       "  <thead>\n",
       "    <tr style=\"text-align: right;\">\n",
       "      <th></th>\n",
       "      <th>country_id</th>\n",
       "      <th>country_name</th>\n",
       "      <th>country_code</th>\n",
       "    </tr>\n",
       "  </thead>\n",
       "  <tbody>\n",
       "    <tr>\n",
       "      <th>1</th>\n",
       "      <td>4</td>\n",
       "      <td>Afghanistan</td>\n",
       "      <td>AFG</td>\n",
       "    </tr>\n",
       "    <tr>\n",
       "      <th>108</th>\n",
       "      <td>368</td>\n",
       "      <td>Iraq</td>\n",
       "      <td>IRQ</td>\n",
       "    </tr>\n",
       "    <tr>\n",
       "      <th>133</th>\n",
       "      <td>446</td>\n",
       "      <td>Macao</td>\n",
       "      <td>MAC</td>\n",
       "    </tr>\n",
       "    <tr>\n",
       "      <th>214</th>\n",
       "      <td>148</td>\n",
       "      <td>Chad</td>\n",
       "      <td>TCD</td>\n",
       "    </tr>\n",
       "  </tbody>\n",
       "</table>\n",
       "</div>"
      ],
      "text/plain": [
       "     country_id country_name country_code\n",
       "1             4  Afghanistan          AFG\n",
       "108         368         Iraq          IRQ\n",
       "133         446        Macao          MAC\n",
       "214         148         Chad          TCD"
      ]
     },
     "execution_count": 26,
     "metadata": {},
     "output_type": "execute_result"
    }
   ],
   "source": [
    "unreliable_locations = dumped_data[\"unreliable_locations\"]\n",
    "unreliable_locations"
   ]
  },
  {
   "cell_type": "code",
   "execution_count": 27,
   "metadata": {},
   "outputs": [],
   "source": [
    "# asserting that the unreliable locations are not present in the ECI data\n",
    "assert ECI[ECI[\"country_id\"].isin(unreliable_locations[\"country_id\"])].shape[0] == 0"
   ]
  },
  {
   "cell_type": "markdown",
   "metadata": {},
   "source": [
    "## Staging final, clean version of ECI"
   ]
  },
  {
   "cell_type": "code",
   "execution_count": 28,
   "metadata": {},
   "outputs": [
    {
     "name": "stdout",
     "output_type": "stream",
     "text": [
      "country_id column initial type:\n",
      "category\n",
      "============================================================\n",
      "country_id column final type:\n",
      "int16\n",
      "============================================================\n",
      "year column initial type:\n",
      "category\n",
      "============================================================\n",
      "year column final type:\n",
      "int16\n",
      "============================================================\n"
     ]
    }
   ],
   "source": [
    "# Saving ECI (economic complexity) reflections to a .parquet file\n",
    "output_file_name = \"ECI.parquet\"\n",
    "save_hs92_parquet_data(\n",
    "    data=ECI, file_location=output_file_location, file_name=output_file_name\n",
    ")"
   ]
  },
  {
   "cell_type": "code",
   "execution_count": 29,
   "metadata": {},
   "outputs": [
    {
     "data": {
      "text/plain": [
       "437"
      ]
     },
     "execution_count": 29,
     "metadata": {},
     "output_type": "execute_result"
    }
   ],
   "source": [
    "del ECI\n",
    "gc.collect()"
   ]
  },
  {
   "cell_type": "markdown",
   "metadata": {},
   "source": [
    "# Processing PCI data"
   ]
  },
  {
   "cell_type": "code",
   "execution_count": 30,
   "metadata": {},
   "outputs": [],
   "source": [
    "# input_file_name = \"impl_PCI.parquet\"\n",
    "# raw_PCI = read_hs92_parquet_data(input_file_location, input_file_name)"
   ]
  },
  {
   "cell_type": "code",
   "execution_count": 31,
   "metadata": {},
   "outputs": [],
   "source": [
    "# assert False, \"End of code\""
   ]
  },
  {
   "cell_type": "markdown",
   "metadata": {},
   "source": [
    "### Go to n06_MOR_visual.ipynb"
   ]
  },
  {
   "cell_type": "markdown",
   "metadata": {},
   "source": []
  }
 ],
 "metadata": {
  "kernelspec": {
   "display_name": "bdmm2324",
   "language": "python",
   "name": "python3"
  },
  "language_info": {
   "codemirror_mode": {
    "name": "ipython",
    "version": 3
   },
   "file_extension": ".py",
   "mimetype": "text/x-python",
   "name": "python",
   "nbconvert_exporter": "python",
   "pygments_lexer": "ipython3",
   "version": "3.11.7"
  }
 },
 "nbformat": 4,
 "nbformat_minor": 2
}
