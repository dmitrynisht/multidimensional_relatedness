{
 "cells": [
  {
   "cell_type": "code",
   "execution_count": 1,
   "id": "ec0854e9",
   "metadata": {},
   "outputs": [
    {
     "data": {
      "text/plain": [
       "1"
      ]
     },
     "execution_count": 1,
     "metadata": {},
     "output_type": "execute_result"
    }
   ],
   "source": [
    "(\n",
    "    1 + 0\n",
    ")  # Utility cell. Sometimes \"Jupyter\" skipps the first cell when running all cells. Especially after a restart."
   ]
  },
  {
   "cell_type": "code",
   "execution_count": 2,
   "id": "c1c0a39c",
   "metadata": {},
   "outputs": [
    {
     "data": {
      "text/plain": [
       "2"
      ]
     },
     "execution_count": 2,
     "metadata": {},
     "output_type": "execute_result"
    }
   ],
   "source": [
    "(\n",
    "    1 + 1\n",
    ")  # Utility cell. Sometimes \"Jupyter\" skipps the first cell when running all cells. Especially after a restart."
   ]
  },
  {
   "cell_type": "code",
   "execution_count": 3,
   "id": "5c3664cc",
   "metadata": {},
   "outputs": [
    {
     "name": "stdout",
     "output_type": "stream",
     "text": [
      "N3 utility cell running...\n"
     ]
    }
   ],
   "source": [
    "print(f\"N{1+2} utility cell running...\")"
   ]
  },
  {
   "cell_type": "code",
   "execution_count": 4,
   "id": "1ea4e3f6",
   "metadata": {},
   "outputs": [
    {
     "name": "stdout",
     "output_type": "stream",
     "text": [
      "PYTHONPATH: C:\\Users\\Admin\\Documents\\Univer\\MASTER THESIS IDEAS\\Flavio Pinehro\\11_MasterProject\\src;C:\\Users\\Admin\\Documents\\Univer\\MASTER THESIS IDEAS\\Flavio Pinehro\\11_MasterProject\\src\\imports\n"
     ]
    }
   ],
   "source": [
    "# Resolve the path to the 'src' folder with helper functions\n",
    "import config_notebooks"
   ]
  },
  {
   "cell_type": "code",
   "execution_count": 5,
   "id": "3c418425",
   "metadata": {},
   "outputs": [
    {
     "name": "stdout",
     "output_type": "stream",
     "text": [
      "os.getcwd():\n",
      "c:\\Users\\Admin\\Documents\\Univer\\MASTER THESIS IDEAS\\Flavio Pinehro\\11_MasterProject\\notebooks\n",
      "============================================================\n",
      "input_file_location:\n",
      "..\\data\\01_raw\n",
      "============================================================\n",
      "output_file_location:\n",
      "..\\data\\07_sindices_processed\n",
      "============================================================\n"
     ]
    }
   ],
   "source": [
    "from n07_import import *"
   ]
  },
  {
   "cell_type": "code",
   "execution_count": 6,
   "id": "c07ee5f6",
   "metadata": {},
   "outputs": [
    {
     "name": "stdout",
     "output_type": "stream",
     "text": [
      "os.getcwd():\n",
      "c:\\Users\\Admin\\Documents\\Univer\\MASTER THESIS IDEAS\\Flavio Pinehro\\11_MasterProject\\notebooks\n",
      "============================================================\n",
      "input_file_location:\n",
      "..\\data\\01_raw\n",
      "============================================================\n",
      "output_file_location:\n",
      "..\\data\\07_sindices_processed\n",
      "============================================================\n",
      "os.getcwd():\n",
      "c:\\Users\\Admin\\Documents\\Univer\\MASTER THESIS IDEAS\\Flavio Pinehro\\11_MasterProject\\notebooks\n",
      "============================================================\n",
      "input_file_location:\n",
      "..\\data\\01_raw\n",
      "============================================================\n",
      "output_file_location:\n",
      "..\\data\\07_sindices_processed\n",
      "============================================================\n"
     ]
    }
   ],
   "source": [
    "# Resolve the path to the 'src' folder with helper functions\n",
    "import config_notebooks\n",
    "from importlib import reload\n",
    "\n",
    "# Import the module and reload it\n",
    "import n07_import_reload\n",
    "\n",
    "reload(n07_import_reload)\n",
    "\n",
    "# Reload updated functions\n",
    "from n07_import_reload import *"
   ]
  },
  {
   "cell_type": "markdown",
   "id": "048e09a0",
   "metadata": {},
   "source": [
    "# Restoring cached data, staged while implementing Method of reflections in the n06_MOR_visual.ipynb notebook"
   ]
  },
  {
   "cell_type": "code",
   "execution_count": 7,
   "id": "114e9ee3",
   "metadata": {},
   "outputs": [
    {
     "name": "stdout",
     "output_type": "stream",
     "text": [
      "data restored:['rolling_exports_years', 'clean_countries_ids']\n",
      "============================================================\n",
      "Number of countries: 144\n",
      "Years of analysis: [2012, 2013, 2014, 2015, 2016, 2017, 2018, 2019]\n"
     ]
    }
   ],
   "source": [
    "# Restoring cached data\n",
    "initial_input_location = input_file_location\n",
    "\n",
    "input_file_location = os.path.join(\"..\", \"data\", \"06_mor_gold\")\n",
    "dumped_data = restore_cache(input_file_location=input_file_location)\n",
    "clean_countries_ids = dumped_data[\"clean_countries_ids\"]\n",
    "clean_countries_ids = [*clean_countries_ids]\n",
    "clean_countries_number = len(clean_countries_ids)\n",
    "print(f\"Number of countries: {clean_countries_number}\")\n",
    "\n",
    "rolling_exports_years = dumped_data[\"rolling_exports_years\"]\n",
    "rolling_exports_years = [*rolling_exports_years]\n",
    "rolling_exports_years.sort()\n",
    "print(f\"Years of analysis: {rolling_exports_years}\")\n",
    "\n",
    "input_file_location = initial_input_location\n"
   ]
  },
  {
   "cell_type": "code",
   "execution_count": 8,
   "id": "8402f0cf",
   "metadata": {},
   "outputs": [
    {
     "name": "stdout",
     "output_type": "stream",
     "text": [
      "['target_correlations_df', <class 'pandas.core.frame.DataFrame'>]\n",
      "============================================================\n",
      "shape:\n",
      "(8, 2)\n",
      "============================================================\n",
      "data types:\n",
      "year                      int16\n",
      "eci_18__log_gdp_pcap    float64\n",
      "dtype: object\n",
      "============================================================\n",
      "columns:\n",
      "['year', 'eci_18__log_gdp_pcap']\n",
      "============================================================\n",
      "          year  eci_18__log_gdp_pcap\n",
      "count     8.00                  8.00\n",
      "mean  2,015.50              0.763472\n",
      "std       2.45              0.026509\n",
      "min   2,012.00              0.732153\n",
      "25%   2,013.75              0.740900\n",
      "50%   2,015.50              0.761344\n",
      "75%   2,017.25              0.786876\n",
      "max   2,019.00              0.797133\n",
      "============================================================\n",
      "Total memory usage: 212 bytes\n",
      "============================================================\n"
     ]
    }
   ],
   "source": [
    "initial_input_location = input_file_location\n",
    "\n",
    "input_file_location = os.path.join(\"..\", \"data\", \"06_mor_gold\")\n",
    "input_file_name = \"ECI_correlation.parquet\"\n",
    "columns = [\n",
    "    \"year\",\n",
    "    \"ECI_18\",\n",
    "]\n",
    "target_correlations_df = read_hs92_parquet_data(\n",
    "    file_location=input_file_location,\n",
    "    file_name=input_file_name,\n",
    "    columns=columns,\n",
    "    f_convert_dtype=False,\n",
    ")\n",
    "columns_new = {\"ECI_18\": \"eci_18__log_gdp_pcap\"}\n",
    "target_correlations_df.rename(columns=columns_new, inplace=True)\n",
    "dumped_data[\"target_correlations_df\"] = target_correlations_df\n",
    "df_stats(target_correlations_df, \"target_correlations_df\")\n",
    "\n",
    "input_file_location = initial_input_location"
   ]
  },
  {
   "cell_type": "code",
   "execution_count": 9,
   "id": "8fd0fb6c",
   "metadata": {},
   "outputs": [
    {
     "name": "stdout",
     "output_type": "stream",
     "text": [
      "country_code column initial type:\n",
      "category\n",
      "============================================================\n",
      "country_code column final type:\n",
      "object\n",
      "============================================================\n"
     ]
    }
   ],
   "source": [
    "initial_input_location = input_file_location\n",
    "\n",
    "input_file_location = os.path.join(\"..\", \"data\", \"06_mor_gold\")\n",
    "input_file_name = \"ECI_GDP.parquet\"\n",
    "columns = [\n",
    "    \"country_id\",\n",
    "    \"country_code\",\n",
    "    \"country_name\",\n",
    "    \"year\",\n",
    "    \"log_gdp_per_capita\",\n",
    "    \"ECI_18\",\n",
    "]\n",
    "categorical_columns = [\"country_code\"]\n",
    "default_dtype = \"str\"\n",
    "ECI_GDP = read_hs92_parquet_data(\n",
    "    file_location=input_file_location,\n",
    "    file_name=input_file_name,\n",
    "    columns=columns,\n",
    "    categorical_columns=categorical_columns,\n",
    "    f_convert_dtype=True,\n",
    "    default_dtype=default_dtype,\n",
    ")\n",
    "\n",
    "input_file_location = initial_input_location"
   ]
  },
  {
   "cell_type": "code",
   "execution_count": 10,
   "id": "bbc08920",
   "metadata": {},
   "outputs": [
    {
     "name": "stdout",
     "output_type": "stream",
     "text": [
      "['ECI_GDP', <class 'pandas.core.frame.DataFrame'>]\n",
      "============================================================\n",
      "shape:\n",
      "(1152, 6)\n",
      "============================================================\n",
      "data types:\n",
      "country_id               int16\n",
      "country_code            object\n",
      "country_name          category\n",
      "year                     int16\n",
      "log_gdp_per_capita     float64\n",
      "ECI_18                 float64\n",
      "dtype: object\n",
      "============================================================\n",
      "columns:\n",
      "['country_id', 'country_code', 'country_name', 'year', 'log_gdp_per_capita', 'ECI_18']\n",
      "============================================================\n",
      "       country_id     year  log_gdp_per_capita    ECI_18\n",
      "count    1,152.00 1,152.00            1,152.00  1,152.00\n",
      "mean       440.19 2,015.50                8.62  0.000000\n",
      "std        250.36     2.29                1.46      1.00\n",
      "min          8.00 2,012.00                5.35     -2.28\n",
      "25%        221.00 2,013.75                7.41 -0.806295\n",
      "50%        427.00 2,015.50                8.64 -0.141866\n",
      "75%        655.00 2,017.25                9.74  0.737877\n",
      "max        894.00 2,019.00               11.59      2.52\n",
      "============================================================\n",
      "Total memory usage: 119920 bytes\n",
      "============================================================\n"
     ]
    }
   ],
   "source": [
    "df_stats(ECI_GDP, \"ECI_GDP\")"
   ]
  },
  {
   "cell_type": "markdown",
   "id": "4da5f314",
   "metadata": {},
   "source": [
    "# Importing population data and Location data\n",
    "Merging to ECI_GDP dataset, which is a subset of 'clean' countries, obtained while implementing Method of reflections in the n06_MOR_visual.ipynb notebook"
   ]
  },
  {
   "cell_type": "code",
   "execution_count": 11,
   "id": "5df504f8",
   "metadata": {},
   "outputs": [
    {
     "name": "stdout",
     "output_type": "stream",
     "text": [
      "year column initial type:\n",
      "int16\n",
      "============================================================\n",
      "year column final type:\n",
      "category\n",
      "============================================================\n",
      "country_code column initial type:\n",
      "object\n",
      "============================================================\n",
      "country_code column final type:\n",
      "category\n",
      "============================================================\n"
     ]
    }
   ],
   "source": [
    "# Restoring population data\n",
    "initial_input_location = input_file_location\n",
    "\n",
    "input_file_location = os.path.join(\"..\", \"data\", \"02_ingested\")\n",
    "\n",
    "input_file_name = \"raw_population.dta\"\n",
    "population_df = read_hs92_stata_data(input_file_location, input_file_name)\n",
    "\n",
    "input_file_name = \"locations.parquet\"\n",
    "location_df = read_hs92_parquet_data(\n",
    "    input_file_location, input_file_name, f_convert_dtype=False\n",
    ")\n",
    "dumped_data[\"location_df\"] = location_df\n",
    "\n",
    "input_file_location = initial_input_location"
   ]
  },
  {
   "cell_type": "code",
   "execution_count": 12,
   "id": "95c49a15",
   "metadata": {},
   "outputs": [
    {
     "name": "stdout",
     "output_type": "stream",
     "text": [
      "country_code column initial type:\n",
      "category\n",
      "============================================================\n",
      "country_code column final type:\n",
      "object\n",
      "============================================================\n",
      "year column initial type:\n",
      "category\n",
      "============================================================\n",
      "year column final type:\n",
      "int16\n",
      "============================================================\n"
     ]
    }
   ],
   "source": [
    "# Switching to the \"object\" data type for categorical columns\n",
    "categorical_columns = [\"country_code\", \"year\"]\n",
    "dtype_dict = {\"country_code\": \"str\", \"year\": \"int16\"}\n",
    "population_df = switch_to_dtype(\n",
    "    data=population_df,\n",
    "    default_dtype=\"str\",\n",
    "    categorical_columns=categorical_columns,\n",
    "    dtype_dict=dtype_dict,\n",
    ")"
   ]
  },
  {
   "cell_type": "code",
   "execution_count": 13,
   "id": "d4788807",
   "metadata": {},
   "outputs": [
    {
     "name": "stdout",
     "output_type": "stream",
     "text": [
      "['population_df', <class 'pandas.core.frame.DataFrame'>]\n",
      "============================================================\n",
      "shape:\n",
      "(17024, 3)\n",
      "============================================================\n",
      "data types:\n",
      "country_code     object\n",
      "year              int16\n",
      "population      float64\n",
      "dtype: object\n",
      "============================================================\n",
      "columns:\n",
      "['country_code', 'year', 'population']\n",
      "============================================================\n",
      "           year       population\n",
      "count 17,024.00        16,930.00\n",
      "mean   1,991.50   216,605,749.67\n",
      "std       18.47   711,507,956.69\n",
      "min    1,960.00         2,715.00\n",
      "25%    1,975.75     1,009,540.00\n",
      "50%    1,991.50     6,748,606.50\n",
      "75%    2,007.25    46,785,187.00\n",
      "max    2,023.00 8,061,876,001.00\n",
      "============================================================\n",
      "Total memory usage: 1191812 bytes\n",
      "============================================================\n"
     ]
    }
   ],
   "source": [
    "df_stats(population_df, \"population_df\")"
   ]
  },
  {
   "cell_type": "code",
   "execution_count": 14,
   "id": "0d1dafa8",
   "metadata": {},
   "outputs": [],
   "source": [
    "# Merging the ECI_GDP with population on country_code and year\n",
    "sindices_df = ECI_GDP.merge(population_df, on=[\"country_code\", \"year\"], how=\"left\")"
   ]
  },
  {
   "cell_type": "code",
   "execution_count": 15,
   "id": "cd473a30",
   "metadata": {},
   "outputs": [
    {
     "name": "stdout",
     "output_type": "stream",
     "text": [
      "['sindices_df', <class 'pandas.core.frame.DataFrame'>]\n",
      "============================================================\n",
      "shape:\n",
      "(1152, 7)\n",
      "============================================================\n",
      "data types:\n",
      "country_id               int16\n",
      "country_code            object\n",
      "country_name          category\n",
      "year                     int16\n",
      "log_gdp_per_capita     float64\n",
      "ECI_18                 float64\n",
      "population             float64\n",
      "dtype: object\n",
      "============================================================\n",
      "columns:\n",
      "['country_id', 'country_code', 'country_name', 'year', 'log_gdp_per_capita', 'ECI_18', 'population']\n",
      "============================================================\n",
      "       country_id     year  log_gdp_per_capita    ECI_18       population\n",
      "count    1,152.00 1,152.00            1,152.00  1,152.00         1,152.00\n",
      "mean       440.19 2,015.50                8.62  0.000000    50,513,028.06\n",
      "std        250.36     2.29                1.46      1.00   163,404,670.14\n",
      "min          8.00 2,012.00                5.35     -2.28     1,255,882.00\n",
      "25%        221.00 2,013.75                7.41 -0.806295     5,504,986.25\n",
      "50%        427.00 2,015.50                8.64 -0.141866    11,317,298.50\n",
      "75%        655.00 2,017.25                9.74  0.737877    36,432,923.00\n",
      "max        894.00 2,019.00               11.59      2.52 1,407,745,000.00\n",
      "============================================================\n",
      "Total memory usage: 129136 bytes\n",
      "============================================================\n"
     ]
    }
   ],
   "source": [
    "df_stats(sindices_df, \"sindices_df\")"
   ]
  },
  {
   "cell_type": "code",
   "execution_count": 16,
   "id": "dc0bc2c8",
   "metadata": {},
   "outputs": [
    {
     "data": {
      "text/plain": [
       "0"
      ]
     },
     "execution_count": 16,
     "metadata": {},
     "output_type": "execute_result"
    }
   ],
   "source": [
    "del target_correlations_df, ECI_GDP, population_df\n",
    "gc.collect()"
   ]
  },
  {
   "cell_type": "code",
   "execution_count": 17,
   "id": "01d095a2",
   "metadata": {},
   "outputs": [],
   "source": [
    "# Calculating the log population\n",
    "sindices_df[\"log_population\"] = np.log(sindices_df[\"population\"])\n",
    "# Dropping the population column\n",
    "sindices_df.drop(columns=[\"population\"], inplace=True)"
   ]
  },
  {
   "cell_type": "code",
   "execution_count": 18,
   "id": "80ff8ab8",
   "metadata": {},
   "outputs": [
    {
     "name": "stdout",
     "output_type": "stream",
     "text": [
      "['sindices_df', <class 'pandas.core.frame.DataFrame'>]\n",
      "============================================================\n",
      "shape:\n",
      "(1152, 7)\n",
      "============================================================\n",
      "data types:\n",
      "country_id               int16\n",
      "country_code            object\n",
      "country_name          category\n",
      "year                     int16\n",
      "log_gdp_per_capita     float64\n",
      "ECI_18                 float64\n",
      "log_population         float64\n",
      "dtype: object\n",
      "============================================================\n",
      "columns:\n",
      "['country_id', 'country_code', 'country_name', 'year', 'log_gdp_per_capita', 'ECI_18', 'log_population']\n",
      "============================================================\n",
      "       country_id     year  log_gdp_per_capita    ECI_18  log_population\n",
      "count    1,152.00 1,152.00            1,152.00  1,152.00        1,152.00\n",
      "mean       440.19 2,015.50                8.62  0.000000           16.52\n",
      "std        250.36     2.29                1.46      1.00            1.36\n",
      "min          8.00 2,012.00                5.35     -2.28           14.04\n",
      "25%        221.00 2,013.75                7.41 -0.806295           15.52\n",
      "50%        427.00 2,015.50                8.64 -0.141866           16.24\n",
      "75%        655.00 2,017.25                9.74  0.737877           17.41\n",
      "max        894.00 2,019.00               11.59      2.52           21.07\n",
      "============================================================\n",
      "Total memory usage: 129136 bytes\n",
      "============================================================\n"
     ]
    }
   ],
   "source": [
    "df_stats(sindices_df, \"sindices_df\")"
   ]
  },
  {
   "cell_type": "code",
   "execution_count": 19,
   "id": "8e0b52fa",
   "metadata": {},
   "outputs": [
    {
     "name": "stdout",
     "output_type": "stream",
     "text": [
      "country_name column initial type:\n",
      "category\n",
      "============================================================\n",
      "country_name column final type:\n",
      "object\n",
      "============================================================\n"
     ]
    }
   ],
   "source": [
    "categorical_columns = [\"country_name\"]\n",
    "sindices_df = switch_to_dtype(\n",
    "    sindices_df, default_dtype=\"str\", categorical_columns=categorical_columns\n",
    ")"
   ]
  },
  {
   "cell_type": "markdown",
   "id": "d3d0f25f",
   "metadata": {},
   "source": [
    "# Importing gini index\n",
    "Keeping only country code and gini index values"
   ]
  },
  {
   "cell_type": "code",
   "execution_count": 20,
   "id": "4dc5c444",
   "metadata": {},
   "outputs": [
    {
     "name": "stdout",
     "output_type": "stream",
     "text": [
      "['raw_gini_df', <class 'pandas.core.frame.DataFrame'>]\n",
      "============================================================\n",
      "shape:\n",
      "(266, 65)\n",
      "============================================================\n",
      "data types:\n",
      "country_code     object\n",
      "1960            float64\n",
      "1961            float64\n",
      "1962            float64\n",
      "1963            float64\n",
      "                 ...   \n",
      "2019            float64\n",
      "2020            float64\n",
      "2021            float64\n",
      "2022            float64\n",
      "2023            float64\n",
      "Length: 65, dtype: object\n",
      "============================================================\n",
      "columns:\n",
      "['country_code', '1960', '1961', '1962', '1963', '1964', '1965', '1966', '1967', '1968', '1969', '1970', '1971', '1972', '1973', '1974', '1975', '1976', '1977', '1978', '1979', '1980', '1981', '1982', '1983', '1984', '1985', '1986', '1987', '1988', '1989', '1990', '1991', '1992', '1993', '1994', '1995', '1996', '1997', '1998', '1999', '2000', '2001', '2002', '2003', '2004', '2005', '2006', '2007', '2008', '2009', '2010', '2011', '2012', '2013', '2014', '2015', '2016', '2017', '2018', '2019', '2020', '2021', '2022', '2023']\n",
      "============================================================\n",
      "       1960  1961  1962     1963     1964     1965     1966     1967  1968  \\\n",
      "count  0.00  0.00  0.00 1.000000 1.000000 1.000000 1.000000 1.000000  2.00   \n",
      "mean    NaN   NaN   NaN    37.60    38.10    37.50    37.80    36.90 31.55   \n",
      "std     NaN   NaN   NaN      NaN      NaN      NaN      NaN      NaN  6.72   \n",
      "min     NaN   NaN   NaN    37.60    38.10    37.50    37.80    36.90 26.80   \n",
      "25%     NaN   NaN   NaN    37.60    38.10    37.50    37.80    36.90 29.18   \n",
      "50%     NaN   NaN   NaN    37.60    38.10    37.50    37.80    36.90 31.55   \n",
      "75%     NaN   NaN   NaN    37.60    38.10    37.50    37.80    36.90 33.92   \n",
      "max     NaN   NaN   NaN    37.60    38.10    37.50    37.80    36.90 36.30   \n",
      "\n",
      "       1969  ...  2014  2015  2016  2017  2018  2019  2020  2021  2022  2023  \n",
      "count  2.00  ... 82.00 85.00 81.00 78.00 91.00 77.00 65.00 71.00 28.00  4.00  \n",
      "mean  31.95  ... 36.39 36.64 35.88 35.42 35.68 34.98 34.88 35.28 38.33 44.08  \n",
      "std    5.73  ...  8.01  7.71  7.26  6.92  6.59  7.02  6.84  6.54  7.72  5.60  \n",
      "min   27.90  ... 24.00 25.40 24.80 23.20 24.60 23.20 24.00 24.10 26.40 36.10  \n",
      "25%   29.92  ... 30.97 31.70 31.20 30.40 30.45 30.00 29.50 31.00 32.90 42.48  \n",
      "50%   31.95  ... 34.80 35.50 34.70 35.00 35.20 33.80 34.60 34.40 38.10 45.65  \n",
      "75%   33.98  ... 40.33 41.10 40.00 39.40 39.25 38.50 38.80 39.00 43.12 47.25  \n",
      "max   36.00  ... 63.00 59.10 54.60 53.30 53.90 53.50 53.50 55.10 54.80 48.90  \n",
      "\n",
      "[8 rows x 64 columns]\n",
      "============================================================\n",
      "Total memory usage: 152284 bytes\n",
      "============================================================\n"
     ]
    }
   ],
   "source": [
    "input_file_name = \"API_SI.POV.GINI_DS2_en_csv_v2_53.csv\"\n",
    "# reading the csv file, renaming 'iso3_code' to 'country_code'\n",
    "raw_gini_df = pd.read_csv(\n",
    "    os.path.join(input_file_location, input_file_name),\n",
    "    header=2,\n",
    ")\n",
    "columns_new = {\"Country Code\": \"country_code\", \"Country Name\": \"country_name\"}\n",
    "raw_gini_df.rename(columns=columns_new, inplace=True)\n",
    "\n",
    "col_years = [*map(str, range(1960, 2024))]\n",
    "columns = [\"country_code\"] + col_years\n",
    "raw_gini_df = raw_gini_df[columns].reset_index(drop=True)\n",
    "\n",
    "df_stats(raw_gini_df, \"raw_gini_df\")"
   ]
  },
  {
   "cell_type": "code",
   "execution_count": 21,
   "id": "291a1bc5",
   "metadata": {},
   "outputs": [
    {
     "name": "stdout",
     "output_type": "stream",
     "text": [
      "['raw_gini_df', <class 'pandas.core.frame.DataFrame'>]\n",
      "============================================================\n",
      "shape:\n",
      "(17024, 3)\n",
      "============================================================\n",
      "data types:\n",
      "country_code     object\n",
      "year             object\n",
      "gini            float64\n",
      "dtype: object\n",
      "============================================================\n",
      "columns:\n",
      "['country_code', 'year', 'gini']\n",
      "============================================================\n",
      "          gini\n",
      "count 2,111.00\n",
      "mean     37.72\n",
      "std       8.83\n",
      "min      20.70\n",
      "25%      31.20\n",
      "50%      35.50\n",
      "75%      43.30\n",
      "max      65.80\n",
      "============================================================\n",
      "Total memory usage: 2196228 bytes\n",
      "============================================================\n"
     ]
    }
   ],
   "source": [
    "# Reshaping the raw_gini_df DataFrame from wide to long format by converting the gini data from columns (with years starting from 1960) into rows\n",
    "raw_gini_df = raw_gini_df.melt(\n",
    "    id_vars=[\"country_code\"], var_name=\"year\", value_name=\"gini\"\n",
    ")\n",
    "df_stats(raw_gini_df, \"raw_gini_df\")"
   ]
  },
  {
   "cell_type": "code",
   "execution_count": 22,
   "id": "568a6969",
   "metadata": {},
   "outputs": [
    {
     "name": "stdout",
     "output_type": "stream",
     "text": [
      "year column initial type:\n",
      "object\n",
      "============================================================\n",
      "year column final type:\n",
      "int16\n",
      "============================================================\n",
      "country_code column initial type:\n",
      "object\n",
      "============================================================\n",
      "country_code column final type:\n",
      "object\n",
      "============================================================\n"
     ]
    }
   ],
   "source": [
    "initial_output_location = output_file_location\n",
    "\n",
    "# Saving imported gini index data to a .parquet file\n",
    "output_file_location = os.path.join(\"..\", \"data\", \"02_ingested\")\n",
    "output_file_name = \"raw_gini.parquet\"\n",
    "save_hs92_parquet_data(\n",
    "    data=raw_gini_df,\n",
    "    file_location=output_file_location,\n",
    "    file_name=output_file_name,\n",
    "    dtype_dict={\"country_code\": \"str\"},\n",
    ")\n",
    "\n",
    "output_file_location = initial_output_location"
   ]
  },
  {
   "cell_type": "markdown",
   "id": "56292662",
   "metadata": {},
   "source": [
    "Reading ingested GINI (by World Bank) index"
   ]
  },
  {
   "cell_type": "code",
   "execution_count": 23,
   "id": "809877df",
   "metadata": {},
   "outputs": [],
   "source": [
    "initial_input_location = input_file_location\n",
    "\n",
    "input_file_location = os.path.join(\"..\", \"data\", \"02_ingested\")\n",
    "input_file_name = \"raw_gini.parquet\"\n",
    "raw_gini_df = read_hs92_parquet_data(\n",
    "    input_file_location, input_file_name, f_convert_dtype=False\n",
    ")\n",
    "\n",
    "input_file_location = initial_input_location"
   ]
  },
  {
   "cell_type": "code",
   "execution_count": 24,
   "id": "b861d4ee",
   "metadata": {},
   "outputs": [
    {
     "name": "stdout",
     "output_type": "stream",
     "text": [
      "['raw_gini_df', <class 'pandas.core.frame.DataFrame'>]\n",
      "============================================================\n",
      "shape:\n",
      "(17024, 3)\n",
      "============================================================\n",
      "data types:\n",
      "country_code     object\n",
      "year              int16\n",
      "gini            float64\n",
      "dtype: object\n",
      "============================================================\n",
      "columns:\n",
      "['country_code', 'year', 'gini']\n",
      "============================================================\n",
      "           year     gini\n",
      "count 17,024.00 2,111.00\n",
      "mean   1,991.50    37.72\n",
      "std       18.47     8.83\n",
      "min    1,960.00    20.70\n",
      "25%    1,975.75    31.20\n",
      "50%    1,991.50    35.50\n",
      "75%    2,007.25    43.30\n",
      "max    2,023.00    65.80\n",
      "============================================================\n",
      "Total memory usage: 1191812 bytes\n",
      "============================================================\n"
     ]
    }
   ],
   "source": [
    "df_stats(raw_gini_df, \"raw_gini_df\")"
   ]
  },
  {
   "cell_type": "code",
   "execution_count": 25,
   "id": "067cee6e",
   "metadata": {},
   "outputs": [],
   "source": [
    "# Merging the sindices_df with gini on country_code and year\n",
    "sindices_df = sindices_df.merge(raw_gini_df, on=[\"country_code\", \"year\"], how=\"left\")"
   ]
  },
  {
   "cell_type": "code",
   "execution_count": 26,
   "id": "23a7f293",
   "metadata": {},
   "outputs": [
    {
     "data": {
      "text/plain": [
       "0"
      ]
     },
     "execution_count": 26,
     "metadata": {},
     "output_type": "execute_result"
    }
   ],
   "source": [
    "del raw_gini_df\n",
    "gc.collect()"
   ]
  },
  {
   "cell_type": "code",
   "execution_count": 27,
   "id": "274b25b9",
   "metadata": {},
   "outputs": [
    {
     "name": "stdout",
     "output_type": "stream",
     "text": [
      "['sindices_df', <class 'pandas.core.frame.DataFrame'>]\n",
      "============================================================\n",
      "shape:\n",
      "(1152, 8)\n",
      "============================================================\n",
      "data types:\n",
      "country_id              int16\n",
      "country_code           object\n",
      "country_name           object\n",
      "year                    int16\n",
      "log_gdp_per_capita    float64\n",
      "ECI_18                float64\n",
      "log_population        float64\n",
      "gini                  float64\n",
      "dtype: object\n",
      "============================================================\n",
      "columns:\n",
      "['country_id', 'country_code', 'country_name', 'year', 'log_gdp_per_capita', 'ECI_18', 'log_population', 'gini']\n",
      "============================================================\n",
      "       country_id     year  log_gdp_per_capita    ECI_18  log_population  \\\n",
      "count    1,152.00 1,152.00            1,152.00  1,152.00        1,152.00   \n",
      "mean       440.19 2,015.50                8.62  0.000000           16.52   \n",
      "std        250.36     2.29                1.46      1.00            1.36   \n",
      "min          8.00 2,012.00                5.35     -2.28           14.04   \n",
      "25%        221.00 2,013.75                7.41 -0.806295           15.52   \n",
      "50%        427.00 2,015.50                8.64 -0.141866           16.24   \n",
      "75%        655.00 2,017.25                9.74  0.737877           17.41   \n",
      "max        894.00 2,019.00               11.59      2.52           21.07   \n",
      "\n",
      "        gini  \n",
      "count 579.00  \n",
      "mean   36.15  \n",
      "std     7.37  \n",
      "min    23.20  \n",
      "25%    30.80  \n",
      "50%    35.20  \n",
      "75%    40.85  \n",
      "max    63.00  \n",
      "============================================================\n",
      "Total memory usage: 186204 bytes\n",
      "============================================================\n"
     ]
    }
   ],
   "source": [
    "df_stats(sindices_df, \"sindices_df\")"
   ]
  },
  {
   "cell_type": "markdown",
   "id": "2f5069b7",
   "metadata": {},
   "source": [
    "Analizing missing data"
   ]
  },
  {
   "cell_type": "code",
   "execution_count": 28,
   "id": "41c3f9e6",
   "metadata": {},
   "outputs": [
    {
     "data": {
      "text/plain": [
       "144"
      ]
     },
     "execution_count": 28,
     "metadata": {},
     "output_type": "execute_result"
    }
   ],
   "source": [
    "# Calculating the total number of countries in sindices_df\n",
    "clean_countries_number = sindices_df[\"country_id\"].nunique()\n",
    "clean_countries_number"
   ]
  },
  {
   "cell_type": "code",
   "execution_count": 29,
   "id": "ee9581c6",
   "metadata": {},
   "outputs": [],
   "source": [
    "# Subset sindices_df to rows with NaN values in \"gini\" column\n",
    "missing_gini_sindices_df = sindices_df[sindices_df[\"gini\"].isna()].reset_index(\n",
    "    drop=True\n",
    ")"
   ]
  },
  {
   "cell_type": "code",
   "execution_count": 30,
   "id": "9da96126",
   "metadata": {},
   "outputs": [
    {
     "data": {
      "text/html": [
       "<div>\n",
       "<style scoped>\n",
       "    .dataframe tbody tr th:only-of-type {\n",
       "        vertical-align: middle;\n",
       "    }\n",
       "\n",
       "    .dataframe tbody tr th {\n",
       "        vertical-align: top;\n",
       "    }\n",
       "\n",
       "    .dataframe thead th {\n",
       "        text-align: right;\n",
       "    }\n",
       "</style>\n",
       "<table border=\"1\" class=\"dataframe\">\n",
       "  <thead>\n",
       "    <tr style=\"text-align: right;\">\n",
       "      <th></th>\n",
       "      <th>year</th>\n",
       "      <th>count</th>\n",
       "      <th>proportion</th>\n",
       "    </tr>\n",
       "  </thead>\n",
       "  <tbody>\n",
       "    <tr>\n",
       "      <th>1</th>\n",
       "      <td>2019</td>\n",
       "      <td>76</td>\n",
       "      <td>0.527778</td>\n",
       "    </tr>\n",
       "    <tr>\n",
       "      <th>7</th>\n",
       "      <td>2018</td>\n",
       "      <td>61</td>\n",
       "      <td>0.423611</td>\n",
       "    </tr>\n",
       "    <tr>\n",
       "      <th>2</th>\n",
       "      <td>2017</td>\n",
       "      <td>75</td>\n",
       "      <td>0.520833</td>\n",
       "    </tr>\n",
       "    <tr>\n",
       "      <th>3</th>\n",
       "      <td>2016</td>\n",
       "      <td>72</td>\n",
       "      <td>0.500000</td>\n",
       "    </tr>\n",
       "    <tr>\n",
       "      <th>6</th>\n",
       "      <td>2015</td>\n",
       "      <td>68</td>\n",
       "      <td>0.472222</td>\n",
       "    </tr>\n",
       "    <tr>\n",
       "      <th>5</th>\n",
       "      <td>2014</td>\n",
       "      <td>70</td>\n",
       "      <td>0.486111</td>\n",
       "    </tr>\n",
       "    <tr>\n",
       "      <th>0</th>\n",
       "      <td>2013</td>\n",
       "      <td>80</td>\n",
       "      <td>0.555556</td>\n",
       "    </tr>\n",
       "    <tr>\n",
       "      <th>4</th>\n",
       "      <td>2012</td>\n",
       "      <td>71</td>\n",
       "      <td>0.493056</td>\n",
       "    </tr>\n",
       "  </tbody>\n",
       "</table>\n",
       "</div>"
      ],
      "text/plain": [
       "   year  count  proportion\n",
       "1  2019     76    0.527778\n",
       "7  2018     61    0.423611\n",
       "2  2017     75    0.520833\n",
       "3  2016     72    0.500000\n",
       "6  2015     68    0.472222\n",
       "5  2014     70    0.486111\n",
       "0  2013     80    0.555556\n",
       "4  2012     71    0.493056"
      ]
     },
     "execution_count": 30,
     "metadata": {},
     "output_type": "execute_result"
    }
   ],
   "source": [
    "# Calculating number of rows with missing gini values for each year\n",
    "missing_gini = missing_gini_sindices_df[\"year\"].value_counts().reset_index()\n",
    "missing_gini.columns = [\"year\", \"count\"]\n",
    "missing_gini[\"proportion\"] = missing_gini[\"count\"] / clean_countries_number\n",
    "missing_gini.sort_values(by=\"year\", ascending=False, inplace=True)\n",
    "missing_gini"
   ]
  },
  {
   "cell_type": "code",
   "execution_count": 31,
   "id": "f0a93f40",
   "metadata": {},
   "outputs": [],
   "source": [
    "# # Pivotting the missing gini data to get the years with missing gini data for each country\n",
    "# missing_gini_pivot_df = missing_gini_sindices_df.pivot_table(\n",
    "#     index=[\"country_code\", \"country_name\"],\n",
    "#     columns=\"year\",\n",
    "#     values=\"gini\",\n",
    "#     aggfunc=\"first\",\n",
    "# ).reset_index()"
   ]
  },
  {
   "cell_type": "code",
   "execution_count": 32,
   "id": "3824dc8e",
   "metadata": {},
   "outputs": [
    {
     "data": {
      "text/plain": [
       "89"
      ]
     },
     "execution_count": 32,
     "metadata": {},
     "output_type": "execute_result"
    }
   ],
   "source": [
    "# Calculating the number of countries with missing gini values\n",
    "missing_gini_sindices_df[\"country_id\"].nunique()"
   ]
  },
  {
   "cell_type": "code",
   "execution_count": 33,
   "id": "bb94d668",
   "metadata": {},
   "outputs": [
    {
     "data": {
      "text/plain": [
       "144"
      ]
     },
     "execution_count": 33,
     "metadata": {},
     "output_type": "execute_result"
    }
   ],
   "source": [
    "clean_countries_number"
   ]
  },
  {
   "cell_type": "code",
   "execution_count": 34,
   "id": "96502b1a",
   "metadata": {},
   "outputs": [
    {
     "data": {
      "text/plain": [
       "0"
      ]
     },
     "execution_count": 34,
     "metadata": {},
     "output_type": "execute_result"
    }
   ],
   "source": [
    "del missing_gini_sindices_df, missing_gini\n",
    "gc.collect()"
   ]
  },
  {
   "cell_type": "markdown",
   "id": "c1660832",
   "metadata": {},
   "source": [
    "The Gini Index is named after the Italian statistician Corrado Gini\n",
    "\n",
    "The Gini Index is a measure of income inequality within a country or population. It helps us understand how wealth is distributed among people.\n",
    "- If the Gini Index is 0, it means perfect equality—everyone earns exactly the same.\n",
    "- If the Gini Index is 1 (or 100 on a percentage scale), it means maximum inequality—one person has all the income, and the rest have none.\n",
    "\n",
    "This gini dataset has large number of missing values.\n",
    "Trying another, swiid dataset:\n",
    "\n",
    "Solt, Frederick, 2019, \"The Standardized World Income Inequality Database, Versions 8-9\", https://doi.org/10.7910/DVN/LM4OWF, Harvard Dataverse, V13\n",
    "\n",
    "Solt, Frederick. 2020. “Measuring Income Inequality Across Countries and Over Time: The\n",
    "Standardized World Income Inequality Database.” Social Science Quarterly. SWIID Version\n",
    "9.8, December 2024\n",
    "\n",
    "Using measures:<br>\n",
    "gini_disp: Estimate of Gini index of inequality in equivalized (square root scale) household\n",
    "disposable (post-tax, post-transfer) income, using Luxembourg Income Study data as the\n",
    "standard"
   ]
  },
  {
   "cell_type": "code",
   "execution_count": 35,
   "id": "b97f260c",
   "metadata": {},
   "outputs": [
    {
     "name": "stdout",
     "output_type": "stream",
     "text": [
      "year column initial type:\n",
      "int64\n",
      "============================================================\n",
      "year column final type:\n",
      "int16\n",
      "============================================================\n"
     ]
    }
   ],
   "source": [
    "input_file_name = \"swiid9_8_summary.csv\"\n",
    "# reading the csv file, renaming 'iso3_code' to 'country_code'\n",
    "raw_swiid_df = pd.read_csv(\n",
    "    os.path.join(input_file_location, input_file_name),\n",
    "    usecols=[\n",
    "        \"country\",\n",
    "        \"year\",\n",
    "        \"gini_disp\", # disposable income\n",
    "    ],\n",
    "    # header=2,\n",
    ")\n",
    "raw_swiid_df.rename(columns={\"country\": \"country_name\"}, inplace=True)\n",
    "\n",
    "categorical_columns = [\"year\"]\n",
    "raw_swiid_df = switch_to_dtype(\n",
    "    raw_swiid_df, default_dtype=\"int16\", categorical_columns=categorical_columns\n",
    ")\n",
    "\n",
    "# Mapping of country name replacements\n",
    "country_renaming_map = {\n",
    "    \"United States\": \"United States of America\",\n",
    "    \"Czech Republic\": \"Czechia\",\n",
    "    \"Korea\": \"South Korea\",\n",
    "    \"Turkey\": \"Turkiye\",\n",
    "    \"Gambia\": \"The Gambia\",\n",
    "    \"Palestinian Territories\": \"Palestine\",\n",
    "    \"Congo-Brazzaville\": \"Democratic Republic of the Congo\",\n",
    "    \"Congo-Kinshasa\": \"Republic of the Congo\",\n",
    "}\n",
    "\n",
    "# Apply replacement to 'country_name' column\n",
    "raw_swiid_df[\"country_name\"] = raw_swiid_df[\"country_name\"].replace(\n",
    "    country_renaming_map\n",
    ")"
   ]
  },
  {
   "cell_type": "code",
   "execution_count": 36,
   "id": "e5d1190a",
   "metadata": {},
   "outputs": [
    {
     "name": "stdout",
     "output_type": "stream",
     "text": [
      "year column initial type:\n",
      "int16\n",
      "============================================================\n",
      "year column final type:\n",
      "int16\n",
      "============================================================\n"
     ]
    }
   ],
   "source": [
    "initial_output_location = output_file_location\n",
    "\n",
    "# Saving imported gini index data to a .parquet file\n",
    "output_file_location = os.path.join(\"..\", \"data\", \"02_ingested\")\n",
    "output_file_name = \"raw_swiid.parquet\"\n",
    "save_hs92_parquet_data(\n",
    "    data=raw_swiid_df,\n",
    "    file_location=output_file_location,\n",
    "    file_name=output_file_name,\n",
    "    dtype_dict={\"country_name\": \"str\"},\n",
    ")\n",
    "\n",
    "output_file_location = initial_output_location"
   ]
  },
  {
   "cell_type": "code",
   "execution_count": 37,
   "id": "175011a9",
   "metadata": {},
   "outputs": [],
   "source": [
    "initial_input_location = input_file_location\n",
    "\n",
    "input_file_location = os.path.join(\"..\", \"data\", \"02_ingested\")\n",
    "input_file_name = \"raw_swiid.parquet\"\n",
    "raw_gini_df = read_hs92_parquet_data(\n",
    "    input_file_location, input_file_name, f_convert_dtype=False\n",
    ")\n",
    "\n",
    "input_file_location = initial_input_location"
   ]
  },
  {
   "cell_type": "code",
   "execution_count": 38,
   "id": "2a5e5c0a",
   "metadata": {},
   "outputs": [
    {
     "name": "stdout",
     "output_type": "stream",
     "text": [
      "['raw_swiid_df', <class 'pandas.core.frame.DataFrame'>]\n",
      "============================================================\n",
      "shape:\n",
      "(6398, 3)\n",
      "============================================================\n",
      "data types:\n",
      "country_name     object\n",
      "year              int16\n",
      "gini_disp       float64\n",
      "dtype: object\n",
      "============================================================\n",
      "columns:\n",
      "['country_name', 'year', 'gini_disp']\n",
      "============================================================\n",
      "          year  gini_disp\n",
      "count 6,398.00   6,398.00\n",
      "mean  1,999.79      38.17\n",
      "std      14.28       8.55\n",
      "min   1,960.00      16.70\n",
      "25%   1,990.25      31.70\n",
      "50%   2,002.00      38.30\n",
      "75%   2,011.00      43.90\n",
      "max   2,023.00      65.20\n",
      "============================================================\n",
      "Total memory usage: 483770 bytes\n",
      "============================================================\n"
     ]
    }
   ],
   "source": [
    "df_stats(raw_swiid_df, \"raw_swiid_df\")"
   ]
  },
  {
   "cell_type": "code",
   "execution_count": 39,
   "id": "6f5c5b4a",
   "metadata": {},
   "outputs": [
    {
     "data": {
      "text/plain": [
       "199"
      ]
     },
     "execution_count": 39,
     "metadata": {},
     "output_type": "execute_result"
    }
   ],
   "source": [
    "# Estimating the number of countries in the raw_swiid_df dataset\n",
    "raw_swiid_df[\"country_name\"].nunique()"
   ]
  },
  {
   "cell_type": "code",
   "execution_count": 40,
   "id": "e5af019c",
   "metadata": {},
   "outputs": [
    {
     "data": {
      "text/plain": [
       "144"
      ]
     },
     "execution_count": 40,
     "metadata": {},
     "output_type": "execute_result"
    }
   ],
   "source": [
    "# Ensuring the number of countries in the sindices_df dataset didn't change\n",
    "sindices_df[\"country_name\"].nunique()"
   ]
  },
  {
   "cell_type": "code",
   "execution_count": 41,
   "id": "a9dbfdfd",
   "metadata": {},
   "outputs": [
    {
     "name": "stdout",
     "output_type": "stream",
     "text": [
      "common swiid_countries countries: 143;\n",
      "============================================================\n",
      "clean countries: 1;\n",
      "============================================================\n",
      "`Cuba`\n"
     ]
    }
   ],
   "source": [
    "swiid_countries = set(raw_swiid_df[\"country_name\"].unique())\n",
    "sindices_countries = set(sindices_df[\"country_name\"].unique())\n",
    "\n",
    "common_clean_countries = sindices_countries.intersection(swiid_countries)\n",
    "print(\n",
    "    f\"common swiid_countries countries: {len(common_clean_countries)};\",\n",
    "    \"=\" * 60,\n",
    "    sep=\"\\n\",\n",
    ")\n",
    "\n",
    "# Getting the list of countries that are in the sindices_df but not in the common_clean_countries\n",
    "missing_countries = sindices_countries.difference(common_clean_countries)\n",
    "print(\n",
    "    f\"clean countries: {len(missing_countries)};\",\n",
    "    \"=\" * 60,\n",
    "    *[f\"`{c}`\" for c in missing_countries],\n",
    "    sep=\"\\n\",\n",
    ")"
   ]
  },
  {
   "cell_type": "code",
   "execution_count": 42,
   "id": "c97f8dd3",
   "metadata": {},
   "outputs": [],
   "source": [
    "# Merging the sindices_df with swiid on country_name and year\n",
    "sindices_df = sindices_df.merge(raw_swiid_df, on=[\"country_name\", \"year\"], how=\"left\")"
   ]
  },
  {
   "cell_type": "code",
   "execution_count": 43,
   "id": "646ca143",
   "metadata": {},
   "outputs": [
    {
     "data": {
      "text/plain": [
       "0"
      ]
     },
     "execution_count": 43,
     "metadata": {},
     "output_type": "execute_result"
    }
   ],
   "source": [
    "del raw_swiid_df, missing_countries, common_clean_countries, swiid_countries, sindices_countries\n",
    "gc.collect()"
   ]
  },
  {
   "cell_type": "code",
   "execution_count": 44,
   "id": "187fdb23",
   "metadata": {},
   "outputs": [
    {
     "name": "stdout",
     "output_type": "stream",
     "text": [
      "['sindices_df', <class 'pandas.core.frame.DataFrame'>]\n",
      "============================================================\n",
      "shape:\n",
      "(1152, 9)\n",
      "============================================================\n",
      "data types:\n",
      "country_id              int16\n",
      "country_code           object\n",
      "country_name           object\n",
      "year                    int16\n",
      "log_gdp_per_capita    float64\n",
      "ECI_18                float64\n",
      "log_population        float64\n",
      "gini                  float64\n",
      "gini_disp             float64\n",
      "dtype: object\n",
      "============================================================\n",
      "columns:\n",
      "['country_id', 'country_code', 'country_name', 'year', 'log_gdp_per_capita', 'ECI_18', 'log_population', 'gini', 'gini_disp']\n",
      "============================================================\n",
      "       country_id     year  log_gdp_per_capita    ECI_18  log_population  \\\n",
      "count    1,152.00 1,152.00            1,152.00  1,152.00        1,152.00   \n",
      "mean       440.19 2,015.50                8.62  0.000000           16.52   \n",
      "std        250.36     2.29                1.46      1.00            1.36   \n",
      "min          8.00 2,012.00                5.35     -2.28           14.04   \n",
      "25%        221.00 2,013.75                7.41 -0.806295           15.52   \n",
      "50%        427.00 2,015.50                8.64 -0.141866           16.24   \n",
      "75%        655.00 2,017.25                9.74  0.737877           17.41   \n",
      "max        894.00 2,019.00               11.59      2.52           21.07   \n",
      "\n",
      "        gini  gini_disp  \n",
      "count 579.00     967.00  \n",
      "mean   36.15      37.96  \n",
      "std     7.37       7.59  \n",
      "min    23.20      22.50  \n",
      "25%    30.80      32.40  \n",
      "50%    35.20      37.80  \n",
      "75%    40.85      43.50  \n",
      "max    63.00      64.50  \n",
      "============================================================\n",
      "Total memory usage: 195540 bytes\n",
      "============================================================\n"
     ]
    }
   ],
   "source": [
    "df_stats(sindices_df, \"sindices_df\")"
   ]
  },
  {
   "cell_type": "code",
   "execution_count": 45,
   "id": "afca631c",
   "metadata": {},
   "outputs": [],
   "source": [
    "# Subset sindices_df to rows with NaN values in \"gini_disp\" column\n",
    "missing_swiid_sindices_df = sindices_df[sindices_df[\"gini_disp\"].isna()].reset_index(\n",
    "    drop=True\n",
    ")"
   ]
  },
  {
   "cell_type": "code",
   "execution_count": 46,
   "id": "6fc387fa",
   "metadata": {},
   "outputs": [
    {
     "data": {
      "text/html": [
       "<div>\n",
       "<style scoped>\n",
       "    .dataframe tbody tr th:only-of-type {\n",
       "        vertical-align: middle;\n",
       "    }\n",
       "\n",
       "    .dataframe tbody tr th {\n",
       "        vertical-align: top;\n",
       "    }\n",
       "\n",
       "    .dataframe thead th {\n",
       "        text-align: right;\n",
       "    }\n",
       "</style>\n",
       "<table border=\"1\" class=\"dataframe\">\n",
       "  <thead>\n",
       "    <tr style=\"text-align: right;\">\n",
       "      <th></th>\n",
       "      <th>year</th>\n",
       "      <th>count</th>\n",
       "      <th>proportion</th>\n",
       "    </tr>\n",
       "  </thead>\n",
       "  <tbody>\n",
       "    <tr>\n",
       "      <th>0</th>\n",
       "      <td>2019</td>\n",
       "      <td>43</td>\n",
       "      <td>0.298611</td>\n",
       "    </tr>\n",
       "    <tr>\n",
       "      <th>1</th>\n",
       "      <td>2018</td>\n",
       "      <td>34</td>\n",
       "      <td>0.236111</td>\n",
       "    </tr>\n",
       "    <tr>\n",
       "      <th>2</th>\n",
       "      <td>2017</td>\n",
       "      <td>27</td>\n",
       "      <td>0.187500</td>\n",
       "    </tr>\n",
       "    <tr>\n",
       "      <th>3</th>\n",
       "      <td>2016</td>\n",
       "      <td>22</td>\n",
       "      <td>0.152778</td>\n",
       "    </tr>\n",
       "    <tr>\n",
       "      <th>4</th>\n",
       "      <td>2015</td>\n",
       "      <td>18</td>\n",
       "      <td>0.125000</td>\n",
       "    </tr>\n",
       "    <tr>\n",
       "      <th>6</th>\n",
       "      <td>2014</td>\n",
       "      <td>15</td>\n",
       "      <td>0.104167</td>\n",
       "    </tr>\n",
       "    <tr>\n",
       "      <th>5</th>\n",
       "      <td>2013</td>\n",
       "      <td>15</td>\n",
       "      <td>0.104167</td>\n",
       "    </tr>\n",
       "    <tr>\n",
       "      <th>7</th>\n",
       "      <td>2012</td>\n",
       "      <td>11</td>\n",
       "      <td>0.076389</td>\n",
       "    </tr>\n",
       "  </tbody>\n",
       "</table>\n",
       "</div>"
      ],
      "text/plain": [
       "   year  count  proportion\n",
       "0  2019     43    0.298611\n",
       "1  2018     34    0.236111\n",
       "2  2017     27    0.187500\n",
       "3  2016     22    0.152778\n",
       "4  2015     18    0.125000\n",
       "6  2014     15    0.104167\n",
       "5  2013     15    0.104167\n",
       "7  2012     11    0.076389"
      ]
     },
     "execution_count": 46,
     "metadata": {},
     "output_type": "execute_result"
    }
   ],
   "source": [
    "# Calculating number of rows with missing gini_disp values for each year, combining both absolute and relative frequencies\n",
    "missing_swiid = missing_swiid_sindices_df[\"year\"].value_counts().reset_index()\n",
    "missing_swiid.columns = [\"year\", \"count\"]\n",
    "missing_swiid[\"proportion\"] = missing_swiid[\"count\"] / clean_countries_number\n",
    "missing_swiid.sort_values(by=\"year\", ascending=False, inplace=True)\n",
    "missing_swiid"
   ]
  },
  {
   "cell_type": "markdown",
   "id": "3ca24a6c",
   "metadata": {},
   "source": [
    "We can see that the SWIID dataset contains less missing values than the GINI dataset.\n",
    "<br>We shall keep both indices for further analysis."
   ]
  },
  {
   "cell_type": "code",
   "execution_count": 47,
   "id": "b597d904",
   "metadata": {},
   "outputs": [
    {
     "data": {
      "text/plain": [
       "(185, 9)"
      ]
     },
     "execution_count": 47,
     "metadata": {},
     "output_type": "execute_result"
    }
   ],
   "source": [
    "missing_swiid_sindices_df.shape"
   ]
  },
  {
   "cell_type": "code",
   "execution_count": 48,
   "id": "d2c2464a",
   "metadata": {},
   "outputs": [
    {
     "data": {
      "text/plain": [
       "43"
      ]
     },
     "execution_count": 48,
     "metadata": {},
     "output_type": "execute_result"
    }
   ],
   "source": [
    "missing_swiid_sindices_df[\"country_id\"].nunique()"
   ]
  },
  {
   "cell_type": "code",
   "execution_count": 49,
   "id": "d2c43036",
   "metadata": {},
   "outputs": [
    {
     "data": {
      "text/plain": [
       "0"
      ]
     },
     "execution_count": 49,
     "metadata": {},
     "output_type": "execute_result"
    }
   ],
   "source": [
    "del missing_swiid_sindices_df, missing_swiid\n",
    "gc.collect()"
   ]
  },
  {
   "cell_type": "markdown",
   "id": "2e31160d",
   "metadata": {},
   "source": [
    "# Importing the Human Capital Index(HCI) (scale 0-1) by World Bank"
   ]
  },
  {
   "cell_type": "markdown",
   "id": "7a3ad815",
   "metadata": {},
   "source": [
    "The HCI calculates the contributions of health and education to worker productivity. The final index score ranges from zero to one and measures the productivity as a future worker of child born today relative to the benchmark of full health and complete education.\n",
    "<br>HCI has five components (survival to age 5, quality-adjusted education years, child health via stunting, and adult survival) which fall into two categories (health and education)."
   ]
  },
  {
   "cell_type": "code",
   "execution_count": 50,
   "id": "e009adaa",
   "metadata": {},
   "outputs": [],
   "source": [
    "input_file_name = \"human-capital-index-in-2018.csv\"\n",
    "columns = [\"Code\", \"Year\", \"Human capital index (HCI) (scale 0-1)\"]\n",
    "# reading the csv file, renaming 'iso3_code' to 'country_code'\n",
    "raw_hci_df = pd.read_csv(\n",
    "    os.path.join(input_file_location, input_file_name),\n",
    "    engine=\"python\",\n",
    "    # skipfooter=11,\n",
    "    encoding=\"utf-8\",\n",
    "    encoding_errors=\"replace\",  # Replace invalid characters\n",
    "    usecols=columns,\n",
    "    # header=2,\n",
    ")\n",
    "# Rename 'iso3' to 'country_code'\n",
    "columns_new = {\n",
    "    \"Code\": \"country_code\",\n",
    "    \"Year\": \"year\",\n",
    "    \"Human capital index (HCI) (scale 0-1)\": \"hci\",\n",
    "}\n",
    "raw_hci_df.rename(columns=columns_new, inplace=True)"
   ]
  },
  {
   "cell_type": "code",
   "execution_count": 51,
   "id": "1033fced",
   "metadata": {},
   "outputs": [
    {
     "name": "stdout",
     "output_type": "stream",
     "text": [
      "['raw_hci_df', <class 'pandas.core.frame.DataFrame'>]\n",
      "============================================================\n",
      "shape:\n",
      "(872, 3)\n",
      "============================================================\n",
      "data types:\n",
      "country_code     object\n",
      "year              int64\n",
      "hci             float64\n",
      "dtype: object\n",
      "============================================================\n",
      "columns:\n",
      "['country_code', 'year', 'hci']\n",
      "============================================================\n",
      "          year      hci\n",
      "count   872.00   601.00\n",
      "mean  2,018.83 0.569469\n",
      "std       3.95 0.145568\n",
      "min   2,010.00 0.286075\n",
      "25%   2,017.00 0.443490\n",
      "50%   2,020.00 0.574536\n",
      "75%   2,023.00 0.690006\n",
      "max   2,023.00 0.887084\n",
      "============================================================\n",
      "Total memory usage: 66092 bytes\n",
      "============================================================\n"
     ]
    }
   ],
   "source": [
    "df_stats(raw_hci_df, \"raw_hci_df\")"
   ]
  },
  {
   "cell_type": "code",
   "execution_count": 52,
   "id": "4e3b3ae3",
   "metadata": {},
   "outputs": [
    {
     "name": "stdout",
     "output_type": "stream",
     "text": [
      "year column initial type:\n",
      "int64\n",
      "============================================================\n",
      "year column final type:\n",
      "int16\n",
      "============================================================\n",
      "country_code column initial type:\n",
      "object\n",
      "============================================================\n",
      "country_code column final type:\n",
      "object\n",
      "============================================================\n"
     ]
    }
   ],
   "source": [
    "initial_output_location = output_file_location\n",
    "\n",
    "# Saving imported gini index data to a .parquet file\n",
    "output_file_location = os.path.join(\"..\", \"data\", \"02_ingested\")\n",
    "output_file_name = \"raw_hci.parquet\"\n",
    "save_hs92_parquet_data(\n",
    "    data=raw_hci_df,\n",
    "    file_location=output_file_location,\n",
    "    file_name=output_file_name,\n",
    "    dtype_dict={\"country_code\": \"str\", \"year\": \"int16\"},\n",
    ")\n",
    "\n",
    "output_file_location = initial_output_location"
   ]
  },
  {
   "cell_type": "markdown",
   "id": "31bbdf77",
   "metadata": {},
   "source": [
    "Reading ingested HCI (by World Bank) index"
   ]
  },
  {
   "cell_type": "code",
   "execution_count": 53,
   "id": "c4cb380d",
   "metadata": {},
   "outputs": [],
   "source": [
    "initial_input_location = input_file_location\n",
    "\n",
    "input_file_location = os.path.join(\"..\", \"data\", \"02_ingested\")\n",
    "input_file_name = \"raw_hci.parquet\"\n",
    "raw_hci_df = read_hs92_parquet_data(\n",
    "    input_file_location, input_file_name, f_convert_dtype=False\n",
    ")\n",
    "\n",
    "input_file_location = initial_input_location"
   ]
  },
  {
   "cell_type": "code",
   "execution_count": 54,
   "id": "64b8a32c",
   "metadata": {},
   "outputs": [
    {
     "name": "stdout",
     "output_type": "stream",
     "text": [
      "['raw_hci_df', <class 'pandas.core.frame.DataFrame'>]\n",
      "============================================================\n",
      "shape:\n",
      "(872, 3)\n",
      "============================================================\n",
      "data types:\n",
      "country_code     object\n",
      "year              int16\n",
      "hci             float64\n",
      "dtype: object\n",
      "============================================================\n",
      "columns:\n",
      "['country_code', 'year', 'hci']\n",
      "============================================================\n",
      "          year      hci\n",
      "count   872.00   601.00\n",
      "mean  2,018.83 0.569469\n",
      "std       3.95 0.145568\n",
      "min   2,010.00 0.286075\n",
      "25%   2,017.00 0.443490\n",
      "50%   2,020.00 0.574536\n",
      "75%   2,023.00 0.690006\n",
      "max   2,023.00 0.887084\n",
      "============================================================\n",
      "Total memory usage: 61252 bytes\n",
      "============================================================\n"
     ]
    }
   ],
   "source": [
    "df_stats(raw_hci_df, \"raw_hci_df\")"
   ]
  },
  {
   "cell_type": "code",
   "execution_count": 55,
   "id": "0e895ae7",
   "metadata": {},
   "outputs": [],
   "source": [
    "# Merging the sindices_df with gini on country_code and year\n",
    "sindices_df = sindices_df.merge(raw_hci_df, on=[\"country_code\", \"year\"], how=\"left\")"
   ]
  },
  {
   "cell_type": "code",
   "execution_count": 56,
   "id": "c5aa7a83",
   "metadata": {},
   "outputs": [
    {
     "data": {
      "text/plain": [
       "29"
      ]
     },
     "execution_count": 56,
     "metadata": {},
     "output_type": "execute_result"
    }
   ],
   "source": [
    "del raw_hci_df\n",
    "gc.collect()"
   ]
  },
  {
   "cell_type": "code",
   "execution_count": 57,
   "id": "3e89266a",
   "metadata": {},
   "outputs": [
    {
     "name": "stdout",
     "output_type": "stream",
     "text": [
      "['sindices_df', <class 'pandas.core.frame.DataFrame'>]\n",
      "============================================================\n",
      "shape:\n",
      "(1152, 10)\n",
      "============================================================\n",
      "data types:\n",
      "country_id              int16\n",
      "country_code           object\n",
      "country_name           object\n",
      "year                    int16\n",
      "log_gdp_per_capita    float64\n",
      "ECI_18                float64\n",
      "log_population        float64\n",
      "gini                  float64\n",
      "gini_disp             float64\n",
      "hci                   float64\n",
      "dtype: object\n",
      "============================================================\n",
      "columns:\n",
      "['country_id', 'country_code', 'country_name', 'year', 'log_gdp_per_capita', 'ECI_18', 'log_population', 'gini', 'gini_disp', 'hci']\n",
      "============================================================\n",
      "       country_id     year  log_gdp_per_capita    ECI_18  log_population  \\\n",
      "count    1,152.00 1,152.00            1,152.00  1,152.00        1,152.00   \n",
      "mean       440.19 2,015.50                8.62  0.000000           16.52   \n",
      "std        250.36     2.29                1.46      1.00            1.36   \n",
      "min          8.00 2,012.00                5.35     -2.28           14.04   \n",
      "25%        221.00 2,013.75                7.41 -0.806295           15.52   \n",
      "50%        427.00 2,015.50                8.64 -0.141866           16.24   \n",
      "75%        655.00 2,017.25                9.74  0.737877           17.41   \n",
      "max        894.00 2,019.00               11.59      2.52           21.07   \n",
      "\n",
      "        gini  gini_disp      hci  \n",
      "count 579.00     967.00   270.00  \n",
      "mean   36.15      37.96 0.573438  \n",
      "std     7.37       7.59 0.150881  \n",
      "min    23.20      22.50 0.316000  \n",
      "25%    30.80      32.40 0.439250  \n",
      "50%    35.20      37.80 0.580376  \n",
      "75%    40.85      43.50 0.710266  \n",
      "max    63.00      64.50 0.887084  \n",
      "============================================================\n",
      "Total memory usage: 204756 bytes\n",
      "============================================================\n"
     ]
    }
   ],
   "source": [
    "df_stats(sindices_df, \"sindices_df\")"
   ]
  },
  {
   "cell_type": "markdown",
   "id": "0ebef1f4",
   "metadata": {},
   "source": [
    "Analizing missing data"
   ]
  },
  {
   "cell_type": "code",
   "execution_count": 58,
   "id": "a8f05822",
   "metadata": {},
   "outputs": [],
   "source": [
    "# Subset sindices_df to rows with NaN values in \"hci\" column\n",
    "missing_hci_sindices_df = sindices_df[sindices_df[\"hci\"].isna()].reset_index(drop=True)"
   ]
  },
  {
   "cell_type": "code",
   "execution_count": 59,
   "id": "1830847d",
   "metadata": {},
   "outputs": [
    {
     "data": {
      "text/html": [
       "<div>\n",
       "<style scoped>\n",
       "    .dataframe tbody tr th:only-of-type {\n",
       "        vertical-align: middle;\n",
       "    }\n",
       "\n",
       "    .dataframe tbody tr th {\n",
       "        vertical-align: top;\n",
       "    }\n",
       "\n",
       "    .dataframe thead th {\n",
       "        text-align: right;\n",
       "    }\n",
       "</style>\n",
       "<table border=\"1\" class=\"dataframe\">\n",
       "  <thead>\n",
       "    <tr style=\"text-align: right;\">\n",
       "      <th></th>\n",
       "      <th>year</th>\n",
       "      <th>count</th>\n",
       "      <th>proportion</th>\n",
       "    </tr>\n",
       "  </thead>\n",
       "  <tbody>\n",
       "    <tr>\n",
       "      <th>5</th>\n",
       "      <td>2019</td>\n",
       "      <td>144</td>\n",
       "      <td>1.000000</td>\n",
       "    </tr>\n",
       "    <tr>\n",
       "      <th>7</th>\n",
       "      <td>2018</td>\n",
       "      <td>9</td>\n",
       "      <td>0.062500</td>\n",
       "    </tr>\n",
       "    <tr>\n",
       "      <th>6</th>\n",
       "      <td>2017</td>\n",
       "      <td>9</td>\n",
       "      <td>0.062500</td>\n",
       "    </tr>\n",
       "    <tr>\n",
       "      <th>4</th>\n",
       "      <td>2016</td>\n",
       "      <td>144</td>\n",
       "      <td>1.000000</td>\n",
       "    </tr>\n",
       "    <tr>\n",
       "      <th>3</th>\n",
       "      <td>2015</td>\n",
       "      <td>144</td>\n",
       "      <td>1.000000</td>\n",
       "    </tr>\n",
       "    <tr>\n",
       "      <th>2</th>\n",
       "      <td>2014</td>\n",
       "      <td>144</td>\n",
       "      <td>1.000000</td>\n",
       "    </tr>\n",
       "    <tr>\n",
       "      <th>1</th>\n",
       "      <td>2013</td>\n",
       "      <td>144</td>\n",
       "      <td>1.000000</td>\n",
       "    </tr>\n",
       "    <tr>\n",
       "      <th>0</th>\n",
       "      <td>2012</td>\n",
       "      <td>144</td>\n",
       "      <td>1.000000</td>\n",
       "    </tr>\n",
       "  </tbody>\n",
       "</table>\n",
       "</div>"
      ],
      "text/plain": [
       "   year  count  proportion\n",
       "5  2019    144    1.000000\n",
       "7  2018      9    0.062500\n",
       "6  2017      9    0.062500\n",
       "4  2016    144    1.000000\n",
       "3  2015    144    1.000000\n",
       "2  2014    144    1.000000\n",
       "1  2013    144    1.000000\n",
       "0  2012    144    1.000000"
      ]
     },
     "execution_count": 59,
     "metadata": {},
     "output_type": "execute_result"
    }
   ],
   "source": [
    "# Calculating number of rows with missing gini values for each year\n",
    "missing_hci = missing_hci_sindices_df[\"year\"].value_counts().reset_index()\n",
    "missing_hci.columns = [\"year\", \"count\"]\n",
    "missing_hci[\"proportion\"] = missing_hci[\"count\"] / clean_countries_number\n",
    "missing_hci.sort_values(by=\"year\", ascending=False, inplace=True)\n",
    "missing_hci"
   ]
  },
  {
   "cell_type": "code",
   "execution_count": 60,
   "id": "ac525be8",
   "metadata": {},
   "outputs": [
    {
     "data": {
      "text/html": [
       "<div>\n",
       "<style scoped>\n",
       "    .dataframe tbody tr th:only-of-type {\n",
       "        vertical-align: middle;\n",
       "    }\n",
       "\n",
       "    .dataframe tbody tr th {\n",
       "        vertical-align: top;\n",
       "    }\n",
       "\n",
       "    .dataframe thead th {\n",
       "        text-align: right;\n",
       "    }\n",
       "</style>\n",
       "<table border=\"1\" class=\"dataframe\">\n",
       "  <thead>\n",
       "    <tr style=\"text-align: right;\">\n",
       "      <th>year</th>\n",
       "      <th>country_code</th>\n",
       "      <th>country_name</th>\n",
       "      <th>2017</th>\n",
       "      <th>2018</th>\n",
       "    </tr>\n",
       "  </thead>\n",
       "  <tbody>\n",
       "    <tr>\n",
       "      <th>0</th>\n",
       "      <td>AGO</td>\n",
       "      <td>Angola</td>\n",
       "      <td>0.361000</td>\n",
       "      <td>0.360191</td>\n",
       "    </tr>\n",
       "    <tr>\n",
       "      <th>1</th>\n",
       "      <td>ALB</td>\n",
       "      <td>Albania</td>\n",
       "      <td>0.621000</td>\n",
       "      <td>0.628666</td>\n",
       "    </tr>\n",
       "    <tr>\n",
       "      <th>2</th>\n",
       "      <td>ARE</td>\n",
       "      <td>United Arab Emirates</td>\n",
       "      <td>0.659000</td>\n",
       "      <td>0.676001</td>\n",
       "    </tr>\n",
       "    <tr>\n",
       "      <th>3</th>\n",
       "      <td>ARG</td>\n",
       "      <td>Argentina</td>\n",
       "      <td>0.611000</td>\n",
       "      <td>0.617367</td>\n",
       "    </tr>\n",
       "    <tr>\n",
       "      <th>4</th>\n",
       "      <td>ARM</td>\n",
       "      <td>Armenia</td>\n",
       "      <td>0.572000</td>\n",
       "      <td>0.581726</td>\n",
       "    </tr>\n",
       "    <tr>\n",
       "      <th>...</th>\n",
       "      <td>...</td>\n",
       "      <td>...</td>\n",
       "      <td>...</td>\n",
       "      <td>...</td>\n",
       "    </tr>\n",
       "    <tr>\n",
       "      <th>130</th>\n",
       "      <td>VNM</td>\n",
       "      <td>Vietnam</td>\n",
       "      <td>0.666000</td>\n",
       "      <td>0.687239</td>\n",
       "    </tr>\n",
       "    <tr>\n",
       "      <th>131</th>\n",
       "      <td>YEM</td>\n",
       "      <td>Yemen</td>\n",
       "      <td>0.369000</td>\n",
       "      <td>0.372636</td>\n",
       "    </tr>\n",
       "    <tr>\n",
       "      <th>132</th>\n",
       "      <td>ZAF</td>\n",
       "      <td>South Africa</td>\n",
       "      <td>0.406000</td>\n",
       "      <td>0.422549</td>\n",
       "    </tr>\n",
       "    <tr>\n",
       "      <th>133</th>\n",
       "      <td>ZMB</td>\n",
       "      <td>Zambia</td>\n",
       "      <td>0.396000</td>\n",
       "      <td>0.391176</td>\n",
       "    </tr>\n",
       "    <tr>\n",
       "      <th>134</th>\n",
       "      <td>ZWE</td>\n",
       "      <td>Zimbabwe</td>\n",
       "      <td>0.441000</td>\n",
       "      <td>0.461242</td>\n",
       "    </tr>\n",
       "  </tbody>\n",
       "</table>\n",
       "<p>135 rows × 4 columns</p>\n",
       "</div>"
      ],
      "text/plain": [
       "year country_code          country_name     2017     2018\n",
       "0             AGO                Angola 0.361000 0.360191\n",
       "1             ALB               Albania 0.621000 0.628666\n",
       "2             ARE  United Arab Emirates 0.659000 0.676001\n",
       "3             ARG             Argentina 0.611000 0.617367\n",
       "4             ARM               Armenia 0.572000 0.581726\n",
       "..            ...                   ...      ...      ...\n",
       "130           VNM               Vietnam 0.666000 0.687239\n",
       "131           YEM                 Yemen 0.369000 0.372636\n",
       "132           ZAF          South Africa 0.406000 0.422549\n",
       "133           ZMB                Zambia 0.396000 0.391176\n",
       "134           ZWE              Zimbabwe 0.441000 0.461242\n",
       "\n",
       "[135 rows x 4 columns]"
      ]
     },
     "execution_count": 60,
     "metadata": {},
     "output_type": "execute_result"
    }
   ],
   "source": [
    "# Selecting the \"country_code\", \"country_name\", \"year\" and \"hci\" columns from the sindices_df for the specific years\n",
    "hci_sindices_df = sindices_df[sindices_df[\"year\"].isin([2017, 2018])][\n",
    "    [\"country_code\", \"country_name\", \"year\", \"hci\"]\n",
    "].reset_index(drop=True)\n",
    "# Pivotting the hci_sindices_df DataFrame to get the years with hci data for each country\n",
    "hci_sindices_df = hci_sindices_df.pivot_table(\n",
    "    index=[\"country_code\", \"country_name\"],\n",
    "    columns=\"year\",\n",
    "    values=\"hci\",\n",
    "    aggfunc=\"first\",\n",
    ").reset_index()\n",
    "hci_sindices_df"
   ]
  },
  {
   "cell_type": "code",
   "execution_count": 61,
   "id": "6ed34294",
   "metadata": {},
   "outputs": [
    {
     "data": {
      "text/html": [
       "<div>\n",
       "<style scoped>\n",
       "    .dataframe tbody tr th:only-of-type {\n",
       "        vertical-align: middle;\n",
       "    }\n",
       "\n",
       "    .dataframe tbody tr th {\n",
       "        vertical-align: top;\n",
       "    }\n",
       "\n",
       "    .dataframe thead th {\n",
       "        text-align: right;\n",
       "    }\n",
       "</style>\n",
       "<table border=\"1\" class=\"dataframe\">\n",
       "  <thead>\n",
       "    <tr style=\"text-align: right;\">\n",
       "      <th></th>\n",
       "      <th>country_code</th>\n",
       "      <th>country_name</th>\n",
       "    </tr>\n",
       "  </thead>\n",
       "  <tbody>\n",
       "    <tr>\n",
       "      <th>0</th>\n",
       "      <td>BOL</td>\n",
       "      <td>Bolivia</td>\n",
       "    </tr>\n",
       "    <tr>\n",
       "      <th>1</th>\n",
       "      <td>BLR</td>\n",
       "      <td>Belarus</td>\n",
       "    </tr>\n",
       "    <tr>\n",
       "      <th>2</th>\n",
       "      <td>CAF</td>\n",
       "      <td>Central African Republic</td>\n",
       "    </tr>\n",
       "    <tr>\n",
       "      <th>3</th>\n",
       "      <td>CUB</td>\n",
       "      <td>Cuba</td>\n",
       "    </tr>\n",
       "    <tr>\n",
       "      <th>4</th>\n",
       "      <td>LBY</td>\n",
       "      <td>Libya</td>\n",
       "    </tr>\n",
       "    <tr>\n",
       "      <th>5</th>\n",
       "      <td>SOM</td>\n",
       "      <td>Somalia</td>\n",
       "    </tr>\n",
       "    <tr>\n",
       "      <th>6</th>\n",
       "      <td>SYR</td>\n",
       "      <td>Syria</td>\n",
       "    </tr>\n",
       "    <tr>\n",
       "      <th>7</th>\n",
       "      <td>TKM</td>\n",
       "      <td>Turkmenistan</td>\n",
       "    </tr>\n",
       "    <tr>\n",
       "      <th>8</th>\n",
       "      <td>UZB</td>\n",
       "      <td>Uzbekistan</td>\n",
       "    </tr>\n",
       "  </tbody>\n",
       "</table>\n",
       "</div>"
      ],
      "text/plain": [
       "  country_code              country_name\n",
       "0          BOL                   Bolivia\n",
       "1          BLR                   Belarus\n",
       "2          CAF  Central African Republic\n",
       "3          CUB                      Cuba\n",
       "4          LBY                     Libya\n",
       "5          SOM                   Somalia\n",
       "6          SYR                     Syria\n",
       "7          TKM              Turkmenistan\n",
       "8          UZB                Uzbekistan"
      ]
     },
     "execution_count": 61,
     "metadata": {},
     "output_type": "execute_result"
    }
   ],
   "source": [
    "missing_hci_countries = missing_hci_sindices_df[\n",
    "    missing_hci_sindices_df[\"year\"].isin([2017, 2018])\n",
    "][\"country_code\"].unique()\n",
    "# Getting the list of country codes and names of the missing_hci_sindices_df that are in the missing_hci_countries\n",
    "missing_hci_sindices_df[\n",
    "    missing_hci_sindices_df[\"country_code\"].isin(missing_hci_countries)\n",
    "][[\"country_code\", \"country_name\"]].drop_duplicates().reset_index(drop=True)"
   ]
  },
  {
   "cell_type": "markdown",
   "id": "05802158",
   "metadata": {},
   "source": [
    "As analysis of HCI dataset shows, we have the data available across 2017, 2018 years for further analysis. And the data for 2018 is not just a duplicate of 2017. So we will treat both years as separate and meaningful datasets."
   ]
  },
  {
   "cell_type": "code",
   "execution_count": 62,
   "id": "664ae55e",
   "metadata": {},
   "outputs": [
    {
     "data": {
      "text/html": [
       "<div>\n",
       "<style scoped>\n",
       "    .dataframe tbody tr th:only-of-type {\n",
       "        vertical-align: middle;\n",
       "    }\n",
       "\n",
       "    .dataframe tbody tr th {\n",
       "        vertical-align: top;\n",
       "    }\n",
       "\n",
       "    .dataframe thead th {\n",
       "        text-align: right;\n",
       "    }\n",
       "</style>\n",
       "<table border=\"1\" class=\"dataframe\">\n",
       "  <thead>\n",
       "    <tr style=\"text-align: right;\">\n",
       "      <th>year</th>\n",
       "      <th>country_code</th>\n",
       "      <th>country_name</th>\n",
       "      <th>2017</th>\n",
       "      <th>2018</th>\n",
       "    </tr>\n",
       "  </thead>\n",
       "  <tbody>\n",
       "    <tr>\n",
       "      <th>123</th>\n",
       "      <td>TUN</td>\n",
       "      <td>Tunisia</td>\n",
       "      <td>0.508000</td>\n",
       "      <td>0.509610</td>\n",
       "    </tr>\n",
       "    <tr>\n",
       "      <th>5</th>\n",
       "      <td>AUS</td>\n",
       "      <td>Australia</td>\n",
       "      <td>0.803000</td>\n",
       "      <td>0.780834</td>\n",
       "    </tr>\n",
       "    <tr>\n",
       "      <th>39</th>\n",
       "      <td>GAB</td>\n",
       "      <td>Gabon</td>\n",
       "      <td>0.453000</td>\n",
       "      <td>0.456388</td>\n",
       "    </tr>\n",
       "    <tr>\n",
       "      <th>15</th>\n",
       "      <td>BRA</td>\n",
       "      <td>Brazil</td>\n",
       "      <td>0.560000</td>\n",
       "      <td>0.545724</td>\n",
       "    </tr>\n",
       "    <tr>\n",
       "      <th>82</th>\n",
       "      <td>MOZ</td>\n",
       "      <td>Mozambique</td>\n",
       "      <td>0.361000</td>\n",
       "      <td>0.355467</td>\n",
       "    </tr>\n",
       "    <tr>\n",
       "      <th>51</th>\n",
       "      <td>HUN</td>\n",
       "      <td>Hungary</td>\n",
       "      <td>0.703000</td>\n",
       "      <td>0.705065</td>\n",
       "    </tr>\n",
       "    <tr>\n",
       "      <th>64</th>\n",
       "      <td>KHM</td>\n",
       "      <td>Cambodia</td>\n",
       "      <td>0.493000</td>\n",
       "      <td>0.490685</td>\n",
       "    </tr>\n",
       "    <tr>\n",
       "      <th>48</th>\n",
       "      <td>HND</td>\n",
       "      <td>Honduras</td>\n",
       "      <td>0.490000</td>\n",
       "      <td>0.480306</td>\n",
       "    </tr>\n",
       "    <tr>\n",
       "      <th>34</th>\n",
       "      <td>ESP</td>\n",
       "      <td>Spain</td>\n",
       "      <td>0.743000</td>\n",
       "      <td>0.736156</td>\n",
       "    </tr>\n",
       "    <tr>\n",
       "      <th>127</th>\n",
       "      <td>UKR</td>\n",
       "      <td>Ukraine</td>\n",
       "      <td>0.647000</td>\n",
       "      <td>0.642378</td>\n",
       "    </tr>\n",
       "  </tbody>\n",
       "</table>\n",
       "</div>"
      ],
      "text/plain": [
       "year country_code country_name     2017     2018\n",
       "123           TUN      Tunisia 0.508000 0.509610\n",
       "5             AUS    Australia 0.803000 0.780834\n",
       "39            GAB        Gabon 0.453000 0.456388\n",
       "15            BRA       Brazil 0.560000 0.545724\n",
       "82            MOZ   Mozambique 0.361000 0.355467\n",
       "51            HUN      Hungary 0.703000 0.705065\n",
       "64            KHM     Cambodia 0.493000 0.490685\n",
       "48            HND     Honduras 0.490000 0.480306\n",
       "34            ESP        Spain 0.743000 0.736156\n",
       "127           UKR      Ukraine 0.647000 0.642378"
      ]
     },
     "execution_count": 62,
     "metadata": {},
     "output_type": "execute_result"
    }
   ],
   "source": [
    "hci_sindices_df.sample(10)"
   ]
  },
  {
   "cell_type": "code",
   "execution_count": 63,
   "id": "e19e9e63",
   "metadata": {},
   "outputs": [
    {
     "data": {
      "text/plain": [
       "0"
      ]
     },
     "execution_count": 63,
     "metadata": {},
     "output_type": "execute_result"
    }
   ],
   "source": [
    "del missing_hci_sindices_df, missing_hci, missing_hci_countries, hci_sindices_df\n",
    "gc.collect()"
   ]
  },
  {
   "cell_type": "markdown",
   "id": "207e86ad",
   "metadata": {},
   "source": [
    "HDI vs HCI trade-offs:\n",
    "<br>\n",
    "<br>HDI includes per capita income (as a proxy for standard of living), while HCI excludes income entirely.\n",
    "<br>\n",
    "<br>HDI has three broad categories (health, education, income).\n",
    "<br>HCI has two broad categories (health and education) with five components (survival to age 5, quality-adjusted education years, child health via stunting, and adult survival).\n",
    "<br> \n",
    "<br>HDI offers a long-running, simple composite of basic development outcomes (including income), suitable for general-purpose use but limited in nuance. \n",
    "<br>HCI offers a more nuanced look at the building blocks of future economic development (education quality and health of the young), making it potentially more relevant when analyzing growth potential or productivity – but it has shorter data availability."
   ]
  },
  {
   "cell_type": "markdown",
   "id": "904f2e22",
   "metadata": {},
   "source": [
    "# Importing the HDI(human development index (by UNDP)) and it's components:<br>- GNI(gross national income index)<br>- LE(life expectancy)<br>- EYS(expected years of schooling)<br>- MYS(mean years of schooling)"
   ]
  },
  {
   "cell_type": "code",
   "execution_count": 64,
   "id": "d08d4949",
   "metadata": {},
   "outputs": [
    {
     "data": {
      "text/plain": [
       "[2012, 2013, 2014, 2015, 2016, 2017, 2018, 2019]"
      ]
     },
     "execution_count": 64,
     "metadata": {},
     "output_type": "execute_result"
    }
   ],
   "source": [
    "rolling_exports_years"
   ]
  },
  {
   "cell_type": "code",
   "execution_count": 65,
   "id": "de6d034d",
   "metadata": {},
   "outputs": [],
   "source": [
    "# Callable function to filter columns based on the years of interest and specific indices HDI and GNI per capita\n",
    "def make_usecols_filter(years):\n",
    "    def usecols(col):\n",
    "        return col == \"iso3\" or any(\n",
    "            col == f\"hdi_{year}\"\n",
    "            or col == f\"gnipc_{year}\"\n",
    "            or col == f\"le_{year}\"\n",
    "            or col == f\"eys_{year}\"\n",
    "            or col == f\"mys_{year}\"\n",
    "            for year in years\n",
    "        )\n",
    "\n",
    "    return usecols"
   ]
  },
  {
   "cell_type": "code",
   "execution_count": 66,
   "id": "5ec28655",
   "metadata": {},
   "outputs": [],
   "source": [
    "input_file_name = \"HDR23-24_Composite_indices_complete_time_series.csv\"\n",
    "# reading the csv file, renaming 'iso3_code' to 'country_code'\n",
    "raw_hdi_components_df = pd.read_csv(\n",
    "    os.path.join(input_file_location, input_file_name),\n",
    "    engine=\"python\",\n",
    "    skipfooter=11,\n",
    "    encoding=\"utf-8\",\n",
    "    encoding_errors=\"replace\",  # Replace invalid characters\n",
    "    usecols=make_usecols_filter(rolling_exports_years),\n",
    "    # header=2,\n",
    ")\n",
    "# Rename 'iso3' to 'country_code'\n",
    "columns_new = {\"iso3\": \"country_code\"}\n",
    "raw_hdi_components_df.rename(columns=columns_new, inplace=True)"
   ]
  },
  {
   "cell_type": "code",
   "execution_count": 67,
   "id": "0634c913",
   "metadata": {},
   "outputs": [
    {
     "name": "stdout",
     "output_type": "stream",
     "text": [
      "country_code hdi_2012 hdi_2013 hdi_2014 hdi_2015 hdi_2016 hdi_2017 hdi_2018 hdi_2019 le_2012 le_2013 le_2014 le_2015 le_2016 le_2017 le_2018 le_2019 eys_2012 eys_2013 eys_2014 eys_2015 eys_2016 eys_2017 eys_2018 eys_2019 mys_2012 mys_2013 mys_2014 mys_2015 mys_2016 mys_2017 mys_2018 mys_2019 gnipc_2012 gnipc_2013 gnipc_2014 gnipc_2015 gnipc_2016 gnipc_2017 gnipc_2018 gnipc_2019\n"
     ]
    }
   ],
   "source": [
    "print(*(raw_hdi_components_df.columns))"
   ]
  },
  {
   "cell_type": "code",
   "execution_count": 68,
   "id": "90779c5c",
   "metadata": {},
   "outputs": [
    {
     "data": {
      "text/html": [
       "<div>\n",
       "<style scoped>\n",
       "    .dataframe tbody tr th:only-of-type {\n",
       "        vertical-align: middle;\n",
       "    }\n",
       "\n",
       "    .dataframe tbody tr th {\n",
       "        vertical-align: top;\n",
       "    }\n",
       "\n",
       "    .dataframe thead th {\n",
       "        text-align: right;\n",
       "    }\n",
       "</style>\n",
       "<table border=\"1\" class=\"dataframe\">\n",
       "  <thead>\n",
       "    <tr style=\"text-align: right;\">\n",
       "      <th></th>\n",
       "      <th>country_code</th>\n",
       "      <th>hdi_2012</th>\n",
       "      <th>hdi_2013</th>\n",
       "      <th>hdi_2014</th>\n",
       "      <th>hdi_2015</th>\n",
       "      <th>hdi_2016</th>\n",
       "      <th>hdi_2017</th>\n",
       "      <th>hdi_2018</th>\n",
       "      <th>hdi_2019</th>\n",
       "      <th>le_2012</th>\n",
       "      <th>...</th>\n",
       "      <th>mys_2018</th>\n",
       "      <th>mys_2019</th>\n",
       "      <th>gnipc_2012</th>\n",
       "      <th>gnipc_2013</th>\n",
       "      <th>gnipc_2014</th>\n",
       "      <th>gnipc_2015</th>\n",
       "      <th>gnipc_2016</th>\n",
       "      <th>gnipc_2017</th>\n",
       "      <th>gnipc_2018</th>\n",
       "      <th>gnipc_2019</th>\n",
       "    </tr>\n",
       "  </thead>\n",
       "  <tbody>\n",
       "    <tr>\n",
       "      <th>0</th>\n",
       "      <td>AFG</td>\n",
       "      <td>0.467000</td>\n",
       "      <td>0.475000</td>\n",
       "      <td>0.480000</td>\n",
       "      <td>0.479000</td>\n",
       "      <td>0.483000</td>\n",
       "      <td>0.485000</td>\n",
       "      <td>0.486000</td>\n",
       "      <td>0.492000</td>\n",
       "      <td>61.92</td>\n",
       "      <td>...</td>\n",
       "      <td>2.55</td>\n",
       "      <td>2.70</td>\n",
       "      <td>2,174.35</td>\n",
       "      <td>2,244.21</td>\n",
       "      <td>2,222.09</td>\n",
       "      <td>2,142.69</td>\n",
       "      <td>2,122.36</td>\n",
       "      <td>2,123.68</td>\n",
       "      <td>2,082.11</td>\n",
       "      <td>2,112.99</td>\n",
       "    </tr>\n",
       "    <tr>\n",
       "      <th>1</th>\n",
       "      <td>ALB</td>\n",
       "      <td>0.789000</td>\n",
       "      <td>0.793000</td>\n",
       "      <td>0.797000</td>\n",
       "      <td>0.797000</td>\n",
       "      <td>0.795000</td>\n",
       "      <td>0.796000</td>\n",
       "      <td>0.797000</td>\n",
       "      <td>0.800000</td>\n",
       "      <td>78.06</td>\n",
       "      <td>...</td>\n",
       "      <td>10.02</td>\n",
       "      <td>10.07</td>\n",
       "      <td>11,146.25</td>\n",
       "      <td>11,552.97</td>\n",
       "      <td>11,691.63</td>\n",
       "      <td>12,016.28</td>\n",
       "      <td>12,484.61</td>\n",
       "      <td>12,802.18</td>\n",
       "      <td>13,302.73</td>\n",
       "      <td>13,481.97</td>\n",
       "    </tr>\n",
       "  </tbody>\n",
       "</table>\n",
       "<p>2 rows × 41 columns</p>\n",
       "</div>"
      ],
      "text/plain": [
       "  country_code  hdi_2012  hdi_2013  hdi_2014  hdi_2015  hdi_2016  hdi_2017  \\\n",
       "0          AFG  0.467000  0.475000  0.480000  0.479000  0.483000  0.485000   \n",
       "1          ALB  0.789000  0.793000  0.797000  0.797000  0.795000  0.796000   \n",
       "\n",
       "   hdi_2018  hdi_2019  le_2012  ...  mys_2018  mys_2019  gnipc_2012  \\\n",
       "0  0.486000  0.492000    61.92  ...      2.55      2.70    2,174.35   \n",
       "1  0.797000  0.800000    78.06  ...     10.02     10.07   11,146.25   \n",
       "\n",
       "   gnipc_2013  gnipc_2014  gnipc_2015  gnipc_2016  gnipc_2017  gnipc_2018  \\\n",
       "0    2,244.21    2,222.09    2,142.69    2,122.36    2,123.68    2,082.11   \n",
       "1   11,552.97   11,691.63   12,016.28   12,484.61   12,802.18   13,302.73   \n",
       "\n",
       "   gnipc_2019  \n",
       "0    2,112.99  \n",
       "1   13,481.97  \n",
       "\n",
       "[2 rows x 41 columns]"
      ]
     },
     "execution_count": 68,
     "metadata": {},
     "output_type": "execute_result"
    }
   ],
   "source": [
    "raw_hdi_components_df.head(2)"
   ]
  },
  {
   "cell_type": "code",
   "execution_count": 69,
   "id": "cb8519de",
   "metadata": {},
   "outputs": [],
   "source": [
    "def get_component_df(raw_components_df, component_name):\n",
    "    \"\"\"\n",
    "    Function to filter the raw DataFrame for a specific component and return it.\n",
    "    \"\"\"\n",
    "    # 1. Separate components columns\n",
    "    component_cols = [\n",
    "        col for col in raw_components_df.columns if col.startswith(f\"{component_name}_\")\n",
    "    ]\n",
    "\n",
    "    # 2. Melt (unpivot) all parts to long format\n",
    "    component_df = raw_components_df[[\"country_code\"] + component_cols].melt(\n",
    "        id_vars=\"country_code\", var_name=\"year\", value_name=component_name\n",
    "    )\n",
    "\n",
    "    # 3. Clean \"year\" column: strip prefix to keep only the year number\n",
    "    component_df[\"year\"] = component_df[\"year\"].str.extract(r\"(\\d{4})\").astype(int)\n",
    "\n",
    "    print(\n",
    "        f\"Component `{component_name}` missing values:\",\n",
    "        component_df.isna().sum(),\n",
    "        sep=\"\\n\",\n",
    "    )\n",
    "\n",
    "    return component_df"
   ]
  },
  {
   "cell_type": "code",
   "execution_count": 70,
   "id": "c65d23a1",
   "metadata": {},
   "outputs": [
    {
     "name": "stdout",
     "output_type": "stream",
     "text": [
      "Component `hdi` missing values:\n",
      "country_code     0\n",
      "year             0\n",
      "hdi             24\n",
      "dtype: int64\n",
      "Component `le` missing values:\n",
      "country_code    0\n",
      "year            0\n",
      "le              0\n",
      "dtype: int64\n",
      "Component `eys` missing values:\n",
      "country_code     0\n",
      "year             0\n",
      "eys             16\n",
      "dtype: int64\n",
      "Component `mys` missing values:\n",
      "country_code     0\n",
      "year             0\n",
      "mys             24\n",
      "dtype: int64\n",
      "Component `gnipc` missing values:\n",
      "country_code     0\n",
      "year             0\n",
      "gnipc           16\n",
      "dtype: int64\n"
     ]
    }
   ],
   "source": [
    "hdi_df = get_component_df(raw_hdi_components_df, \"hdi\")\n",
    "le_df = get_component_df(raw_hdi_components_df, \"le\")\n",
    "eys_df = get_component_df(raw_hdi_components_df, \"eys\")\n",
    "mys_df = get_component_df(raw_hdi_components_df, \"mys\")\n",
    "gnipc_df = get_component_df(raw_hdi_components_df, \"gnipc\")"
   ]
  },
  {
   "cell_type": "code",
   "execution_count": 71,
   "id": "f5a3b24e",
   "metadata": {},
   "outputs": [
    {
     "data": {
      "text/plain": [
       "65"
      ]
     },
     "execution_count": 71,
     "metadata": {},
     "output_type": "execute_result"
    }
   ],
   "source": [
    "del raw_hdi_components_df\n",
    "gc.collect()"
   ]
  },
  {
   "cell_type": "code",
   "execution_count": 72,
   "id": "64ae0b5c",
   "metadata": {},
   "outputs": [
    {
     "data": {
      "text/html": [
       "<div>\n",
       "<style scoped>\n",
       "    .dataframe tbody tr th:only-of-type {\n",
       "        vertical-align: middle;\n",
       "    }\n",
       "\n",
       "    .dataframe tbody tr th {\n",
       "        vertical-align: top;\n",
       "    }\n",
       "\n",
       "    .dataframe thead th {\n",
       "        text-align: right;\n",
       "    }\n",
       "</style>\n",
       "<table border=\"1\" class=\"dataframe\">\n",
       "  <thead>\n",
       "    <tr style=\"text-align: right;\">\n",
       "      <th></th>\n",
       "      <th>country_code</th>\n",
       "      <th>year</th>\n",
       "      <th>le</th>\n",
       "    </tr>\n",
       "  </thead>\n",
       "  <tbody>\n",
       "    <tr>\n",
       "      <th>479</th>\n",
       "      <td>KIR</td>\n",
       "      <td>2014</td>\n",
       "      <td>65.81</td>\n",
       "    </tr>\n",
       "    <tr>\n",
       "      <th>1080</th>\n",
       "      <td>MYS</td>\n",
       "      <td>2017</td>\n",
       "      <td>75.48</td>\n",
       "    </tr>\n",
       "    <tr>\n",
       "      <th>374</th>\n",
       "      <td>TUR</td>\n",
       "      <td>2013</td>\n",
       "      <td>76.30</td>\n",
       "    </tr>\n",
       "    <tr>\n",
       "      <th>810</th>\n",
       "      <td>CMR</td>\n",
       "      <td>2016</td>\n",
       "      <td>60.23</td>\n",
       "    </tr>\n",
       "    <tr>\n",
       "      <th>1287</th>\n",
       "      <td>MNE</td>\n",
       "      <td>2018</td>\n",
       "      <td>77.16</td>\n",
       "    </tr>\n",
       "  </tbody>\n",
       "</table>\n",
       "</div>"
      ],
      "text/plain": [
       "     country_code  year    le\n",
       "479           KIR  2014 65.81\n",
       "1080          MYS  2017 75.48\n",
       "374           TUR  2013 76.30\n",
       "810           CMR  2016 60.23\n",
       "1287          MNE  2018 77.16"
      ]
     },
     "execution_count": 72,
     "metadata": {},
     "output_type": "execute_result"
    }
   ],
   "source": [
    "le_df.sample(5)"
   ]
  },
  {
   "cell_type": "code",
   "execution_count": 73,
   "id": "9e621439",
   "metadata": {},
   "outputs": [],
   "source": [
    "# assert False, \"End of code\""
   ]
  },
  {
   "cell_type": "code",
   "execution_count": 74,
   "id": "37bd18b3",
   "metadata": {},
   "outputs": [
    {
     "name": "stdout",
     "output_type": "stream",
     "text": [
      "year column initial type:\n",
      "int32\n",
      "============================================================\n",
      "year column final type:\n",
      "int16\n",
      "============================================================\n",
      "country_code column initial type:\n",
      "object\n",
      "============================================================\n",
      "country_code column final type:\n",
      "object\n",
      "============================================================\n",
      "year column initial type:\n",
      "int32\n",
      "============================================================\n",
      "year column final type:\n",
      "int16\n",
      "============================================================\n",
      "country_code column initial type:\n",
      "object\n",
      "============================================================\n",
      "country_code column final type:\n",
      "object\n",
      "============================================================\n",
      "year column initial type:\n",
      "int32\n",
      "============================================================\n",
      "year column final type:\n",
      "int16\n",
      "============================================================\n",
      "country_code column initial type:\n",
      "object\n",
      "============================================================\n",
      "country_code column final type:\n",
      "object\n",
      "============================================================\n",
      "year column initial type:\n",
      "int32\n",
      "============================================================\n",
      "year column final type:\n",
      "int16\n",
      "============================================================\n",
      "country_code column initial type:\n",
      "object\n",
      "============================================================\n",
      "country_code column final type:\n",
      "object\n",
      "============================================================\n",
      "year column initial type:\n",
      "int32\n",
      "============================================================\n",
      "year column final type:\n",
      "int16\n",
      "============================================================\n",
      "country_code column initial type:\n",
      "object\n",
      "============================================================\n",
      "country_code column final type:\n",
      "object\n",
      "============================================================\n"
     ]
    }
   ],
   "source": [
    "initial_output_location = output_file_location\n",
    "\n",
    "# Saving imported gini index data to a .parquet file\n",
    "output_file_location = os.path.join(\"..\", \"data\", \"02_ingested\")\n",
    "output_file_name = \"raw_hdi.parquet\"\n",
    "save_hs92_parquet_data(\n",
    "    data=hdi_df,\n",
    "    file_location=output_file_location,\n",
    "    file_name=output_file_name,\n",
    "    dtype_dict={\"country_code\": \"str\"},\n",
    ")\n",
    "output_file_name = \"raw_le.parquet\"\n",
    "save_hs92_parquet_data(\n",
    "    data=le_df,\n",
    "    file_location=output_file_location,\n",
    "    file_name=output_file_name,\n",
    "    dtype_dict={\"country_code\": \"str\"},\n",
    ")\n",
    "output_file_name = \"raw_eys.parquet\"\n",
    "save_hs92_parquet_data(\n",
    "    data=eys_df,\n",
    "    file_location=output_file_location,\n",
    "    file_name=output_file_name,\n",
    "    dtype_dict={\"country_code\": \"str\"},\n",
    ")\n",
    "output_file_name = \"raw_mys.parquet\"\n",
    "save_hs92_parquet_data(\n",
    "    data=mys_df,\n",
    "    file_location=output_file_location,\n",
    "    file_name=output_file_name,\n",
    "    dtype_dict={\"country_code\": \"str\"},\n",
    ")\n",
    "output_file_name = \"raw_gnipc.parquet\"\n",
    "save_hs92_parquet_data(\n",
    "    data=gnipc_df,\n",
    "    file_location=output_file_location,\n",
    "    file_name=output_file_name,\n",
    "    dtype_dict={\"country_code\": \"str\"},\n",
    ")\n",
    "\n",
    "output_file_location = initial_output_location"
   ]
  },
  {
   "cell_type": "code",
   "execution_count": 75,
   "id": "fd120508",
   "metadata": {},
   "outputs": [],
   "source": [
    "initial_input_location = input_file_location\n",
    "\n",
    "input_file_location = os.path.join(\"..\", \"data\", \"02_ingested\")\n",
    "input_file_name = \"raw_hdi.parquet\"\n",
    "raw_hdi_df = read_hs92_parquet_data(\n",
    "    input_file_location, input_file_name, f_convert_dtype=False\n",
    ")\n",
    "input_file_name = \"raw_le.parquet\"\n",
    "raw_le_df = read_hs92_parquet_data(\n",
    "    input_file_location, input_file_name, f_convert_dtype=False\n",
    ")\n",
    "input_file_name = \"raw_eys.parquet\"\n",
    "raw_eys_df = read_hs92_parquet_data(\n",
    "    input_file_location, input_file_name, f_convert_dtype=False\n",
    ")\n",
    "input_file_name = \"raw_mys.parquet\"\n",
    "raw_mys_df = read_hs92_parquet_data(\n",
    "    input_file_location, input_file_name, f_convert_dtype=False\n",
    ")\n",
    "input_file_name = \"raw_gnipc.parquet\"\n",
    "raw_gnipc_df = read_hs92_parquet_data(\n",
    "    input_file_location, input_file_name, f_convert_dtype=False\n",
    ")\n",
    "\n",
    "input_file_location = initial_input_location"
   ]
  },
  {
   "cell_type": "code",
   "execution_count": 76,
   "id": "8df81e5a",
   "metadata": {},
   "outputs": [
    {
     "name": "stdout",
     "output_type": "stream",
     "text": [
      "Index(['country_code', 'year', 'hdi'], dtype='object')\n",
      "Index(['country_code', 'year', 'gnipc'], dtype='object')\n",
      "Index(['country_code', 'year', 'le'], dtype='object')\n",
      "Index(['country_code', 'year', 'eys'], dtype='object')\n",
      "Index(['country_code', 'year', 'mys'], dtype='object')\n"
     ]
    }
   ],
   "source": [
    "print(\n",
    "    raw_hdi_df.columns,\n",
    "    raw_gnipc_df.columns,\n",
    "    raw_le_df.columns,\n",
    "    raw_eys_df.columns,\n",
    "    raw_mys_df.columns,\n",
    "    sep=\"\\n\",\n",
    ")"
   ]
  },
  {
   "cell_type": "code",
   "execution_count": 77,
   "id": "204139e2",
   "metadata": {},
   "outputs": [],
   "source": [
    "# Merging the sindices_df with hdi and components on country_code and year\n",
    "sindices_df = sindices_df.merge(raw_hdi_df, on=[\"country_code\", \"year\"], how=\"left\")\n",
    "sindices_df = sindices_df.merge(raw_le_df, on=[\"country_code\", \"year\"], how=\"left\")\n",
    "sindices_df = sindices_df.merge(raw_eys_df, on=[\"country_code\", \"year\"], how=\"left\")\n",
    "sindices_df = sindices_df.merge(raw_mys_df, on=[\"country_code\", \"year\"], how=\"left\")\n",
    "sindices_df = sindices_df.merge(raw_gnipc_df, on=[\"country_code\", \"year\"], how=\"left\")"
   ]
  },
  {
   "cell_type": "code",
   "execution_count": 78,
   "id": "8f3c731b",
   "metadata": {},
   "outputs": [
    {
     "name": "stdout",
     "output_type": "stream",
     "text": [
      "['sindices_df', <class 'pandas.core.frame.DataFrame'>]\n",
      "============================================================\n",
      "shape:\n",
      "(1152, 15)\n",
      "============================================================\n",
      "data types:\n",
      "country_id              int16\n",
      "country_code           object\n",
      "country_name           object\n",
      "year                    int16\n",
      "log_gdp_per_capita    float64\n",
      "ECI_18                float64\n",
      "log_population        float64\n",
      "gini                  float64\n",
      "gini_disp             float64\n",
      "hci                   float64\n",
      "hdi                   float64\n",
      "le                    float64\n",
      "eys                   float64\n",
      "mys                   float64\n",
      "gnipc                 float64\n",
      "dtype: object\n",
      "============================================================\n",
      "columns:\n",
      "['country_id', 'country_code', 'country_name', 'year', 'log_gdp_per_capita', 'ECI_18', 'log_population', 'gini', 'gini_disp', 'hci', 'hdi', 'le', 'eys', 'mys', 'gnipc']\n",
      "============================================================\n",
      "       country_id     year  log_gdp_per_capita    ECI_18  log_population  \\\n",
      "count    1,152.00 1,152.00            1,152.00  1,152.00        1,152.00   \n",
      "mean       440.19 2,015.50                8.62  0.000000           16.52   \n",
      "std        250.36     2.29                1.46      1.00            1.36   \n",
      "min          8.00 2,012.00                5.35     -2.28           14.04   \n",
      "25%        221.00 2,013.75                7.41 -0.806295           15.52   \n",
      "50%        427.00 2,015.50                8.64 -0.141866           16.24   \n",
      "75%        655.00 2,017.25                9.74  0.737877           17.41   \n",
      "max        894.00 2,019.00               11.59      2.52           21.07   \n",
      "\n",
      "        gini  gini_disp      hci      hdi       le      eys      mys  \\\n",
      "count 579.00     967.00   270.00 1,144.00 1,152.00 1,144.00 1,144.00   \n",
      "mean   36.15      37.96 0.573438 0.717726    71.86    13.38     8.68   \n",
      "std     7.37       7.59 0.150881 0.157834     8.08     3.08     3.30   \n",
      "min    23.20      22.50 0.316000 0.352000    47.84     5.12     1.20   \n",
      "25%    30.80      32.40 0.439250 0.579500    65.38    11.17     6.04   \n",
      "50%    35.20      37.80 0.580376 0.750500    73.71    13.62     9.02   \n",
      "75%    40.85      43.50 0.710266 0.846000    77.92    15.47    11.41   \n",
      "max    63.00      64.50 0.887084 0.961000    85.27    23.25    14.17   \n",
      "\n",
      "           gnipc  \n",
      "count   1,152.00  \n",
      "mean   19,450.04  \n",
      "std    19,497.88  \n",
      "min       732.04  \n",
      "25%     4,473.28  \n",
      "50%    12,436.85  \n",
      "75%    28,253.73  \n",
      "max   103,999.43  \n",
      "============================================================\n",
      "Total memory usage: 250836 bytes\n",
      "============================================================\n"
     ]
    }
   ],
   "source": [
    "df_stats(sindices_df, \"sindices_df\")"
   ]
  },
  {
   "cell_type": "code",
   "execution_count": 79,
   "id": "8e88acb5",
   "metadata": {},
   "outputs": [],
   "source": [
    "# Subset raw_hdi to rows with NaN values in \"hdi\" column\n",
    "missing_hdi_df = sindices_df[sindices_df[\"hdi\"].isna()].reset_index(drop=True)\n",
    "\n",
    "# Subset raw_gnipc to rows with NaN values in \"gnipc\" column\n",
    "missing_gnipc_df = sindices_df[sindices_df[\"gnipc\"].isna()].reset_index(drop=True)"
   ]
  },
  {
   "cell_type": "code",
   "execution_count": 80,
   "id": "52f53b91",
   "metadata": {},
   "outputs": [
    {
     "data": {
      "text/html": [
       "<div>\n",
       "<style scoped>\n",
       "    .dataframe tbody tr th:only-of-type {\n",
       "        vertical-align: middle;\n",
       "    }\n",
       "\n",
       "    .dataframe tbody tr th {\n",
       "        vertical-align: top;\n",
       "    }\n",
       "\n",
       "    .dataframe thead th {\n",
       "        text-align: right;\n",
       "    }\n",
       "</style>\n",
       "<table border=\"1\" class=\"dataframe\">\n",
       "  <thead>\n",
       "    <tr style=\"text-align: right;\">\n",
       "      <th></th>\n",
       "      <th>year</th>\n",
       "      <th>count</th>\n",
       "      <th>proportion</th>\n",
       "    </tr>\n",
       "  </thead>\n",
       "  <tbody>\n",
       "    <tr>\n",
       "      <th>7</th>\n",
       "      <td>2019</td>\n",
       "      <td>1</td>\n",
       "      <td>0.006944</td>\n",
       "    </tr>\n",
       "    <tr>\n",
       "      <th>6</th>\n",
       "      <td>2018</td>\n",
       "      <td>1</td>\n",
       "      <td>0.006944</td>\n",
       "    </tr>\n",
       "    <tr>\n",
       "      <th>5</th>\n",
       "      <td>2017</td>\n",
       "      <td>1</td>\n",
       "      <td>0.006944</td>\n",
       "    </tr>\n",
       "    <tr>\n",
       "      <th>4</th>\n",
       "      <td>2016</td>\n",
       "      <td>1</td>\n",
       "      <td>0.006944</td>\n",
       "    </tr>\n",
       "    <tr>\n",
       "      <th>3</th>\n",
       "      <td>2015</td>\n",
       "      <td>1</td>\n",
       "      <td>0.006944</td>\n",
       "    </tr>\n",
       "    <tr>\n",
       "      <th>2</th>\n",
       "      <td>2014</td>\n",
       "      <td>1</td>\n",
       "      <td>0.006944</td>\n",
       "    </tr>\n",
       "    <tr>\n",
       "      <th>1</th>\n",
       "      <td>2013</td>\n",
       "      <td>1</td>\n",
       "      <td>0.006944</td>\n",
       "    </tr>\n",
       "    <tr>\n",
       "      <th>0</th>\n",
       "      <td>2012</td>\n",
       "      <td>1</td>\n",
       "      <td>0.006944</td>\n",
       "    </tr>\n",
       "  </tbody>\n",
       "</table>\n",
       "</div>"
      ],
      "text/plain": [
       "   year  count  proportion\n",
       "7  2019      1    0.006944\n",
       "6  2018      1    0.006944\n",
       "5  2017      1    0.006944\n",
       "4  2016      1    0.006944\n",
       "3  2015      1    0.006944\n",
       "2  2014      1    0.006944\n",
       "1  2013      1    0.006944\n",
       "0  2012      1    0.006944"
      ]
     },
     "execution_count": 80,
     "metadata": {},
     "output_type": "execute_result"
    }
   ],
   "source": [
    "# Calculating number of rows with missing hdi values for each year\n",
    "missing_hdi = missing_hdi_df[\"year\"].value_counts().reset_index()\n",
    "missing_hdi.columns = [\"year\", \"count\"]\n",
    "missing_hdi[\"proportion\"] = missing_hdi[\"count\"] / 144\n",
    "missing_hdi.sort_values(by=\"year\", ascending=False, inplace=True)\n",
    "missing_hdi"
   ]
  },
  {
   "cell_type": "code",
   "execution_count": 81,
   "id": "d383bed2",
   "metadata": {},
   "outputs": [
    {
     "data": {
      "text/html": [
       "<div>\n",
       "<style scoped>\n",
       "    .dataframe tbody tr th:only-of-type {\n",
       "        vertical-align: middle;\n",
       "    }\n",
       "\n",
       "    .dataframe tbody tr th {\n",
       "        vertical-align: top;\n",
       "    }\n",
       "\n",
       "    .dataframe thead th {\n",
       "        text-align: right;\n",
       "    }\n",
       "</style>\n",
       "<table border=\"1\" class=\"dataframe\">\n",
       "  <thead>\n",
       "    <tr style=\"text-align: right;\">\n",
       "      <th></th>\n",
       "      <th>country_id</th>\n",
       "      <th>country_code</th>\n",
       "      <th>country_name</th>\n",
       "      <th>year</th>\n",
       "      <th>log_gdp_per_capita</th>\n",
       "      <th>ECI_18</th>\n",
       "      <th>log_population</th>\n",
       "      <th>gini</th>\n",
       "      <th>gini_disp</th>\n",
       "      <th>hci</th>\n",
       "      <th>hdi</th>\n",
       "      <th>le</th>\n",
       "      <th>eys</th>\n",
       "      <th>mys</th>\n",
       "      <th>gnipc</th>\n",
       "    </tr>\n",
       "  </thead>\n",
       "  <tbody>\n",
       "    <tr>\n",
       "      <th>0</th>\n",
       "      <td>706</td>\n",
       "      <td>SOM</td>\n",
       "      <td>Somalia</td>\n",
       "      <td>2012</td>\n",
       "      <td>5.86</td>\n",
       "      <td>-1.26</td>\n",
       "      <td>16.34</td>\n",
       "      <td>NaN</td>\n",
       "      <td>NaN</td>\n",
       "      <td>NaN</td>\n",
       "      <td>NaN</td>\n",
       "      <td>53.16</td>\n",
       "      <td>NaN</td>\n",
       "      <td>NaN</td>\n",
       "      <td>1,008.13</td>\n",
       "    </tr>\n",
       "    <tr>\n",
       "      <th>1</th>\n",
       "      <td>706</td>\n",
       "      <td>SOM</td>\n",
       "      <td>Somalia</td>\n",
       "      <td>2013</td>\n",
       "      <td>5.97</td>\n",
       "      <td>-1.06</td>\n",
       "      <td>16.37</td>\n",
       "      <td>NaN</td>\n",
       "      <td>NaN</td>\n",
       "      <td>NaN</td>\n",
       "      <td>NaN</td>\n",
       "      <td>53.84</td>\n",
       "      <td>NaN</td>\n",
       "      <td>NaN</td>\n",
       "      <td>883.12</td>\n",
       "    </tr>\n",
       "    <tr>\n",
       "      <th>2</th>\n",
       "      <td>706</td>\n",
       "      <td>SOM</td>\n",
       "      <td>Somalia</td>\n",
       "      <td>2014</td>\n",
       "      <td>6.06</td>\n",
       "      <td>-1.29</td>\n",
       "      <td>16.41</td>\n",
       "      <td>NaN</td>\n",
       "      <td>NaN</td>\n",
       "      <td>NaN</td>\n",
       "      <td>NaN</td>\n",
       "      <td>54.28</td>\n",
       "      <td>NaN</td>\n",
       "      <td>NaN</td>\n",
       "      <td>920.08</td>\n",
       "    </tr>\n",
       "    <tr>\n",
       "      <th>3</th>\n",
       "      <td>706</td>\n",
       "      <td>SOM</td>\n",
       "      <td>Somalia</td>\n",
       "      <td>2015</td>\n",
       "      <td>6.10</td>\n",
       "      <td>-1.43</td>\n",
       "      <td>16.44</td>\n",
       "      <td>NaN</td>\n",
       "      <td>NaN</td>\n",
       "      <td>NaN</td>\n",
       "      <td>NaN</td>\n",
       "      <td>54.86</td>\n",
       "      <td>NaN</td>\n",
       "      <td>NaN</td>\n",
       "      <td>1,024.16</td>\n",
       "    </tr>\n",
       "    <tr>\n",
       "      <th>4</th>\n",
       "      <td>706</td>\n",
       "      <td>SOM</td>\n",
       "      <td>Somalia</td>\n",
       "      <td>2016</td>\n",
       "      <td>6.13</td>\n",
       "      <td>-1.59</td>\n",
       "      <td>16.48</td>\n",
       "      <td>NaN</td>\n",
       "      <td>NaN</td>\n",
       "      <td>NaN</td>\n",
       "      <td>NaN</td>\n",
       "      <td>55.04</td>\n",
       "      <td>NaN</td>\n",
       "      <td>NaN</td>\n",
       "      <td>1,070.35</td>\n",
       "    </tr>\n",
       "    <tr>\n",
       "      <th>5</th>\n",
       "      <td>706</td>\n",
       "      <td>SOM</td>\n",
       "      <td>Somalia</td>\n",
       "      <td>2017</td>\n",
       "      <td>6.24</td>\n",
       "      <td>-1.59</td>\n",
       "      <td>16.52</td>\n",
       "      <td>NaN</td>\n",
       "      <td>NaN</td>\n",
       "      <td>NaN</td>\n",
       "      <td>NaN</td>\n",
       "      <td>55.65</td>\n",
       "      <td>NaN</td>\n",
       "      <td>NaN</td>\n",
       "      <td>1,053.00</td>\n",
       "    </tr>\n",
       "    <tr>\n",
       "      <th>6</th>\n",
       "      <td>706</td>\n",
       "      <td>SOM</td>\n",
       "      <td>Somalia</td>\n",
       "      <td>2018</td>\n",
       "      <td>6.23</td>\n",
       "      <td>-1.45</td>\n",
       "      <td>16.55</td>\n",
       "      <td>NaN</td>\n",
       "      <td>NaN</td>\n",
       "      <td>NaN</td>\n",
       "      <td>NaN</td>\n",
       "      <td>56.38</td>\n",
       "      <td>NaN</td>\n",
       "      <td>NaN</td>\n",
       "      <td>1,108.06</td>\n",
       "    </tr>\n",
       "    <tr>\n",
       "      <th>7</th>\n",
       "      <td>706</td>\n",
       "      <td>SOM</td>\n",
       "      <td>Somalia</td>\n",
       "      <td>2019</td>\n",
       "      <td>6.29</td>\n",
       "      <td>-1.32</td>\n",
       "      <td>16.59</td>\n",
       "      <td>NaN</td>\n",
       "      <td>NaN</td>\n",
       "      <td>NaN</td>\n",
       "      <td>NaN</td>\n",
       "      <td>57.08</td>\n",
       "      <td>NaN</td>\n",
       "      <td>NaN</td>\n",
       "      <td>1,097.60</td>\n",
       "    </tr>\n",
       "  </tbody>\n",
       "</table>\n",
       "</div>"
      ],
      "text/plain": [
       "   country_id country_code country_name  year  log_gdp_per_capita  ECI_18  \\\n",
       "0         706          SOM      Somalia  2012                5.86   -1.26   \n",
       "1         706          SOM      Somalia  2013                5.97   -1.06   \n",
       "2         706          SOM      Somalia  2014                6.06   -1.29   \n",
       "3         706          SOM      Somalia  2015                6.10   -1.43   \n",
       "4         706          SOM      Somalia  2016                6.13   -1.59   \n",
       "5         706          SOM      Somalia  2017                6.24   -1.59   \n",
       "6         706          SOM      Somalia  2018                6.23   -1.45   \n",
       "7         706          SOM      Somalia  2019                6.29   -1.32   \n",
       "\n",
       "   log_population  gini  gini_disp  hci  hdi    le  eys  mys    gnipc  \n",
       "0           16.34   NaN        NaN  NaN  NaN 53.16  NaN  NaN 1,008.13  \n",
       "1           16.37   NaN        NaN  NaN  NaN 53.84  NaN  NaN   883.12  \n",
       "2           16.41   NaN        NaN  NaN  NaN 54.28  NaN  NaN   920.08  \n",
       "3           16.44   NaN        NaN  NaN  NaN 54.86  NaN  NaN 1,024.16  \n",
       "4           16.48   NaN        NaN  NaN  NaN 55.04  NaN  NaN 1,070.35  \n",
       "5           16.52   NaN        NaN  NaN  NaN 55.65  NaN  NaN 1,053.00  \n",
       "6           16.55   NaN        NaN  NaN  NaN 56.38  NaN  NaN 1,108.06  \n",
       "7           16.59   NaN        NaN  NaN  NaN 57.08  NaN  NaN 1,097.60  "
      ]
     },
     "execution_count": 81,
     "metadata": {},
     "output_type": "execute_result"
    }
   ],
   "source": [
    "missing_hdi_df"
   ]
  },
  {
   "cell_type": "code",
   "execution_count": 82,
   "id": "dcc7d027",
   "metadata": {},
   "outputs": [],
   "source": [
    "# # sorting list of country codes\n",
    "# [c for c in raw_gnipc_df[\"country_code\"].unique() if c.startswith(\"M\") or c.startswith(\"P\")]"
   ]
  },
  {
   "cell_type": "code",
   "execution_count": 83,
   "id": "69b24c52",
   "metadata": {},
   "outputs": [],
   "source": [
    "# # sorting list of country codes\n",
    "# [c for c in sindices_df[\"country_code\"].unique() if c.startswith(\"M\") or c.startswith(\"P\")]"
   ]
  },
  {
   "cell_type": "code",
   "execution_count": 84,
   "id": "376497a3",
   "metadata": {},
   "outputs": [],
   "source": [
    "# hdi_gni_df.head(3)"
   ]
  },
  {
   "cell_type": "code",
   "execution_count": 85,
   "id": "2134b6b5",
   "metadata": {},
   "outputs": [],
   "source": [
    "# df_stats(hdi_gni_df, \"hdi_gni_df\")"
   ]
  },
  {
   "cell_type": "code",
   "execution_count": 86,
   "id": "68433780",
   "metadata": {},
   "outputs": [],
   "source": [
    "# # Subset hdi_gni_df to rows with NaN values in any of the columns\n",
    "# missing_hdi_gni_df = hdi_gni_df[\n",
    "#     hdi_gni_df.isna().any(axis=1)\n",
    "# ].reset_index(drop=True)"
   ]
  },
  {
   "cell_type": "code",
   "execution_count": 87,
   "id": "98f9c76e",
   "metadata": {},
   "outputs": [],
   "source": [
    "# missing_hdi_gni_df"
   ]
  },
  {
   "cell_type": "code",
   "execution_count": 88,
   "id": "5317d62d",
   "metadata": {},
   "outputs": [
    {
     "data": {
      "text/plain": [
       "0"
      ]
     },
     "execution_count": 88,
     "metadata": {},
     "output_type": "execute_result"
    }
   ],
   "source": [
    "del missing_hdi_df, missing_hdi, missing_gnipc_df, raw_hdi_df, raw_gnipc_df, raw_le_df, raw_eys_df, raw_mys_df\n",
    "gc.collect()"
   ]
  },
  {
   "cell_type": "markdown",
   "id": "7b1d9733",
   "metadata": {},
   "source": [
    "# Staging collected socio-economic indices"
   ]
  },
  {
   "cell_type": "markdown",
   "id": "75818926",
   "metadata": {},
   "source": [
    "At this point, I should have created a new \"07_sindices_processed\" folder for the input indices for SAGE model"
   ]
  },
  {
   "cell_type": "code",
   "execution_count": 89,
   "id": "d657220b",
   "metadata": {},
   "outputs": [
    {
     "name": "stdout",
     "output_type": "stream",
     "text": [
      "country_id column initial type:\n",
      "int16\n",
      "============================================================\n",
      "country_id column final type:\n",
      "int16\n",
      "============================================================\n",
      "year column initial type:\n",
      "int16\n",
      "============================================================\n",
      "year column final type:\n",
      "int16\n",
      "============================================================\n",
      "country_code column initial type:\n",
      "object\n",
      "============================================================\n",
      "country_code column final type:\n",
      "object\n",
      "============================================================\n"
     ]
    }
   ],
   "source": [
    "# Saving merged socio-economic indices data to a .parquet file\n",
    "output_file_name = \"sindices.parquet\"\n",
    "save_hs92_parquet_data(\n",
    "    data=sindices_df,\n",
    "    file_location=output_file_location,\n",
    "    file_name=output_file_name,\n",
    "    dtype_dict={\"country_code\": \"str\"},\n",
    ")"
   ]
  },
  {
   "cell_type": "code",
   "execution_count": 90,
   "id": "60d2b327",
   "metadata": {},
   "outputs": [
    {
     "name": "stdout",
     "output_type": "stream",
     "text": [
      "['sindices_df', <class 'pandas.core.frame.DataFrame'>]\n",
      "============================================================\n",
      "shape:\n",
      "(1152, 15)\n",
      "============================================================\n",
      "data types:\n",
      "country_id              int16\n",
      "country_code           object\n",
      "country_name           object\n",
      "year                    int16\n",
      "log_gdp_per_capita    float64\n",
      "ECI_18                float64\n",
      "log_population        float64\n",
      "gini                  float64\n",
      "gini_disp             float64\n",
      "hci                   float64\n",
      "hdi                   float64\n",
      "le                    float64\n",
      "eys                   float64\n",
      "mys                   float64\n",
      "gnipc                 float64\n",
      "dtype: object\n",
      "============================================================\n",
      "columns:\n",
      "['country_id', 'country_code', 'country_name', 'year', 'log_gdp_per_capita', 'ECI_18', 'log_population', 'gini', 'gini_disp', 'hci', 'hdi', 'le', 'eys', 'mys', 'gnipc']\n",
      "============================================================\n",
      "       country_id     year  log_gdp_per_capita    ECI_18  log_population  \\\n",
      "count    1,152.00 1,152.00            1,152.00  1,152.00        1,152.00   \n",
      "mean       440.19 2,015.50                8.62  0.000000           16.52   \n",
      "std        250.36     2.29                1.46      1.00            1.36   \n",
      "min          8.00 2,012.00                5.35     -2.28           14.04   \n",
      "25%        221.00 2,013.75                7.41 -0.806295           15.52   \n",
      "50%        427.00 2,015.50                8.64 -0.141866           16.24   \n",
      "75%        655.00 2,017.25                9.74  0.737877           17.41   \n",
      "max        894.00 2,019.00               11.59      2.52           21.07   \n",
      "\n",
      "        gini  gini_disp      hci      hdi       le      eys      mys  \\\n",
      "count 579.00     967.00   270.00 1,144.00 1,152.00 1,144.00 1,144.00   \n",
      "mean   36.15      37.96 0.573438 0.717726    71.86    13.38     8.68   \n",
      "std     7.37       7.59 0.150881 0.157834     8.08     3.08     3.30   \n",
      "min    23.20      22.50 0.316000 0.352000    47.84     5.12     1.20   \n",
      "25%    30.80      32.40 0.439250 0.579500    65.38    11.17     6.04   \n",
      "50%    35.20      37.80 0.580376 0.750500    73.71    13.62     9.02   \n",
      "75%    40.85      43.50 0.710266 0.846000    77.92    15.47    11.41   \n",
      "max    63.00      64.50 0.887084 0.961000    85.27    23.25    14.17   \n",
      "\n",
      "           gnipc  \n",
      "count   1,152.00  \n",
      "mean   19,450.04  \n",
      "std    19,497.88  \n",
      "min       732.04  \n",
      "25%     4,473.28  \n",
      "50%    12,436.85  \n",
      "75%    28,253.73  \n",
      "max   103,999.43  \n",
      "============================================================\n",
      "Total memory usage: 250836 bytes\n",
      "============================================================\n"
     ]
    }
   ],
   "source": [
    "df_stats(sindices_df, \"sindices_df\")"
   ]
  },
  {
   "cell_type": "code",
   "execution_count": 91,
   "id": "e442b70f",
   "metadata": {},
   "outputs": [],
   "source": [
    "dumped_data[\"num_countries\"] = clean_countries_number"
   ]
  },
  {
   "cell_type": "code",
   "execution_count": 92,
   "id": "3acec446",
   "metadata": {},
   "outputs": [
    {
     "name": "stdout",
     "output_type": "stream",
     "text": [
      "data staged:['rolling_exports_years', 'clean_countries_ids', 'target_correlations_df', 'location_df', 'num_countries']\n",
      "============================================================\n"
     ]
    }
   ],
   "source": [
    "staging_cache(\n",
    "    f_quiet=True,\n",
    "    output_file_location=output_file_location,\n",
    "    **dumped_data,\n",
    ")"
   ]
  }
 ],
 "metadata": {
  "kernelspec": {
   "display_name": "bdmm2324",
   "language": "python",
   "name": "python3"
  },
  "language_info": {
   "codemirror_mode": {
    "name": "ipython",
    "version": 3
   },
   "file_extension": ".py",
   "mimetype": "text/x-python",
   "name": "python",
   "nbconvert_exporter": "python",
   "pygments_lexer": "ipython3",
   "version": "3.11.11"
  }
 },
 "nbformat": 4,
 "nbformat_minor": 5
}
